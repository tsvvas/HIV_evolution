{
 "cells": [
  {
   "cell_type": "code",
   "execution_count": 125,
   "metadata": {},
   "outputs": [],
   "source": [
    "%matplotlib inline\n",
    "\n",
    "import shutil\n",
    "import os\n",
    "from joblib import dump, load\n",
    "import urllib3\n",
    "import certifi\n",
    "from Bio import SeqIO\n",
    "import Bio\n",
    "from glob import glob\n",
    "import json\n",
    "from IPython import display\n",
    "import pandas as pd\n",
    "import numpy as np\n",
    "import networkx as nx\n",
    "from collections import OrderedDict\n",
    "\n",
    "import matplotlib.pyplot as plt\n",
    "import seaborn as sns\n",
    "import re"
   ]
  },
  {
   "cell_type": "markdown",
   "metadata": {},
   "source": [
    "![HIV genome](https://upload.wikimedia.org/wikipedia/commons/c/c6/HIV-genome.png)"
   ]
  },
  {
   "cell_type": "code",
   "execution_count": 3,
   "metadata": {},
   "outputs": [],
   "source": [
    "patients = [\"p{}\".format(i) for i in range(1,12)]\n",
    "hiv_regions = [\"V3\", \"PR\", \"psi\", \"vpr\", \"vpu\", \"p1\", \"p2\", \"p6\", \"p7\", \"p15\", \"p17\", \"RRE\"]"
   ]
  },
  {
   "cell_type": "markdown",
   "metadata": {},
   "source": [
    "![HIV genome details](https://res.mdpi.com/viruses/viruses-08-00248/article_deploy/html/images/viruses-08-00248-g002.png)"
   ]
  },
  {
   "cell_type": "code",
   "execution_count": 4,
   "metadata": {},
   "outputs": [],
   "source": [
    "def download_hivevo_haplotype(patient, hiv_region, folder):\n",
    "    \n",
    "    http = urllib3.PoolManager(cert_reqs='CERT_REQUIRED',\n",
    "                               ca_certs=certifi.where())\n",
    "    \n",
    "    api = \"https://hiv.biozentrum.unibas.ch/api/data/haplotypes/\"\n",
    "    \n",
    "    url = \"/\".join((api, patient, hiv_region))\n",
    "\n",
    "    if not os.path.isdir(folder):\n",
    "        os.mkdir(folder)\n",
    "\n",
    "    file_name = folder + \"_\".join((\"hivevo\", patient, region)) + \".fasta\"\n",
    "\n",
    "    with http.request('GET', url, preload_content=False) as res, open(file_name, 'wb') as out_file:\n",
    "\n",
    "        shutil.copyfileobj(res, out_file)\n",
    "        \n",
    "folder = \"data/\"\n",
    "for patient in patients:\n",
    "    for region in hiv_regions:\n",
    "        download_hivevo_haplotype(patient, region, folder)"
   ]
  },
  {
   "cell_type": "code",
   "execution_count": 32,
   "metadata": {},
   "outputs": [
    {
     "data": {
      "text/plain": [
       "['data/hivevo_p7_V3.fasta',\n",
       " 'data/hivevo_p11_V3.fasta',\n",
       " 'data/hivevo_p8_V3.fasta',\n",
       " 'data/hivevo_p3_V3.fasta',\n",
       " 'data/hivevo_p1_V3.fasta',\n",
       " 'data/hivevo_p6_V3.fasta',\n",
       " 'data/hivevo_p2_V3.fasta',\n",
       " 'data/hivevo_p9_V3.fasta',\n",
       " 'data/hivevo_p10_V3.fasta',\n",
       " 'data/hivevo_p5_V3.fasta',\n",
       " 'data/hivevo_p4_V3.fasta']"
      ]
     },
     "execution_count": 32,
     "metadata": {},
     "output_type": "execute_result"
    }
   ],
   "source": [
    "file_lst = glob(folder + \"*V3.fasta\")\n",
    "file_lst"
   ]
  },
  {
   "cell_type": "code",
   "execution_count": 33,
   "metadata": {},
   "outputs": [],
   "source": [
    "tdf = pd.DataFrame()\n",
    "for path in file_lst:\n",
    "    with open(path, \"r\") as f:\n",
    "        records = json.load(f)\n",
    "    df = pd.DataFrame(records)\n",
    "    df = df.drop(\"description\", axis=1)\n",
    "    df[\"patient\"] = path.split(\"_\")[1]\n",
    "    tdf = pd.concat([tdf, df])"
   ]
  },
  {
   "cell_type": "code",
   "execution_count": 34,
   "metadata": {},
   "outputs": [
    {
     "data": {
      "text/html": [
       "<div>\n",
       "<style scoped>\n",
       "    .dataframe tbody tr th:only-of-type {\n",
       "        vertical-align: middle;\n",
       "    }\n",
       "\n",
       "    .dataframe tbody tr th {\n",
       "        vertical-align: top;\n",
       "    }\n",
       "\n",
       "    .dataframe thead tr th {\n",
       "        text-align: left;\n",
       "    }\n",
       "\n",
       "    .dataframe thead tr:last-of-type th {\n",
       "        text-align: right;\n",
       "    }\n",
       "</style>\n",
       "<table border=\"1\" class=\"dataframe\">\n",
       "  <thead>\n",
       "    <tr>\n",
       "      <th></th>\n",
       "      <th colspan=\"4\" halign=\"left\">days since infection</th>\n",
       "      <th>patient</th>\n",
       "    </tr>\n",
       "    <tr>\n",
       "      <th></th>\n",
       "      <th>min</th>\n",
       "      <th>median</th>\n",
       "      <th>max</th>\n",
       "      <th>nunique</th>\n",
       "      <th>size</th>\n",
       "    </tr>\n",
       "    <tr>\n",
       "      <th>patient</th>\n",
       "      <th></th>\n",
       "      <th></th>\n",
       "      <th></th>\n",
       "      <th></th>\n",
       "      <th></th>\n",
       "    </tr>\n",
       "  </thead>\n",
       "  <tbody>\n",
       "    <tr>\n",
       "      <td>p1</td>\n",
       "      <td>122</td>\n",
       "      <td>2639</td>\n",
       "      <td>2996</td>\n",
       "      <td>12</td>\n",
       "      <td>103</td>\n",
       "    </tr>\n",
       "    <tr>\n",
       "      <td>p10</td>\n",
       "      <td>33</td>\n",
       "      <td>2229</td>\n",
       "      <td>2229</td>\n",
       "      <td>2</td>\n",
       "      <td>16</td>\n",
       "    </tr>\n",
       "    <tr>\n",
       "      <td>p11</td>\n",
       "      <td>209</td>\n",
       "      <td>1026</td>\n",
       "      <td>2043</td>\n",
       "      <td>6</td>\n",
       "      <td>86</td>\n",
       "    </tr>\n",
       "    <tr>\n",
       "      <td>p2</td>\n",
       "      <td>74</td>\n",
       "      <td>936</td>\n",
       "      <td>2018</td>\n",
       "      <td>5</td>\n",
       "      <td>11</td>\n",
       "    </tr>\n",
       "    <tr>\n",
       "      <td>p3</td>\n",
       "      <td>146</td>\n",
       "      <td>797</td>\n",
       "      <td>3079</td>\n",
       "      <td>7</td>\n",
       "      <td>65</td>\n",
       "    </tr>\n",
       "    <tr>\n",
       "      <td>p4</td>\n",
       "      <td>93</td>\n",
       "      <td>1142</td>\n",
       "      <td>3069</td>\n",
       "      <td>8</td>\n",
       "      <td>67</td>\n",
       "    </tr>\n",
       "    <tr>\n",
       "      <td>p5</td>\n",
       "      <td>134</td>\n",
       "      <td>1813</td>\n",
       "      <td>2149</td>\n",
       "      <td>6</td>\n",
       "      <td>68</td>\n",
       "    </tr>\n",
       "    <tr>\n",
       "      <td>p6</td>\n",
       "      <td>62</td>\n",
       "      <td>2556</td>\n",
       "      <td>2556</td>\n",
       "      <td>5</td>\n",
       "      <td>36</td>\n",
       "    </tr>\n",
       "    <tr>\n",
       "      <td>p7</td>\n",
       "      <td>2369</td>\n",
       "      <td>3992</td>\n",
       "      <td>5869</td>\n",
       "      <td>8</td>\n",
       "      <td>97</td>\n",
       "    </tr>\n",
       "    <tr>\n",
       "      <td>p8</td>\n",
       "      <td>87</td>\n",
       "      <td>1437</td>\n",
       "      <td>2208</td>\n",
       "      <td>7</td>\n",
       "      <td>133</td>\n",
       "    </tr>\n",
       "    <tr>\n",
       "      <td>p9</td>\n",
       "      <td>106</td>\n",
       "      <td>813</td>\n",
       "      <td>2955</td>\n",
       "      <td>6</td>\n",
       "      <td>17</td>\n",
       "    </tr>\n",
       "  </tbody>\n",
       "</table>\n",
       "</div>"
      ],
      "text/plain": [
       "        days since infection                      patient\n",
       "                         min median   max nunique    size\n",
       "patient                                                  \n",
       "p1                       122   2639  2996      12     103\n",
       "p10                       33   2229  2229       2      16\n",
       "p11                      209   1026  2043       6      86\n",
       "p2                        74    936  2018       5      11\n",
       "p3                       146    797  3079       7      65\n",
       "p4                        93   1142  3069       8      67\n",
       "p5                       134   1813  2149       6      68\n",
       "p6                        62   2556  2556       5      36\n",
       "p7                      2369   3992  5869       8      97\n",
       "p8                        87   1437  2208       7     133\n",
       "p9                       106    813  2955       6      17"
      ]
     },
     "execution_count": 34,
     "metadata": {},
     "output_type": "execute_result"
    }
   ],
   "source": [
    "tdf.groupby(\"patient\").agg({\"days since infection\" : [\"min\", np.median, \"max\", pd.Series.nunique],\n",
    "                            \"patient\": [\"size\"]}).sort_index()"
   ]
  },
  {
   "cell_type": "code",
   "execution_count": 35,
   "metadata": {},
   "outputs": [],
   "source": [
    "tdf.columns = [\"days\", \"frequency\", \"name\", \"sequence\", \"patient\"]"
   ]
  },
  {
   "cell_type": "code",
   "execution_count": 36,
   "metadata": {},
   "outputs": [
    {
     "data": {
      "text/plain": [
       "<matplotlib.axes._subplots.AxesSubplot at 0x7f6b88061e10>"
      ]
     },
     "execution_count": 36,
     "metadata": {},
     "output_type": "execute_result"
    },
    {
     "data": {
      "image/png": "[encoded data removed]",
      "text/plain": [
       "<Figure size 720x432 with 1 Axes>"
      ]
     },
     "metadata": {
      "needs_background": "light"
     },
     "output_type": "display_data"
    }
   ],
   "source": [
    "fig, ax = plt.subplots(1,1, figsize=(10, 6))\n",
    "sns.stripplot(y=\"patient\", x=\"days\", data=tdf, )"
   ]
  },
  {
   "cell_type": "markdown",
   "metadata": {},
   "source": [
    "I will remove p10, because there are too few time points and p7, because it's too different from other samples."
   ]
  },
  {
   "cell_type": "code",
   "execution_count": 37,
   "metadata": {},
   "outputs": [
    {
     "data": {
      "text/plain": [
       "(586, 5)"
      ]
     },
     "execution_count": 37,
     "metadata": {},
     "output_type": "execute_result"
    }
   ],
   "source": [
    "tdf = tdf[~tdf.patient.isin([\"p7\", \"p10\"])]\n",
    "tdf.shape"
   ]
  },
  {
   "cell_type": "code",
   "execution_count": 38,
   "metadata": {},
   "outputs": [],
   "source": [
    "tdf.columns = [\"days\", \"frequency\", \"name\", \"sequence\", \"patient\"]"
   ]
  },
  {
   "cell_type": "code",
   "execution_count": 39,
   "metadata": {
    "scrolled": true
   },
   "outputs": [
    {
     "data": {
      "text/html": [
       "<div>\n",
       "<style scoped>\n",
       "    .dataframe tbody tr th:only-of-type {\n",
       "        vertical-align: middle;\n",
       "    }\n",
       "\n",
       "    .dataframe tbody tr th {\n",
       "        vertical-align: top;\n",
       "    }\n",
       "\n",
       "    .dataframe thead th {\n",
       "        text-align: right;\n",
       "    }\n",
       "</style>\n",
       "<table border=\"1\" class=\"dataframe\">\n",
       "  <thead>\n",
       "    <tr style=\"text-align: right;\">\n",
       "      <th></th>\n",
       "      <th>days</th>\n",
       "      <th>frequency</th>\n",
       "      <th>name</th>\n",
       "      <th>sequence</th>\n",
       "      <th>patient</th>\n",
       "      <th>bins</th>\n",
       "    </tr>\n",
       "  </thead>\n",
       "  <tbody>\n",
       "    <tr>\n",
       "      <td>0</td>\n",
       "      <td>209</td>\n",
       "      <td>39.0</td>\n",
       "      <td>ACAGTATCAACTCAACTGCTGTTAAATGGCAGCCTAGCAGAAGAAG...</td>\n",
       "      <td>days_209_frequency_39%</td>\n",
       "      <td>p11</td>\n",
       "      <td>1</td>\n",
       "    </tr>\n",
       "    <tr>\n",
       "      <td>1</td>\n",
       "      <td>332</td>\n",
       "      <td>39.0</td>\n",
       "      <td>ACAGTATCAACTCAACTGCTGTTAAATGGCAGCCTAGCAGAAGAAG...</td>\n",
       "      <td>days_332_frequency_39%</td>\n",
       "      <td>p11</td>\n",
       "      <td>1</td>\n",
       "    </tr>\n",
       "    <tr>\n",
       "      <td>2</td>\n",
       "      <td>209</td>\n",
       "      <td>23.0</td>\n",
       "      <td>ACAGTATCAACTCAACTGCTGTTAAATGGCAGCCTAGCAGAAGAAG...</td>\n",
       "      <td>days_209_frequency_23%</td>\n",
       "      <td>p11</td>\n",
       "      <td>1</td>\n",
       "    </tr>\n",
       "    <tr>\n",
       "      <td>3</td>\n",
       "      <td>209</td>\n",
       "      <td>7.0</td>\n",
       "      <td>ACAGTATCAACTCAACTGCTGTTAAATGGCAGCCTAGCAGAAGAAG...</td>\n",
       "      <td>days_209_frequency_7%</td>\n",
       "      <td>p11</td>\n",
       "      <td>1</td>\n",
       "    </tr>\n",
       "    <tr>\n",
       "      <td>4</td>\n",
       "      <td>332</td>\n",
       "      <td>2.0</td>\n",
       "      <td>ACAGTATCAACTCAACTGCTGTTAAATGGCAGCCTAGCAGAAGAAG...</td>\n",
       "      <td>days_332_frequency_2%</td>\n",
       "      <td>p11</td>\n",
       "      <td>1</td>\n",
       "    </tr>\n",
       "  </tbody>\n",
       "</table>\n",
       "</div>"
      ],
      "text/plain": [
       "   days  frequency                                               name  \\\n",
       "0   209       39.0  ACAGTATCAACTCAACTGCTGTTAAATGGCAGCCTAGCAGAAGAAG...   \n",
       "1   332       39.0  ACAGTATCAACTCAACTGCTGTTAAATGGCAGCCTAGCAGAAGAAG...   \n",
       "2   209       23.0  ACAGTATCAACTCAACTGCTGTTAAATGGCAGCCTAGCAGAAGAAG...   \n",
       "3   209        7.0  ACAGTATCAACTCAACTGCTGTTAAATGGCAGCCTAGCAGAAGAAG...   \n",
       "4   332        2.0  ACAGTATCAACTCAACTGCTGTTAAATGGCAGCCTAGCAGAAGAAG...   \n",
       "\n",
       "                 sequence patient  bins  \n",
       "0  days_209_frequency_39%     p11     1  \n",
       "1  days_332_frequency_39%     p11     1  \n",
       "2  days_209_frequency_23%     p11     1  \n",
       "3   days_209_frequency_7%     p11     1  \n",
       "4   days_332_frequency_2%     p11     1  "
      ]
     },
     "execution_count": 39,
     "metadata": {},
     "output_type": "execute_result"
    }
   ],
   "source": [
    "_, bin_edges = np.histogram(tdf.days.values, 5)\n",
    "bin_edges[0] -= 1\n",
    "bin_edges[-1] += 1\n",
    "tdf[\"bins\"] = np.digitize(tdf.days.values, bin_edges)\n",
    "tdf.head()"
   ]
  },
  {
   "cell_type": "code",
   "execution_count": 40,
   "metadata": {},
   "outputs": [
    {
     "data": {
      "text/html": [
       "<div>\n",
       "<style scoped>\n",
       "    .dataframe tbody tr th:only-of-type {\n",
       "        vertical-align: middle;\n",
       "    }\n",
       "\n",
       "    .dataframe tbody tr th {\n",
       "        vertical-align: top;\n",
       "    }\n",
       "\n",
       "    .dataframe thead th {\n",
       "        text-align: right;\n",
       "    }\n",
       "</style>\n",
       "<table border=\"1\" class=\"dataframe\">\n",
       "  <thead>\n",
       "    <tr style=\"text-align: right;\">\n",
       "      <th></th>\n",
       "      <th>days</th>\n",
       "      <th>frequency</th>\n",
       "      <th>name</th>\n",
       "      <th>sequence</th>\n",
       "      <th>patient</th>\n",
       "      <th>bins</th>\n",
       "    </tr>\n",
       "  </thead>\n",
       "  <tbody>\n",
       "    <tr>\n",
       "      <td>0</td>\n",
       "      <td>146</td>\n",
       "      <td>24.0</td>\n",
       "      <td>GTAGTATCAACTCAACTGCTGTTAAATGGCAGTCTAGCAGAAGAAG...</td>\n",
       "      <td>days_146_frequency_24%</td>\n",
       "      <td>p3</td>\n",
       "      <td>1</td>\n",
       "    </tr>\n",
       "    <tr>\n",
       "      <td>1</td>\n",
       "      <td>146</td>\n",
       "      <td>3.0</td>\n",
       "      <td>GTAGTATCAACTCAACTGCTGTTAAATGGCAGTCTAGCAGAAGAAG...</td>\n",
       "      <td>days_146_frequency_3%</td>\n",
       "      <td>p3</td>\n",
       "      <td>1</td>\n",
       "    </tr>\n",
       "    <tr>\n",
       "      <td>2</td>\n",
       "      <td>146</td>\n",
       "      <td>11.0</td>\n",
       "      <td>GTAGTATCAACTCAACTGCTGTTAAATGGCAGTCTAGCAGAAGAAG...</td>\n",
       "      <td>days_146_frequency_11%</td>\n",
       "      <td>p3</td>\n",
       "      <td>1</td>\n",
       "    </tr>\n",
       "    <tr>\n",
       "      <td>3</td>\n",
       "      <td>146</td>\n",
       "      <td>21.0</td>\n",
       "      <td>GTAGTATCAACTCAACTGCTGTTAAATGGCAGTCTAGCAGAAGAAG...</td>\n",
       "      <td>days_146_frequency_21%</td>\n",
       "      <td>p3</td>\n",
       "      <td>1</td>\n",
       "    </tr>\n",
       "    <tr>\n",
       "      <td>4</td>\n",
       "      <td>146</td>\n",
       "      <td>18.0</td>\n",
       "      <td>GTAGTATCAACTCAACTGCTGTTAAATGGCAGTCTAGCAGAAGAAG...</td>\n",
       "      <td>days_146_frequency_18%</td>\n",
       "      <td>p3</td>\n",
       "      <td>1</td>\n",
       "    </tr>\n",
       "    <tr>\n",
       "      <td>...</td>\n",
       "      <td>...</td>\n",
       "      <td>...</td>\n",
       "      <td>...</td>\n",
       "      <td>...</td>\n",
       "      <td>...</td>\n",
       "      <td>...</td>\n",
       "    </tr>\n",
       "    <tr>\n",
       "      <td>60</td>\n",
       "      <td>3079</td>\n",
       "      <td>15.0</td>\n",
       "      <td>GTAGTCTCAACTCAACTGCTGTTAAATGGCAGTCTAGCAGAAGGAG...</td>\n",
       "      <td>days_3079_frequency_15%</td>\n",
       "      <td>p3</td>\n",
       "      <td>5</td>\n",
       "    </tr>\n",
       "    <tr>\n",
       "      <td>61</td>\n",
       "      <td>3079</td>\n",
       "      <td>12.0</td>\n",
       "      <td>GTAGTCTCAACTCAACTGCTGTTAAATGGCAGTCTAGCAAAAGGAG...</td>\n",
       "      <td>days_3079_frequency_12%</td>\n",
       "      <td>p3</td>\n",
       "      <td>5</td>\n",
       "    </tr>\n",
       "    <tr>\n",
       "      <td>62</td>\n",
       "      <td>3079</td>\n",
       "      <td>21.0</td>\n",
       "      <td>GTAGTATCAACTCAACTGCTGTTAAATGGCAGTCTAGCAGAAGGAG...</td>\n",
       "      <td>days_3079_frequency_21%</td>\n",
       "      <td>p3</td>\n",
       "      <td>5</td>\n",
       "    </tr>\n",
       "    <tr>\n",
       "      <td>63</td>\n",
       "      <td>3079</td>\n",
       "      <td>21.0</td>\n",
       "      <td>GTAGTATCAACTCAACTGCTGTTAAATGGCAGTCTAGCAGAAGGAG...</td>\n",
       "      <td>days_3079_frequency_21%</td>\n",
       "      <td>p3</td>\n",
       "      <td>5</td>\n",
       "    </tr>\n",
       "    <tr>\n",
       "      <td>64</td>\n",
       "      <td>3079</td>\n",
       "      <td>12.0</td>\n",
       "      <td>GTAGTATCAACTCAACTGCTGTTAAATGGCAGTCTAGCAGAAGGAG...</td>\n",
       "      <td>days_3079_frequency_12%</td>\n",
       "      <td>p3</td>\n",
       "      <td>5</td>\n",
       "    </tr>\n",
       "  </tbody>\n",
       "</table>\n",
       "<p>65 rows × 6 columns</p>\n",
       "</div>"
      ],
      "text/plain": [
       "    days  frequency                                               name  \\\n",
       "0    146       24.0  GTAGTATCAACTCAACTGCTGTTAAATGGCAGTCTAGCAGAAGAAG...   \n",
       "1    146        3.0  GTAGTATCAACTCAACTGCTGTTAAATGGCAGTCTAGCAGAAGAAG...   \n",
       "2    146       11.0  GTAGTATCAACTCAACTGCTGTTAAATGGCAGTCTAGCAGAAGAAG...   \n",
       "3    146       21.0  GTAGTATCAACTCAACTGCTGTTAAATGGCAGTCTAGCAGAAGAAG...   \n",
       "4    146       18.0  GTAGTATCAACTCAACTGCTGTTAAATGGCAGTCTAGCAGAAGAAG...   \n",
       "..   ...        ...                                                ...   \n",
       "60  3079       15.0  GTAGTCTCAACTCAACTGCTGTTAAATGGCAGTCTAGCAGAAGGAG...   \n",
       "61  3079       12.0  GTAGTCTCAACTCAACTGCTGTTAAATGGCAGTCTAGCAAAAGGAG...   \n",
       "62  3079       21.0  GTAGTATCAACTCAACTGCTGTTAAATGGCAGTCTAGCAGAAGGAG...   \n",
       "63  3079       21.0  GTAGTATCAACTCAACTGCTGTTAAATGGCAGTCTAGCAGAAGGAG...   \n",
       "64  3079       12.0  GTAGTATCAACTCAACTGCTGTTAAATGGCAGTCTAGCAGAAGGAG...   \n",
       "\n",
       "                   sequence patient  bins  \n",
       "0    days_146_frequency_24%      p3     1  \n",
       "1     days_146_frequency_3%      p3     1  \n",
       "2    days_146_frequency_11%      p3     1  \n",
       "3    days_146_frequency_21%      p3     1  \n",
       "4    days_146_frequency_18%      p3     1  \n",
       "..                      ...     ...   ...  \n",
       "60  days_3079_frequency_15%      p3     5  \n",
       "61  days_3079_frequency_12%      p3     5  \n",
       "62  days_3079_frequency_21%      p3     5  \n",
       "63  days_3079_frequency_21%      p3     5  \n",
       "64  days_3079_frequency_12%      p3     5  \n",
       "\n",
       "[65 rows x 6 columns]"
      ]
     },
     "execution_count": 40,
     "metadata": {},
     "output_type": "execute_result"
    }
   ],
   "source": [
    "tdf.loc[tdf['patient'] == 'p3']"
   ]
  },
  {
   "cell_type": "code",
   "execution_count": 41,
   "metadata": {},
   "outputs": [
    {
     "data": {
      "text/html": [
       "<div>\n",
       "<style scoped>\n",
       "    .dataframe tbody tr th:only-of-type {\n",
       "        vertical-align: middle;\n",
       "    }\n",
       "\n",
       "    .dataframe tbody tr th {\n",
       "        vertical-align: top;\n",
       "    }\n",
       "\n",
       "    .dataframe thead th {\n",
       "        text-align: right;\n",
       "    }\n",
       "</style>\n",
       "<table border=\"1\" class=\"dataframe\">\n",
       "  <thead>\n",
       "    <tr style=\"text-align: right;\">\n",
       "      <th>bins</th>\n",
       "      <th>1</th>\n",
       "      <th>2</th>\n",
       "      <th>3</th>\n",
       "      <th>4</th>\n",
       "      <th>5</th>\n",
       "    </tr>\n",
       "    <tr>\n",
       "      <th>patient</th>\n",
       "      <th></th>\n",
       "      <th></th>\n",
       "      <th></th>\n",
       "      <th></th>\n",
       "      <th></th>\n",
       "    </tr>\n",
       "  </thead>\n",
       "  <tbody>\n",
       "    <tr>\n",
       "      <td>p1</td>\n",
       "      <td>10</td>\n",
       "      <td>7</td>\n",
       "      <td>10</td>\n",
       "      <td>2</td>\n",
       "      <td>74</td>\n",
       "    </tr>\n",
       "    <tr>\n",
       "      <td>p11</td>\n",
       "      <td>27</td>\n",
       "      <td>19</td>\n",
       "      <td>25</td>\n",
       "      <td>15</td>\n",
       "      <td>0</td>\n",
       "    </tr>\n",
       "    <tr>\n",
       "      <td>p2</td>\n",
       "      <td>5</td>\n",
       "      <td>2</td>\n",
       "      <td>0</td>\n",
       "      <td>4</td>\n",
       "      <td>0</td>\n",
       "    </tr>\n",
       "    <tr>\n",
       "      <td>p3</td>\n",
       "      <td>32</td>\n",
       "      <td>9</td>\n",
       "      <td>6</td>\n",
       "      <td>11</td>\n",
       "      <td>7</td>\n",
       "    </tr>\n",
       "    <tr>\n",
       "      <td>p4</td>\n",
       "      <td>21</td>\n",
       "      <td>13</td>\n",
       "      <td>5</td>\n",
       "      <td>6</td>\n",
       "      <td>22</td>\n",
       "    </tr>\n",
       "    <tr>\n",
       "      <td>p5</td>\n",
       "      <td>1</td>\n",
       "      <td>17</td>\n",
       "      <td>36</td>\n",
       "      <td>14</td>\n",
       "      <td>0</td>\n",
       "    </tr>\n",
       "    <tr>\n",
       "      <td>p6</td>\n",
       "      <td>6</td>\n",
       "      <td>0</td>\n",
       "      <td>3</td>\n",
       "      <td>3</td>\n",
       "      <td>24</td>\n",
       "    </tr>\n",
       "    <tr>\n",
       "      <td>p8</td>\n",
       "      <td>32</td>\n",
       "      <td>19</td>\n",
       "      <td>56</td>\n",
       "      <td>26</td>\n",
       "      <td>0</td>\n",
       "    </tr>\n",
       "    <tr>\n",
       "      <td>p9</td>\n",
       "      <td>4</td>\n",
       "      <td>6</td>\n",
       "      <td>2</td>\n",
       "      <td>3</td>\n",
       "      <td>2</td>\n",
       "    </tr>\n",
       "  </tbody>\n",
       "</table>\n",
       "</div>"
      ],
      "text/plain": [
       "bins      1   2   3   4   5\n",
       "patient                    \n",
       "p1       10   7  10   2  74\n",
       "p11      27  19  25  15   0\n",
       "p2        5   2   0   4   0\n",
       "p3       32   9   6  11   7\n",
       "p4       21  13   5   6  22\n",
       "p5        1  17  36  14   0\n",
       "p6        6   0   3   3  24\n",
       "p8       32  19  56  26   0\n",
       "p9        4   6   2   3   2"
      ]
     },
     "execution_count": 41,
     "metadata": {},
     "output_type": "execute_result"
    }
   ],
   "source": [
    "tdf.groupby([\"patient\", \"bins\"]).size().unstack(fill_value=0)"
   ]
  },
  {
   "cell_type": "code",
   "execution_count": 125,
   "metadata": {},
   "outputs": [],
   "source": [
    "tdf = tdf.drop(\"bins\", axis=1)\n",
    "# Will analyse everyone separately"
   ]
  },
  {
   "cell_type": "code",
   "execution_count": 67,
   "metadata": {},
   "outputs": [
    {
     "data": {
      "text/plain": [
       "'data/hivevo_p4_V3.fasta'"
      ]
     },
     "execution_count": 67,
     "metadata": {},
     "output_type": "execute_result"
    }
   ],
   "source": [
    "re.search(r'\\b[\\w\\/]+p4[\\w\\.]+\\b', ' '.join(file_lst))[0]"
   ]
  },
  {
   "cell_type": "code",
   "execution_count": 51,
   "metadata": {},
   "outputs": [
    {
     "data": {
      "text/plain": [
       "'data/hivevo_p7_V3.fasta data/hivevo_p11_V3.fasta data/hivevo_p8_V3.fasta data/hivevo_p3_V3.fasta data/hivevo_p1_V3.fasta data/hivevo_p6_V3.fasta data/hivevo_p2_V3.fasta data/hivevo_p9_V3.fasta data/hivevo_p10_V3.fasta data/hivevo_p5_V3.fasta data/hivevo_p4_V3.fasta'"
      ]
     },
     "execution_count": 51,
     "metadata": {},
     "output_type": "execute_result"
    }
   ],
   "source": [
    "' '.join(file_lst)"
   ]
  },
  {
   "cell_type": "code",
   "execution_count": 128,
   "metadata": {},
   "outputs": [
    {
     "data": {
      "text/plain": [
       "days\n",
       "93       3\n",
       "562     18\n",
       "1142    13\n",
       "1577     5\n",
       "1963     4\n",
       "2474     2\n",
       "2758     2\n",
       "3069    20\n",
       "dtype: int64"
      ]
     },
     "execution_count": 128,
     "metadata": {},
     "output_type": "execute_result"
    }
   ],
   "source": [
    "tdf[tdf.patient == \"p4\"].groupby('days').size()"
   ]
  },
  {
   "cell_type": "code",
   "execution_count": 131,
   "metadata": {},
   "outputs": [
    {
     "data": {
      "text/plain": [
       "'GTAGTATCAACTCAACTGCTGTTAAATGGCAGTCTAGCAGAAGAAGAGGTGGTCATTAGATCTGAAAATTTCACAAACAATGCTAAAACCATAATAGTACAGCTGAATGAAACTGTAGAAATTAATTGTACAAGACCCAATAACAATACAAGAAAGGGTATACATATAGGACCAGGGAGAGCATTTTATGCAACAGGAGAAATAATAGGAGATATAAGACAAGCACATTGTAACATTAGTAAAGCAAAATGGAATAACACTTTAGAAAAGATAGTTGAAAAACTAAGAGAACGATTTGAAAATAAAACAATATCCTTTAGGCCACCCTCAGGAGGGGACCTAGAAATTGTAACACACAGT'"
      ]
     },
     "execution_count": 131,
     "metadata": {},
     "output_type": "execute_result"
    }
   ],
   "source": [
    "tdf = tdf.reset_index(drop=True)\n",
    "tdf.loc[1, \"sequence\"]"
   ]
  },
  {
   "cell_type": "code",
   "execution_count": 73,
   "metadata": {},
   "outputs": [],
   "source": [
    "!mkdir data/fasta"
   ]
  },
  {
   "cell_type": "code",
   "execution_count": 78,
   "metadata": {},
   "outputs": [
    {
     "data": {
      "text/plain": [
       "{'days since infection': 93,\n",
       " 'frequency [%]': 79.0,\n",
       " 'sequence': 'GTAGTATCAACCCAACTGTTGTTAAATGGCAGCCTAGCAGAAGAAGGGGTAGTAGTTAGATCTGACAATTTCTCAAACAATGCTAAAACCATCATAGTACAGTTGCACAAAGCTGTAGAAATTAATTGCACAAGACCCAGCAACAATACAAGCAAAGGTATACATATGGGACCAGGGAAAGCATTTTATACAACAGAAAAAATAATAGGAGATATAAGACAAGCACATTGTAACATTAGTAAAGAGAAATGGAACGACACTTTAAGACAGATAGCTATAAAATTAAGAGCACAATTTCCGAGTAAAACAATAATCTTTGATAAATCCTCAGGAGGGGACCTAGAAATTGTAACACACAGT',\n",
       " 'name': 'days_93_frequency_79%',\n",
       " 'description': 'days_93_frequency_79% days since infection: 93, frequency: 79%, n.reads: 118'}"
      ]
     },
     "execution_count": 78,
     "metadata": {},
     "output_type": "execute_result"
    }
   ],
   "source": [
    "import json\n",
    "\n",
    "path_json = 'data/hivevo_p4_V3.fasta'\n",
    "\n",
    "with open(path_json) as f:\n",
    "    json_file = json.load(f)\n",
    "json_file[0]"
   ]
  },
  {
   "cell_type": "code",
   "execution_count": 82,
   "metadata": {},
   "outputs": [],
   "source": [
    "path = path_json.replace('data/', 'data/fasta/')   \n",
    "with open(path, \"w\") as fasta_file:\n",
    "    i = 0\n",
    "    for obj in json_file:\n",
    "        line_1 = '>' + obj['name'] + str(i) + '\\n'\n",
    "        line_2 = obj['sequence'] + '\\n'\n",
    "        lines = [line_1, line_2]\n",
    "        fasta_file.writelines(lines)\n",
    "        i += 1"
   ]
  },
  {
   "cell_type": "code",
   "execution_count": 103,
   "metadata": {
    "scrolled": true
   },
   "outputs": [],
   "source": [
    "from Bio.Align.Applications import ClustalwCommandline\n",
    "clustalw_cline = ClustalwCommandline(\"clustalw\",  align = 'True', infile=\"data/fasta/hivevo_p4_V3.fasta\", output = 'FASTA', outfile = 'data/clustal_output/hivevo_p4_V3.fasta', type = 'DNA')\n",
    "stdout, stderr = clustalw_cline()\n",
    "#print(clustalw_cline)"
   ]
  },
  {
   "cell_type": "code",
   "execution_count": 107,
   "metadata": {},
   "outputs": [
    {
     "name": "stdout",
     "output_type": "stream",
     "text": [
      "FastTree Version 2.1.10 Double precision (No SSE3)\n",
      "Alignment: standard input\n",
      "Nucleotide distances: Jukes-Cantor Joins: balanced Support: SH-like 1000\n",
      "Search: Normal +NNI +SPR (2 rounds range 10) +ML-NNI opt-each=1\n",
      "TopHits: 1.00*sqrtN close=default refresh=0.80\n",
      "ML Model: Generalized Time-Reversible, CAT approximation with 20 rate categories\n",
      "Initial topology in 0.01 seconds\n",
      "Refining topology: 24 rounds ME-NNIs, 2 rounds ME-SPRs, 12 rounds ML-NNIs\n",
      "Total branch-length 0.735 after 0.09 sec\n",
      "ML-NNI round 1: LogLk = -2329.742 NNIs 14 max delta 7.57 Time 0.14\n",
      "GTR Frequencies: 0.4336 0.1584 0.1892 0.2188ep 7 of 12   \n",
      "GTR rates(ac ag at cg ct gt) 2.5541 10.8881 0.5893 1.1855 11.6602 1.0000\n",
      "Switched to using 20 rate categories (CAT approximation)13 of 20   \n",
      "Rate categories were divided by 0.767 so that average rate = 1.0\n",
      "CAT-based log-likelihoods may not be comparable across runs\n",
      "Use -gamma for approximate but comparable Gamma(20) log-likelihoods\n",
      "ML-NNI round 2: LogLk = -1962.601 NNIs 9 max delta 1.78 Time 0.44\n",
      "ML-NNI round 3: LogLk = -1962.394 NNIs 0 max delta 0.00 Time 0.48\n",
      "Turning off heuristics for final round of ML NNIs (converged)\n",
      "ML-NNI round 4: LogLk = -1962.367 NNIs 0 max delta 0.00 Time 0.57 (final)\n",
      "Optimize all lengths: LogLk = -1962.366 Time 0.59\n",
      "Total time: 0.72 seconds Unique: 67/67 Bad splits: 0/64\n"
     ]
    }
   ],
   "source": [
    "# SHOULD BE USED https://biopython.org/DIST/docs/api/Bio.Phylo.Applications._Fasttree-module.html\n",
    "\n",
    "!fasttree -nt -gtr < data/clustal_output/hivevo_p4_V3.fasta > data/trees/hivevo_p4_V3.nwk"
   ]
  },
  {
   "cell_type": "code",
   "execution_count": 114,
   "metadata": {},
   "outputs": [],
   "source": [
    "from Bio import Phylo\n",
    "\n",
    "tree = Phylo.read('data/trees/hivevo_p4_V3.nwk', 'newick')"
   ]
  },
  {
   "cell_type": "code",
   "execution_count": 122,
   "metadata": {},
   "outputs": [],
   "source": [
    "graph = Phylo.to_networkx(tree)"
   ]
  },
  {
   "cell_type": "code",
   "execution_count": 136,
   "metadata": {},
   "outputs": [
    {
     "data": {
      "text/plain": [
       "1.0677722899999997"
      ]
     },
     "execution_count": 136,
     "metadata": {},
     "output_type": "execute_result"
    }
   ],
   "source": [
    "tree.total_branch_length()"
   ]
  },
  {
   "cell_type": "code",
   "execution_count": 130,
   "metadata": {},
   "outputs": [],
   "source": [
    "def clade_names_fix(tree):\n",
    "    for idx, clade in enumerate(tree.find_clades()):\n",
    "        if not clade.name:\n",
    "            clade.name=str(idx)\n",
    "\n",
    "Tree = Phylo.read('data/trees/hivevo_p4_V3.nwk', 'newick')\n",
    "clade_names_fix(Tree)\n",
    "G = Phylo.to_networkx(Tree)"
   ]
  },
  {
   "cell_type": "code",
   "execution_count": 132,
   "metadata": {},
   "outputs": [
    {
     "data": {
      "text/plain": [
       "EdgeView([(Clade(name='0'), Clade(branch_length=0.003607269, name='days_562_frequency_2%9')), (Clade(name='0'), Clade(branch_length=0.003608928, name='days_562_frequency_3%11')), (Clade(name='0'), Clade(branch_length=5e-09, confidence=0.867, name='3')), (Clade(branch_length=5e-09, confidence=0.867, name='3'), Clade(branch_length=5e-09, name='days_562_frequency_10%10')), (Clade(branch_length=5e-09, confidence=0.867, name='3'), Clade(branch_length=5e-09, confidence=0.884, name='5')), (Clade(branch_length=5e-09, confidence=0.884, name='5'), Clade(branch_length=0.003628687, confidence=0.875, name='6')), (Clade(branch_length=5e-09, confidence=0.884, name='5'), Clade(branch_length=0.003595639, confidence=0.775, name='115')), (Clade(branch_length=0.003628687, confidence=0.875, name='6'), Clade(branch_length=0.003678204, confidence=0.809, name='7')), (Clade(branch_length=0.003628687, confidence=0.875, name='6'), Clade(branch_length=6e-09, confidence=0.756, name='10')), (Clade(branch_length=0.003678204, confidence=0.809, name='7'), Clade(branch_length=0.003629118, name='days_562_frequency_3%13')), (Clade(branch_length=0.003678204, confidence=0.809, name='7'), Clade(branch_length=0.003650949, name='days_562_frequency_3%15')), (Clade(branch_length=6e-09, confidence=0.756, name='10'), Clade(branch_length=0.003654341, confidence=0.847, name='11')), (Clade(branch_length=6e-09, confidence=0.756, name='10'), Clade(branch_length=0.003650164, name='days_562_frequency_5%12')), (Clade(branch_length=0.003654341, confidence=0.847, name='11'), Clade(branch_length=5e-09, name='days_562_frequency_2%16')), (Clade(branch_length=0.003654341, confidence=0.847, name='11'), Clade(branch_length=0.00365427, confidence=0.903, name='13')), (Clade(branch_length=0.00365427, confidence=0.903, name='13'), Clade(branch_length=0.003652368, confidence=0.935, name='14')), (Clade(branch_length=0.00365427, confidence=0.903, name='13'), Clade(branch_length=5e-09, confidence=0.322, name='19')), (Clade(branch_length=0.003652368, confidence=0.935, name='14'), Clade(branch_length=0.003653467, name='days_562_frequency_9%17')), (Clade(branch_length=0.003652368, confidence=0.935, name='14'), Clade(branch_length=5e-09, confidence=0.497, name='16')), (Clade(branch_length=5e-09, confidence=0.497, name='16'), Clade(branch_length=0.003648524, name='days_562_frequency_5%18')), (Clade(branch_length=5e-09, confidence=0.497, name='16'), Clade(branch_length=0.007311698, name='days_562_frequency_2%19')), (Clade(branch_length=5e-09, confidence=0.322, name='19'), Clade(branch_length=6e-09, confidence=0.91, name='20')), (Clade(branch_length=5e-09, confidence=0.322, name='19'), Clade(branch_length=0.003652532, name='days_562_frequency_2%20')), (Clade(branch_length=6e-09, confidence=0.91, name='20'), Clade(branch_length=0.01485034, name='days_1142_frequency_1%14')), (Clade(branch_length=6e-09, confidence=0.91, name='20'), Clade(branch_length=0.00720698, confidence=0.893, name='22')), (Clade(branch_length=0.00720698, confidence=0.893, name='22'), Clade(branch_length=0.043201575, confidence=0.995, name='23')), (Clade(branch_length=0.00720698, confidence=0.893, name='22'), Clade(branch_length=6e-09, confidence=0.598, name='96')), (Clade(branch_length=0.043201575, confidence=0.995, name='23'), Clade(branch_length=0.017777278, name='days_1963_frequency_30%30')), (Clade(branch_length=0.043201575, confidence=0.995, name='23'), Clade(branch_length=0.019895052, confidence=0.943, name='25')), (Clade(branch_length=0.019895052, confidence=0.943, name='25'), Clade(branch_length=0.003952932, confidence=0.753, name='26')), (Clade(branch_length=0.019895052, confidence=0.943, name='25'), Clade(branch_length=5e-09, name='days_1577_frequency_19%35')), (Clade(branch_length=0.003952932, confidence=0.753, name='26'), Clade(branch_length=0.006930141, confidence=0.848, name='27')), (Clade(branch_length=0.003952932, confidence=0.753, name='26'), Clade(branch_length=0.006696813, confidence=0.262, name='52')), (Clade(branch_length=0.006930141, confidence=0.848, name='27'), Clade(branch_length=0.011123339, name='days_1577_frequency_11%36')), (Clade(branch_length=0.006930141, confidence=0.848, name='27'), Clade(branch_length=5e-09, confidence=0.875, name='29')), (Clade(branch_length=5e-09, confidence=0.875, name='29'), Clade(branch_length=0.010819543, confidence=0.401, name='30')), (Clade(branch_length=5e-09, confidence=0.875, name='29'), Clade(branch_length=0.018497651, confidence=0.972, name='49')), (Clade(branch_length=0.010819543, confidence=0.401, name='30'), Clade(branch_length=0.013215071, confidence=0.89, name='31')), (Clade(branch_length=0.010819543, confidence=0.401, name='30'), Clade(branch_length=0.022769869, confidence=0.945, name='36')), (Clade(branch_length=0.013215071, confidence=0.89, name='31'), Clade(branch_length=0.056100081, name='days_3069_frequency_1%39')), (Clade(branch_length=0.013215071, confidence=0.89, name='31'), Clade(branch_length=0.005428496, confidence=0.739, name='33')), (Clade(branch_length=0.005428496, confidence=0.739, name='33'), Clade(branch_length=0.004156322, name='days_1577_frequency_24%40')), (Clade(branch_length=0.005428496, confidence=0.739, name='33'), Clade(branch_length=0.006993788, name='days_1577_frequency_27%41')), (Clade(branch_length=0.022769869, confidence=0.945, name='36'), Clade(branch_length=0.027971778, name='days_3069_frequency_4%43')), (Clade(branch_length=0.022769869, confidence=0.945, name='36'), Clade(branch_length=0.00721283, confidence=0.527, name='38')), (Clade(branch_length=0.00721283, confidence=0.527, name='38'), Clade(branch_length=0.003692946, name='days_2758_frequency_35%42')), (Clade(branch_length=0.00721283, confidence=0.527, name='38'), Clade(branch_length=0.016371691, confidence=0.92, name='40')), (Clade(branch_length=0.016371691, confidence=0.92, name='40'), Clade(branch_length=0.006841155, name='days_2758_frequency_64%44')), (Clade(branch_length=0.016371691, confidence=0.92, name='40'), Clade(branch_length=0.007976521, confidence=0.594, name='42')), (Clade(branch_length=0.007976521, confidence=0.594, name='42'), Clade(branch_length=0.041029386, name='days_3069_frequency_2%45')), (Clade(branch_length=0.007976521, confidence=0.594, name='42'), Clade(branch_length=0.011559068, confidence=0.787, name='44')), (Clade(branch_length=0.011559068, confidence=0.787, name='44'), Clade(branch_length=0.008073377, name='days_3069_frequency_1%46')), (Clade(branch_length=0.011559068, confidence=0.787, name='44'), Clade(branch_length=0.011022315, confidence=0.864, name='46')), (Clade(branch_length=0.011022315, confidence=0.864, name='46'), Clade(branch_length=0.011037821, name='days_3069_frequency_2%47')), (Clade(branch_length=0.011022315, confidence=0.864, name='46'), Clade(branch_length=0.014996103, name='days_3069_frequency_2%48')), (Clade(branch_length=0.018497651, confidence=0.972, name='49'), Clade(branch_length=5e-09, name='days_2474_frequency_68%37')), (Clade(branch_length=0.018497651, confidence=0.972, name='49'), Clade(branch_length=0.003625383, name='days_2474_frequency_31%38')), (Clade(branch_length=0.006696813, confidence=0.262, name='52'), Clade(branch_length=0.070967997, confidence=1.0, name='53')), (Clade(branch_length=0.006696813, confidence=0.262, name='52'), Clade(branch_length=0.004934488, confidence=0.734, name='88')), (Clade(branch_length=0.070967997, confidence=1.0, name='53'), Clade(branch_length=0.015522515, name='days_1142_frequency_6%52')), (Clade(branch_length=0.070967997, confidence=1.0, name='53'), Clade(branch_length=5e-09, confidence=0.0, name='55')), (Clade(branch_length=5e-09, confidence=0.0, name='55'), Clade(branch_length=0.01360429, name='days_562_frequency_1%51')), (Clade(branch_length=5e-09, confidence=0.0, name='55'), Clade(branch_length=0.007269605, confidence=0.801, name='57')), (Clade(branch_length=0.007269605, confidence=0.801, name='57'), Clade(branch_length=0.013488913, confidence=0.921, name='58')), (Clade(branch_length=0.007269605, confidence=0.801, name='57'), Clade(branch_length=0.012301731, confidence=0.897, name='61')), (Clade(branch_length=0.013488913, confidence=0.921, name='58'), Clade(branch_length=0.007129402, name='days_1142_frequency_6%49')), (Clade(branch_length=0.013488913, confidence=0.921, name='58'), Clade(branch_length=5e-09, name='days_1142_frequency_14%50')), (Clade(branch_length=0.012301731, confidence=0.897, name='61'), Clade(branch_length=0.003168772, confidence=0.751, name='62')), (Clade(branch_length=0.012301731, confidence=0.897, name='61'), Clade(branch_length=0.052707378, confidence=1.0, name='65')), (Clade(branch_length=0.003168772, confidence=0.751, name='62'), Clade(branch_length=0.003564132, name='days_1963_frequency_3%53')), (Clade(branch_length=0.003168772, confidence=0.751, name='62'), Clade(branch_length=5e-09, name='days_1963_frequency_50%54')), (Clade(branch_length=0.052707378, confidence=1.0, name='65'), Clade(branch_length=0.003527571, name='days_3069_frequency_8%55')), (Clade(branch_length=0.052707378, confidence=1.0, name='65'), Clade(branch_length=5e-09, confidence=0.93, name='67')), (Clade(branch_length=5e-09, confidence=0.93, name='67'), Clade(branch_length=5e-09, name='days_3069_frequency_11%56')), (Clade(branch_length=5e-09, confidence=0.93, name='67'), Clade(branch_length=5e-09, confidence=0.854, name='69')), (Clade(branch_length=5e-09, confidence=0.854, name='69'), Clade(branch_length=0.003537963, confidence=0.87, name='70')), (Clade(branch_length=5e-09, confidence=0.854, name='69'), Clade(branch_length=0.003527572, confidence=0.899, name='77')), (Clade(branch_length=0.003537963, confidence=0.87, name='70'), Clade(branch_length=0.003533587, name='days_3069_frequency_7%61')), (Clade(branch_length=0.003537963, confidence=0.87, name='70'), Clade(branch_length=5e-09, confidence=0.887, name='72')), (Clade(branch_length=5e-09, confidence=0.887, name='72'), Clade(branch_length=5e-09, name='days_3069_frequency_2%60')), (Clade(branch_length=5e-09, confidence=0.887, name='72'), Clade(branch_length=5e-09, confidence=0.901, name='74')), (Clade(branch_length=5e-09, confidence=0.901, name='74'), Clade(branch_length=0.007095212, name='days_3069_frequency_5%62')), (Clade(branch_length=5e-09, confidence=0.901, name='74'), Clade(branch_length=0.003533587, name='days_3069_frequency_2%59')), (Clade(branch_length=0.003527572, confidence=0.899, name='77'), Clade(branch_length=5e-09, confidence=0.453, name='78')), (Clade(branch_length=0.003527572, confidence=0.899, name='77'), Clade(branch_length=0.00368995, name='days_3069_frequency_4%58')), (Clade(branch_length=5e-09, confidence=0.453, name='78'), Clade(branch_length=0.003529793, confidence=0.929, name='79')), (Clade(branch_length=5e-09, confidence=0.453, name='78'), Clade(branch_length=5e-09, name='days_3069_frequency_13%57')), (Clade(branch_length=0.003529793, confidence=0.929, name='79'), Clade(branch_length=0.003523454, name='days_3069_frequency_7%63')), (Clade(branch_length=0.003529793, confidence=0.929, name='79'), Clade(branch_length=6e-09, confidence=0.856, name='81')), (Clade(branch_length=6e-09, confidence=0.856, name='81'), Clade(branch_length=5e-09, name='days_3069_frequency_5%64')), (Clade(branch_length=6e-09, confidence=0.856, name='81'), Clade(branch_length=5e-09, confidence=0.894, name='83')), (Clade(branch_length=5e-09, confidence=0.894, name='83'), Clade(branch_length=0.003540882, name='days_3069_frequency_4%66')), (Clade(branch_length=5e-09, confidence=0.894, name='83'), Clade(branch_length=0.003526667, name='days_3069_frequency_7%65')), (Clade(branch_length=0.004934488, confidence=0.734, name='88'), Clade(branch_length=0.004332154, name='days_1142_frequency_4%31')), (Clade(branch_length=0.004934488, confidence=0.734, name='88'), Clade(branch_length=0.022018809, confidence=0.988, name='90')), (Clade(branch_length=0.022018809, confidence=0.988, name='90'), Clade(branch_length=0.022022825, name='days_1577_frequency_16%32')), (Clade(branch_length=0.022018809, confidence=0.988, name='90'), Clade(branch_length=5e-09, confidence=0.436, name='92')), (Clade(branch_length=5e-09, confidence=0.436, name='92'), Clade(branch_length=0.010918366, name='days_1142_frequency_6%33')), (Clade(branch_length=5e-09, confidence=0.436, name='92'), Clade(branch_length=0.007251238, name='days_1142_frequency_4%34')), (Clade(branch_length=6e-09, confidence=0.598, name='96'), Clade(branch_length=0.007518063, confidence=0.879, name='97')), (Clade(branch_length=6e-09, confidence=0.598, name='96'), Clade(branch_length=0.011072289, confidence=0.89, name='100')), (Clade(branch_length=0.007518063, confidence=0.879, name='97'), Clade(branch_length=0.007331846, name='days_1142_frequency_3%21')), (Clade(branch_length=0.007518063, confidence=0.879, name='97'), Clade(branch_length=0.011364337, name='days_1142_frequency_5%22')), (Clade(branch_length=0.011072289, confidence=0.89, name='100'), Clade(branch_length=0.007763451, confidence=0.769, name='101')), (Clade(branch_length=0.011072289, confidence=0.89, name='100'), Clade(branch_length=0.011673404, confidence=0.679, name='108')), (Clade(branch_length=0.007763451, confidence=0.769, name='101'), Clade(branch_length=0.003605778, name='days_1142_frequency_3%26')), (Clade(branch_length=0.007763451, confidence=0.769, name='101'), Clade(branch_length=0.00396571, confidence=0.749, name='103')), (Clade(branch_length=0.00396571, confidence=0.749, name='103'), Clade(branch_length=0.014825606, name='days_1142_frequency_6%27')), (Clade(branch_length=0.00396571, confidence=0.749, name='103'), Clade(branch_length=0.007164443, confidence=0.459, name='105')), (Clade(branch_length=0.007164443, confidence=0.459, name='105'), Clade(branch_length=0.007224856, name='days_1142_frequency_8%28')), (Clade(branch_length=0.007164443, confidence=0.459, name='105'), Clade(branch_length=6e-09, name='days_1142_frequency_26%29')), (Clade(branch_length=0.011673404, confidence=0.679, name='108'), Clade(branch_length=0.029128515, name='days_1963_frequency_16%23')), (Clade(branch_length=0.011673404, confidence=0.679, name='108'), Clade(branch_length=0.048770364, confidence=0.996, name='110')), (Clade(branch_length=0.048770364, confidence=0.996, name='110'), Clade(branch_length=0.018422095, name='days_3069_frequency_3%24')), (Clade(branch_length=0.048770364, confidence=0.996, name='110'), Clade(branch_length=6e-09, name='days_3069_frequency_2%25')), (Clade(branch_length=0.003595639, confidence=0.775, name='115'), Clade(branch_length=0.018159274, confidence=0.99, name='116')), (Clade(branch_length=0.003595639, confidence=0.775, name='115'), Clade(branch_length=0.003680362, name='days_562_frequency_5%8')), (Clade(branch_length=0.018159274, confidence=0.99, name='116'), Clade(branch_length=5e-09, confidence=0.913, name='117')), (Clade(branch_length=0.018159274, confidence=0.99, name='116'), Clade(branch_length=0.00357683, confidence=0.507, name='124')), (Clade(branch_length=5e-09, confidence=0.913, name='117'), Clade(branch_length=5e-09, confidence=0.884, name='118')), (Clade(branch_length=5e-09, confidence=0.913, name='117'), Clade(branch_length=5e-09, name='days_562_frequency_25%4')), (Clade(branch_length=5e-09, confidence=0.884, name='118'), Clade(branch_length=0.00714789, confidence=0.919, name='119')), (Clade(branch_length=5e-09, confidence=0.884, name='118'), Clade(branch_length=0.003580927, name='days_562_frequency_2%5')), (Clade(branch_length=0.00714789, confidence=0.919, name='119'), Clade(branch_length=5e-09, name='days_562_frequency_6%6')), (Clade(branch_length=0.00714789, confidence=0.919, name='119'), Clade(branch_length=0.010731325, name='days_562_frequency_4%7')), (Clade(branch_length=0.00357683, confidence=0.507, name='124'), Clade(branch_length=5e-09, name='days_562_frequency_3%3')), (Clade(branch_length=0.00357683, confidence=0.507, name='124'), Clade(branch_length=0.01082029, confidence=0.975, name='126')), (Clade(branch_length=0.01082029, confidence=0.975, name='126'), Clade(branch_length=0.003583685, name='days_93_frequency_2%2')), (Clade(branch_length=0.01082029, confidence=0.975, name='126'), Clade(branch_length=5e-09, confidence=0.822, name='128')), (Clade(branch_length=5e-09, confidence=0.822, name='128'), Clade(branch_length=5e-09, name='days_93_frequency_79%0')), (Clade(branch_length=5e-09, confidence=0.822, name='128'), Clade(branch_length=0.003590108, name='days_93_frequency_18%1'))])"
      ]
     },
     "execution_count": 132,
     "metadata": {},
     "output_type": "execute_result"
    }
   ],
   "source": [
    "#nx.algorithms.all_simple_paths(G, )\n",
    "G.edges"
   ]
  },
  {
   "cell_type": "code",
   "execution_count": 137,
   "metadata": {},
   "outputs": [],
   "source": [
    "### TODO: разобраться с графом,  найти самый длинный путь и посмотреть гидрофобность"
   ]
  }
 ],
 "metadata": {
  "anaconda-cloud": {},
  "kernelspec": {
   "display_name": "Python 3",
   "language": "python",
   "name": "python3"
  },
  "language_info": {
   "codemirror_mode": {
    "name": "ipython",
    "version": 3
   },
   "file_extension": ".py",
   "mimetype": "text/x-python",
   "name": "python",
   "nbconvert_exporter": "python",
   "pygments_lexer": "ipython3",
   "version": "3.7.4"
  }
 },
 "nbformat": 4,
 "nbformat_minor": 1
}
