{
 "cells": [
  {
   "cell_type": "code",
   "execution_count": 1,
   "metadata": {},
   "outputs": [],
   "source": [
    "%matplotlib inline\n",
    "\n",
    "import shutil\n",
    "import os\n",
    "from joblib import dump, load\n",
    "import urllib3\n",
    "import certifi\n",
    "from Bio import SeqIO\n",
    "import Bio\n",
    "from glob import glob\n",
    "import json\n",
    "from IPython import display\n",
    "import pandas as pd\n",
    "import numpy as np\n",
    "import networkx as nx\n",
    "from collections import OrderedDict\n",
    "\n",
    "import matplotlib.pyplot as plt\n",
    "import seaborn as sns\n",
    "import re"
   ]
  },
  {
   "cell_type": "markdown",
   "metadata": {},
   "source": [
    "![HIV genome](https://upload.wikimedia.org/wikipedia/commons/c/c6/HIV-genome.png)"
   ]
  },
  {
   "cell_type": "code",
   "execution_count": 2,
   "metadata": {},
   "outputs": [],
   "source": [
    "patients = [\"p{}\".format(i) for i in range(1,12)]\n",
    "hiv_regions = [\"V3\", \"PR\", \"psi\", \"vpr\", \"vpu\", \"p1\", \"p2\", \"p6\", \"p7\", \"p15\", \"p17\", \"RRE\"]"
   ]
  },
  {
   "cell_type": "markdown",
   "metadata": {},
   "source": [
    "![HIV genome details](https://res.mdpi.com/viruses/viruses-08-00248/article_deploy/html/images/viruses-08-00248-g002.png)"
   ]
  },
  {
   "cell_type": "code",
   "execution_count": 3,
   "metadata": {},
   "outputs": [],
   "source": [
    "def download_hivevo_haplotype(patient, hiv_region, folder):\n",
    "    \n",
    "    http = urllib3.PoolManager(cert_reqs='CERT_REQUIRED',\n",
    "                               ca_certs=certifi.where())\n",
    "    \n",
    "    api = \"https://hiv.biozentrum.unibas.ch/api/data/haplotypes/\"\n",
    "    \n",
    "    url = \"/\".join((api, patient, hiv_region))\n",
    "\n",
    "    if not os.path.isdir(folder):\n",
    "        os.mkdir(folder)\n",
    "\n",
    "    file_name = folder + \"_\".join((\"hivevo\", patient, region)) + \".fasta\"\n",
    "\n",
    "    with http.request('GET', url, preload_content=False) as res, open(file_name, 'wb') as out_file:\n",
    "\n",
    "        shutil.copyfileobj(res, out_file)\n",
    "        \n",
    "folder = \"data/\"\n",
    "for patient in patients:\n",
    "    for region in hiv_regions:\n",
    "        download_hivevo_haplotype(patient, region, folder)"
   ]
  },
  {
   "cell_type": "code",
   "execution_count": 116,
   "metadata": {},
   "outputs": [],
   "source": [
    "def download_hivevo_references(folder):\n",
    "    global patients    \n",
    "    \n",
    "    http = urllib3.PoolManager(cert_reqs='CERT_REQUIRED',\n",
    "                               ca_certs=certifi.where())\n",
    "    \n",
    "    if not os.path.isdir(folder):\n",
    "        os.mkdir(folder)\n",
    "    \n",
    "    for patient in patients:\n",
    "        api = \"https://hiv.biozentrum.unibas.ch/api/data/referenceSequence\"\n",
    "        url = \"/\".join((api, patient))\n",
    "        file_name = folder + \"_\".join((\"hivevo\", \"reference\", patient)) + \".fasta\"\n",
    "        \n",
    "        with http.request('GET', url, preload_content=False) as res, open(file_name, 'wb') as out_file:\n",
    "            shutil.copyfileobj(res, out_file)\n",
    "\n",
    "folder = \"data/references/\"\n",
    "download_hivevo_references(folder)"
   ]
  },
  {
   "cell_type": "code",
   "execution_count": 148,
   "metadata": {},
   "outputs": [],
   "source": [
    "def extracting_region_from_reference(region, reference_path, folder):\n",
    "    \n",
    "    if not os.path.isdir(folder+region):\n",
    "        os.mkdir(folder+region)\n",
    "    \n",
    "    with open(reference_path) as f:\n",
    "        reference_info = json.load(f)\n",
    "    for reg in reference_info['features']:\n",
    "        if reg['name'] == region:\n",
    "            loc = reg['location'][0]\n",
    "            break\n",
    "        else:\n",
    "            continue\n",
    "    patient = re.search(r'p[\\d]*', reference_path)[0]\n",
    "    #print(patient)\n",
    "    sequence = reference_info['seq'][loc[0]:loc[1]]\n",
    "    #print(sequence)\n",
    "    res = r'/'+re.search(r'[\\w]*\\.fasta', reference_path)[0].replace(patient, \"_\".join((patient, region)))\n",
    "    \n",
    "    with open(folder+region+res, 'w') as write_file:\n",
    "        write_file.write('>'+reference_info['description']+'\\n')\n",
    "        write_file.write(sequence)\n",
    "\n",
    "folder = 'data/references/'\n",
    "region = 'V3'\n",
    "ref_path = 'data/references/hivevo_reference_p4.fasta'\n",
    "extracting_region_from_reference(region, referenc_path, folder)"
   ]
  },
  {
   "cell_type": "code",
   "execution_count": 146,
   "metadata": {},
   "outputs": [
    {
     "data": {
      "text/plain": [
       "'data/references//sobaka'"
      ]
     },
     "execution_count": 146,
     "metadata": {},
     "output_type": "execute_result"
    }
   ],
   "source": [
    "path = 'sobaka'\n",
    "\"/\".join((folder, path))"
   ]
  },
  {
   "cell_type": "code",
   "execution_count": 142,
   "metadata": {},
   "outputs": [
    {
     "data": {
      "text/plain": [
       "'hivevo_reference_p4.fasta'"
      ]
     },
     "execution_count": 142,
     "metadata": {},
     "output_type": "execute_result"
    }
   ],
   "source": [
    "reference_path = 'data/references/hivevo_reference_p4.fasta'\n",
    "res = re.search(r'[\\w]*\\.fasta', reference_path)[0]\n",
    "res"
   ]
  },
  {
   "cell_type": "code",
   "execution_count": 132,
   "metadata": {
    "scrolled": true
   },
   "outputs": [
    {
     "data": {
      "text/plain": [
       "{'description': 'reference for patient p4, genomewide',\n",
       " 'seq': 'TTCAAGTAGTGTGTGCCCGTCTGTTGTGTGACTCTGGTAACTAGAGATCCCTCAGACCCTTTTAGTCAGTGTGGAAAATCTCTAGCAGTGGCGCCCGAACAGGGACCCGAAAGCGAAAGGGAAACCAGAGGAGCTCTCTCGACGCAGGACTCGGCTTGCTGAAGCGCGCACAGCAAGAGGCGAGAGGCGGCGACTGGTGAGTACGCCAAAATTTTTGACTAGCGGAGGCTAGAAGGAGAGAGATGGGTGCGAGAGCGTCAGTATTAAGCGGGGGAGAATTAGATAGATGGGAAAAAATTCGGTTAAGGCCAGGAGGAAAGAAAAAATATAAGTTAAAACATATAGTATGGGCAAGCAGGGAGCTAGAGCGATTCGCAGTTAATCCTGGCCTGTTAGAAACATCAGAAGGCTGTAGACAAATATTGGAACAGCTACAACCATCCCTTCAGACAGGATCAGAAGAACTTAGATCATTATTTAATACAATAGCAACCCTCTATTGTGTGCATCAGAGGATAGATGTAAAAGACACCAAGGAAGCTTTAGAGAAGATAGAGGAAGAGCAAAACAAATGTAAGAAAAAAGCACAGCCAGTAGCAGCTGACACAGGAAACAGCAGCAAGGTCAGCCAAAATTACCCTATAGTGCAGAACCTACAGGGGCAAATGGTACATCAGGCCATATCGCCTAGAACGTTAAATGCCTGGGTAAAAGTAGTAGAAGAGAAGGCTTTCAGCCCAGAAGTAATACCCATGTTTTCAGCATTATCAGAAGGAGCCACCCCACAAGATTTAAACACCATGCTAAACACGGTGGGGGGACATCAAGCAGCTATGCAAATGTTAAAAGAGACCATTAATGAGGAAGCTGCAGAATGGGATAGATTGCATCCAGTGCATGCAGGGCCTATTGCACCAGGCCAGATGAGAGAACCAAGGGGAAGTGACATAGCAGGAACTACTAGTACCCTTCAGGAACAAATAGGATGGATGACAAACAATCCACCTATCCCAGTAGGAGAAATCTATAAAAGATGGATAATCCTGGGATTAAATAAAATAGTAAGGATGTATAGCCCTACCAGCATCCTGGACATAAGGCAGGGACCAAAGGAATCCTTTAGAGATTATGTGGACCGGTTCTATAAAACTCTAAGAGCCGAGCAAGCTTCACAGGAGGTAAAAAATTGGATGACAGAAACCTTGTTGGTCCAAAATGCGAACCCAGATTGTAAGACCATTTTAAAAGCATTGGGACCAGCAGCTACACTAGAAGAAATGATGACAGCATGTCAGGGAGTGGGAGGACCCGGCCACAAAGCAAGAGTTTTGGCTGAAGCAATGAGCCAAGTAACAAATACAGCTACCGCAATGATGCAGAGGGGCAATTTTAGGAACCAAAGAAAGATTATTAAGTGTTTCAACTGTGGCAAAGAAGGGCACCTAGCCAAAAATTGCAGGGCCCCTAGGAAAAAGGGCTGTTGGAAATGTGGAAAGGAAGGACACCAAATGAAAGATTGTACTGAGAGACAGGCTAATTTTTTAGGGAAAATCTGGCCTTCCCACAAGGGAAGGCCAGGGAATTTTCTTCAGAACAGACCAGAGCCAACAGCCCCACCAGCAGAGAGCTTCAGGTTTGGGGAAGAGACAACAACTCCCTCTCAGAAGCAGGAGACGATAGACAAGGAACTATATCCTTTAGCTTCCCTCAGATCACTCTTTGGCAACGACCCCTCGTCACAATAAAAGTAGGGGGGCAACAAAAGGAAGCTCTATTAGATACAGGAGCAGATGATACAGTATTAGAAGACATAAATTTGCCAGGAAGATGGAAACCAAAAATGATAGGGGGAATTGGAGGTTTTATCAAAGTAAGACAGTATGATCAGATACTCATAGAAATTTGTGGACATAAAGCTATAGGTACAGTACTAGTAGGACCTACACCTGTCAACATAATTGGAAGAAATCTGTTGACTCAGATTGGTTGCACTTTAAATTTTCCCATTAGTCCTATTGAAACTGTACCAGTAAAATTAAAGCCAGGAATGGATGGCCCAAAGGTTAAACAATGGCCATTGACAGAAGAAAAAATAAAAGCATTAGTAGAAATTTGTACAGAAATGGAAAAGGAAGGGAAAATTTCAAGAATTGGGCCTGAAAATCCATACAATACTCCAGTATTTGCCATAAAGAAAAAAGACAGTACTAAATGGAGAAAATTAGTAGATTTTAGAGAACTTAATAAGAAAACTCAAGACTTCTGGGAAGTTCAATTAGGAATACCACATCCAGCAGGGTTAAAAAAGAAAAAATCAGTAACAGTGCTGGATGTGGGTGATGCATATTTTTCAGTTCCCTTAGATAAAGACTTCAGGAAGTATACTGCATTCACCATACCTAGTGTAAACAATGAGACACCAGGGATCAGATATCAGTACAATGTGCTTCCACAGGGATGGAAAGGATCACCAGCAATATTCCAAAGTAGCATGATAAAAATCTTAGAGCCTTTTAGAAAACAAAATCCAGACATAGTCATCTATCAATACATGGATGATTTGTATGTAGGATCTGACTTAGAAATAGGGCAGCATAGAACAAAAATAGAGGAACTGAGACAGCATCTGTTGAAGTGGGGATTTACCACACCAGACAAGAAACATCAGAAAGAACCTCCATTCCTTTGGATGGGTTATGAACTCCATCCTGACAAATGGACAGTACAGCCTATAGTGCTGCCAGAAAAAGACAGCTGGACTGTCAATGACATACAGAAGTTAGTGGGAAAATTGAATTGGGCAAGTCAGATCTATGCAGGGATTAAAGTAAAGCAATTATGTAAACTCCTTAGGGGAGCTAAAGCACTAACAGAAGTAATACCACTAACAGAAGAAGCAGAGCTAGAACTAGCAGAAAACAGGGAGATTCTGAAAGAACCAGTACATGGAGTGTATTATGACCCATCAAAAGACTTAATAGCAGAAATACAGAAGCAGGGGCAAGGACAATGGACATATCAAATTTATCAAGAGCCATTTAAAAATCTGAAAACAGGAAAATATGCAAGAATGAGGGGTGCCCATTCTAATGATGTAAAACAATTAACAGAGGCAGTGCAAAAAATAACCACAGAAAGTATAGTAATATGGGGAAAGACTCCTAAATTTAAATTACCCATACAAAGAGAAACATGGGATACATGGTGGACAGAGTATTGGCAAGCCACCTGGATTCCTGAGTGGGAGTTTGTCAATACCCCTCCCTTAGTGAAATTATGGTACCGGTTAGAGAAAGAACCCATAGTAGGAGCAGAAACTTTCTATGTAGATGGGGCAGCTAACAGGGAGACTAAATTAGGAAAAGCAGGATATGTTACTAACAGAGGAAGACAAAAAGTGGTCCCCCTAACTGACACAACAAATCAGAAGACTGAGCTACAAGCAATTCATCTAGCTTTGCAGGATTCGGGATCAGAAGTAAACATAGTAACAGACTCACAATATGCATTAGGAATTATTCAAGCACAACCAGATAAAAGTGAATCAGAGTTAGTCAGTCAAATAATAGAGCAGTTAATAAAAAAGGAAAAGGTCTACCTGGCATGGGTACCAGCACACAAAGGAATTGGAGGAAATGAACAAGTAGATAAATTAGTCAGTGCTGGAATCAGGAAAGTACTATTTTTAGATGGAATAGATAAGGCCCAAGAAGATCATGAAAAATATCACAGTAATTGGAGAGCAATGGCTAGTGATTTTAACCTGCCACCTGTAGTAGCAAAAGAAATAGTAGCCAGCTGTGATAAATGTCAGCTAAAAGGAGAAGCCATGCATGGACAAGTAGACTGTAGTCCAGGAATATGGCAACTAGATTGTACACATTTAGAAGGAAAAATTATCCTGGTAGCAGTTCATGTAGCCAGTGGATATATAGAAGCAGAAGTTATTCCAGCAGAAACAGGGCAGGAAACAGCATACTTTATCTTAAAATTAGCAGGGAGATGGCCAGTAAAAATAATACATACAGACAATGGCAGCAATTTCACCAGCACTACGGTTAAGGCCGCCTGTTGGTGGGCGGGGGTCAAGCAGGAATTTGGCATTCCCTACAATCCCCAAAGTCAAGGAGTAGTGGAATCTATGAATAAAGAATTAAAGAAAATTATAGGACAGGTAAGAGATCAGGCTGAACATCTTAAGACAGCAGTACAAATGGCAGTACTCATCCACAATTTTAAAAGAAAAGGGGGGATTGGGGGGTACAGTGCAGGGGAAAGAATAGTAGACATAATAGCAACAGACATACAAACTAAAGAATTACAAAAACAAATTACAAAAATTCAAAATTTTCGGGTTTATTACAGGGACAGCAGAGATCCACTTTGGAAAGGACCAGCAAAGCTTCTCTGGAAAGGTGAAGGGGCAGTAGTAATACAAGATAATAGTGACATAAAAGTAGTGCCAAGAAGAAAAGCAAAGATCATTAGGGATTATGGAAAACAGATGGCAGGTGATGATTGTGTGGCAAGTAGACAGGATGAGGATTAAAACATGGAACAGTTTAGTAAAACACCATATGTATAGGTCAGGGAAAGCTAAGGGATGGGTTTACAAACATCACTATGAAAGCATTAATCCAAGAATAAGTTCAGAAGTACACATCCCACTAGGGGATGCTAAATTGGTAATAACAACATATTGGGGTCTGCACACAGGAGAAAGAGACTGGCATTTGGGTCAGGGAGTCTCCATAGAATGGAGGAAAAAGAGATATAGCACACAAGTAGACCCTGGCCTAGCAGACCAACTAATTCATCTGTATTACTTTGATTGTTTTTCAGAATCTGCTATAAGAAATGCCATATTAGAACATAGAGTTAGTCCTAGTTGTGAATATCAAGCAGGACATAACAAGGTAGGATCTCTACAGTACTTGGCACTAGCAGCATTAATAACACCAAAAAGGATAAAGCCACCTTTGCCTAGTGTTACGAAACTGACAGAGGATAGATGGAACAAGCCCCGGAAGACCAAGGACCACAAAGGGAACCATACAATGAATGGGCACTAGAGCTTTTAGAGGAGCTTAAGAATGAAGCTGTTAGGCATTTCCCTAGGGTGTGGCTCCATGGCTTAGGGCAGCATATCTATGAAACTTATGGGGATACTTGGGCAGGAGTGGAAGCCATAATAAGAATTCTGCAACAACTGCTGTTTATTCATTTCAGAATTGGGTGTCAACATAGCAGAATAGGCATCACTCCACAGAGGAGAGCAAGAAATGGAGCCCGTAGATCCTAGACTAGAGCCCTGGAAGCATCCAGGAAGTCAGCCTAGGACTGCGTGTACCCCTTGCTATTGTAAAAGTTGCTGCTTTCATTGCCAAGTTTGTTTCATAACAAAAGCCTTAGGCATCTCCTATGGCAGGAAGAAGCGGAGACAGCGACGAAGATCTCCTCAAGACAGTAAGACTCATCAAGCTTCTATATCAAAGCAGTAAGTAGTACATGTAATGCACCCTTTACAAATAGTAGCAATAGTAGCATTAGTAGTAGCAGCAATAATAGCAATAGTTGTGTGGACCTTAGTATTCATAGAATATAGGAAAATATTAAGACAAAGAAAAATAGACAGGTTAATTGATAGAATAAGAGAAAGAGCAGAGGACAGTGGCAATGAAAGTGAAGGCGATCAGGAAGAATTATCAGCTCTTGTGGAGATGGGGCATCATGCTCCTTGGGATATTGATGATCTGTAATGCTACAAAACCATTGTGGGTTACAGTCTATTATGGGGTACCTGTGTGGAAAGAAGCAAACACCACTCTATTTTGTGCATCAGATGCTAAAGCATATAGTGCAGAGGTACATAATGTCTGGGCCACACATGCCTGTGTACCCACAGACCCCAACCCACAAGAAGTAGTATTGGGAAATGTGACAGAAAAATTTAACATGTGGAAAAATGACATGGTAGAACAGATGCATGAGGATATAATTAGCTTATGGGATCAAAGCCTAAAGCCATGTGTAAAATTAACCCCACTCTGTGTTACTTTAAATTGTACTGATTGGACTAATGGTACTGCCACTAATAGTACTGCTACCAATAGGAGTAGCGAGGGAACGCTGGAGGGAGGAGAAGTAAAAGAATGCTCTTTCAATGTCACCACAAGCATGAGAGATAAGGTGCAGCGAGAATATGCACTTTTTTATAAATCTGATGTAGTATCAACAAATGAGAGTAGTACCAGCTATAGGTTGATAAGTTGTAACACCTCAGTCGTCACCCAGGCCTGTCCAAAGATATCCTTTGAGCCAATTCCCATACATTATTGTGCCCCAGCTGGTTTTGCGATTCTAAAGTGTAACAATAAGACGTTCGAAGGAAAAGGAGACTGTAAAAATGTCAGCACAGTACTATGTACACATGGAATTAAGCCAGTAGTATCAACCCAACTGTTGTTAAATGGCAGCCTAGCAGAAGAAGGGGTAGTAGTTAGATCTGACAATTTCTCAAACAATGCTAAAACCATCATAGTACAGTTGCACAAAGCTGTAGAAATTAATTGCACAAGACCCAGCAACAATACAAGCAAAGGTATACATATGGGACCAGGGAAAGCATTTTATACAACAGAAAAAATAATAGGAGATATAAGACAAGCACATTGTAACATTAGTAAAGAGAAATGGAACGACACTTTAAGACAGATAGCTATAAAATTAAGAGCACAATTTCCGAGTAAAACAATAATCTTTGATAAATCCTCAGGAGGGGACCTAGAAATTGTAACACACAGTTTTAATTGTGGAGGGGAATTTTTCTACTGCAATACAACAAAACTGTTTAATAGTACTTGGAATGATACACAACTGCTTAATAGTACTGGGAATAGTACTGAAGGGATAAATGGCACTGAAATTATCACACTCCCATGTAGAATAAAACAAATTATAAACCTGTGGCAGGAAGTAGGAAAAGCCATGTATGCCCCTCCTATCAGAGGACAAATTAGATGTGAATCAAATATTACAGGGCTGCTATTAACAAGAGATGGTGGTGGTGCTGATCAGAACAGGACCAACGAGACCTTCAGACCTGGAGGAGGAGATATGAGGGACAATTGGAGAAGTGAATTATATAAATACAAAGTAGTAAAAATTGAACCATTAGGAGTAGCACCTACCGAGGCAAAGAGAAGAGTGGTGCAGAGAGAAAAAAGAGCAGCAATAGGAGCTTTGTTCCTTGGGTTCTTGGCAACAGCAGGAAGCGCTATGGGCGCAGCGTCAATGGCGCTGACGGTACAGGCCAGACTATTATTGTCTGGTATAGTGCAACAGCAAAACAATTTGCTGAGGGCTATTGAGGCGCAACAGCATCTGTTGCAACTCACAGTCTGGGGCATCAAGCAGCTCCAGGCAAGAGTCCTGGCTGTGGAAAGATACCTGAGGGATCAACAGCTCCTGGGAATTTGGGGTTGCTCTGGAAAACTCATTTGCACCACTGCTGTGCCTTGGAATACTAGTTGGAGTAATAAATCTCTGGATTATATTTGGCAGAACATGACCTGGATGCAGTGGGAAAAAGAAATTGACAATTACACAGATTTAATATACTCCCTACTTGAAAAATCGCAAAATCAACAAGAAAAGAATGAACAGGAATTATTGGAATTGGATAAATGGGCAAGTTTGTGGAATTGGTTCGACATATCAAACTGGCTGTGGTATATAAAAATAGTCATAATGATAGTAGGAGGCTTGGTAGGTTTAAGAATAGTCTTTATTGTATTCTCTATAGTGGATAGAGTTAGGCAGGGATACTCACCATTATCGTTTCAGATCCGCCCCCCAGTCCCGAGGGGACCCGACAGGCCCGAAGGAATCGAAGAAGGAGGTGGAGAGAGAGACAGAGACAGATCCGGTCGATTAGTGAACGGATTCTTAGCACTTTTCTGGGACGATCTGCAGAACCTGTGCCTCTTCAGCTACCACCGCTTGAGAGACTTACTCTTGATTGTAACGAGGATTGTGGAACTTCTGGGACGCAGGGGGTGGGAAGTCCTCAAATATTGGTGGAATCTCCTACAGTATTGGAGTCAGGAACTAAAGAATAGTGCTGTTAGCCTGCTCAATGTCACAGCCATAGTAGTAGCTGAGGGGACGGATAGGGTTATAGAAGTATTCCAAAGAGCTCTTAGAGCTATTCTCCACATACCTACTAGAATAAGACAAGGCTTCGAAAGGGCTTTGCTATAAGATGGGTGGCAAGTGGTCAAAAAGTAGTATAGTTGGATGGCCTTCTGTAAGGGAAAGAATGAAACGAGCTGAGCCAGCAGCAGATGGGGTGGGAGCAGTATCTCGAGACCTGGAAAAACATGGAGCAATCACAAGCAGCAATACAGCAGCTACCAATGCTGACTGTGCATGGCTAGAAGCACAAGAGCAGGAGGAGGTGGGTTTTCCAGTCACACCTCAGGTACCTTTAAGACCAATGACTTACAAGGCAGCTGTAGATCTTAGCCACTTTTTAAAAGAAAAGGGGGGACTGGAAGGGCTAATTTACTCCCAGAAAAGGCAAGATATCCTTGATCTGTGGATCTACCACACACAAGGCTACTTCCCTGATTGGCAGAACTACACACCAGGGCCAGGGATTAGATATCCACTGACCTTTGGATGGTGCTTCAAACTAGTGCCAGTTGAGCCAGAGAAGATAGAAGAGGCCAATGAAGGAGAGAACAACAGCCTGCTACACCCTATGAGCCTGCATGGGATGGATGACCCAGAGAAAGAAGTGTTAGAGTGGAAGTTTGACAGCCGCCTGGCATTTCATCACATGGCCCGAGAGAAACATCCGGAGTACTATAAGAACTGCTGACATTGAGCTTTCTACAAGGGACTTTCCGCTGGGGACTTTCCAGGGGAGGCGTGGCCTGGGCGGGACTGGGGAGTGGCGAGCCCTCAGATGCTGCATATAAGCAGCTGCTTTCTGCTTGTACTGGGTCTCTCTGGTTAGACCAGATCTGAGCCTGGGAGCTCTCTGGCTAGCTAGG',\n",
       " 'framestart': 242,\n",
       " 'len': 9059,\n",
       " 'features': [{'type': 'fragment', 'name': 'F1', 'location': [[0, 1776]]},\n",
       "  {'type': 'fragment', 'name': 'F2', 'location': [[1468, 3321]]},\n",
       "  {'type': 'fragment', 'name': 'F3', 'location': [[3110, 4638]]},\n",
       "  {'type': 'fragment', 'name': 'F4', 'location': [[4375, 6019]]},\n",
       "  {'type': 'fragment', 'name': 'F5', 'location': [[5435, 7482]]},\n",
       "  {'type': 'fragment', 'name': 'F6', 'location': [[7274, 9059]]},\n",
       "  {'type': 'RNA_structure', 'name': 'RRE', 'location': [[7235, 7469]]},\n",
       "  {'type': 'RNA_structure', 'name': \"LTR5'\", 'location': [[0, 87]]},\n",
       "  {'type': 'RNA_structure', 'name': \"LTR3'\", 'location': [[8552, 9059]]},\n",
       "  {'type': 'gene', 'name': 'vpu', 'location': [[5513, 5759]]},\n",
       "  {'type': 'gene', 'name': 'tat', 'location': [[5282, 5497], [7845, 7936]]},\n",
       "  {'type': 'gene', 'name': 'pol', 'location': [[1537, 4549]]},\n",
       "  {'type': 'gene', 'name': 'vif', 'location': [[4493, 5072]]},\n",
       "  {'type': 'gene', 'name': 'env', 'location': [[5676, 8262]]},\n",
       "  {'type': 'gene', 'name': 'vpr', 'location': [[5011, 5302]]},\n",
       "  {'type': 'gene', 'name': 'gag', 'location': [[242, 1745]]},\n",
       "  {'type': 'gene', 'name': 'nef', 'location': [[8263, 8884]]},\n",
       "  {'type': 'gene', 'name': 'rev', 'location': [[5421, 5497], [7845, 8120]]},\n",
       "  {'type': 'other', 'name': 'env peptide', 'location': [[5676, 5763]]},\n",
       "  {'type': 'other', 'name': 'V2', 'location': [[6153, 6273]]},\n",
       "  {'type': 'other', 'name': 'psi', 'location': [[149, 232]]},\n",
       "  {'type': 'other', 'name': 'V4', 'location': [[6831, 6942]]},\n",
       "  {'type': 'other', 'name': 'V5', 'location': [[7062, 7104]]},\n",
       "  {'type': 'other', 'name': 'V1', 'location': [[6063, 6153]]},\n",
       "  {'type': 'other', 'name': 'V3', 'location': [[6444, 6804]]},\n",
       "  {'type': 'protein', 'name': 'p17', 'location': [[242, 638]]},\n",
       "  {'type': 'protein', 'name': 'p24', 'location': [[638, 1331]]},\n",
       "  {'type': 'protein', 'name': 'p2', 'location': [[1331, 1373]]},\n",
       "  {'type': 'protein', 'name': 'p7', 'location': [[1373, 1538]]},\n",
       "  {'type': 'protein', 'name': 'p1', 'location': [[1538, 1586]]},\n",
       "  {'type': 'protein', 'name': 'p6', 'location': [[1586, 1745]]},\n",
       "  {'type': 'protein', 'name': 'PR', 'location': [[1705, 2002]]},\n",
       "  {'type': 'protein', 'name': 'RT', 'location': [[2002, 3322]]},\n",
       "  {'type': 'protein', 'name': 'p15', 'location': [[3322, 3682]]},\n",
       "  {'type': 'protein', 'name': 'IN', 'location': [[3682, 4549]]},\n",
       "  {'type': 'protein', 'name': 'gp120', 'location': [[5763, 7227]]},\n",
       "  {'type': 'protein', 'name': 'gp41', 'location': [[7224, 8262]]},\n",
       "  {'type': 'other', 'name': 'V1V2ext', 'location': [[6051, 6285]]},\n",
       "  {'type': 'other', 'name': 'V4ext', 'location': [[6819, 6954]]},\n",
       "  {'type': 'other', 'name': 'V5ext', 'location': [[7044, 7119]]}],\n",
       " 'id': 'reference_p4',\n",
       " 'name': 'reference_p4'}"
      ]
     },
     "execution_count": 132,
     "metadata": {},
     "output_type": "execute_result"
    }
   ],
   "source": [
    "with open('data/references/hivevo_reference_p4.fasta') as file:\n",
    "    json_ref = json.load(file)\n",
    "json_ref"
   ]
  },
  {
   "cell_type": "code",
   "execution_count": 122,
   "metadata": {},
   "outputs": [],
   "source": [
    "haplotype_lst = glob('data/*V3.fasta')\n",
    "reference_lst = glob('data/references/*.fasta')\n",
    "#reference_lst"
   ]
  },
  {
   "cell_type": "code",
   "execution_count": 123,
   "metadata": {},
   "outputs": [],
   "source": [
    "tdf = pd.DataFrame()\n",
    "for path in haplotype_lst:\n",
    "    with open(path, \"r\") as f:\n",
    "        records = json.load(f)\n",
    "    df = pd.DataFrame(records)\n",
    "    df = df.drop(\"description\", axis=1)\n",
    "    df[\"patient\"] = path.split(\"_\")[1]\n",
    "    tdf = pd.concat([tdf, df])"
   ]
  },
  {
   "cell_type": "code",
   "execution_count": 124,
   "metadata": {},
   "outputs": [
    {
     "data": {
      "text/html": [
       "<div>\n",
       "<style scoped>\n",
       "    .dataframe tbody tr th:only-of-type {\n",
       "        vertical-align: middle;\n",
       "    }\n",
       "\n",
       "    .dataframe tbody tr th {\n",
       "        vertical-align: top;\n",
       "    }\n",
       "\n",
       "    .dataframe thead tr th {\n",
       "        text-align: left;\n",
       "    }\n",
       "\n",
       "    .dataframe thead tr:last-of-type th {\n",
       "        text-align: right;\n",
       "    }\n",
       "</style>\n",
       "<table border=\"1\" class=\"dataframe\">\n",
       "  <thead>\n",
       "    <tr>\n",
       "      <th></th>\n",
       "      <th colspan=\"4\" halign=\"left\">days since infection</th>\n",
       "      <th>patient</th>\n",
       "    </tr>\n",
       "    <tr>\n",
       "      <th></th>\n",
       "      <th>min</th>\n",
       "      <th>median</th>\n",
       "      <th>max</th>\n",
       "      <th>nunique</th>\n",
       "      <th>size</th>\n",
       "    </tr>\n",
       "    <tr>\n",
       "      <th>patient</th>\n",
       "      <th></th>\n",
       "      <th></th>\n",
       "      <th></th>\n",
       "      <th></th>\n",
       "      <th></th>\n",
       "    </tr>\n",
       "  </thead>\n",
       "  <tbody>\n",
       "    <tr>\n",
       "      <td>p1</td>\n",
       "      <td>122</td>\n",
       "      <td>2639</td>\n",
       "      <td>2996</td>\n",
       "      <td>12</td>\n",
       "      <td>103</td>\n",
       "    </tr>\n",
       "    <tr>\n",
       "      <td>p10</td>\n",
       "      <td>33</td>\n",
       "      <td>2229</td>\n",
       "      <td>2229</td>\n",
       "      <td>2</td>\n",
       "      <td>16</td>\n",
       "    </tr>\n",
       "    <tr>\n",
       "      <td>p11</td>\n",
       "      <td>209</td>\n",
       "      <td>1026</td>\n",
       "      <td>2043</td>\n",
       "      <td>6</td>\n",
       "      <td>86</td>\n",
       "    </tr>\n",
       "    <tr>\n",
       "      <td>p2</td>\n",
       "      <td>74</td>\n",
       "      <td>936</td>\n",
       "      <td>2018</td>\n",
       "      <td>5</td>\n",
       "      <td>11</td>\n",
       "    </tr>\n",
       "    <tr>\n",
       "      <td>p3</td>\n",
       "      <td>146</td>\n",
       "      <td>797</td>\n",
       "      <td>3079</td>\n",
       "      <td>7</td>\n",
       "      <td>65</td>\n",
       "    </tr>\n",
       "    <tr>\n",
       "      <td>p4</td>\n",
       "      <td>93</td>\n",
       "      <td>1142</td>\n",
       "      <td>3069</td>\n",
       "      <td>8</td>\n",
       "      <td>67</td>\n",
       "    </tr>\n",
       "    <tr>\n",
       "      <td>p5</td>\n",
       "      <td>134</td>\n",
       "      <td>1813</td>\n",
       "      <td>2149</td>\n",
       "      <td>6</td>\n",
       "      <td>68</td>\n",
       "    </tr>\n",
       "    <tr>\n",
       "      <td>p6</td>\n",
       "      <td>62</td>\n",
       "      <td>2556</td>\n",
       "      <td>2556</td>\n",
       "      <td>5</td>\n",
       "      <td>36</td>\n",
       "    </tr>\n",
       "    <tr>\n",
       "      <td>p7</td>\n",
       "      <td>2369</td>\n",
       "      <td>3992</td>\n",
       "      <td>5869</td>\n",
       "      <td>8</td>\n",
       "      <td>97</td>\n",
       "    </tr>\n",
       "    <tr>\n",
       "      <td>p8</td>\n",
       "      <td>87</td>\n",
       "      <td>1437</td>\n",
       "      <td>2208</td>\n",
       "      <td>7</td>\n",
       "      <td>133</td>\n",
       "    </tr>\n",
       "    <tr>\n",
       "      <td>p9</td>\n",
       "      <td>106</td>\n",
       "      <td>813</td>\n",
       "      <td>2955</td>\n",
       "      <td>6</td>\n",
       "      <td>17</td>\n",
       "    </tr>\n",
       "  </tbody>\n",
       "</table>\n",
       "</div>"
      ],
      "text/plain": [
       "        days since infection                      patient\n",
       "                         min median   max nunique    size\n",
       "patient                                                  \n",
       "p1                       122   2639  2996      12     103\n",
       "p10                       33   2229  2229       2      16\n",
       "p11                      209   1026  2043       6      86\n",
       "p2                        74    936  2018       5      11\n",
       "p3                       146    797  3079       7      65\n",
       "p4                        93   1142  3069       8      67\n",
       "p5                       134   1813  2149       6      68\n",
       "p6                        62   2556  2556       5      36\n",
       "p7                      2369   3992  5869       8      97\n",
       "p8                        87   1437  2208       7     133\n",
       "p9                       106    813  2955       6      17"
      ]
     },
     "execution_count": 124,
     "metadata": {},
     "output_type": "execute_result"
    }
   ],
   "source": [
    "tdf.groupby(\"patient\").agg({\"days since infection\" : [\"min\", np.median, \"max\", pd.Series.nunique],\n",
    "                            \"patient\": [\"size\"]}).sort_index()"
   ]
  },
  {
   "cell_type": "code",
   "execution_count": 125,
   "metadata": {},
   "outputs": [],
   "source": [
    "tdf.columns = [\"days\", \"frequency\", \"name\", \"sequence\", \"patient\"]"
   ]
  },
  {
   "cell_type": "code",
   "execution_count": 126,
   "metadata": {},
   "outputs": [
    {
     "data": {
      "text/plain": [
       "<matplotlib.axes._subplots.AxesSubplot at 0x7f0071a96a90>"
      ]
     },
     "execution_count": 126,
     "metadata": {},
     "output_type": "execute_result"
    },
    {
     "data": {
      "image/png": "[encoded data removed]",
      "text/plain": [
       "<Figure size 720x432 with 1 Axes>"
      ]
     },
     "metadata": {
      "needs_background": "light"
     },
     "output_type": "display_data"
    }
   ],
   "source": [
    "fig, ax = plt.subplots(1,1, figsize=(10, 6))\n",
    "sns.stripplot(y=\"patient\", x=\"days\", data=tdf, )"
   ]
  },
  {
   "cell_type": "markdown",
   "metadata": {},
   "source": [
    "I will remove p10, because there are too few time points and p7, because it's too different from other samples."
   ]
  },
  {
   "cell_type": "code",
   "execution_count": 9,
   "metadata": {},
   "outputs": [
    {
     "data": {
      "text/plain": [
       "(586, 5)"
      ]
     },
     "execution_count": 9,
     "metadata": {},
     "output_type": "execute_result"
    }
   ],
   "source": [
    "tdf = tdf[~tdf.patient.isin([\"p7\", \"p10\"])]\n",
    "tdf.shape"
   ]
  },
  {
   "cell_type": "code",
   "execution_count": 10,
   "metadata": {},
   "outputs": [],
   "source": [
    "tdf.columns = [\"days\", \"frequency\", \"name\", \"sequence\", \"patient\"]"
   ]
  },
  {
   "cell_type": "code",
   "execution_count": 11,
   "metadata": {
    "scrolled": true
   },
   "outputs": [
    {
     "data": {
      "text/html": [
       "<div>\n",
       "<style scoped>\n",
       "    .dataframe tbody tr th:only-of-type {\n",
       "        vertical-align: middle;\n",
       "    }\n",
       "\n",
       "    .dataframe tbody tr th {\n",
       "        vertical-align: top;\n",
       "    }\n",
       "\n",
       "    .dataframe thead th {\n",
       "        text-align: right;\n",
       "    }\n",
       "</style>\n",
       "<table border=\"1\" class=\"dataframe\">\n",
       "  <thead>\n",
       "    <tr style=\"text-align: right;\">\n",
       "      <th></th>\n",
       "      <th>days</th>\n",
       "      <th>frequency</th>\n",
       "      <th>name</th>\n",
       "      <th>sequence</th>\n",
       "      <th>patient</th>\n",
       "      <th>bins</th>\n",
       "    </tr>\n",
       "  </thead>\n",
       "  <tbody>\n",
       "    <tr>\n",
       "      <td>0</td>\n",
       "      <td>209</td>\n",
       "      <td>39.0</td>\n",
       "      <td>ACAGTATCAACTCAACTGCTGTTAAATGGCAGCCTAGCAGAAGAAG...</td>\n",
       "      <td>days_209_frequency_39%</td>\n",
       "      <td>p11</td>\n",
       "      <td>1</td>\n",
       "    </tr>\n",
       "    <tr>\n",
       "      <td>1</td>\n",
       "      <td>332</td>\n",
       "      <td>39.0</td>\n",
       "      <td>ACAGTATCAACTCAACTGCTGTTAAATGGCAGCCTAGCAGAAGAAG...</td>\n",
       "      <td>days_332_frequency_39%</td>\n",
       "      <td>p11</td>\n",
       "      <td>1</td>\n",
       "    </tr>\n",
       "    <tr>\n",
       "      <td>2</td>\n",
       "      <td>209</td>\n",
       "      <td>23.0</td>\n",
       "      <td>ACAGTATCAACTCAACTGCTGTTAAATGGCAGCCTAGCAGAAGAAG...</td>\n",
       "      <td>days_209_frequency_23%</td>\n",
       "      <td>p11</td>\n",
       "      <td>1</td>\n",
       "    </tr>\n",
       "    <tr>\n",
       "      <td>3</td>\n",
       "      <td>209</td>\n",
       "      <td>7.0</td>\n",
       "      <td>ACAGTATCAACTCAACTGCTGTTAAATGGCAGCCTAGCAGAAGAAG...</td>\n",
       "      <td>days_209_frequency_7%</td>\n",
       "      <td>p11</td>\n",
       "      <td>1</td>\n",
       "    </tr>\n",
       "    <tr>\n",
       "      <td>4</td>\n",
       "      <td>332</td>\n",
       "      <td>2.0</td>\n",
       "      <td>ACAGTATCAACTCAACTGCTGTTAAATGGCAGCCTAGCAGAAGAAG...</td>\n",
       "      <td>days_332_frequency_2%</td>\n",
       "      <td>p11</td>\n",
       "      <td>1</td>\n",
       "    </tr>\n",
       "  </tbody>\n",
       "</table>\n",
       "</div>"
      ],
      "text/plain": [
       "   days  frequency                                               name  \\\n",
       "0   209       39.0  ACAGTATCAACTCAACTGCTGTTAAATGGCAGCCTAGCAGAAGAAG...   \n",
       "1   332       39.0  ACAGTATCAACTCAACTGCTGTTAAATGGCAGCCTAGCAGAAGAAG...   \n",
       "2   209       23.0  ACAGTATCAACTCAACTGCTGTTAAATGGCAGCCTAGCAGAAGAAG...   \n",
       "3   209        7.0  ACAGTATCAACTCAACTGCTGTTAAATGGCAGCCTAGCAGAAGAAG...   \n",
       "4   332        2.0  ACAGTATCAACTCAACTGCTGTTAAATGGCAGCCTAGCAGAAGAAG...   \n",
       "\n",
       "                 sequence patient  bins  \n",
       "0  days_209_frequency_39%     p11     1  \n",
       "1  days_332_frequency_39%     p11     1  \n",
       "2  days_209_frequency_23%     p11     1  \n",
       "3   days_209_frequency_7%     p11     1  \n",
       "4   days_332_frequency_2%     p11     1  "
      ]
     },
     "execution_count": 11,
     "metadata": {},
     "output_type": "execute_result"
    }
   ],
   "source": [
    "_, bin_edges = np.histogram(tdf.days.values, 5)\n",
    "bin_edges[0] -= 1\n",
    "bin_edges[-1] += 1\n",
    "tdf[\"bins\"] = np.digitize(tdf.days.values, bin_edges)\n",
    "tdf.head()"
   ]
  },
  {
   "cell_type": "code",
   "execution_count": 12,
   "metadata": {},
   "outputs": [
    {
     "data": {
      "text/html": [
       "<div>\n",
       "<style scoped>\n",
       "    .dataframe tbody tr th:only-of-type {\n",
       "        vertical-align: middle;\n",
       "    }\n",
       "\n",
       "    .dataframe tbody tr th {\n",
       "        vertical-align: top;\n",
       "    }\n",
       "\n",
       "    .dataframe thead th {\n",
       "        text-align: right;\n",
       "    }\n",
       "</style>\n",
       "<table border=\"1\" class=\"dataframe\">\n",
       "  <thead>\n",
       "    <tr style=\"text-align: right;\">\n",
       "      <th></th>\n",
       "      <th>days</th>\n",
       "      <th>frequency</th>\n",
       "      <th>name</th>\n",
       "      <th>sequence</th>\n",
       "      <th>patient</th>\n",
       "      <th>bins</th>\n",
       "    </tr>\n",
       "  </thead>\n",
       "  <tbody>\n",
       "    <tr>\n",
       "      <td>0</td>\n",
       "      <td>146</td>\n",
       "      <td>24.0</td>\n",
       "      <td>GTAGTATCAACTCAACTGCTGTTAAATGGCAGTCTAGCAGAAGAAG...</td>\n",
       "      <td>days_146_frequency_24%</td>\n",
       "      <td>p3</td>\n",
       "      <td>1</td>\n",
       "    </tr>\n",
       "    <tr>\n",
       "      <td>1</td>\n",
       "      <td>146</td>\n",
       "      <td>3.0</td>\n",
       "      <td>GTAGTATCAACTCAACTGCTGTTAAATGGCAGTCTAGCAGAAGAAG...</td>\n",
       "      <td>days_146_frequency_3%</td>\n",
       "      <td>p3</td>\n",
       "      <td>1</td>\n",
       "    </tr>\n",
       "    <tr>\n",
       "      <td>2</td>\n",
       "      <td>146</td>\n",
       "      <td>11.0</td>\n",
       "      <td>GTAGTATCAACTCAACTGCTGTTAAATGGCAGTCTAGCAGAAGAAG...</td>\n",
       "      <td>days_146_frequency_11%</td>\n",
       "      <td>p3</td>\n",
       "      <td>1</td>\n",
       "    </tr>\n",
       "    <tr>\n",
       "      <td>3</td>\n",
       "      <td>146</td>\n",
       "      <td>21.0</td>\n",
       "      <td>GTAGTATCAACTCAACTGCTGTTAAATGGCAGTCTAGCAGAAGAAG...</td>\n",
       "      <td>days_146_frequency_21%</td>\n",
       "      <td>p3</td>\n",
       "      <td>1</td>\n",
       "    </tr>\n",
       "    <tr>\n",
       "      <td>4</td>\n",
       "      <td>146</td>\n",
       "      <td>18.0</td>\n",
       "      <td>GTAGTATCAACTCAACTGCTGTTAAATGGCAGTCTAGCAGAAGAAG...</td>\n",
       "      <td>days_146_frequency_18%</td>\n",
       "      <td>p3</td>\n",
       "      <td>1</td>\n",
       "    </tr>\n",
       "    <tr>\n",
       "      <td>...</td>\n",
       "      <td>...</td>\n",
       "      <td>...</td>\n",
       "      <td>...</td>\n",
       "      <td>...</td>\n",
       "      <td>...</td>\n",
       "      <td>...</td>\n",
       "    </tr>\n",
       "    <tr>\n",
       "      <td>60</td>\n",
       "      <td>3079</td>\n",
       "      <td>15.0</td>\n",
       "      <td>GTAGTCTCAACTCAACTGCTGTTAAATGGCAGTCTAGCAGAAGGAG...</td>\n",
       "      <td>days_3079_frequency_15%</td>\n",
       "      <td>p3</td>\n",
       "      <td>5</td>\n",
       "    </tr>\n",
       "    <tr>\n",
       "      <td>61</td>\n",
       "      <td>3079</td>\n",
       "      <td>12.0</td>\n",
       "      <td>GTAGTCTCAACTCAACTGCTGTTAAATGGCAGTCTAGCAAAAGGAG...</td>\n",
       "      <td>days_3079_frequency_12%</td>\n",
       "      <td>p3</td>\n",
       "      <td>5</td>\n",
       "    </tr>\n",
       "    <tr>\n",
       "      <td>62</td>\n",
       "      <td>3079</td>\n",
       "      <td>21.0</td>\n",
       "      <td>GTAGTATCAACTCAACTGCTGTTAAATGGCAGTCTAGCAGAAGGAG...</td>\n",
       "      <td>days_3079_frequency_21%</td>\n",
       "      <td>p3</td>\n",
       "      <td>5</td>\n",
       "    </tr>\n",
       "    <tr>\n",
       "      <td>63</td>\n",
       "      <td>3079</td>\n",
       "      <td>21.0</td>\n",
       "      <td>GTAGTATCAACTCAACTGCTGTTAAATGGCAGTCTAGCAGAAGGAG...</td>\n",
       "      <td>days_3079_frequency_21%</td>\n",
       "      <td>p3</td>\n",
       "      <td>5</td>\n",
       "    </tr>\n",
       "    <tr>\n",
       "      <td>64</td>\n",
       "      <td>3079</td>\n",
       "      <td>12.0</td>\n",
       "      <td>GTAGTATCAACTCAACTGCTGTTAAATGGCAGTCTAGCAGAAGGAG...</td>\n",
       "      <td>days_3079_frequency_12%</td>\n",
       "      <td>p3</td>\n",
       "      <td>5</td>\n",
       "    </tr>\n",
       "  </tbody>\n",
       "</table>\n",
       "<p>65 rows × 6 columns</p>\n",
       "</div>"
      ],
      "text/plain": [
       "    days  frequency                                               name  \\\n",
       "0    146       24.0  GTAGTATCAACTCAACTGCTGTTAAATGGCAGTCTAGCAGAAGAAG...   \n",
       "1    146        3.0  GTAGTATCAACTCAACTGCTGTTAAATGGCAGTCTAGCAGAAGAAG...   \n",
       "2    146       11.0  GTAGTATCAACTCAACTGCTGTTAAATGGCAGTCTAGCAGAAGAAG...   \n",
       "3    146       21.0  GTAGTATCAACTCAACTGCTGTTAAATGGCAGTCTAGCAGAAGAAG...   \n",
       "4    146       18.0  GTAGTATCAACTCAACTGCTGTTAAATGGCAGTCTAGCAGAAGAAG...   \n",
       "..   ...        ...                                                ...   \n",
       "60  3079       15.0  GTAGTCTCAACTCAACTGCTGTTAAATGGCAGTCTAGCAGAAGGAG...   \n",
       "61  3079       12.0  GTAGTCTCAACTCAACTGCTGTTAAATGGCAGTCTAGCAAAAGGAG...   \n",
       "62  3079       21.0  GTAGTATCAACTCAACTGCTGTTAAATGGCAGTCTAGCAGAAGGAG...   \n",
       "63  3079       21.0  GTAGTATCAACTCAACTGCTGTTAAATGGCAGTCTAGCAGAAGGAG...   \n",
       "64  3079       12.0  GTAGTATCAACTCAACTGCTGTTAAATGGCAGTCTAGCAGAAGGAG...   \n",
       "\n",
       "                   sequence patient  bins  \n",
       "0    days_146_frequency_24%      p3     1  \n",
       "1     days_146_frequency_3%      p3     1  \n",
       "2    days_146_frequency_11%      p3     1  \n",
       "3    days_146_frequency_21%      p3     1  \n",
       "4    days_146_frequency_18%      p3     1  \n",
       "..                      ...     ...   ...  \n",
       "60  days_3079_frequency_15%      p3     5  \n",
       "61  days_3079_frequency_12%      p3     5  \n",
       "62  days_3079_frequency_21%      p3     5  \n",
       "63  days_3079_frequency_21%      p3     5  \n",
       "64  days_3079_frequency_12%      p3     5  \n",
       "\n",
       "[65 rows x 6 columns]"
      ]
     },
     "execution_count": 12,
     "metadata": {},
     "output_type": "execute_result"
    }
   ],
   "source": [
    "tdf.loc[tdf['patient'] == 'p3']"
   ]
  },
  {
   "cell_type": "code",
   "execution_count": 13,
   "metadata": {},
   "outputs": [
    {
     "data": {
      "text/html": [
       "<div>\n",
       "<style scoped>\n",
       "    .dataframe tbody tr th:only-of-type {\n",
       "        vertical-align: middle;\n",
       "    }\n",
       "\n",
       "    .dataframe tbody tr th {\n",
       "        vertical-align: top;\n",
       "    }\n",
       "\n",
       "    .dataframe thead th {\n",
       "        text-align: right;\n",
       "    }\n",
       "</style>\n",
       "<table border=\"1\" class=\"dataframe\">\n",
       "  <thead>\n",
       "    <tr style=\"text-align: right;\">\n",
       "      <th>bins</th>\n",
       "      <th>1</th>\n",
       "      <th>2</th>\n",
       "      <th>3</th>\n",
       "      <th>4</th>\n",
       "      <th>5</th>\n",
       "    </tr>\n",
       "    <tr>\n",
       "      <th>patient</th>\n",
       "      <th></th>\n",
       "      <th></th>\n",
       "      <th></th>\n",
       "      <th></th>\n",
       "      <th></th>\n",
       "    </tr>\n",
       "  </thead>\n",
       "  <tbody>\n",
       "    <tr>\n",
       "      <td>p1</td>\n",
       "      <td>10</td>\n",
       "      <td>7</td>\n",
       "      <td>10</td>\n",
       "      <td>2</td>\n",
       "      <td>74</td>\n",
       "    </tr>\n",
       "    <tr>\n",
       "      <td>p11</td>\n",
       "      <td>27</td>\n",
       "      <td>19</td>\n",
       "      <td>25</td>\n",
       "      <td>15</td>\n",
       "      <td>0</td>\n",
       "    </tr>\n",
       "    <tr>\n",
       "      <td>p2</td>\n",
       "      <td>5</td>\n",
       "      <td>2</td>\n",
       "      <td>0</td>\n",
       "      <td>4</td>\n",
       "      <td>0</td>\n",
       "    </tr>\n",
       "    <tr>\n",
       "      <td>p3</td>\n",
       "      <td>32</td>\n",
       "      <td>9</td>\n",
       "      <td>6</td>\n",
       "      <td>11</td>\n",
       "      <td>7</td>\n",
       "    </tr>\n",
       "    <tr>\n",
       "      <td>p4</td>\n",
       "      <td>21</td>\n",
       "      <td>13</td>\n",
       "      <td>5</td>\n",
       "      <td>6</td>\n",
       "      <td>22</td>\n",
       "    </tr>\n",
       "    <tr>\n",
       "      <td>p5</td>\n",
       "      <td>1</td>\n",
       "      <td>17</td>\n",
       "      <td>36</td>\n",
       "      <td>14</td>\n",
       "      <td>0</td>\n",
       "    </tr>\n",
       "    <tr>\n",
       "      <td>p6</td>\n",
       "      <td>6</td>\n",
       "      <td>0</td>\n",
       "      <td>3</td>\n",
       "      <td>3</td>\n",
       "      <td>24</td>\n",
       "    </tr>\n",
       "    <tr>\n",
       "      <td>p8</td>\n",
       "      <td>32</td>\n",
       "      <td>19</td>\n",
       "      <td>56</td>\n",
       "      <td>26</td>\n",
       "      <td>0</td>\n",
       "    </tr>\n",
       "    <tr>\n",
       "      <td>p9</td>\n",
       "      <td>4</td>\n",
       "      <td>6</td>\n",
       "      <td>2</td>\n",
       "      <td>3</td>\n",
       "      <td>2</td>\n",
       "    </tr>\n",
       "  </tbody>\n",
       "</table>\n",
       "</div>"
      ],
      "text/plain": [
       "bins      1   2   3   4   5\n",
       "patient                    \n",
       "p1       10   7  10   2  74\n",
       "p11      27  19  25  15   0\n",
       "p2        5   2   0   4   0\n",
       "p3       32   9   6  11   7\n",
       "p4       21  13   5   6  22\n",
       "p5        1  17  36  14   0\n",
       "p6        6   0   3   3  24\n",
       "p8       32  19  56  26   0\n",
       "p9        4   6   2   3   2"
      ]
     },
     "execution_count": 13,
     "metadata": {},
     "output_type": "execute_result"
    }
   ],
   "source": [
    "tdf.groupby([\"patient\", \"bins\"]).size().unstack(fill_value=0)"
   ]
  },
  {
   "cell_type": "code",
   "execution_count": 14,
   "metadata": {},
   "outputs": [],
   "source": [
    "tdf = tdf.drop(\"bins\", axis=1)\n",
    "# Will analyse everyone separately"
   ]
  },
  {
   "cell_type": "code",
   "execution_count": 15,
   "metadata": {},
   "outputs": [
    {
     "data": {
      "text/plain": [
       "'data/hivevo_p4_V3.fasta'"
      ]
     },
     "execution_count": 15,
     "metadata": {},
     "output_type": "execute_result"
    }
   ],
   "source": [
    "re.search(r'\\b[\\w\\/]+p4[\\w\\.]+\\b', ' '.join(file_lst))[0]"
   ]
  },
  {
   "cell_type": "code",
   "execution_count": 16,
   "metadata": {},
   "outputs": [
    {
     "data": {
      "text/plain": [
       "'data/hivevo_p7_V3.fasta data/hivevo_p11_V3.fasta data/hivevo_p8_V3.fasta data/hivevo_p3_V3.fasta data/hivevo_p1_V3.fasta data/hivevo_p6_V3.fasta data/hivevo_p2_V3.fasta data/hivevo_p9_V3.fasta data/hivevo_p10_V3.fasta data/hivevo_p5_V3.fasta data/hivevo_p4_V3.fasta'"
      ]
     },
     "execution_count": 16,
     "metadata": {},
     "output_type": "execute_result"
    }
   ],
   "source": [
    "' '.join(file_lst)"
   ]
  },
  {
   "cell_type": "code",
   "execution_count": 17,
   "metadata": {},
   "outputs": [
    {
     "data": {
      "text/plain": [
       "days\n",
       "93       3\n",
       "562     18\n",
       "1142    13\n",
       "1577     5\n",
       "1963     4\n",
       "2474     2\n",
       "2758     2\n",
       "3069    20\n",
       "dtype: int64"
      ]
     },
     "execution_count": 17,
     "metadata": {},
     "output_type": "execute_result"
    }
   ],
   "source": [
    "tdf[tdf.patient == \"p4\"].groupby('days').size()"
   ]
  },
  {
   "cell_type": "code",
   "execution_count": 18,
   "metadata": {},
   "outputs": [
    {
     "data": {
      "text/plain": [
       "'days_332_frequency_39%'"
      ]
     },
     "execution_count": 18,
     "metadata": {},
     "output_type": "execute_result"
    }
   ],
   "source": [
    "tdf = tdf.reset_index(drop=True)\n",
    "tdf.loc[1, \"sequence\"]"
   ]
  },
  {
   "cell_type": "code",
   "execution_count": 127,
   "metadata": {},
   "outputs": [
    {
     "data": {
      "text/plain": [
       "{'days since infection': 93,\n",
       " 'frequency [%]': 79.0,\n",
       " 'sequence': 'GTAGTATCAACCCAACTGTTGTTAAATGGCAGCCTAGCAGAAGAAGGGGTAGTAGTTAGATCTGACAATTTCTCAAACAATGCTAAAACCATCATAGTACAGTTGCACAAAGCTGTAGAAATTAATTGCACAAGACCCAGCAACAATACAAGCAAAGGTATACATATGGGACCAGGGAAAGCATTTTATACAACAGAAAAAATAATAGGAGATATAAGACAAGCACATTGTAACATTAGTAAAGAGAAATGGAACGACACTTTAAGACAGATAGCTATAAAATTAAGAGCACAATTTCCGAGTAAAACAATAATCTTTGATAAATCCTCAGGAGGGGACCTAGAAATTGTAACACACAGT',\n",
       " 'name': 'days_93_frequency_79%',\n",
       " 'description': 'days_93_frequency_79% days since infection: 93, frequency: 79%, n.reads: 118'}"
      ]
     },
     "execution_count": 127,
     "metadata": {},
     "output_type": "execute_result"
    }
   ],
   "source": [
    "path_json = 'data/hivevo_p4_V3.fasta'\n",
    "\n",
    "with open(path_json) as f:\n",
    "    json_file = json.load(f)\n",
    "json_file[0]"
   ]
  },
  {
   "cell_type": "code",
   "execution_count": 128,
   "metadata": {},
   "outputs": [],
   "source": [
    "path = path_json.replace('data/', 'data/fasta/')   \n",
    "with open(path, \"w\") as fasta_file:\n",
    "    i = 0\n",
    "    for obj in json_file:\n",
    "        line_1 = '>' + obj['name'] + str(i) + '\\n'\n",
    "        line_2 = obj['sequence'] + '\\n'\n",
    "        lines = [line_1, line_2]\n",
    "        fasta_file.writelines(lines)\n",
    "        i += 1"
   ]
  },
  {
   "cell_type": "code",
   "execution_count": 58,
   "metadata": {
    "scrolled": true
   },
   "outputs": [],
   "source": [
    "from Bio.Align.Applications import ClustalwCommandline\n",
    "clustalw_cline = ClustalwCommandline(\"clustalw\",  align = 'True', infile=\"data/fasta/hivevo_p4_V3.fasta\", output = 'FASTA', outfile = 'data/clustal_output/hivevo_p4_V3.fasta', type = 'DNA')\n",
    "stdout, stderr = clustalw_cline()\n",
    "#print(clustalw_cline)"
   ]
  },
  {
   "cell_type": "code",
   "execution_count": 96,
   "metadata": {
    "collapsed": true
   },
   "outputs": [
    {
     "name": "stdout",
     "output_type": "stream",
     "text": [
      "FastTree Version 2.1.10 Double precision (No SSE3)\n",
      "Alignment: standard input\n",
      "Nucleotide distances: Jukes-Cantor Joins: balanced Support: SH-like 1000\n",
      "Search: Normal +NNI +SPR (2 rounds range 10) +ML-NNI opt-each=1\n",
      "TopHits: 1.00*sqrtN close=default refresh=0.80\n",
      "ML Model: Generalized Time-Reversible, CAT approximation with 20 rate categories\n",
      "Initial topology in 0.01 seconds\n",
      "Refining topology: 24 rounds ME-NNIs, 2 rounds ME-SPRs, 12 rounds ML-NNIs\n",
      "Total branch-length 0.735 after 0.08 sec\n",
      "ML-NNI round 1: LogLk = -2329.742 NNIs 14 max delta 7.57 Time 0.13\n",
      "GTR Frequencies: 0.4336 0.1584 0.1892 0.2188ep 7 of 12   \n",
      "GTR rates(ac ag at cg ct gt) 2.5541 10.8881 0.5893 1.1855 11.6602 1.0000\n",
      "Switched to using 20 rate categories (CAT approximation)12 of 20   \n",
      "Rate categories were divided by 0.767 so that average rate = 1.0\n",
      "CAT-based log-likelihoods may not be comparable across runs\n",
      "Use -gamma for approximate but comparable Gamma(20) log-likelihoods\n",
      "ML-NNI round 2: LogLk = -1962.601 NNIs 9 max delta 1.78 Time 0.43\n",
      "ML-NNI round 3: LogLk = -1962.394 NNIs 0 max delta 0.00 Time 0.47\n",
      "Turning off heuristics for final round of ML NNIs (converged)\n",
      "ML-NNI round 4: LogLk = -1962.367 NNIs 0 max delta 0.00 Time 0.56 (final)\n",
      "Optimize all lengths: LogLk = -1962.366 Time 0.58\n",
      "Total time: 0.72 seconds Unique: 67/67 Bad splits: 0/64\n"
     ]
    }
   ],
   "source": [
    "# SHOULD BE USED https://biopython.org/DIST/docs/api/Bio.Phylo.Applications._Fasttree-module.html\n",
    "\n",
    "!fasttree -nt -gtr < data/clustal_output/hivevo_p4_V3.fasta > data/trees/hivevo_p4_V3.nwk"
   ]
  },
  {
   "cell_type": "code",
   "execution_count": 67,
   "metadata": {
    "scrolled": false
   },
   "outputs": [],
   "source": [
    "from Bio import Phylo\n",
    "\n",
    "tree = Phylo.read('data/trees/hivevo_p4_V3.nwk', 'newick')\n",
    "#print(tree)"
   ]
  },
  {
   "cell_type": "code",
   "execution_count": 68,
   "metadata": {},
   "outputs": [],
   "source": [
    "graph = Phylo.to_networkx(tree)"
   ]
  },
  {
   "cell_type": "code",
   "execution_count": 69,
   "metadata": {},
   "outputs": [
    {
     "data": {
      "text/plain": [
       "1.0677722899999997"
      ]
     },
     "execution_count": 69,
     "metadata": {},
     "output_type": "execute_result"
    }
   ],
   "source": [
    "tree.total_branch_length()"
   ]
  },
  {
   "cell_type": "code",
   "execution_count": 74,
   "metadata": {},
   "outputs": [],
   "source": [
    "def clade_names_fix(tree):\n",
    "    for idx, clade in enumerate(tree.find_clades()):\n",
    "        if not clade.name:\n",
    "            clade.name=str(idx)\n",
    "\n",
    "Tree = Phylo.read('data/trees/hivevo_p4_V3.nwk', 'newick')\n",
    "clade_names_fix(Tree)\n",
    "G = Phylo.to_networkx(Tree)\n",
    "nx.write_graphml(G, 'data/graphml/hivevo_p4_V3.graphml')"
   ]
  },
  {
   "cell_type": "code",
   "execution_count": 75,
   "metadata": {},
   "outputs": [],
   "source": [
    "G = nx.read_graphml('data/graphml/hivevo_p4_V3.graphml')\n",
    "\n",
    "source = '0'\n",
    "dist_dict = nx.shortest_path_length(G, '0')\n",
    "\n",
    "import operator \n",
    "target = max(dist_dict.items(), key=operator.itemgetter(1))[0]\n",
    "\n",
    "graph_path = nx.shortest_simple_paths(G, source, target)"
   ]
  },
  {
   "cell_type": "code",
   "execution_count": 76,
   "metadata": {
    "scrolled": false
   },
   "outputs": [
    {
     "data": {
      "text/plain": [
       "[['0',\n",
       "  '3',\n",
       "  '5',\n",
       "  '6',\n",
       "  '10',\n",
       "  '11',\n",
       "  '13',\n",
       "  '19',\n",
       "  '20',\n",
       "  '22',\n",
       "  '23',\n",
       "  '25',\n",
       "  '26',\n",
       "  '52',\n",
       "  '53',\n",
       "  '55',\n",
       "  '57',\n",
       "  '61',\n",
       "  '65',\n",
       "  '67',\n",
       "  '69',\n",
       "  '77',\n",
       "  '78',\n",
       "  '79',\n",
       "  '81',\n",
       "  '83',\n",
       "  'days_3069_frequency_4%66']]"
      ]
     },
     "execution_count": 76,
     "metadata": {},
     "output_type": "execute_result"
    }
   ],
   "source": [
    "lst_path = list(graph_path)\n",
    "lst_path"
   ]
  },
  {
   "cell_type": "markdown",
   "metadata": {},
   "source": [
    "### Another approach"
   ]
  },
  {
   "cell_type": "code",
   "execution_count": 59,
   "metadata": {},
   "outputs": [],
   "source": [
    "from Bio.Align.Applications import ClustalwCommandline\n",
    "clustalw_cline = ClustalwCommandline(\"clustalw\",  align = 'True', tree = 'True', infile=\"data/fasta/hivevo_p4_V3.fasta\", output = 'FASTA', outfile = 'data/clustal_output/hivevo_p4_V3.fasta', type = 'DNA')\n",
    "stdout, stderr = clustalw_cline()\n",
    "#print(clustalw_cline)"
   ]
  },
  {
   "cell_type": "code",
   "execution_count": 100,
   "metadata": {},
   "outputs": [],
   "source": [
    "#get rid of .dnd file\n",
    "\n",
    "def getrid_dnd(patient_str):\n",
    "    '''Void func converting .dnd file to .nwk'''\n",
    "    tmp = '_v0'\n",
    "    while os.path.exists('data/trees/'+patient_str+tmp+'.nwk'):\n",
    "        print(tmp)\n",
    "        tmp = tmp[0:2] + str(int(tmp[-1]) + 1)\n",
    "    with open('data/fasta/'+patient_str+'.dnd') as dnd, open('data/trees/'+patient_str+tmp+'.nwk','w') as nwk:\n",
    "        row = ''\n",
    "        for line in dnd:\n",
    "            row += line.rstrip()\n",
    "        nwk.write(row)\n",
    "\n",
    "patient_str = 'hivevo_p4_V3'\n",
    "getrid_dnd(patient_str)"
   ]
  },
  {
   "cell_type": "code",
   "execution_count": 115,
   "metadata": {
    "scrolled": false
   },
   "outputs": [],
   "source": [
    "Tree = Phylo.read('data/trees/hivevo_p4_V3_v0.nwk', 'newick')\n",
    "#print(Tree)"
   ]
  },
  {
   "cell_type": "code",
   "execution_count": 105,
   "metadata": {},
   "outputs": [],
   "source": [
    "clade_names_fix(Tree)\n",
    "G = Phylo.to_networkx(Tree)\n",
    "nx.write_graphml(G, 'data/graphml/hivevo_p4_V3.graphml')"
   ]
  },
  {
   "cell_type": "code",
   "execution_count": 108,
   "metadata": {},
   "outputs": [],
   "source": [
    "lst_nodes = list(G.nodes)\n",
    "lst_edges = list(G.edges)"
   ]
  },
  {
   "cell_type": "code",
   "execution_count": 109,
   "metadata": {
    "scrolled": true
   },
   "outputs": [],
   "source": [
    "G = nx.read_graphml('data/graphml/hivevo_p4_V3.graphml')\n",
    "\n",
    "source = lst_nodes[0]\n",
    "dist_dict = nx.shortest_path_length(G, source)"
   ]
  },
  {
   "cell_type": "code",
   "execution_count": 110,
   "metadata": {},
   "outputs": [
    {
     "data": {
      "text/plain": [
       "{'0': 0,\n",
       " '1': 1,\n",
       " 'days_562_frequency_10%10': 1,\n",
       " 'days_562_frequency_3%11': 1,\n",
       " '2': 2,\n",
       " 'days_562_frequency_2%9': 2,\n",
       " '3': 3,\n",
       " 'days_562_frequency_5%8': 3,\n",
       " '4': 4,\n",
       " 'days_562_frequency_5%12': 4,\n",
       " '5': 5,\n",
       " '24': 5,\n",
       " '6': 6,\n",
       " '21': 6,\n",
       " '25': 6,\n",
       " 'days_562_frequency_2%16': 6,\n",
       " '7': 7,\n",
       " 'days_562_frequency_4%7': 7,\n",
       " 'days_562_frequency_3%13': 7,\n",
       " 'days_562_frequency_3%15': 7,\n",
       " '26': 7,\n",
       " '119': 7,\n",
       " '8': 8,\n",
       " '13': 8,\n",
       " 'days_1142_frequency_1%14': 8,\n",
       " '28': 8,\n",
       " '120': 8,\n",
       " 'days_562_frequency_2%20': 8,\n",
       " '9': 9,\n",
       " 'days_93_frequency_2%2': 9,\n",
       " 'days_562_frequency_3%3': 9,\n",
       " '15': 9,\n",
       " '29': 9,\n",
       " '32': 9,\n",
       " '121': 9,\n",
       " 'days_562_frequency_5%18': 9,\n",
       " 'days_93_frequency_79%0': 10,\n",
       " 'days_93_frequency_18%1': 10,\n",
       " '16': 10,\n",
       " 'days_562_frequency_2%5': 10,\n",
       " 'days_1142_frequency_3%21': 10,\n",
       " 'days_1142_frequency_5%22': 10,\n",
       " '33': 10,\n",
       " '46': 10,\n",
       " 'days_562_frequency_9%17': 10,\n",
       " 'days_562_frequency_2%19': 10,\n",
       " 'days_562_frequency_25%4': 11,\n",
       " 'days_562_frequency_6%6': 11,\n",
       " '34': 11,\n",
       " '39': 11,\n",
       " 'days_1963_frequency_30%30': 11,\n",
       " '48': 11,\n",
       " 'days_1963_frequency_16%23': 12,\n",
       " '36': 12,\n",
       " 'days_1142_frequency_3%26': 12,\n",
       " '41': 12,\n",
       " '49': 12,\n",
       " '100': 12,\n",
       " 'days_3069_frequency_3%24': 13,\n",
       " 'days_3069_frequency_2%25': 13,\n",
       " 'days_1142_frequency_6%27': 13,\n",
       " '43': 13,\n",
       " '50': 13,\n",
       " '65': 13,\n",
       " '101': 13,\n",
       " '106': 13,\n",
       " 'days_1142_frequency_8%28': 14,\n",
       " 'days_1142_frequency_26%29': 14,\n",
       " '51': 14,\n",
       " '60': 14,\n",
       " '66': 14,\n",
       " '77': 14,\n",
       " 'days_3069_frequency_1%39': 14,\n",
       " '103': 14,\n",
       " '107': 14,\n",
       " 'days_3069_frequency_4%43': 14,\n",
       " 'days_1142_frequency_4%31': 15,\n",
       " '53': 15,\n",
       " 'days_1577_frequency_16%32': 15,\n",
       " '62': 15,\n",
       " '67': 15,\n",
       " '74': 15,\n",
       " '78': 15,\n",
       " '81': 15,\n",
       " 'days_1577_frequency_24%40': 15,\n",
       " 'days_1577_frequency_27%41': 15,\n",
       " '108': 15,\n",
       " 'days_3069_frequency_2%45': 15,\n",
       " 'days_1577_frequency_19%35': 16,\n",
       " '55': 16,\n",
       " 'days_1142_frequency_6%33': 16,\n",
       " 'days_1142_frequency_4%34': 16,\n",
       " '68': 16,\n",
       " '71': 16,\n",
       " 'days_1963_frequency_3%53': 16,\n",
       " 'days_1963_frequency_50%54': 16,\n",
       " 'days_3069_frequency_8%55': 16,\n",
       " 'days_3069_frequency_11%56': 16,\n",
       " '82': 16,\n",
       " '93': 16,\n",
       " 'days_2758_frequency_35%42': 16,\n",
       " '110': 16,\n",
       " 'days_1577_frequency_11%36': 17,\n",
       " '57': 17,\n",
       " 'days_1142_frequency_6%49': 17,\n",
       " 'days_1142_frequency_14%50': 17,\n",
       " 'days_562_frequency_1%51': 17,\n",
       " 'days_1142_frequency_6%52': 17,\n",
       " '83': 17,\n",
       " '86': 17,\n",
       " '94': 17,\n",
       " 'days_3069_frequency_2%60': 17,\n",
       " 'days_2758_frequency_64%44': 17,\n",
       " '112': 17,\n",
       " 'days_2474_frequency_68%37': 18,\n",
       " 'days_2474_frequency_31%38': 18,\n",
       " 'days_3069_frequency_13%57': 18,\n",
       " 'days_3069_frequency_4%58': 18,\n",
       " '87': 18,\n",
       " 'days_3069_frequency_4%66': 18,\n",
       " '95': 18,\n",
       " 'days_3069_frequency_7%61': 18,\n",
       " 'days_3069_frequency_1%46': 18,\n",
       " '114': 18,\n",
       " 'days_3069_frequency_7%63': 19,\n",
       " '89': 19,\n",
       " 'days_3069_frequency_2%59': 19,\n",
       " 'days_3069_frequency_5%62': 19,\n",
       " 'days_3069_frequency_2%47': 19,\n",
       " 'days_3069_frequency_2%48': 19,\n",
       " 'days_3069_frequency_5%64': 20,\n",
       " 'days_3069_frequency_7%65': 20}"
      ]
     },
     "execution_count": 110,
     "metadata": {},
     "output_type": "execute_result"
    }
   ],
   "source": [
    "dist_dict"
   ]
  },
  {
   "cell_type": "code",
   "execution_count": 112,
   "metadata": {},
   "outputs": [],
   "source": [
    "target = max(dist_dict.items(), key=operator.itemgetter(1))[0]\n",
    "\n",
    "graph_path = nx.shortest_simple_paths(G, source, target)"
   ]
  },
  {
   "cell_type": "code",
   "execution_count": 113,
   "metadata": {
    "scrolled": false
   },
   "outputs": [
    {
     "data": {
      "text/plain": [
       "[['0',\n",
       "  '1',\n",
       "  '2',\n",
       "  '3',\n",
       "  '4',\n",
       "  '24',\n",
       "  '25',\n",
       "  '26',\n",
       "  '28',\n",
       "  '32',\n",
       "  '46',\n",
       "  '48',\n",
       "  '49',\n",
       "  '65',\n",
       "  '77',\n",
       "  '81',\n",
       "  '82',\n",
       "  '86',\n",
       "  '87',\n",
       "  '89',\n",
       "  'days_3069_frequency_5%64']]"
      ]
     },
     "execution_count": 113,
     "metadata": {},
     "output_type": "execute_result"
    }
   ],
   "source": [
    "lst_path = list(graph_path)\n",
    "lst_path"
   ]
  },
  {
   "cell_type": "code",
   "execution_count": null,
   "metadata": {},
   "outputs": [],
   "source": []
  }
 ],
 "metadata": {
  "anaconda-cloud": {},
  "kernelspec": {
   "display_name": "Python 3",
   "language": "python",
   "name": "python3"
  },
  "language_info": {
   "codemirror_mode": {
    "name": "ipython",
    "version": 3
   },
   "file_extension": ".py",
   "mimetype": "text/x-python",
   "name": "python",
   "nbconvert_exporter": "python",
   "pygments_lexer": "ipython3",
   "version": "3.7.4"
  }
 },
 "nbformat": 4,
 "nbformat_minor": 1
}
