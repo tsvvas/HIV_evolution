{
 "cells": [
  {
   "cell_type": "code",
   "execution_count": 15,
   "metadata": {},
   "outputs": [
    {
     "data": {
      "text/plain": [
       "[['0',\n",
       "  '3',\n",
       "  '5',\n",
       "  '6',\n",
       "  '10',\n",
       "  '11',\n",
       "  '13',\n",
       "  '19',\n",
       "  '20',\n",
       "  '22',\n",
       "  '23',\n",
       "  '25',\n",
       "  '26',\n",
       "  '52',\n",
       "  '53',\n",
       "  '55',\n",
       "  '57',\n",
       "  '61',\n",
       "  '65',\n",
       "  '67',\n",
       "  '69',\n",
       "  '77',\n",
       "  '78',\n",
       "  '79',\n",
       "  '81',\n",
       "  '83',\n",
       "  'days_3069_frequency_4%66']]"
      ]
     },
     "execution_count": 15,
     "metadata": {},
     "output_type": "execute_result"
    }
   ],
   "source": [
    "import operator\n",
    "\n",
    "G = nx.read_graphml('data/graphml/hivevo_p4_V3.graphml')\n",
    "lst_nodes = list(G.nodes)\n",
    "source = lst_nodes[0]\n",
    "dist_dict = nx.shortest_path_length(G, source)\n",
    "target = max(dist_dict.items(), key=operator.itemgetter(1))[0]\n",
    "graph_path = nx.shortest_simple_paths(G, source, target)\n",
    "list(graph_path)"
   ]
  },
  {
   "cell_type": "code",
   "execution_count": 11,
   "metadata": {},
   "outputs": [
    {
     "data": {
      "text/plain": [
       "['days_562_frequency_2%9', 'days_562_frequency_3%11', '3']"
      ]
     },
     "execution_count": 11,
     "metadata": {},
     "output_type": "execute_result"
    }
   ],
   "source": [
    "list(G['0'])"
   ]
  },
  {
   "cell_type": "code",
   "execution_count": 19,
   "metadata": {},
   "outputs": [
    {
     "data": {
      "text/plain": [
       "AtlasView({'5': {'weight': 0.003595639}, '116': {'weight': 0.018159274}, 'days_562_frequency_5%8': {'weight': 0.003680362}})"
      ]
     },
     "execution_count": 19,
     "metadata": {},
     "output_type": "execute_result"
    }
   ],
   "source": [
    "G['115']"
   ]
  },
  {
   "cell_type": "code",
   "execution_count": 20,
   "metadata": {},
   "outputs": [],
   "source": [
    "import networkx as nx\n",
    "\n",
    "def newick_finding_long_path(G):\n",
    "    lst_nodes = list(G.nodes)\n",
    "    source = lst_nodes[0]\n",
    "    dist_dict = nx.shortest_path_length(G, source)\n",
    "    target = max(dist_dict.items(), key=operator.itemgetter(1))[0]\n",
    "    graph_path = nx.shortest_simple_paths(G, source, target)\n",
    "    graph_path_no_clades = []\n",
    "    pass"
   ]
  },
  {
   "cell_type": "code",
   "execution_count": null,
   "metadata": {},
   "outputs": [],
   "source": []
  }
 ],
 "metadata": {
  "kernelspec": {
   "display_name": "Python 3",
   "language": "python",
   "name": "python3"
  },
  "language_info": {
   "codemirror_mode": {
    "name": "ipython",
    "version": 3
   },
   "file_extension": ".py",
   "mimetype": "text/x-python",
   "name": "python",
   "nbconvert_exporter": "python",
   "pygments_lexer": "ipython3",
   "version": "3.7.3"
  }
 },
 "nbformat": 4,
 "nbformat_minor": 2
}
