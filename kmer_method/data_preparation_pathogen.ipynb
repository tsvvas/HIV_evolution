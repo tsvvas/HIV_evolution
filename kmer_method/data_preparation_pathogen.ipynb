{
 "cells": [
  {
   "cell_type": "code",
   "execution_count": 1,
   "metadata": {},
   "outputs": [],
   "source": [
    "import numpy as np\n",
    "import scipy as scp\n",
    "from sklearn import preprocessing\n",
    "import warnings\n",
    "warnings.filterwarnings(\"ignore\")\n",
    "from Bio import SeqIO\n",
    "import pandas as pd\n",
    "import tqdm\n",
    "import re\n",
    "from os import listdir\n",
    "from os.path import isfile, join"
   ]
  },
  {
   "cell_type": "markdown",
   "metadata": {},
   "source": [
    "### Method for finding entry indices:"
   ]
  },
  {
   "cell_type": "code",
   "execution_count": 2,
   "metadata": {},
   "outputs": [],
   "source": [
    "def occurrences_count(string, sub):\n",
    "    '''\n",
    "    Counting all ocurrances of substring in string using find() method\n",
    "    variables:\n",
    "        string - string where to find\n",
    "        sub - string to find\n",
    "    '''\n",
    "    count = start = 0\n",
    "    while True:\n",
    "        start = string.find(sub, start) + 1\n",
    "        if start > 0:\n",
    "            count+=1\n",
    "        else:\n",
    "            return count"
   ]
  },
  {
   "cell_type": "code",
   "execution_count": 3,
   "metadata": {},
   "outputs": [],
   "source": [
    "def occurrences_re(text, sub):\n",
    "    '''\n",
    "    Counting all ocurrances of substring in string using re expressions method\n",
    "    variables:\n",
    "        string - string where to find\n",
    "        sub - string to find\n",
    "    '''\n",
    "    return len(re.findall('(?={0})'.format(sub), text))"
   ]
  },
  {
   "cell_type": "code",
   "execution_count": 4,
   "metadata": {},
   "outputs": [
    {
     "data": {
      "text/plain": [
       "1"
      ]
     },
     "execution_count": 4,
     "metadata": {},
     "output_type": "execute_result"
    }
   ],
   "source": [
    "# Showing overlapping problem\n",
    "\n",
    "string = 'klasklaskl'\n",
    "string.count('klaskl')"
   ]
  },
  {
   "cell_type": "markdown",
   "metadata": {},
   "source": [
    "### Data:"
   ]
  },
  {
   "cell_type": "code",
   "execution_count": 5,
   "metadata": {},
   "outputs": [
    {
     "data": {
      "text/plain": [
       "'ARNDCQEGHILKMFPSTWYV'"
      ]
     },
     "execution_count": 5,
     "metadata": {},
     "output_type": "execute_result"
    }
   ],
   "source": [
    "# For example we will try to find all needed vectors for 4-mers\n",
    "\n",
    "import itertools\n",
    "\n",
    "\n",
    "# Amino acid data\n",
    "\n",
    "global amino_dict\n",
    "amino_dict = { 'ALA': 'A', 'ARG': 'R',\n",
    "                  'ASN': 'N', 'ASP': 'D',\n",
    "                  'CYS': 'C', 'GLN': 'Q',\n",
    "                  'GLU': 'E', 'GLY': 'G',\n",
    "                  'HIS': 'H', 'ILE': 'I',\n",
    "                  'LEU': 'L', 'LYS': 'K',\n",
    "                  'MET': 'M', 'PHE': 'F',\n",
    "                  'PRO': 'P', 'SER': 'S',\n",
    "                  'THR': 'T', 'TRP': 'W',\n",
    "                  'TYR': 'Y', 'VAL': 'V' }\n",
    "\n",
    "list_amino = list(amino_dict.values())\n",
    "\n",
    "global amino_string\n",
    "\n",
    "amino_string = ''.join(x for x in list_amino)\n",
    "\n",
    "del list_amino\n",
    "\n",
    "amino_string"
   ]
  },
  {
   "cell_type": "code",
   "execution_count": 6,
   "metadata": {},
   "outputs": [],
   "source": [
    "# Make all posible combinations\n",
    "# K-mer = 4\n",
    "\n",
    "def making_subseq(k):\n",
    "    '''Making all subsequences using aminoacids'''\n",
    "    subseq_iter = itertools.product(amino_string, repeat = k)\n",
    "    subseq_list = list(subseq_iter)\n",
    "    del subseq_iter\n",
    "    for i in range(len(subseq_list)):\n",
    "        tup = subseq_list[i]\n",
    "        subseq_list[i] = ''.join(tup)\n",
    "    return subseq_list"
   ]
  },
  {
   "cell_type": "code",
   "execution_count": 18,
   "metadata": {},
   "outputs": [],
   "source": [
    "def read_fasta_file(path):\n",
    "    '''\n",
    "    Reading fasta file\n",
    "    return list (whole organism) of lists (for each protein) of SeqRecords\n",
    "    '''\n",
    "    fasta_test_file = SeqIO.parse(path, 'fasta')\n",
    "    record_list = list(fasta_test_file)\n",
    "    org_name = path.replace('../data/proteomes/', '').replace('.fasta', '')\n",
    "    \n",
    "    return record_list, org_name"
   ]
  },
  {
   "cell_type": "markdown",
   "metadata": {},
   "source": [
    "### Sequence analyzing functions:"
   ]
  },
  {
   "cell_type": "code",
   "execution_count": 8,
   "metadata": {},
   "outputs": [],
   "source": [
    "def seqio_data(seq_record):\n",
    "    '''\n",
    "    working with SeqRecord class\n",
    "    \n",
    "    parametrs:\n",
    "        seq_record: SeqRecord class from Biopython\n",
    "    \n",
    "    return protein name and sequence\n",
    "    '''\n",
    "    protein = seq_record.name\n",
    "    seq = str(seq_record.seq)\n",
    "    \n",
    "    return protein, seq\n",
    "\n",
    "#seqio_data(SeqRecord)"
   ]
  },
  {
   "cell_type": "code",
   "execution_count": 9,
   "metadata": {},
   "outputs": [],
   "source": [
    "# Functions to make index vectors\n",
    "# May be helpful in future\n",
    "\n",
    "def vectorizing_single_subseq(string, subseq, n, k_mer_num,\n",
    "                              knutt_morris:callable):\n",
    "    '''\n",
    "    finding subseq's entry index vector for subseq for some string\n",
    "    return vector\n",
    "    '''\n",
    "    \n",
    "    #n = len(string)\n",
    "    #m = len(subseq)\n",
    "    \n",
    "    vector = [0 for k in range(n-k_mer_num+1)]\n",
    "    \n",
    "    list_entry = knutt_morris(string, subseq)\n",
    "    \n",
    "    for x in list_entry:\n",
    "        vector[x] = 1\n",
    "        \n",
    "    return np.array(vector)\n",
    "\n",
    "def vectorizing_all_subseq(string, subseq_list,\n",
    "                           vectorizing_single_subseq:callable):\n",
    "    '''\n",
    "    finding subseq's entry index vector for all subseqs from subseq_list\n",
    "    !!! return dict: subseq -> vector\n",
    "    '''\n",
    "    n = len(string)\n",
    "    k_mer_num = len(subseq_list[0])\n",
    "    \n",
    "    vector_list = []\n",
    "    #matrix = []\n",
    "    \n",
    "    for subseq in subseq_list:\n",
    "        vector = vectorizing_single_subseq(string, subseq, n, k_mer_num, knutt_morris)\n",
    "        vector = vector.reshape((-1, 1))\n",
    "        del vector\n",
    "        vector_list.append(vector)\n",
    "    \n",
    "    return dict(zip(subseq_list, vector_list))"
   ]
  },
  {
   "cell_type": "code",
   "execution_count": 10,
   "metadata": {},
   "outputs": [],
   "source": [
    "# Freq\n",
    "\n",
    "def finding_freq_single_protein(seq, subseq_list):\n",
    "    \n",
    "    '''Finding frequnces for subsequences in single protein\n",
    "    and scaling it with SKlearn StandardScaler()\n",
    "    return vector_freq'''\n",
    "    n = len(seq)\n",
    "    k = len(subseq_list[0])\n",
    "    \n",
    "    vector_freq = []\n",
    "    \n",
    "    for x in subseq_list:\n",
    "        vector_freq.append(float(occurrences_count(seq, x))/n)\n",
    "    \n",
    "    vector_freq = np.array(vector_freq)\n",
    "    vector_freq = vector_freq.reshape((-1, 1))\n",
    "    scaler = preprocessing.StandardScaler()\n",
    "    vector_freq_scaled = scaler.fit_transform(vector_freq)\n",
    "    del vector_freq\n",
    "    \n",
    "    return list(vector_freq_scaled)"
   ]
  },
  {
   "cell_type": "markdown",
   "metadata": {},
   "source": [
    "### Main:"
   ]
  },
  {
   "cell_type": "code",
   "execution_count": 19,
   "metadata": {},
   "outputs": [],
   "source": [
    "def main_analyzes(path, k_mer_num):\n",
    "    '''\n",
    "    Lego construction with all functions above\n",
    "    return:\n",
    "        organism name\n",
    "        list of proteins\n",
    "        list of frequency vectors scaled\n",
    "        '''\n",
    "    \n",
    "    # initializing subseqs\n",
    "    subseq_list = making_subseq(k_mer_num)\n",
    "    table_columns = ['Organism', 'Protein'] + subseq_list\n",
    "    proteins_data = pd.DataFrame(columns=table_columns)\n",
    "    \n",
    "    # Variables\n",
    "    organism_name = ''\n",
    "      \n",
    "    #reading\n",
    "    prot_records, organism_name = read_fasta_file(path)\n",
    "    \n",
    "    index = 0\n",
    "    \n",
    "    #prot_records stuff\n",
    "    for i in tqdm.tqdm_notebook(range(len(prot_records))):\n",
    "        seq_record = prot_records[i]\n",
    "        prot_name, seq = seqio_data(seq_record)\n",
    "        freq_vector = finding_freq_single_protein(seq,subseq_list)\n",
    "        adding_row = []\n",
    "        adding_row.append(organism_name)\n",
    "        adding_row.append(prot_name)\n",
    "        adding_row += freq_vector\n",
    "        proteins_data.loc[index] = adding_row\n",
    "        index += 1\n",
    "    writing_path = 'csv_data/' + organism_name + '.csv'\n",
    "    \n",
    "    proteins_data.to_csv(writing_path)      \n",
    "    \n",
    "    del prot_records\n",
    "    \n",
    "    return 0"
   ]
  },
  {
   "cell_type": "code",
   "execution_count": 27,
   "metadata": {},
   "outputs": [
    {
     "data": {
      "text/plain": [
       "'../data/proteomes/human_proteome.fasta'"
      ]
     },
     "execution_count": 27,
     "metadata": {},
     "output_type": "execute_result"
    }
   ],
   "source": [
    "# all paths\n",
    "\n",
    "data_files = [f for f in listdir('../data/proteomes') if isfile(join('../data/proteomes', f))]\n",
    "files_path = []\n",
    "for i in range(len(data_files)):\n",
    "    files_path.append('../data/proteomes/'+ data_files[i])\n",
    "files_path.pop(13)"
   ]
  },
  {
   "cell_type": "code",
   "execution_count": 28,
   "metadata": {},
   "outputs": [
    {
     "data": {
      "application/vnd.jupyter.widget-view+json": {
       "model_id": "5ddd7114805b4e3b81c2f6a12cae1506",
       "version_major": 2,
       "version_minor": 0
      },
      "text/plain": [
       "HBox(children=(IntProgress(value=0, max=3909), HTML(value='')))"
      ]
     },
     "metadata": {},
     "output_type": "display_data"
    },
    {
     "name": "stdout",
     "output_type": "stream",
     "text": [
      "\n"
     ]
    },
    {
     "data": {
      "application/vnd.jupyter.widget-view+json": {
       "model_id": "907c2939dfc642eface890b6e4bc5431",
       "version_major": 2,
       "version_minor": 0
      },
      "text/plain": [
       "HBox(children=(IntProgress(value=0, max=4391), HTML(value='')))"
      ]
     },
     "metadata": {},
     "output_type": "display_data"
    },
    {
     "name": "stdout",
     "output_type": "stream",
     "text": [
      "\n"
     ]
    },
    {
     "data": {
      "application/vnd.jupyter.widget-view+json": {
       "model_id": "608a08e35f854f3a9d5c2df89f1c6ada",
       "version_major": 2,
       "version_minor": 0
      },
      "text/plain": [
       "HBox(children=(IntProgress(value=0, max=5126), HTML(value='')))"
      ]
     },
     "metadata": {},
     "output_type": "display_data"
    },
    {
     "name": "stdout",
     "output_type": "stream",
     "text": [
      "\n"
     ]
    },
    {
     "data": {
      "application/vnd.jupyter.widget-view+json": {
       "model_id": "a3337e776bd8453db57d1f70f6cd0445",
       "version_major": 2,
       "version_minor": 0
      },
      "text/plain": [
       "HBox(children=(IntProgress(value=0, max=679), HTML(value='')))"
      ]
     },
     "metadata": {},
     "output_type": "display_data"
    },
    {
     "name": "stdout",
     "output_type": "stream",
     "text": [
      "\n"
     ]
    },
    {
     "data": {
      "application/vnd.jupyter.widget-view+json": {
       "model_id": "93fdf2aa92a341aa826c2a64e7748d09",
       "version_major": 2,
       "version_minor": 0
      },
      "text/plain": [
       "HBox(children=(IntProgress(value=0, max=6), HTML(value='')))"
      ]
     },
     "metadata": {},
     "output_type": "display_data"
    },
    {
     "name": "stdout",
     "output_type": "stream",
     "text": [
      "\n"
     ]
    },
    {
     "data": {
      "application/vnd.jupyter.widget-view+json": {
       "model_id": "d9bc622debc246e882dea0c7700e8784",
       "version_major": 2,
       "version_minor": 0
      },
      "text/plain": [
       "HBox(children=(IntProgress(value=0, max=130), HTML(value='')))"
      ]
     },
     "metadata": {},
     "output_type": "display_data"
    },
    {
     "name": "stdout",
     "output_type": "stream",
     "text": [
      "\n"
     ]
    },
    {
     "data": {
      "application/vnd.jupyter.widget-view+json": {
       "model_id": "90852bd4c49d490ab7bf9eb79783db2b",
       "version_major": 2,
       "version_minor": 0
      },
      "text/plain": [
       "HBox(children=(IntProgress(value=0, max=6602), HTML(value='')))"
      ]
     },
     "metadata": {},
     "output_type": "display_data"
    },
    {
     "name": "stdout",
     "output_type": "stream",
     "text": [
      "\n"
     ]
    },
    {
     "data": {
      "application/vnd.jupyter.widget-view+json": {
       "model_id": "699bf4a254d54974960d730cbef57fec",
       "version_major": 2,
       "version_minor": 0
      },
      "text/plain": [
       "HBox(children=(IntProgress(value=0, max=9), HTML(value='')))"
      ]
     },
     "metadata": {},
     "output_type": "display_data"
    },
    {
     "name": "stdout",
     "output_type": "stream",
     "text": [
      "\n"
     ]
    },
    {
     "data": {
      "application/vnd.jupyter.widget-view+json": {
       "model_id": "c0fd465c64464fb1a94a184e42b0c7a3",
       "version_major": 2,
       "version_minor": 0
      },
      "text/plain": [
       "HBox(children=(IntProgress(value=0, max=79), HTML(value='')))"
      ]
     },
     "metadata": {},
     "output_type": "display_data"
    },
    {
     "name": "stdout",
     "output_type": "stream",
     "text": [
      "\n"
     ]
    },
    {
     "data": {
      "application/vnd.jupyter.widget-view+json": {
       "model_id": "03e71190595d464bb1fa22669b7b75f4",
       "version_major": 2,
       "version_minor": 0
      },
      "text/plain": [
       "HBox(children=(IntProgress(value=0, max=4103), HTML(value='')))"
      ]
     },
     "metadata": {},
     "output_type": "display_data"
    },
    {
     "name": "stdout",
     "output_type": "stream",
     "text": [
      "\n"
     ]
    },
    {
     "data": {
      "application/vnd.jupyter.widget-view+json": {
       "model_id": "046fc3385ab64ea7bf110678e2be9d22",
       "version_major": 2,
       "version_minor": 0
      },
      "text/plain": [
       "HBox(children=(IntProgress(value=0, max=9647), HTML(value='')))"
      ]
     },
     "metadata": {},
     "output_type": "display_data"
    },
    {
     "name": "stdout",
     "output_type": "stream",
     "text": [
      "\n"
     ]
    },
    {
     "data": {
      "application/vnd.jupyter.widget-view+json": {
       "model_id": "6e48f37989aa4bd094890d489e6a6cff",
       "version_major": 2,
       "version_minor": 0
      },
      "text/plain": [
       "HBox(children=(IntProgress(value=0, max=2), HTML(value='')))"
      ]
     },
     "metadata": {},
     "output_type": "display_data"
    },
    {
     "name": "stdout",
     "output_type": "stream",
     "text": [
      "\n"
     ]
    },
    {
     "data": {
      "application/vnd.jupyter.widget-view+json": {
       "model_id": "079243368b9c48ab8aa90bf0fc007685",
       "version_major": 2,
       "version_minor": 0
      },
      "text/plain": [
       "HBox(children=(IntProgress(value=0, max=4533), HTML(value='')))"
      ]
     },
     "metadata": {},
     "output_type": "display_data"
    },
    {
     "name": "stdout",
     "output_type": "stream",
     "text": [
      "\n"
     ]
    },
    {
     "data": {
      "application/vnd.jupyter.widget-view+json": {
       "model_id": "f2aae489051e4db88ae18b706486a772",
       "version_major": 2,
       "version_minor": 0
      },
      "text/plain": [
       "HBox(children=(IntProgress(value=0, max=73), HTML(value='')))"
      ]
     },
     "metadata": {},
     "output_type": "display_data"
    },
    {
     "name": "stdout",
     "output_type": "stream",
     "text": [
      "\n"
     ]
    },
    {
     "data": {
      "application/vnd.jupyter.widget-view+json": {
       "model_id": "6aa79298ab304247a45f6cf4edbbc8ce",
       "version_major": 2,
       "version_minor": 0
      },
      "text/plain": [
       "HBox(children=(IntProgress(value=0, max=5563), HTML(value='')))"
      ]
     },
     "metadata": {},
     "output_type": "display_data"
    },
    {
     "name": "stdout",
     "output_type": "stream",
     "text": [
      "\n"
     ]
    },
    {
     "data": {
      "application/vnd.jupyter.widget-view+json": {
       "model_id": "fe97c02492a34435b458501c9763ed66",
       "version_major": 2,
       "version_minor": 0
      },
      "text/plain": [
       "HBox(children=(IntProgress(value=0, max=74), HTML(value='')))"
      ]
     },
     "metadata": {},
     "output_type": "display_data"
    },
    {
     "name": "stdout",
     "output_type": "stream",
     "text": [
      "\n"
     ]
    },
    {
     "data": {
      "application/vnd.jupyter.widget-view+json": {
       "model_id": "dd84675b2d4e448199f6503512310650",
       "version_major": 2,
       "version_minor": 0
      },
      "text/plain": [
       "HBox(children=(IntProgress(value=0, max=1), HTML(value='')))"
      ]
     },
     "metadata": {},
     "output_type": "display_data"
    },
    {
     "name": "stdout",
     "output_type": "stream",
     "text": [
      "\n"
     ]
    },
    {
     "data": {
      "application/vnd.jupyter.widget-view+json": {
       "model_id": "42ecb04a9bb9410cbd70d993be45a431",
       "version_major": 2,
       "version_minor": 0
      },
      "text/plain": [
       "HBox(children=(IntProgress(value=0, max=190), HTML(value='')))"
      ]
     },
     "metadata": {},
     "output_type": "display_data"
    },
    {
     "name": "stdout",
     "output_type": "stream",
     "text": [
      "\n"
     ]
    },
    {
     "data": {
      "application/vnd.jupyter.widget-view+json": {
       "model_id": "dadc32d057524a5b9f5bcfed346bf5fa",
       "version_major": 2,
       "version_minor": 0
      },
      "text/plain": [
       "HBox(children=(IntProgress(value=0, max=6), HTML(value='')))"
      ]
     },
     "metadata": {},
     "output_type": "display_data"
    },
    {
     "name": "stdout",
     "output_type": "stream",
     "text": [
      "\n"
     ]
    },
    {
     "data": {
      "application/vnd.jupyter.widget-view+json": {
       "model_id": "3975dfb34aa549799e5ccf56091bd41d",
       "version_major": 2,
       "version_minor": 0
      },
      "text/plain": [
       "HBox(children=(IntProgress(value=0, max=3676), HTML(value='')))"
      ]
     },
     "metadata": {},
     "output_type": "display_data"
    },
    {
     "name": "stdout",
     "output_type": "stream",
     "text": [
      "\n"
     ]
    },
    {
     "data": {
      "application/vnd.jupyter.widget-view+json": {
       "model_id": "2959425c9f204b70ab9cabd8e4634c40",
       "version_major": 2,
       "version_minor": 0
      },
      "text/plain": [
       "HBox(children=(IntProgress(value=0, max=3762), HTML(value='')))"
      ]
     },
     "metadata": {},
     "output_type": "display_data"
    },
    {
     "name": "stdout",
     "output_type": "stream",
     "text": [
      "\n"
     ]
    },
    {
     "data": {
      "application/vnd.jupyter.widget-view+json": {
       "model_id": "8f681007011e46d78cdddf155e1d93fb",
       "version_major": 2,
       "version_minor": 0
      },
      "text/plain": [
       "HBox(children=(IntProgress(value=0, max=4), HTML(value='')))"
      ]
     },
     "metadata": {},
     "output_type": "display_data"
    },
    {
     "name": "stdout",
     "output_type": "stream",
     "text": [
      "\n"
     ]
    },
    {
     "data": {
      "application/vnd.jupyter.widget-view+json": {
       "model_id": "3bc451572c394099a3f395a9e604c2d3",
       "version_major": 2,
       "version_minor": 0
      },
      "text/plain": [
       "HBox(children=(IntProgress(value=0, max=1), HTML(value='')))"
      ]
     },
     "metadata": {},
     "output_type": "display_data"
    },
    {
     "name": "stdout",
     "output_type": "stream",
     "text": [
      "\n"
     ]
    },
    {
     "data": {
      "application/vnd.jupyter.widget-view+json": {
       "model_id": "222d87d9e9b745059c0b6a03a10ab522",
       "version_major": 2,
       "version_minor": 0
      },
      "text/plain": [
       "HBox(children=(IntProgress(value=0, max=686), HTML(value='')))"
      ]
     },
     "metadata": {},
     "output_type": "display_data"
    },
    {
     "name": "stdout",
     "output_type": "stream",
     "text": [
      "\n"
     ]
    },
    {
     "data": {
      "application/vnd.jupyter.widget-view+json": {
       "model_id": "1d6406ccc71d4403b99832dbaa050ebe",
       "version_major": 2,
       "version_minor": 0
      },
      "text/plain": [
       "HBox(children=(IntProgress(value=0, max=190), HTML(value='')))"
      ]
     },
     "metadata": {},
     "output_type": "display_data"
    },
    {
     "name": "stdout",
     "output_type": "stream",
     "text": [
      "\n"
     ]
    },
    {
     "data": {
      "application/vnd.jupyter.widget-view+json": {
       "model_id": "34f55ecba3aa46b9b85d2d0cc13dae97",
       "version_major": 2,
       "version_minor": 0
      },
      "text/plain": [
       "HBox(children=(IntProgress(value=0, max=895), HTML(value='')))"
      ]
     },
     "metadata": {},
     "output_type": "display_data"
    },
    {
     "name": "stdout",
     "output_type": "stream",
     "text": [
      "\n"
     ]
    },
    {
     "data": {
      "application/vnd.jupyter.widget-view+json": {
       "model_id": "20129e136efc4079b283eeb10fbd7576",
       "version_major": 2,
       "version_minor": 0
      },
      "text/plain": [
       "HBox(children=(IntProgress(value=0, max=7154), HTML(value='')))"
      ]
     },
     "metadata": {},
     "output_type": "display_data"
    },
    {
     "name": "stdout",
     "output_type": "stream",
     "text": [
      "\n"
     ]
    },
    {
     "data": {
      "application/vnd.jupyter.widget-view+json": {
       "model_id": "79bcedd4667640fbafbb21aff84beeea",
       "version_major": 2,
       "version_minor": 0
      },
      "text/plain": [
       "HBox(children=(IntProgress(value=0, max=1), HTML(value='')))"
      ]
     },
     "metadata": {},
     "output_type": "display_data"
    },
    {
     "name": "stdout",
     "output_type": "stream",
     "text": [
      "\n"
     ]
    },
    {
     "data": {
      "application/vnd.jupyter.widget-view+json": {
       "model_id": "6b5a79d2e2f14059b34c3e4b47d8f1b7",
       "version_major": 2,
       "version_minor": 0
      },
      "text/plain": [
       "HBox(children=(IntProgress(value=0, max=1623), HTML(value='')))"
      ]
     },
     "metadata": {},
     "output_type": "display_data"
    },
    {
     "name": "stdout",
     "output_type": "stream",
     "text": [
      "\n"
     ]
    },
    {
     "data": {
      "application/vnd.jupyter.widget-view+json": {
       "model_id": "5f39adfff56542d99f1f2d4c9978178f",
       "version_major": 2,
       "version_minor": 0
      },
      "text/plain": [
       "HBox(children=(IntProgress(value=0, max=6449), HTML(value='')))"
      ]
     },
     "metadata": {},
     "output_type": "display_data"
    },
    {
     "name": "stdout",
     "output_type": "stream",
     "text": [
      "\n"
     ]
    },
    {
     "data": {
      "application/vnd.jupyter.widget-view+json": {
       "model_id": "c9c54fca6cae439abc923f1896a1521b",
       "version_major": 2,
       "version_minor": 0
      },
      "text/plain": [
       "HBox(children=(IntProgress(value=0, max=3993), HTML(value='')))"
      ]
     },
     "metadata": {},
     "output_type": "display_data"
    },
    {
     "name": "stdout",
     "output_type": "stream",
     "text": [
      "\n"
     ]
    },
    {
     "data": {
      "application/vnd.jupyter.widget-view+json": {
       "model_id": "cfbd79890bc5468fb835861d7833a6cc",
       "version_major": 2,
       "version_minor": 0
      },
      "text/plain": [
       "HBox(children=(IntProgress(value=0, max=8038), HTML(value='')))"
      ]
     },
     "metadata": {},
     "output_type": "display_data"
    },
    {
     "name": "stdout",
     "output_type": "stream",
     "text": [
      "\n"
     ]
    }
   ],
   "source": [
    "for x in files_path:\n",
    "    main_analyzes(x, 2)"
   ]
  },
  {
   "cell_type": "code",
   "execution_count": null,
   "metadata": {},
   "outputs": [],
   "source": []
  }
 ],
 "metadata": {
  "kernelspec": {
   "display_name": "Python 3",
   "language": "python",
   "name": "python3"
  },
  "language_info": {
   "codemirror_mode": {
    "name": "ipython",
    "version": 3
   },
   "file_extension": ".py",
   "mimetype": "text/x-python",
   "name": "python",
   "nbconvert_exporter": "python",
   "pygments_lexer": "ipython3",
   "version": "3.7.4"
  }
 },
 "nbformat": 4,
 "nbformat_minor": 2
}
