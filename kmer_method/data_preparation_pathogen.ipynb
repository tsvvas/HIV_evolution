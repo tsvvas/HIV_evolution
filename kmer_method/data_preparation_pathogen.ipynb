{
 "cells": [
  {
   "cell_type": "code",
   "execution_count": 3,
   "metadata": {},
   "outputs": [],
   "source": [
    "import numpy as np\n",
    "import scipy as scp\n",
    "from sklearn import preprocessing\n",
    "import warnings\n",
    "warnings.filterwarnings(\"ignore\")\n",
    "from Bio import SeqIO\n",
    "import pandas as pd\n",
    "import tqdm\n",
    "import re\n",
    "from os import listdir\n",
    "from os.path import isfile, join"
   ]
  },
  {
   "cell_type": "markdown",
   "metadata": {},
   "source": [
    "### Method for finding entry indices:"
   ]
  },
  {
   "cell_type": "code",
   "execution_count": 171,
   "metadata": {},
   "outputs": [],
   "source": [
    "def occurrences_count(string, sub):\n",
    "    '''\n",
    "    Counting all ocurrances of substring in string using find() method\n",
    "    variables:\n",
    "        string - string where to find\n",
    "        sub - string to find\n",
    "    '''\n",
    "    count = start = 0\n",
    "    while True:\n",
    "        start = string.find(sub, start) + 1\n",
    "        if start > 0:\n",
    "            count+=1\n",
    "        else:\n",
    "            return count"
   ]
  },
  {
   "cell_type": "code",
   "execution_count": 206,
   "metadata": {},
   "outputs": [],
   "source": [
    "def occurrences_re(text, sub):\n",
    "    '''\n",
    "    Counting all ocurrances of substring in string using re expressions method\n",
    "    variables:\n",
    "        string - string where to find\n",
    "        sub - string to find\n",
    "    '''\n",
    "    return len(re.findall('(?={0})'.format(sub), text))"
   ]
  },
  {
   "cell_type": "code",
   "execution_count": 150,
   "metadata": {},
   "outputs": [
    {
     "data": {
      "text/plain": [
       "1"
      ]
     },
     "execution_count": 150,
     "metadata": {},
     "output_type": "execute_result"
    }
   ],
   "source": [
    "# Showing overlapping problem\n",
    "\n",
    "string = 'klasklaskl'\n",
    "string.count('klaskl')"
   ]
  },
  {
   "cell_type": "markdown",
   "metadata": {},
   "source": [
    "### Data:"
   ]
  },
  {
   "cell_type": "code",
   "execution_count": 25,
   "metadata": {},
   "outputs": [
    {
     "data": {
      "text/plain": [
       "'ARNDCQEGHILKMFPSTWYV'"
      ]
     },
     "execution_count": 25,
     "metadata": {},
     "output_type": "execute_result"
    }
   ],
   "source": [
    "# For example we will try to find all needed vectors for 4-mers\n",
    "\n",
    "import itertools\n",
    "\n",
    "\n",
    "# Amino acid data\n",
    "\n",
    "global amino_dict\n",
    "amino_dict = { 'ALA': 'A', 'ARG': 'R',\n",
    "                  'ASN': 'N', 'ASP': 'D',\n",
    "                  'CYS': 'C', 'GLN': 'Q',\n",
    "                  'GLU': 'E', 'GLY': 'G',\n",
    "                  'HIS': 'H', 'ILE': 'I',\n",
    "                  'LEU': 'L', 'LYS': 'K',\n",
    "                  'MET': 'M', 'PHE': 'F',\n",
    "                  'PRO': 'P', 'SER': 'S',\n",
    "                  'THR': 'T', 'TRP': 'W',\n",
    "                  'TYR': 'Y', 'VAL': 'V' }\n",
    "\n",
    "list_amino = list(amino_dict.values())\n",
    "\n",
    "global amino_string\n",
    "\n",
    "amino_string = ''.join(x for x in list_amino)\n",
    "\n",
    "del list_amino\n",
    "\n",
    "amino_string"
   ]
  },
  {
   "cell_type": "code",
   "execution_count": 28,
   "metadata": {},
   "outputs": [
    {
     "name": "stdout",
     "output_type": "stream",
     "text": [
      "160000\n"
     ]
    }
   ],
   "source": [
    "# Make all posible combinations\n",
    "# K-mer = 4\n",
    "\n",
    "def making_subseq(k):\n",
    "    '''Making all subsequences using aminoacids'''\n",
    "    subseq_iter = itertools.product(amino_string, repeat = k)\n",
    "    subseq_list = list(subseq_iter)\n",
    "    del subseq_iter\n",
    "    for i in range(len(subseq_list)):\n",
    "        tup = subseq_list[i]\n",
    "        subseq_list[i] = ''.join(tup)\n",
    "    return subseq_list"
   ]
  },
  {
   "cell_type": "code",
   "execution_count": 46,
   "metadata": {},
   "outputs": [],
   "source": [
    "def read_fasta_file(path):\n",
    "    '''\n",
    "    Reading fasta file\n",
    "    return list (whole organism) of lists (for each protein) of SeqRecords\n",
    "    '''\n",
    "    fasta_test_file = SeqIO.parse(path, 'fasta')\n",
    "    record_list = list(fasta_test_file)\n",
    "    org_name = path.replace('../data/fasta/', '').replace('.fasta', '')\n",
    "    \n",
    "    return record_list, org_name"
   ]
  },
  {
   "cell_type": "markdown",
   "metadata": {},
   "source": [
    "### Sequence analyzing functions:"
   ]
  },
  {
   "cell_type": "code",
   "execution_count": 80,
   "metadata": {},
   "outputs": [
    {
     "data": {
      "text/plain": [
       "('sp|O84499|COAE_CHLTR',\n",
       " 'MLDLLKISVTGDPSSGKTEACQVFEDLGAYVISADKVSHSFLVPYTSVGQRIIDLLGPEIIIENTLSRKAIAEKVFGNRDLLLSLEEILHPEVCRFVEEKYAHVVQEQKYPLFIAEFPLLYEIQYADWFDQVILISADTGIRKERFLKKTGGSDTSFDLRCARFSSLEEKILRADVVIENNGTKEEFRRKVKQCFKALKGTI')"
      ]
     },
     "execution_count": 80,
     "metadata": {},
     "output_type": "execute_result"
    }
   ],
   "source": [
    "def seqio_data(seq_record):\n",
    "    '''\n",
    "    working with SeqRecord class\n",
    "    \n",
    "    parametrs:\n",
    "        seq_record: SeqRecord class from Biopython\n",
    "    \n",
    "    return protein name and sequence\n",
    "    '''\n",
    "    protein = seq_record.name\n",
    "    seq = str(seq_record.seq)\n",
    "    \n",
    "    return protein, seq\n",
    "\n",
    "#seqio_data(SeqRecord)"
   ]
  },
  {
   "cell_type": "code",
   "execution_count": 23,
   "metadata": {},
   "outputs": [],
   "source": [
    "# Functions to make index vectors\n",
    "# May be helpful in future\n",
    "\n",
    "def vectorizing_single_subseq(string, subseq, n, k_mer_num,\n",
    "                              knutt_morris:callable):\n",
    "    '''\n",
    "    finding subseq's entry index vector for subseq for some string\n",
    "    return vector\n",
    "    '''\n",
    "    \n",
    "    #n = len(string)\n",
    "    #m = len(subseq)\n",
    "    \n",
    "    vector = [0 for k in range(n-k_mer_num+1)]\n",
    "    \n",
    "    list_entry = knutt_morris(string, subseq)\n",
    "    \n",
    "    for x in list_entry:\n",
    "        vector[x] = 1\n",
    "        \n",
    "    return np.array(vector)\n",
    "\n",
    "def vectorizing_all_subseq(string, subseq_list,\n",
    "                           vectorizing_single_subseq:callable):\n",
    "    '''\n",
    "    finding subseq's entry index vector for all subseqs from subseq_list\n",
    "    !!! return dict: subseq -> vector\n",
    "    '''\n",
    "    n = len(string)\n",
    "    k_mer_num = len(subseq_list[0])\n",
    "    \n",
    "    vector_list = []\n",
    "    #matrix = []\n",
    "    \n",
    "    for subseq in subseq_list:\n",
    "        vector = vectorizing_single_subseq(string, subseq, n, k_mer_num, knutt_morris)\n",
    "        vector = vector.reshape((-1, 1))\n",
    "        del vector\n",
    "        vector_list.append(vector)\n",
    "    \n",
    "    return dict(zip(subseq_list, vector_list))"
   ]
  },
  {
   "cell_type": "code",
   "execution_count": 221,
   "metadata": {},
   "outputs": [],
   "source": [
    "# Freq\n",
    "\n",
    "def finding_freq_single_protein(seq, subseq_list):\n",
    "    \n",
    "    '''Finding frequnces for subsequences in single protein\n",
    "    and scaling it with SKlearn StandardScaler()\n",
    "    return vector_freq'''\n",
    "    n = len(seq)\n",
    "    k = len(subseq_list[0])\n",
    "    \n",
    "    vector_freq = []\n",
    "    \n",
    "    for x in subseq_list:\n",
    "        vector_freq.append(float(occurrences_count(seq, x))/n)\n",
    "    \n",
    "    vector_freq = np.array(vector_freq)\n",
    "    vector_freq = vector_freq.reshape((-1, 1))\n",
    "    scaler = preprocessing.StandardScaler()\n",
    "    vector_freq_scaled = scaler.fit_transform(vector_freq)\n",
    "    del vector_freq\n",
    "    \n",
    "    return list(vector_freq_scaled)"
   ]
  },
  {
   "cell_type": "markdown",
   "metadata": {},
   "source": [
    "### Main:"
   ]
  },
  {
   "cell_type": "code",
   "execution_count": 214,
   "metadata": {},
   "outputs": [],
   "source": [
    "def main_analyzes(path, k_mer_num):\n",
    "    '''\n",
    "    Lego construction with all functions above\n",
    "    return:\n",
    "        organism name\n",
    "        list of proteins\n",
    "        list of frequency vectors scaled\n",
    "        '''\n",
    "    \n",
    "    # initializing subseqs\n",
    "    subseq_list = making_subseq(k_mer_num)\n",
    "    table_columns = ['Organism', 'Protein'] + subseq_list\n",
    "    proteins_data = pd.DataFrame(columns=table_columns)\n",
    "    \n",
    "    # Variables\n",
    "    organism_name = ''\n",
    "      \n",
    "    #reading\n",
    "    prot_records, organism_name = read_fasta_file(path)\n",
    "    \n",
    "    index = 0\n",
    "    \n",
    "    #prot_records stuff\n",
    "    for i in tqdm.tqdm_notebook(range(len(prot_records))):\n",
    "        seq_record = prot_records[i]\n",
    "        prot_name, seq = seqio_data(seq_record)\n",
    "        freq_vector = finding_freq_single_protein(seq,subseq_list)\n",
    "        adding_row = []\n",
    "        adding_row.append(organism_name)\n",
    "        adding_row.append(prot_name)\n",
    "        adding_row += freq_vector\n",
    "        proteins_data.loc[index] = adding_row\n",
    "        index += 1\n",
    "    writing_path = 'csv_data/' + organism_name + '.csv'\n",
    "    \n",
    "    proteins_data.to_csv(writing_path)      \n",
    "    \n",
    "    del prot_records\n",
    "    \n",
    "    return 0"
   ]
  },
  {
   "cell_type": "code",
   "execution_count": 215,
   "metadata": {},
   "outputs": [
    {
     "name": "stdout",
     "output_type": "stream",
     "text": [
      "../data/fasta/human_proteome.fasta\n"
     ]
    }
   ],
   "source": [
    "# all paths\n",
    "\n",
    "data_files = [f for f in listdir('../data/fasta') if isfile(join('../data/fasta', f))]\n",
    "files_path = []\n",
    "for i in range(len(data_files)):\n",
    "    files_path.append('../data/fasta/'+ data_files[i])\n",
    "print(files_path.pop(7))"
   ]
  },
  {
   "cell_type": "code",
   "execution_count": 217,
   "metadata": {},
   "outputs": [
    {
     "data": {
      "application/vnd.jupyter.widget-view+json": {
       "model_id": "28695abf56084e76819830bba6c543d5",
       "version_major": 2,
       "version_minor": 0
      },
      "text/plain": [
       "HBox(children=(IntProgress(value=0, max=895), HTML(value='')))"
      ]
     },
     "metadata": {},
     "output_type": "display_data"
    },
    {
     "data": {
      "application/vnd.jupyter.widget-view+json": {
       "model_id": "ea1303d2c10c4e179c6f99cf3c281ef7",
       "version_major": 2,
       "version_minor": 0
      },
      "text/plain": [
       "HBox(children=(IntProgress(value=0, max=3762), HTML(value='')))"
      ]
     },
     "metadata": {},
     "output_type": "display_data"
    },
    {
     "data": {
      "application/vnd.jupyter.widget-view+json": {
       "model_id": "d9c533cbf94843edb4b292857830c5c5",
       "version_major": 2,
       "version_minor": 0
      },
      "text/plain": [
       "HBox(children=(IntProgress(value=0, max=190), HTML(value='')))"
      ]
     },
     "metadata": {},
     "output_type": "display_data"
    },
    {
     "data": {
      "application/vnd.jupyter.widget-view+json": {
       "model_id": "072dbea13d374dccbb7c3a7a4a2e3d65",
       "version_major": 2,
       "version_minor": 0
      },
      "text/plain": [
       "HBox(children=(IntProgress(value=0, max=1623), HTML(value='')))"
      ]
     },
     "metadata": {},
     "output_type": "display_data"
    },
    {
     "data": {
      "application/vnd.jupyter.widget-view+json": {
       "model_id": "bcad8e2539ce47b4a4107433b37003b1",
       "version_major": 2,
       "version_minor": 0
      },
      "text/plain": [
       "HBox(children=(IntProgress(value=0, max=79), HTML(value='')))"
      ]
     },
     "metadata": {},
     "output_type": "display_data"
    },
    {
     "data": {
      "application/vnd.jupyter.widget-view+json": {
       "model_id": "5c0de9aa1efa484191114fac68eb7720",
       "version_major": 2,
       "version_minor": 0
      },
      "text/plain": [
       "HBox(children=(IntProgress(value=0, max=2), HTML(value='')))"
      ]
     },
     "metadata": {},
     "output_type": "display_data"
    },
    {
     "data": {
      "application/vnd.jupyter.widget-view+json": {
       "model_id": "f4e8839a0c8c42029606b87cd9eb6e7b",
       "version_major": 2,
       "version_minor": 0
      },
      "text/plain": [
       "HBox(children=(IntProgress(value=0, max=9), HTML(value='')))"
      ]
     },
     "metadata": {},
     "output_type": "display_data"
    },
    {
     "data": {
      "application/vnd.jupyter.widget-view+json": {
       "model_id": "97b29211b3a142cfa029cd329e4ff6e8",
       "version_major": 2,
       "version_minor": 0
      },
      "text/plain": [
       "HBox(children=(IntProgress(value=0, max=5126), HTML(value='')))"
      ]
     },
     "metadata": {},
     "output_type": "display_data"
    },
    {
     "data": {
      "application/vnd.jupyter.widget-view+json": {
       "model_id": "0f124427cc6a472291629ba3e3424eaa",
       "version_major": 2,
       "version_minor": 0
      },
      "text/plain": [
       "HBox(children=(IntProgress(value=0, max=6602), HTML(value='')))"
      ]
     },
     "metadata": {},
     "output_type": "display_data"
    },
    {
     "data": {
      "application/vnd.jupyter.widget-view+json": {
       "model_id": "66c2d31e86024a248a8415c9a0cf893e",
       "version_major": 2,
       "version_minor": 0
      },
      "text/plain": [
       "HBox(children=(IntProgress(value=0, max=687), HTML(value='')))"
      ]
     },
     "metadata": {},
     "output_type": "display_data"
    },
    {
     "data": {
      "application/vnd.jupyter.widget-view+json": {
       "model_id": "34c883712e9d471ab9e22e0789a187de",
       "version_major": 2,
       "version_minor": 0
      },
      "text/plain": [
       "HBox(children=(IntProgress(value=0, max=679), HTML(value='')))"
      ]
     },
     "metadata": {},
     "output_type": "display_data"
    },
    {
     "data": {
      "application/vnd.jupyter.widget-view+json": {
       "model_id": "88b3d04ea9314e9e968e784a9b7630e8",
       "version_major": 2,
       "version_minor": 0
      },
      "text/plain": [
       "HBox(children=(IntProgress(value=0, max=4103), HTML(value='')))"
      ]
     },
     "metadata": {},
     "output_type": "display_data"
    },
    {
     "data": {
      "application/vnd.jupyter.widget-view+json": {
       "model_id": "9efda5d5e3444bf9918ad5da9cf8c3c5",
       "version_major": 2,
       "version_minor": 0
      },
      "text/plain": [
       "HBox(children=(IntProgress(value=0, max=4533), HTML(value='')))"
      ]
     },
     "metadata": {},
     "output_type": "display_data"
    },
    {
     "data": {
      "application/vnd.jupyter.widget-view+json": {
       "model_id": "39a8b78a605b4324ad56552df94df597",
       "version_major": 2,
       "version_minor": 0
      },
      "text/plain": [
       "HBox(children=(IntProgress(value=0, max=3909), HTML(value='')))"
      ]
     },
     "metadata": {},
     "output_type": "display_data"
    },
    {
     "data": {
      "application/vnd.jupyter.widget-view+json": {
       "model_id": "774783fd74ca4be7930e7c42aebb8a69",
       "version_major": 2,
       "version_minor": 0
      },
      "text/plain": [
       "HBox(children=(IntProgress(value=0, max=1), HTML(value='')))"
      ]
     },
     "metadata": {},
     "output_type": "display_data"
    }
   ],
   "source": [
    "for x in files_path:\n",
    "    main_analyzes(x, 2)"
   ]
  },
  {
   "cell_type": "code",
   "execution_count": 5,
   "metadata": {},
   "outputs": [
    {
     "data": {
      "text/plain": [
       "5.0"
      ]
     },
     "execution_count": 5,
     "metadata": {},
     "output_type": "execute_result"
    }
   ],
   "source": [
    "np.floor(5.5)"
   ]
  },
  {
   "cell_type": "code",
   "execution_count": null,
   "metadata": {},
   "outputs": [],
   "source": []
  }
 ],
 "metadata": {
  "kernelspec": {
   "display_name": "Python 3",
   "language": "python",
   "name": "python3"
  },
  "language_info": {
   "codemirror_mode": {
    "name": "ipython",
    "version": 3
   },
   "file_extension": ".py",
   "mimetype": "text/x-python",
   "name": "python",
   "nbconvert_exporter": "python",
   "pygments_lexer": "ipython3",
   "version": "3.7.3"
  }
 },
 "nbformat": 4,
 "nbformat_minor": 2
}
