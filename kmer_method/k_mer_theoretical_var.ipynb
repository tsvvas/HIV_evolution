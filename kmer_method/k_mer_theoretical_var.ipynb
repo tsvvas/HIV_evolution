{
 "cells": [
  {
   "cell_type": "code",
   "execution_count": 24,
   "metadata": {},
   "outputs": [],
   "source": [
    "import numpy as np\n",
    "import scipy as scp\n",
    "from sklearn import preprocessing\n",
    "import warnings\n",
    "warnings.filterwarnings(\"ignore\")\n",
    "from Bio import SeqIO\n",
    "import pandas as pd\n",
    "import tqdm\n",
    "import re\n",
    "from os import listdir\n",
    "from os.path import isfile, join"
   ]
  },
  {
   "cell_type": "markdown",
   "metadata": {},
   "source": [
    "* Calculating E and var using this stuff https://www.ncbi.nlm.nih.gov/pmc/articles/PMC2423438/\n",
    "* This notebook will be without a lot of commentaries. I am sorry for that."
   ]
  },
  {
   "cell_type": "markdown",
   "metadata": {},
   "source": [
    "#### old func"
   ]
  },
  {
   "cell_type": "code",
   "execution_count": 5,
   "metadata": {},
   "outputs": [
    {
     "data": {
      "text/plain": [
       "'ARNDCQEGHILKMFPSTWYV'"
      ]
     },
     "execution_count": 5,
     "metadata": {},
     "output_type": "execute_result"
    }
   ],
   "source": [
    "# For example we will try to find all needed vectors for 4-mers\n",
    "\n",
    "import itertools\n",
    "\n",
    "\n",
    "# Amino acid data\n",
    "\n",
    "global amino_dict\n",
    "amino_dict = { 'ALA': 'A', 'ARG': 'R',\n",
    "                  'ASN': 'N', 'ASP': 'D',\n",
    "                  'CYS': 'C', 'GLN': 'Q',\n",
    "                  'GLU': 'E', 'GLY': 'G',\n",
    "                  'HIS': 'H', 'ILE': 'I',\n",
    "                  'LEU': 'L', 'LYS': 'K',\n",
    "                  'MET': 'M', 'PHE': 'F',\n",
    "                  'PRO': 'P', 'SER': 'S',\n",
    "                  'THR': 'T', 'TRP': 'W',\n",
    "                  'TYR': 'Y', 'VAL': 'V' }\n",
    "\n",
    "list_amino = list(amino_dict.values())\n",
    "\n",
    "global amino_string\n",
    "\n",
    "amino_string = ''.join(x for x in list_amino)\n",
    "\n",
    "del list_amino\n",
    "\n",
    "amino_string"
   ]
  },
  {
   "cell_type": "code",
   "execution_count": 6,
   "metadata": {},
   "outputs": [],
   "source": [
    "# Make all posible combinations\n",
    "# K-mer = 4\n",
    "\n",
    "def making_subseq(k):\n",
    "    '''Making all subsequences using aminoacids'''\n",
    "    subseq_iter = itertools.product(amino_string, repeat = k)\n",
    "    subseq_list = list(subseq_iter)\n",
    "    del subseq_iter\n",
    "    for i in range(len(subseq_list)):\n",
    "        tup = subseq_list[i]\n",
    "        subseq_list[i] = ''.join(tup)\n",
    "    return subseq_list"
   ]
  },
  {
   "cell_type": "code",
   "execution_count": 21,
   "metadata": {},
   "outputs": [],
   "source": [
    "def seqio_data(seq_record):\n",
    "    '''\n",
    "    working with SeqRecord class\n",
    "    \n",
    "    parametrs:\n",
    "        seq_record: SeqRecord class from Biopython\n",
    "    \n",
    "    return protein name and sequence\n",
    "    '''\n",
    "    protein = seq_record.name\n",
    "    seq = str(seq_record.seq)\n",
    "    \n",
    "    return protein, seq\n"
   ]
  },
  {
   "cell_type": "code",
   "execution_count": 7,
   "metadata": {},
   "outputs": [],
   "source": [
    "def read_fasta_file(path):\n",
    "    '''\n",
    "    Reading fasta file\n",
    "    return list (whole organism) of lists (for each protein) of SeqRecords\n",
    "    '''\n",
    "    fasta_test_file = SeqIO.parse(path, 'fasta')\n",
    "    record_list = list(fasta_test_file)\n",
    "    org_name = path.replace('../data/fasta/', '').replace('.fasta', '')\n",
    "    \n",
    "    return record_list, org_name"
   ]
  },
  {
   "cell_type": "code",
   "execution_count": 13,
   "metadata": {},
   "outputs": [],
   "source": [
    "def occurrences_list(string, sub):\n",
    "    '''\n",
    "    Finding all ocurrances of substring in string using find() method\n",
    "    variables:\n",
    "        string - string where to find\n",
    "        sub - string to find\n",
    "    '''\n",
    "    res = []\n",
    "    start = 0\n",
    "    while True:\n",
    "        start = string.find(sub, start) + 1\n",
    "        if start > 0:\n",
    "            res.append(start)\n",
    "        else:\n",
    "            return res"
   ]
  },
  {
   "cell_type": "code",
   "execution_count": 18,
   "metadata": {},
   "outputs": [],
   "source": [
    "def occurrences_count(string, sub):\n",
    "    '''\n",
    "    Counting all ocurrances of substring in string using find() method\n",
    "    variables:\n",
    "        string - string where to find\n",
    "        sub - string to find\n",
    "    '''\n",
    "    count = start = 0\n",
    "    while True:\n",
    "        start = string.find(sub, start) + 1\n",
    "        if start > 0:\n",
    "            count+=1\n",
    "        else:\n",
    "            return count"
   ]
  },
  {
   "cell_type": "markdown",
   "metadata": {},
   "source": [
    "#### new func"
   ]
  },
  {
   "cell_type": "code",
   "execution_count": 2,
   "metadata": {},
   "outputs": [],
   "source": [
    "def expected_value(n, k):\n",
    "    '''\n",
    "    Calculating expected value for frequency for k-mer (subsequence) in sequnce with the length = n.\n",
    "    return expected_value:float\n",
    "    '''\n",
    "    return (n-k+1)/(20**k)"
   ]
  },
  {
   "cell_type": "code",
   "execution_count": 53,
   "metadata": {},
   "outputs": [],
   "source": [
    "def jey_t(subseq):\n",
    "    '''\n",
    "    Function to find prefix-suffix similarities in subsequence.\n",
    "    return: \n",
    "        list(len=k-1)\n",
    "    '''\n",
    "    k = len(subseq)\n",
    "    J_t = [] #what to return\n",
    "    for t in range(1, k):\n",
    "        #print(t, k)\n",
    "        index = int(k-t)\n",
    "        if subseq[0:index] == subseq[index:k]:\n",
    "            J_t.append(1)\n",
    "        else:\n",
    "            J_t.append(0)\n",
    "    return J_t"
   ]
  },
  {
   "cell_type": "code",
   "execution_count": 51,
   "metadata": {},
   "outputs": [],
   "source": [
    "def std_variance_string(n, subseq, k):\n",
    "    '''\n",
    "    Calcualting variance for frequency for k-mer (subsequence) in sequnce with the length = n.\n",
    "    return:\n",
    "        variance:float\n",
    "    '''\n",
    "    J_t = jey_t(subseq)\n",
    "    a1 = ((n-k+1)/(20**k))*(1-1/(20**k))\n",
    "    a2 = (2/(20**(2*k)))*(n-(3/2)*k+1)\n",
    "    \n",
    "    a3_0 = 0\n",
    "    for t in range(1, k):\n",
    "        a3_0 += (n-k+1-t)*J_t[t-1]/(20**t)\n",
    "    a3 = a3_0*2/(20**k)\n",
    "    \n",
    "    return (np.sqrt(a1-a2+a3))"
   ]
  },
  {
   "cell_type": "code",
   "execution_count": 46,
   "metadata": {},
   "outputs": [],
   "source": [
    "def normalize_freq(freq, subseq, n, k):\n",
    "    '''\n",
    "    Using expected value and std.variance for for frequency for k-mer (subsequence) \n",
    "    in sequnce with the length = n. Formula used: (freq-e)/std_var/\n",
    "    return:\n",
    "        normalization_freq:float\n",
    "    '''\n",
    "    e = expected_value(n, k)\n",
    "    std_var = std_variance_string(n, subseq, k)\n",
    "    \n",
    "    return (freq - e)/std_var"
   ]
  },
  {
   "cell_type": "code",
   "execution_count": 47,
   "metadata": {},
   "outputs": [],
   "source": [
    "def finding_freq_single_protein(seq, subseq_list):\n",
    "    \n",
    "    '''Finding frequnces for subsequences in single protein\n",
    "    and scaling it with SKlearn StandardScaler()\n",
    "    return vector_freq'''\n",
    "    \n",
    "    n = len(seq)\n",
    "    k = len(subseq_list[0])\n",
    "    \n",
    "    vector_freq_norm = []\n",
    "      \n",
    "    for subseq in subseq_list:\n",
    "        res = normalize_freq(occurrences_count(seq, subseq), subseq, n, k)\n",
    "        vector_freq_norm.append(res)\n",
    "    \n",
    "    return list(vector_freq_norm)"
   ]
  },
  {
   "cell_type": "code",
   "execution_count": 54,
   "metadata": {},
   "outputs": [],
   "source": [
    "def main_analyzes(path, k_mer_num, part_begin=0, part_end = 1):\n",
    "    '''\n",
    "    Lego construction with all functions above\n",
    "    param:\n",
    "        part from 0 to 1 (default=1) - part of data to take\n",
    "    return:\n",
    "        organism name\n",
    "        list of proteins\n",
    "        list of frequency vectors scaled\n",
    "        '''\n",
    "    \n",
    "    # initializing subseqs\n",
    "    subseq_list = making_subseq(k_mer_num)\n",
    "    table_columns = ['Organism', 'Protein'] + subseq_list\n",
    "    proteins_data = pd.DataFrame(columns=table_columns)\n",
    "    \n",
    "    # Variables\n",
    "    organism_name = ''\n",
    "      \n",
    "    #reading\n",
    "    prot_records, organism_name = read_fasta_file(path)\n",
    "    \n",
    "    index = 0\n",
    "    \n",
    "    #prot_records stuff\n",
    "    for i in tqdm.tqdm_notebook(range(int(np.floor(len(prot_records)*part_begin)),int(np.floor(len(prot_records)*part_end)))):\n",
    "        seq_record = prot_records[i]\n",
    "        prot_name, seq = seqio_data(seq_record)\n",
    "        freq_vector = finding_freq_single_protein(seq,subseq_list)\n",
    "        adding_row = []\n",
    "        adding_row.append(organism_name)\n",
    "        adding_row.append(prot_name)\n",
    "        adding_row += freq_vector\n",
    "        proteins_data.loc[index] = adding_row\n",
    "        index += 1\n",
    "    \n",
    "    if part_end == 1 and part_begin == 0:\n",
    "        writing_path = 'csv_data_math/' + organism_name + '.csv'\n",
    "    else:\n",
    "        writing_path = 'csv_data_math/' + organism_name + '_part_begin_' + str(part_begin) + '_part_end_' + str(part_end) + '.csv'\n",
    "    \n",
    "    proteins_data.to_csv(writing_path)      \n",
    "    \n",
    "    del prot_records\n",
    "    \n",
    "    return 0"
   ]
  },
  {
   "cell_type": "code",
   "execution_count": 55,
   "metadata": {},
   "outputs": [
    {
     "name": "stdout",
     "output_type": "stream",
     "text": [
      "../data/fasta/human_proteome.fasta\n"
     ]
    }
   ],
   "source": [
    "# all paths\n",
    "\n",
    "data_files = [f for f in listdir('../data/fasta') if isfile(join('../data/fasta', f))]\n",
    "files_path = []\n",
    "for i in range(len(data_files)):\n",
    "    files_path.append('../data/fasta/'+ data_files[i])\n",
    "print(files_path.pop(7))"
   ]
  },
  {
   "cell_type": "code",
   "execution_count": 56,
   "metadata": {},
   "outputs": [
    {
     "data": {
      "text/plain": [
       "['CLMD_trachomatis.fasta',\n",
       " 'CLOS_difficile.fasta',\n",
       " 'CMV_AD169.fasta',\n",
       " 'CPBT_jejuni.fasta',\n",
       " 'EBV_AG876.fasta',\n",
       " 'HCV_IsoH.fasta',\n",
       " 'HIV1_HXB2.fasta',\n",
       " 'human_proteome.fasta',\n",
       " 'KLEB_pneumoniae.fasta',\n",
       " 'MYBT_smegmatis.fasta',\n",
       " 'MYPL_pneumoniae.fasta',\n",
       " 'MYPL_synoviae.fasta',\n",
       " 'SHGL_flexneri.fasta',\n",
       " 'SLML_typhimurium.fasta',\n",
       " 'YERS_pestis.fasta',\n",
       " 'YFV_17D.fasta']"
      ]
     },
     "execution_count": 56,
     "metadata": {},
     "output_type": "execute_result"
    }
   ],
   "source": [
    "data_files"
   ]
  },
  {
   "cell_type": "code",
   "execution_count": 57,
   "metadata": {},
   "outputs": [
    {
     "data": {
      "application/vnd.jupyter.widget-view+json": {
       "model_id": "d738480f6cb0470c9ea717e1d3a8d36b",
       "version_major": 2,
       "version_minor": 0
      },
      "text/plain": [
       "HBox(children=(IntProgress(value=0, max=895), HTML(value='')))"
      ]
     },
     "metadata": {},
     "output_type": "display_data"
    },
    {
     "name": "stdout",
     "output_type": "stream",
     "text": [
      "\n"
     ]
    },
    {
     "data": {
      "application/vnd.jupyter.widget-view+json": {
       "model_id": "2b0dd3a985f04a4a87912e4d81b494d9",
       "version_major": 2,
       "version_minor": 0
      },
      "text/plain": [
       "HBox(children=(IntProgress(value=0, max=3762), HTML(value='')))"
      ]
     },
     "metadata": {},
     "output_type": "display_data"
    },
    {
     "name": "stdout",
     "output_type": "stream",
     "text": [
      "\n"
     ]
    },
    {
     "data": {
      "application/vnd.jupyter.widget-view+json": {
       "model_id": "24805dbd778b4573813badfbc5ec67e6",
       "version_major": 2,
       "version_minor": 0
      },
      "text/plain": [
       "HBox(children=(IntProgress(value=0, max=190), HTML(value='')))"
      ]
     },
     "metadata": {},
     "output_type": "display_data"
    },
    {
     "name": "stdout",
     "output_type": "stream",
     "text": [
      "\n"
     ]
    },
    {
     "data": {
      "application/vnd.jupyter.widget-view+json": {
       "model_id": "b8e71b21857442898db0b6522551a2ed",
       "version_major": 2,
       "version_minor": 0
      },
      "text/plain": [
       "HBox(children=(IntProgress(value=0, max=1623), HTML(value='')))"
      ]
     },
     "metadata": {},
     "output_type": "display_data"
    },
    {
     "name": "stdout",
     "output_type": "stream",
     "text": [
      "\n"
     ]
    },
    {
     "data": {
      "application/vnd.jupyter.widget-view+json": {
       "model_id": "fb733cf40c29408d9dcc192ab0bc75df",
       "version_major": 2,
       "version_minor": 0
      },
      "text/plain": [
       "HBox(children=(IntProgress(value=0, max=79), HTML(value='')))"
      ]
     },
     "metadata": {},
     "output_type": "display_data"
    },
    {
     "name": "stdout",
     "output_type": "stream",
     "text": [
      "\n"
     ]
    },
    {
     "data": {
      "application/vnd.jupyter.widget-view+json": {
       "model_id": "0b3d2a0af516484aa794890485c8defd",
       "version_major": 2,
       "version_minor": 0
      },
      "text/plain": [
       "HBox(children=(IntProgress(value=0, max=2), HTML(value='')))"
      ]
     },
     "metadata": {},
     "output_type": "display_data"
    },
    {
     "name": "stdout",
     "output_type": "stream",
     "text": [
      "\n"
     ]
    },
    {
     "data": {
      "application/vnd.jupyter.widget-view+json": {
       "model_id": "225da69ba39b4f329214f2804ad17ed3",
       "version_major": 2,
       "version_minor": 0
      },
      "text/plain": [
       "HBox(children=(IntProgress(value=0, max=9), HTML(value='')))"
      ]
     },
     "metadata": {},
     "output_type": "display_data"
    },
    {
     "name": "stdout",
     "output_type": "stream",
     "text": [
      "\n"
     ]
    },
    {
     "data": {
      "application/vnd.jupyter.widget-view+json": {
       "model_id": "9fe08f83ed5e468991b5bbfad5573ba3",
       "version_major": 2,
       "version_minor": 0
      },
      "text/plain": [
       "HBox(children=(IntProgress(value=0, max=5126), HTML(value='')))"
      ]
     },
     "metadata": {},
     "output_type": "display_data"
    },
    {
     "name": "stdout",
     "output_type": "stream",
     "text": [
      "\n"
     ]
    },
    {
     "data": {
      "application/vnd.jupyter.widget-view+json": {
       "model_id": "4beb6c52722847589137e093fc7fa6bd",
       "version_major": 2,
       "version_minor": 0
      },
      "text/plain": [
       "HBox(children=(IntProgress(value=0, max=6602), HTML(value='')))"
      ]
     },
     "metadata": {},
     "output_type": "display_data"
    },
    {
     "name": "stdout",
     "output_type": "stream",
     "text": [
      "\n"
     ]
    },
    {
     "data": {
      "application/vnd.jupyter.widget-view+json": {
       "model_id": "b43b643f6927449cad50d2d86f56fc76",
       "version_major": 2,
       "version_minor": 0
      },
      "text/plain": [
       "HBox(children=(IntProgress(value=0, max=687), HTML(value='')))"
      ]
     },
     "metadata": {},
     "output_type": "display_data"
    },
    {
     "name": "stdout",
     "output_type": "stream",
     "text": [
      "\n"
     ]
    },
    {
     "data": {
      "application/vnd.jupyter.widget-view+json": {
       "model_id": "ccd77f928517403a8a48dda53dcde50b",
       "version_major": 2,
       "version_minor": 0
      },
      "text/plain": [
       "HBox(children=(IntProgress(value=0, max=679), HTML(value='')))"
      ]
     },
     "metadata": {},
     "output_type": "display_data"
    },
    {
     "name": "stdout",
     "output_type": "stream",
     "text": [
      "\n"
     ]
    },
    {
     "data": {
      "application/vnd.jupyter.widget-view+json": {
       "model_id": "b11581def482446483a8ecc674d100f8",
       "version_major": 2,
       "version_minor": 0
      },
      "text/plain": [
       "HBox(children=(IntProgress(value=0, max=4103), HTML(value='')))"
      ]
     },
     "metadata": {},
     "output_type": "display_data"
    },
    {
     "name": "stdout",
     "output_type": "stream",
     "text": [
      "\n"
     ]
    },
    {
     "data": {
      "application/vnd.jupyter.widget-view+json": {
       "model_id": "aaca68c8d6b247bb83ec93dd8eb9a5aa",
       "version_major": 2,
       "version_minor": 0
      },
      "text/plain": [
       "HBox(children=(IntProgress(value=0, max=4533), HTML(value='')))"
      ]
     },
     "metadata": {},
     "output_type": "display_data"
    },
    {
     "name": "stdout",
     "output_type": "stream",
     "text": [
      "\n"
     ]
    },
    {
     "data": {
      "application/vnd.jupyter.widget-view+json": {
       "model_id": "c7f69a6df60f474ca60c4705f6d38d50",
       "version_major": 2,
       "version_minor": 0
      },
      "text/plain": [
       "HBox(children=(IntProgress(value=0, max=3909), HTML(value='')))"
      ]
     },
     "metadata": {},
     "output_type": "display_data"
    },
    {
     "name": "stdout",
     "output_type": "stream",
     "text": [
      "\n"
     ]
    },
    {
     "data": {
      "application/vnd.jupyter.widget-view+json": {
       "model_id": "4857a92cd6694e568039f9de4925d4c2",
       "version_major": 2,
       "version_minor": 0
      },
      "text/plain": [
       "HBox(children=(IntProgress(value=0, max=1), HTML(value='')))"
      ]
     },
     "metadata": {},
     "output_type": "display_data"
    },
    {
     "name": "stdout",
     "output_type": "stream",
     "text": [
      "\n"
     ]
    }
   ],
   "source": [
    "for x in files_path:\n",
    "    main_analyzes(x, 2)"
   ]
  },
  {
   "cell_type": "code",
   "execution_count": 58,
   "metadata": {},
   "outputs": [
    {
     "data": {
      "application/vnd.jupyter.widget-view+json": {
       "model_id": "c7fad151398343e5b3e56866e54a7cad",
       "version_major": 2,
       "version_minor": 0
      },
      "text/plain": [
       "HBox(children=(IntProgress(value=0, max=22304), HTML(value='')))"
      ]
     },
     "metadata": {},
     "output_type": "display_data"
    },
    {
     "name": "stdout",
     "output_type": "stream",
     "text": [
      "\n"
     ]
    },
    {
     "data": {
      "text/plain": [
       "0"
      ]
     },
     "execution_count": 58,
     "metadata": {},
     "output_type": "execute_result"
    }
   ],
   "source": [
    "main_analyzes('../data/fasta/human_proteome.fasta', 2, part_begin=0, part_end=0.3)"
   ]
  },
  {
   "cell_type": "code",
   "execution_count": 59,
   "metadata": {},
   "outputs": [
    {
     "data": {
      "application/vnd.jupyter.widget-view+json": {
       "model_id": "6632d42258254b9f8020fbef959f3f42",
       "version_major": 2,
       "version_minor": 0
      },
      "text/plain": [
       "HBox(children=(IntProgress(value=0, max=22305), HTML(value='')))"
      ]
     },
     "metadata": {},
     "output_type": "display_data"
    },
    {
     "name": "stdout",
     "output_type": "stream",
     "text": [
      "\n"
     ]
    },
    {
     "data": {
      "text/plain": [
       "0"
      ]
     },
     "execution_count": 59,
     "metadata": {},
     "output_type": "execute_result"
    }
   ],
   "source": [
    "main_analyzes('../data/fasta/human_proteome.fasta', 2, part_begin=0.3, part_end=0.6)"
   ]
  },
  {
   "cell_type": "code",
   "execution_count": 60,
   "metadata": {},
   "outputs": [
    {
     "data": {
      "application/vnd.jupyter.widget-view+json": {
       "model_id": "225f3850aa85406b954734e69e6a43c2",
       "version_major": 2,
       "version_minor": 0
      },
      "text/plain": [
       "HBox(children=(IntProgress(value=0, max=29740), HTML(value='')))"
      ]
     },
     "metadata": {},
     "output_type": "display_data"
    },
    {
     "name": "stdout",
     "output_type": "stream",
     "text": [
      "\n"
     ]
    },
    {
     "data": {
      "text/plain": [
       "0"
      ]
     },
     "execution_count": 60,
     "metadata": {},
     "output_type": "execute_result"
    }
   ],
   "source": [
    "main_analyzes('../data/fasta/human_proteome.fasta', 2, part_begin=0.6, part_end=1)"
   ]
  }
 ],
 "metadata": {
  "kernelspec": {
   "display_name": "Python 3",
   "language": "python",
   "name": "python3"
  },
  "language_info": {
   "codemirror_mode": {
    "name": "ipython",
    "version": 3
   },
   "file_extension": ".py",
   "mimetype": "text/x-python",
   "name": "python",
   "nbconvert_exporter": "python",
   "pygments_lexer": "ipython3",
   "version": "3.7.3"
  }
 },
 "nbformat": 4,
 "nbformat_minor": 2
}
