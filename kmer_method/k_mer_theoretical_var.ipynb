{
 "cells": [
  {
   "cell_type": "code",
   "execution_count": 24,
   "metadata": {},
   "outputs": [],
   "source": [
    "import numpy as np\n",
    "import scipy as scp\n",
    "from sklearn import preprocessing\n",
    "import warnings\n",
    "warnings.filterwarnings(\"ignore\")\n",
    "from Bio import SeqIO\n",
    "import pandas as pd\n",
    "import tqdm\n",
    "import re\n",
    "from os import listdir\n",
    "from os.path import isfile, join"
   ]
  },
  {
   "cell_type": "markdown",
   "metadata": {},
   "source": [
    "* Calculating E and var using this stuff https://www.ncbi.nlm.nih.gov/pmc/articles/PMC2423438/\n",
    "* This notebook will be without a lot of commentaries. I am sorry for that."
   ]
  },
  {
   "cell_type": "markdown",
   "metadata": {},
   "source": [
    "#### old func"
   ]
  },
  {
   "cell_type": "code",
   "execution_count": 5,
   "metadata": {},
   "outputs": [
    {
     "data": {
      "text/plain": [
       "'ARNDCQEGHILKMFPSTWYV'"
      ]
     },
     "execution_count": 5,
     "metadata": {},
     "output_type": "execute_result"
    }
   ],
   "source": [
    "# For example we will try to find all needed vectors for 4-mers\n",
    "\n",
    "import itertools\n",
    "\n",
    "\n",
    "# Amino acid data\n",
    "\n",
    "global amino_dict\n",
    "amino_dict = { 'ALA': 'A', 'ARG': 'R',\n",
    "                  'ASN': 'N', 'ASP': 'D',\n",
    "                  'CYS': 'C', 'GLN': 'Q',\n",
    "                  'GLU': 'E', 'GLY': 'G',\n",
    "                  'HIS': 'H', 'ILE': 'I',\n",
    "                  'LEU': 'L', 'LYS': 'K',\n",
    "                  'MET': 'M', 'PHE': 'F',\n",
    "                  'PRO': 'P', 'SER': 'S',\n",
    "                  'THR': 'T', 'TRP': 'W',\n",
    "                  'TYR': 'Y', 'VAL': 'V' }\n",
    "\n",
    "list_amino = list(amino_dict.values())\n",
    "\n",
    "global amino_string\n",
    "\n",
    "amino_string = ''.join(x for x in list_amino)\n",
    "\n",
    "del list_amino\n",
    "\n",
    "amino_string"
   ]
  },
  {
   "cell_type": "code",
   "execution_count": 6,
   "metadata": {},
   "outputs": [],
   "source": [
    "# Make all posible combinations\n",
    "# K-mer = 4\n",
    "\n",
    "def making_subseq(k):\n",
    "    '''Making all subsequences using aminoacids'''\n",
    "    subseq_iter = itertools.product(amino_string, repeat = k)\n",
    "    subseq_list = list(subseq_iter)\n",
    "    del subseq_iter\n",
    "    for i in range(len(subseq_list)):\n",
    "        tup = subseq_list[i]\n",
    "        subseq_list[i] = ''.join(tup)\n",
    "    return subseq_list"
   ]
  },
  {
   "cell_type": "code",
   "execution_count": 21,
   "metadata": {},
   "outputs": [],
   "source": [
    "def seqio_data(seq_record):\n",
    "    '''\n",
    "    working with SeqRecord class\n",
    "    \n",
    "    parametrs:\n",
    "        seq_record: SeqRecord class from Biopython\n",
    "    \n",
    "    return protein name and sequence\n",
    "    '''\n",
    "    protein = seq_record.name\n",
    "    seq = str(seq_record.seq)\n",
    "    \n",
    "    return protein, seq\n"
   ]
  },
  {
   "cell_type": "code",
   "execution_count": 7,
   "metadata": {},
   "outputs": [],
   "source": [
    "def read_fasta_file(path):\n",
    "    '''\n",
    "    Reading fasta file\n",
    "    return list (whole organism) of lists (for each protein) of SeqRecords\n",
    "    '''\n",
    "    fasta_test_file = SeqIO.parse(path, 'fasta')\n",
    "    record_list = list(fasta_test_file)\n",
    "    org_name = path.replace('../data/fasta/', '').replace('.fasta', '')\n",
    "    \n",
    "    return record_list, org_name"
   ]
  },
  {
   "cell_type": "code",
   "execution_count": 13,
   "metadata": {},
   "outputs": [],
   "source": [
    "def occurrences_list(string, sub):\n",
    "    '''\n",
    "    Finding all ocurrances of substring in string using find() method\n",
    "    variables:\n",
    "        string - string where to find\n",
    "        sub - string to find\n",
    "    '''\n",
    "    res = []\n",
    "    start = 0\n",
    "    while True:\n",
    "        start = string.find(sub, start) + 1\n",
    "        if start > 0:\n",
    "            res.append(start)\n",
    "        else:\n",
    "            return res"
   ]
  },
  {
   "cell_type": "code",
   "execution_count": 18,
   "metadata": {},
   "outputs": [],
   "source": [
    "def occurrences_count(string, sub):\n",
    "    '''\n",
    "    Counting all ocurrances of substring in string using find() method\n",
    "    variables:\n",
    "        string - string where to find\n",
    "        sub - string to find\n",
    "    '''\n",
    "    count = start = 0\n",
    "    while True:\n",
    "        start = string.find(sub, start) + 1\n",
    "        if start > 0:\n",
    "            count+=1\n",
    "        else:\n",
    "            return count"
   ]
  },
  {
   "cell_type": "markdown",
   "metadata": {},
   "source": [
    "#### new func"
   ]
  },
  {
   "cell_type": "code",
   "execution_count": 2,
   "metadata": {},
   "outputs": [],
   "source": [
    "def expected_value(n, k):\n",
    "    return (n-k+1)/(20**k)"
   ]
  },
  {
   "cell_type": "code",
   "execution_count": 3,
   "metadata": {},
   "outputs": [],
   "source": [
    "def jey_t(subseq):\n",
    "    k = len(subseq)\n",
    "    J_t = [] #what to return\n",
    "    for t in range(1, k-1):\n",
    "        if subseq[0:k-t] == subseq[k-t, k]:\n",
    "            J_t.append(1)\n",
    "        else:\n",
    "            J_t.append(0)\n",
    "    return J_t"
   ]
  },
  {
   "cell_type": "code",
   "execution_count": 35,
   "metadata": {},
   "outputs": [],
   "source": [
    "def std_variance_string(n, subseq, k):\n",
    "    J_t = jey_t(subseq)\n",
    "    a1 = ((n-k+1)/(20**k))*(1-1/(20**k))\n",
    "    a2 = (2/(20**(2*k)))*(n-(3/2)*k+1)\n",
    "    \n",
    "    a3_0 = 0\n",
    "    for t in range(1, k-1):\n",
    "        a3_0 += (n-k+1-t)*J_t(t)/(20**t)\n",
    "    a3 = a3_0*2/(20**k)\n",
    "    \n",
    "    return (np.sqrt(a1-a2+a3))"
   ]
  },
  {
   "cell_type": "code",
   "execution_count": 30,
   "metadata": {},
   "outputs": [],
   "source": [
    "def normalize_freq(freq, subseq, n, k):\n",
    "    e = expected_value(n, k)\n",
    "    var = std_variance_string(n, subseq, k)\n",
    "    \n",
    "    return (freq - e)/var"
   ]
  },
  {
   "cell_type": "code",
   "execution_count": 41,
   "metadata": {},
   "outputs": [],
   "source": [
    "def finding_freq_single_protein(seq, subseq_list):\n",
    "    \n",
    "    '''Finding frequnces for subsequences in single protein\n",
    "    and scaling it with SKlearn StandardScaler()\n",
    "    return vector_freq'''\n",
    "    \n",
    "    n = len(seq)\n",
    "    k = len(subseq_list[0])\n",
    "    \n",
    "    vector_freq_norm = []\n",
    "      \n",
    "    for subseq in subseq_list:\n",
    "        res = normalize_freq(occurrences_count(seq, subseq), subseq, n, k)\n",
    "        vector_freq_norm.append(res)\n",
    "    \n",
    "    return list(vector_freq_norm)"
   ]
  },
  {
   "cell_type": "code",
   "execution_count": 62,
   "metadata": {},
   "outputs": [],
   "source": [
    "def main_analyzes(path, k_mer_num, part_begin=0, part_end = 1):\n",
    "    '''\n",
    "    Lego construction with all functions above\n",
    "    param:\n",
    "        part from 0 to 1 (default=1) - part of data to take\n",
    "    return:\n",
    "        organism name\n",
    "        list of proteins\n",
    "        list of frequency vectors scaled\n",
    "        '''\n",
    "    \n",
    "    # initializing subseqs\n",
    "    subseq_list = making_subseq(k_mer_num)\n",
    "    table_columns = ['Organism', 'Protein'] + subseq_list\n",
    "    proteins_data = pd.DataFrame(columns=table_columns)\n",
    "    \n",
    "    # Variables\n",
    "    organism_name = ''\n",
    "      \n",
    "    #reading\n",
    "    prot_records, organism_name = read_fasta_file(path)\n",
    "    \n",
    "    index = 0\n",
    "    \n",
    "    #prot_records stuff\n",
    "    for i in tqdm.tqdm_notebook(range(int(np.floor(len(prot_records)*part_begin)),int(np.floor(len(prot_records)*part_end)))):\n",
    "        seq_record = prot_records[i]\n",
    "        prot_name, seq = seqio_data(seq_record)\n",
    "        freq_vector = finding_freq_single_protein(seq,subseq_list)\n",
    "        adding_row = []\n",
    "        adding_row.append(organism_name)\n",
    "        adding_row.append(prot_name)\n",
    "        adding_row += freq_vector\n",
    "        proteins_data.loc[index] = adding_row\n",
    "        index += 1\n",
    "    \n",
    "    if part_end == 1 and part_begin == 0:\n",
    "        writing_path = 'csv_data_math/' + organism_name + '.csv'\n",
    "    else:\n",
    "        writing_path = 'csv_data_math/' + organism_name + '_part_begin)' + str(part_begin) + '_part_end_' + str(part_end) + '.csv'\n",
    "    \n",
    "    proteins_data.to_csv(writing_path)      \n",
    "    \n",
    "    del prot_records\n",
    "    \n",
    "    return 0"
   ]
  },
  {
   "cell_type": "code",
   "execution_count": 39,
   "metadata": {},
   "outputs": [
    {
     "name": "stdout",
     "output_type": "stream",
     "text": [
      "../data/fasta/human_proteome.fasta\n"
     ]
    }
   ],
   "source": [
    "# all paths\n",
    "\n",
    "data_files = [f for f in listdir('../data/fasta') if isfile(join('../data/fasta', f))]\n",
    "files_path = []\n",
    "for i in range(len(data_files)):\n",
    "    files_path.append('../data/fasta/'+ data_files[i])\n",
    "print(files_path.pop(7))"
   ]
  },
  {
   "cell_type": "code",
   "execution_count": 57,
   "metadata": {},
   "outputs": [
    {
     "data": {
      "text/plain": [
       "['CLMD_trachomatis.fasta',\n",
       " 'CLOS_difficile.fasta',\n",
       " 'CMV_AD169.fasta',\n",
       " 'CPBT_jejuni.fasta',\n",
       " 'EBV_AG876.fasta',\n",
       " 'HCV_IsoH.fasta',\n",
       " 'HIV1_HXB2.fasta',\n",
       " 'human_proteome.fasta',\n",
       " 'KLEB_pneumoniae.fasta',\n",
       " 'MYBT_smegmatis.fasta',\n",
       " 'MYPL_pneumoniae.fasta',\n",
       " 'MYPL_synoviae.fasta',\n",
       " 'SHGL_flexneri.fasta',\n",
       " 'SLML_typhimurium.fasta',\n",
       " 'YERS_pestis.fasta',\n",
       " 'YFV_17D.fasta']"
      ]
     },
     "execution_count": 57,
     "metadata": {},
     "output_type": "execute_result"
    }
   ],
   "source": [
    "data_files"
   ]
  },
  {
   "cell_type": "code",
   "execution_count": 44,
   "metadata": {},
   "outputs": [
    {
     "data": {
      "application/vnd.jupyter.widget-view+json": {
       "model_id": "a4a23599e2a14587896a52e2b836057f",
       "version_major": 2,
       "version_minor": 0
      },
      "text/plain": [
       "HBox(children=(IntProgress(value=0, max=895), HTML(value='')))"
      ]
     },
     "metadata": {},
     "output_type": "display_data"
    },
    {
     "name": "stdout",
     "output_type": "stream",
     "text": [
      "\n"
     ]
    },
    {
     "data": {
      "application/vnd.jupyter.widget-view+json": {
       "model_id": "b9c81b61be6644f5a4a4614f57550261",
       "version_major": 2,
       "version_minor": 0
      },
      "text/plain": [
       "HBox(children=(IntProgress(value=0, max=3762), HTML(value='')))"
      ]
     },
     "metadata": {},
     "output_type": "display_data"
    },
    {
     "name": "stdout",
     "output_type": "stream",
     "text": [
      "\n"
     ]
    },
    {
     "data": {
      "application/vnd.jupyter.widget-view+json": {
       "model_id": "84ac08bd5fb4406da82906e9c46754d1",
       "version_major": 2,
       "version_minor": 0
      },
      "text/plain": [
       "HBox(children=(IntProgress(value=0, max=190), HTML(value='')))"
      ]
     },
     "metadata": {},
     "output_type": "display_data"
    },
    {
     "name": "stdout",
     "output_type": "stream",
     "text": [
      "\n"
     ]
    },
    {
     "data": {
      "application/vnd.jupyter.widget-view+json": {
       "model_id": "57cf4e6523744c19a021a9d1cf24c03a",
       "version_major": 2,
       "version_minor": 0
      },
      "text/plain": [
       "HBox(children=(IntProgress(value=0, max=1623), HTML(value='')))"
      ]
     },
     "metadata": {},
     "output_type": "display_data"
    },
    {
     "name": "stdout",
     "output_type": "stream",
     "text": [
      "\n"
     ]
    },
    {
     "data": {
      "application/vnd.jupyter.widget-view+json": {
       "model_id": "b6c73587f65c4069abd387ae6a96639e",
       "version_major": 2,
       "version_minor": 0
      },
      "text/plain": [
       "HBox(children=(IntProgress(value=0, max=79), HTML(value='')))"
      ]
     },
     "metadata": {},
     "output_type": "display_data"
    },
    {
     "name": "stdout",
     "output_type": "stream",
     "text": [
      "\n"
     ]
    },
    {
     "data": {
      "application/vnd.jupyter.widget-view+json": {
       "model_id": "5fa530cf14c84a3b92065cb53e2da0b6",
       "version_major": 2,
       "version_minor": 0
      },
      "text/plain": [
       "HBox(children=(IntProgress(value=0, max=2), HTML(value='')))"
      ]
     },
     "metadata": {},
     "output_type": "display_data"
    },
    {
     "name": "stdout",
     "output_type": "stream",
     "text": [
      "\n"
     ]
    },
    {
     "data": {
      "application/vnd.jupyter.widget-view+json": {
       "model_id": "8ec563a8a4534025bd05d14f662fe6a3",
       "version_major": 2,
       "version_minor": 0
      },
      "text/plain": [
       "HBox(children=(IntProgress(value=0, max=9), HTML(value='')))"
      ]
     },
     "metadata": {},
     "output_type": "display_data"
    },
    {
     "name": "stdout",
     "output_type": "stream",
     "text": [
      "\n"
     ]
    },
    {
     "data": {
      "application/vnd.jupyter.widget-view+json": {
       "model_id": "5977b0d160c1443c978bf6cfdb29a81e",
       "version_major": 2,
       "version_minor": 0
      },
      "text/plain": [
       "HBox(children=(IntProgress(value=0, max=5126), HTML(value='')))"
      ]
     },
     "metadata": {},
     "output_type": "display_data"
    },
    {
     "name": "stdout",
     "output_type": "stream",
     "text": [
      "\n"
     ]
    },
    {
     "data": {
      "application/vnd.jupyter.widget-view+json": {
       "model_id": "a1fc856d660f4945aeade2988b381b4b",
       "version_major": 2,
       "version_minor": 0
      },
      "text/plain": [
       "HBox(children=(IntProgress(value=0, max=6602), HTML(value='')))"
      ]
     },
     "metadata": {},
     "output_type": "display_data"
    },
    {
     "name": "stdout",
     "output_type": "stream",
     "text": [
      "\n"
     ]
    },
    {
     "data": {
      "application/vnd.jupyter.widget-view+json": {
       "model_id": "b94f654b715f4cc2a2426869bc79fc65",
       "version_major": 2,
       "version_minor": 0
      },
      "text/plain": [
       "HBox(children=(IntProgress(value=0, max=687), HTML(value='')))"
      ]
     },
     "metadata": {},
     "output_type": "display_data"
    },
    {
     "name": "stdout",
     "output_type": "stream",
     "text": [
      "\n"
     ]
    },
    {
     "data": {
      "application/vnd.jupyter.widget-view+json": {
       "model_id": "ec4d054d17864753a1eaed6ccb88b0ae",
       "version_major": 2,
       "version_minor": 0
      },
      "text/plain": [
       "HBox(children=(IntProgress(value=0, max=679), HTML(value='')))"
      ]
     },
     "metadata": {},
     "output_type": "display_data"
    },
    {
     "name": "stdout",
     "output_type": "stream",
     "text": [
      "\n"
     ]
    },
    {
     "data": {
      "application/vnd.jupyter.widget-view+json": {
       "model_id": "c1f894aeb4c047d6b84f71e1ca46d4d6",
       "version_major": 2,
       "version_minor": 0
      },
      "text/plain": [
       "HBox(children=(IntProgress(value=0, max=4103), HTML(value='')))"
      ]
     },
     "metadata": {},
     "output_type": "display_data"
    },
    {
     "name": "stdout",
     "output_type": "stream",
     "text": [
      "\n"
     ]
    },
    {
     "data": {
      "application/vnd.jupyter.widget-view+json": {
       "model_id": "fb9e6f80f2654e37b568ccf457f1f87f",
       "version_major": 2,
       "version_minor": 0
      },
      "text/plain": [
       "HBox(children=(IntProgress(value=0, max=4533), HTML(value='')))"
      ]
     },
     "metadata": {},
     "output_type": "display_data"
    },
    {
     "name": "stdout",
     "output_type": "stream",
     "text": [
      "\n"
     ]
    },
    {
     "data": {
      "application/vnd.jupyter.widget-view+json": {
       "model_id": "9275b6e8ceb34404b1b563f5d3b5b10e",
       "version_major": 2,
       "version_minor": 0
      },
      "text/plain": [
       "HBox(children=(IntProgress(value=0, max=3909), HTML(value='')))"
      ]
     },
     "metadata": {},
     "output_type": "display_data"
    },
    {
     "name": "stdout",
     "output_type": "stream",
     "text": [
      "\n"
     ]
    },
    {
     "data": {
      "application/vnd.jupyter.widget-view+json": {
       "model_id": "3454c79266b14da390fbddb19cdc11b9",
       "version_major": 2,
       "version_minor": 0
      },
      "text/plain": [
       "HBox(children=(IntProgress(value=0, max=1), HTML(value='')))"
      ]
     },
     "metadata": {},
     "output_type": "display_data"
    },
    {
     "name": "stdout",
     "output_type": "stream",
     "text": [
      "\n"
     ]
    }
   ],
   "source": [
    "for x in files_path:\n",
    "    main_analyzes(x, 2)"
   ]
  },
  {
   "cell_type": "code",
   "execution_count": 61,
   "metadata": {},
   "outputs": [
    {
     "data": {
      "application/vnd.jupyter.widget-view+json": {
       "model_id": "1ddad9bdee75404399cbcce7d1b6cd9f",
       "version_major": 2,
       "version_minor": 0
      },
      "text/plain": [
       "HBox(children=(IntProgress(value=0, max=22305), HTML(value='')))"
      ]
     },
     "metadata": {},
     "output_type": "display_data"
    },
    {
     "data": {
      "text/plain": [
       "0"
      ]
     },
     "execution_count": 61,
     "metadata": {},
     "output_type": "execute_result"
    }
   ],
   "source": [
    "main_analyzes('../data/fasta/human_proteome.fasta', 2, part_begin=0.3, part_end=0.6)"
   ]
  },
  {
   "cell_type": "code",
   "execution_count": null,
   "metadata": {},
   "outputs": [],
   "source": []
  }
 ],
 "metadata": {
  "kernelspec": {
   "display_name": "Python 3",
   "language": "python",
   "name": "python3"
  },
  "language_info": {
   "codemirror_mode": {
    "name": "ipython",
    "version": 3
   },
   "file_extension": ".py",
   "mimetype": "text/x-python",
   "name": "python",
   "nbconvert_exporter": "python",
   "pygments_lexer": "ipython3",
   "version": "3.7.3"
  }
 },
 "nbformat": 4,
 "nbformat_minor": 2
}
