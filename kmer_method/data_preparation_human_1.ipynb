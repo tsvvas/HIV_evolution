{
 "cells": [
  {
   "cell_type": "code",
   "execution_count": 1,
   "metadata": {},
   "outputs": [],
   "source": [
    "import numpy as np\n",
    "import scipy as scp\n",
    "from sklearn import preprocessing\n",
    "import warnings\n",
    "warnings.filterwarnings(\"ignore\")\n",
    "from Bio import SeqIO\n",
    "import pandas as pd\n",
    "import tqdm\n",
    "import re\n",
    "from os import listdir\n",
    "from os.path import isfile, join"
   ]
  },
  {
   "cell_type": "markdown",
   "metadata": {},
   "source": [
    "### Method for finding entry indices"
   ]
  },
  {
   "cell_type": "code",
   "execution_count": 2,
   "metadata": {},
   "outputs": [],
   "source": [
    "# Method to find subseq in seq\n",
    "\n",
    "def compute_pref_suff(pattern, len_pat, pref_suff):\n",
    "    '''Pref_suff func for K-M-P algorithm\n",
    "        void func'''\n",
    "    \n",
    "    length = 0\n",
    "    i = 1\n",
    "  \n",
    "    # the loop calculates lps[i] for i = 1 to len_pat-1 \n",
    "    while i < len_pat: \n",
    "        if pattern[i]== pattern[length]: \n",
    "            length += 1\n",
    "            pref_suff[i] = length\n",
    "            i += 1\n",
    "        else: \n",
    "            if length != 0: \n",
    "                length = pref_suff[length-1] \n",
    "            else: \n",
    "                pref_suff[i] = 0\n",
    "                i += 1\n",
    "\n",
    "def knutt_morris_list(txt, pattern):\n",
    "    '''\n",
    "    Knutt-Morris-Pratt algorithm for finding subsequence in sequence.\n",
    "    Example: K_M_P(pattern, txt),\n",
    "        pattern = subsequence to find,\n",
    "        txt = sequence\n",
    "    return:\n",
    "        list of all index, where is subseq was found.\n",
    "        '''\n",
    "    result = []\n",
    "    \n",
    "    len_pat = len(pattern) \n",
    "    len_txt = len(txt) \n",
    "  \n",
    "    pref_suff = [0]*len_pat \n",
    "    j = 0 \n",
    "      \n",
    "    compute_pref_suff(pattern, len_pat, pref_suff) \n",
    "  \n",
    "    i = 0\n",
    "    while i < len_txt:\n",
    "        if pattern[j] == txt[i]: \n",
    "            i += 1\n",
    "            j += 1\n",
    "  \n",
    "        if j == len_pat: \n",
    "            result.append((i-j)) \n",
    "            j = pref_suff[j-1] \n",
    "            \n",
    "        elif i < len_txt and pattern[j] != txt[i]: \n",
    "            if j != 0: \n",
    "                j = pref_suff[j-1] \n",
    "            else: \n",
    "                i += 1\n",
    "                \n",
    "    return result\n",
    "\n",
    "def knutt_morris_count(txt, pattern):\n",
    "    ''' Knutt-Morris-Pratt algorithm for finding subsequence in sequence.\n",
    "    Example: K_M_P(pattern, txt),\n",
    "        pattern = subsequence to find,\n",
    "        txt = sequence\n",
    "    return:\n",
    "        count'''\n",
    "    #count_ = 0\n",
    "    len_pat = len(pattern) \n",
    "    len_txt = len(txt) \n",
    "  \n",
    "    pref_suff = [0]*len_pat \n",
    "    j = 0 \n",
    "      \n",
    "    compute_pref_suff(pattern, len_pat, pref_suff) \n",
    "  \n",
    "    i = 0\n",
    "    while i < len_txt:\n",
    "        if pattern[j] == txt[i]: \n",
    "            i += 1\n",
    "            j += 1\n",
    "  \n",
    "        if j == len_pat: \n",
    "            print(i-j)\n",
    "            break\n",
    "            j = pref_suff[j-1] \n",
    "            \n",
    "        elif i < len_txt and pattern[j] != txt[i]: \n",
    "            if j != 0: \n",
    "                j = pref_suff[j-1] \n",
    "            else: \n",
    "                i += 1\n",
    "                \n",
    "    #return count_"
   ]
  },
  {
   "cell_type": "code",
   "execution_count": 3,
   "metadata": {},
   "outputs": [
    {
     "data": {
      "text/plain": [
       "1"
      ]
     },
     "execution_count": 3,
     "metadata": {},
     "output_type": "execute_result"
    }
   ],
   "source": [
    "string = 'klasklaskl'\n",
    "string.count('klaskl')"
   ]
  },
  {
   "cell_type": "markdown",
   "metadata": {},
   "source": [
    "### Data"
   ]
  },
  {
   "cell_type": "code",
   "execution_count": 4,
   "metadata": {},
   "outputs": [
    {
     "data": {
      "text/plain": [
       "'ARNDCQEGHILKMFPSTWYV'"
      ]
     },
     "execution_count": 4,
     "metadata": {},
     "output_type": "execute_result"
    }
   ],
   "source": [
    "# For example we will try to find all needed vectors for 4-mers\n",
    "\n",
    "import itertools\n",
    "\n",
    "\n",
    "# Amino acid data\n",
    "\n",
    "global amino_dict\n",
    "amino_dict = { 'ALA': 'A', 'ARG': 'R',\n",
    "                  'ASN': 'N', 'ASP': 'D',\n",
    "                  'CYS': 'C', 'GLN': 'Q',\n",
    "                  'GLU': 'E', 'GLY': 'G',\n",
    "                  'HIS': 'H', 'ILE': 'I',\n",
    "                  'LEU': 'L', 'LYS': 'K',\n",
    "                  'MET': 'M', 'PHE': 'F',\n",
    "                  'PRO': 'P', 'SER': 'S',\n",
    "                  'THR': 'T', 'TRP': 'W',\n",
    "                  'TYR': 'Y', 'VAL': 'V' }\n",
    "\n",
    "list_amino = list(amino_dict.values())\n",
    "\n",
    "global amino_string\n",
    "\n",
    "amino_string = ''.join(x for x in list_amino)\n",
    "\n",
    "del list_amino\n",
    "\n",
    "amino_string"
   ]
  },
  {
   "cell_type": "code",
   "execution_count": 5,
   "metadata": {},
   "outputs": [],
   "source": [
    "# Make all posible combinations\n",
    "# K-mer = 4\n",
    "\n",
    "def making_subseq(k):\n",
    "    '''Making all subsequences using aminoacids'''\n",
    "    subseq_iter = itertools.product(amino_string, repeat = k)\n",
    "    subseq_list = list(subseq_iter)\n",
    "    del subseq_iter\n",
    "    for i in range(len(subseq_list)):\n",
    "        tup = subseq_list[i]\n",
    "        subseq_list[i] = ''.join(tup)\n",
    "    return subseq_list\n"
   ]
  },
  {
   "cell_type": "code",
   "execution_count": 13,
   "metadata": {},
   "outputs": [],
   "source": [
    "subseq_list = making_subseq(4)\n",
    "#subseq_list"
   ]
  },
  {
   "cell_type": "code",
   "execution_count": 14,
   "metadata": {},
   "outputs": [],
   "source": [
    "def read_fasta_file(path):\n",
    "    '''\n",
    "    Reading fasta file\n",
    "    return SeqRecord parser\n",
    "    '''\n",
    "    fasta_test_file = SeqIO.parse(path, 'fasta')\n",
    "    record_list = list(fasta_test_file)\n",
    "    org_name = path.replace('../data/fasta/', '').replace('.fasta', '')\n",
    "    \n",
    "    return record_list, org_name"
   ]
  },
  {
   "cell_type": "markdown",
   "metadata": {},
   "source": [
    "### Test string analyzes"
   ]
  },
  {
   "cell_type": "code",
   "execution_count": 15,
   "metadata": {},
   "outputs": [],
   "source": [
    "def seqio_data(SeqRecord):\n",
    "    '''working with SeqRecord\n",
    "    return protein name and sequence'''\n",
    "    protein = SeqRecord.name\n",
    "    seq = str(SeqRecord.seq)\n",
    "    \n",
    "    return protein, seq\n",
    "\n",
    "#seqio_data(SeqRecord)"
   ]
  },
  {
   "cell_type": "code",
   "execution_count": 16,
   "metadata": {},
   "outputs": [],
   "source": [
    "# Functions to make index vectors\n",
    "# May be helpful in future\n",
    "\n",
    "def vectorizing_single_subseq(string, subseq, n, k_mer_num,\n",
    "                              knutt_morris:callable):\n",
    "    '''\n",
    "    finding subseq's entry index vector for subseq for some string\n",
    "    return vector\n",
    "    '''\n",
    "    \n",
    "    #n = len(string)\n",
    "    #m = len(subseq)\n",
    "    \n",
    "    vector = [0 for k in range(n-k_mer_num+1)]\n",
    "    \n",
    "    list_entry = knutt_morris(string, subseq)\n",
    "    \n",
    "    for x in list_entry:\n",
    "        vector[x] = 1\n",
    "        \n",
    "    return np.array(vector)\n",
    "\n",
    "def vectorizing_all_subseq(string, subseq_list,\n",
    "                           vectorizing_single_subseq:callable):\n",
    "    '''\n",
    "    finding subseq's entry index vector for all subseqs from subseq_list\n",
    "    !!! return dict: subseq -> vector\n",
    "    '''\n",
    "    n = len(string)\n",
    "    k_mer_num = len(subseq_list[0])\n",
    "    \n",
    "    vector_list = []\n",
    "    #matrix = []\n",
    "    \n",
    "    for subseq in subseq_list:\n",
    "        vector = vectorizing_single_subseq(string, subseq, n, k_mer_num, knutt_morris)\n",
    "        vector = vector.reshape((-1, 1))\n",
    "        del vector\n",
    "        vector_list.append(vector)\n",
    "    \n",
    "    return dict(zip(subseq_list, vector_list))"
   ]
  },
  {
   "cell_type": "code",
   "execution_count": 17,
   "metadata": {},
   "outputs": [],
   "source": [
    "def occurrences_count(string, sub):\n",
    "    '''\n",
    "    finding subseq's nums of entry in seq \n",
    "    '''\n",
    "    count = start = 0\n",
    "    while True:\n",
    "        start = string.find(sub, start) + 1\n",
    "        if start > 0:\n",
    "            count+=1\n",
    "        else:\n",
    "            return count"
   ]
  },
  {
   "cell_type": "code",
   "execution_count": 18,
   "metadata": {},
   "outputs": [],
   "source": [
    "def occurrences_re(text, sub):\n",
    "    '''\n",
    "    finding subseq's nums of entry in seq \n",
    "    '''\n",
    "    return len(re.findall('(?={0})'.format(sub), text))"
   ]
  },
  {
   "cell_type": "code",
   "execution_count": 19,
   "metadata": {},
   "outputs": [],
   "source": [
    "def occurrences_re_1(text, sub):\n",
    "    '''\n",
    "    finding subseq's nums of entry in seq \n",
    "    '''\n",
    "    return len(re.findall('(?={0})'.format(re.escape(sub)), text))"
   ]
  },
  {
   "cell_type": "code",
   "execution_count": 26,
   "metadata": {},
   "outputs": [],
   "source": [
    "# Freq\n",
    "\n",
    "def finding_freq_single_protein(seq, subseq_list):\n",
    "    \n",
    "    '''Finding frequnces for subsequences in single protein\n",
    "    and scaling it with SKlearn StandardScaler()\n",
    "    return vector_freq'''\n",
    "    n = len(seq)\n",
    "    k = len(subseq_list[0])\n",
    "    \n",
    "    vector_freq = []\n",
    "    \n",
    "    for x in subseq_list:\n",
    "        vector_freq.append(float(occurrences_count(seq, x))/n)\n",
    "    \n",
    "    vector_freq = np.array(vector_freq)\n",
    "    vector_freq = vector_freq.reshape((-1, 1))\n",
    "    scaler = preprocessing.StandardScaler()\n",
    "    vector_freq_scaled = scaler.fit_transform(vector_freq)\n",
    "    del vector_freq\n",
    "    \n",
    "    return list(vector_freq_scaled)"
   ]
  },
  {
   "cell_type": "markdown",
   "metadata": {},
   "source": [
    "### Main"
   ]
  },
  {
   "cell_type": "code",
   "execution_count": 27,
   "metadata": {},
   "outputs": [],
   "source": [
    "def main_analyzes(path, k_mer_num):\n",
    "    '''Lego construction with all functions above\n",
    "    return:\n",
    "        organism name\n",
    "        list of proteins\n",
    "        list of frequency vectors scaled'''\n",
    "    \n",
    "    # initializing subseqs\n",
    "    subseq_list = making_subseq(k_mer_num)\n",
    "    table_columns = ['Organism', 'Protein'] + subseq_list\n",
    "    Proteins_data = pd.DataFrame(columns=table_columns)\n",
    "    \n",
    "    # Variables\n",
    "    organism_name = ''\n",
    "      \n",
    "    #reading\n",
    "    prot_records, organism_name = read_fasta_file(path)\n",
    "    \n",
    "    index = 0\n",
    "    \n",
    "    #prot_records stuff\n",
    "    for i in tqdm.tqdm_notebook(range(len(prot_records))):\n",
    "        SeqRecord = prot_records[i]\n",
    "        prot_name, seq = seqio_data(SeqRecord)\n",
    "        freq_vector = finding_freq_single_protein(seq,subseq_list)\n",
    "        adding_row = []\n",
    "        adding_row.append(organism_name)\n",
    "        adding_row.append(prot_name)\n",
    "        adding_row += freq_vector\n",
    "        Proteins_data.loc[index] = adding_row\n",
    "        index += 1\n",
    "    writing_path = 'csv_data/' + organism_name + '.csv'\n",
    "    \n",
    "    Proteins_data.to_csv(writing_path)      \n",
    "    \n",
    "    del prot_records\n",
    "    \n",
    "    return 0"
   ]
  },
  {
   "cell_type": "markdown",
   "metadata": {},
   "source": [
    "### Human"
   ]
  },
  {
   "cell_type": "code",
   "execution_count": 35,
   "metadata": {},
   "outputs": [],
   "source": [
    "subseq_list = making_subseq(2)\n",
    "table_columns = ['Organism', 'Protein'] + subseq_list\n",
    "\n",
    "    \n",
    "\n",
    "organism_name = ''\n",
    "prot_records, organism_name = read_fasta_file('../data/fasta/human_proteome.fasta')\n",
    "prot_records = np.array(prot_records)\n",
    "\n",
    "prot_records_split =  np.array_split(prot_records, 100)\n"
   ]
  },
  {
   "cell_type": "code",
   "execution_count": 36,
   "metadata": {},
   "outputs": [],
   "source": [
    "human_list = []\n",
    "for x in prot_records_split:\n",
    "    human_list.append(x)"
   ]
  },
  {
   "cell_type": "code",
   "execution_count": 41,
   "metadata": {
    "scrolled": true
   },
   "outputs": [
    {
     "data": {
      "application/vnd.jupyter.widget-view+json": {
       "model_id": "9c3e3dd7bdcb4815b6baeb25000cda4a",
       "version_major": 2,
       "version_minor": 0
      },
      "text/plain": [
       "HBox(children=(IntProgress(value=0, max=50), HTML(value='')))"
      ]
     },
     "metadata": {},
     "output_type": "display_data"
    }
   ],
   "source": [
    "for j in tqdm.tqdm_notebook(range(0, 50)):\n",
    "    Proteins_data = pd.DataFrame(columns=table_columns)\n",
    "    index = 0\n",
    "    #print(type(j))\n",
    "    for i in range(len(human_list[j])):\n",
    "        SeqRecord = human_list[j][i]\n",
    "        prot_name, seq = seqio_data(SeqRecord)\n",
    "        freq_vector = finding_freq_single_protein(seq,subseq_list)\n",
    "        adding_row = []\n",
    "        adding_row.append(organism_name)\n",
    "        adding_row.append(prot_name)\n",
    "        adding_row += freq_vector\n",
    "        Proteins_data.loc[index] = adding_row\n",
    "        index += 1\n",
    "    writing_path = 'csv_data/' + organism_name + '_' +str(j) + '.csv'\n",
    "    Proteins_data.to_csv(writing_path)"
   ]
  }
 ],
 "metadata": {
  "kernelspec": {
   "display_name": "Python 3",
   "language": "python",
   "name": "python3"
  },
  "language_info": {
   "codemirror_mode": {
    "name": "ipython",
    "version": 3
   },
   "file_extension": ".py",
   "mimetype": "text/x-python",
   "name": "python",
   "nbconvert_exporter": "python",
   "pygments_lexer": "ipython3",
   "version": "3.7.3"
  }
 },
 "nbformat": 4,
 "nbformat_minor": 2
}
