{
 "cells": [
  {
   "cell_type": "markdown",
   "metadata": {},
   "source": [
    "### At the begginig a bit preprocessing of data: "
   ]
  },
  {
   "cell_type": "code",
   "execution_count": 1,
   "metadata": {},
   "outputs": [],
   "source": [
    "import numpy as np\n",
    "import pandas as pd\n",
    "import Bio as bio\n",
    "from os import listdir\n",
    "from os.path import isfile, join"
   ]
  },
  {
   "cell_type": "code",
   "execution_count": 2,
   "metadata": {
    "scrolled": true
   },
   "outputs": [
    {
     "data": {
      "text/plain": [
       "['csv_data/adenovirus.csv',\n",
       " 'csv_data/Bovine_stomatitis.csv',\n",
       " 'csv_data/Bunyavirus La Crosse.csv',\n",
       " 'csv_data/CLMD_trachomatis.csv',\n",
       " 'csv_data/CLOS_difficile.csv',\n",
       " 'csv_data/CMV_AD169.csv',\n",
       " 'csv_data/CPBT_jejuni.csv',\n",
       " 'csv_data/cytomegalovirus.csv',\n",
       " 'csv_data/EBV_AG876.csv',\n",
       " 'csv_data/Ecoli.csv',\n",
       " 'csv_data/Giardia_intestinalis.csv',\n",
       " 'csv_data/HCV_IsoH.csv',\n",
       " 'csv_data/HHV-1.csv',\n",
       " 'csv_data/HHV-2.csv',\n",
       " 'csv_data/HIV1_HXB2.csv',\n",
       " 'csv_data/human_proteome_0.csv',\n",
       " 'csv_data/human_proteome_1.csv',\n",
       " 'csv_data/human_proteome_10.csv',\n",
       " 'csv_data/human_proteome_11.csv',\n",
       " 'csv_data/human_proteome_12.csv',\n",
       " 'csv_data/human_proteome_13.csv',\n",
       " 'csv_data/human_proteome_14.csv',\n",
       " 'csv_data/human_proteome_15.csv',\n",
       " 'csv_data/human_proteome_16.csv',\n",
       " 'csv_data/human_proteome_17.csv',\n",
       " 'csv_data/human_proteome_18.csv',\n",
       " 'csv_data/human_proteome_19.csv',\n",
       " 'csv_data/human_proteome_2.csv',\n",
       " 'csv_data/human_proteome_20.csv',\n",
       " 'csv_data/human_proteome_21.csv',\n",
       " 'csv_data/human_proteome_22.csv',\n",
       " 'csv_data/human_proteome_23.csv',\n",
       " 'csv_data/human_proteome_24.csv',\n",
       " 'csv_data/human_proteome_25.csv',\n",
       " 'csv_data/human_proteome_26.csv',\n",
       " 'csv_data/human_proteome_27.csv',\n",
       " 'csv_data/human_proteome_28.csv',\n",
       " 'csv_data/human_proteome_29.csv',\n",
       " 'csv_data/human_proteome_3.csv',\n",
       " 'csv_data/human_proteome_30.csv',\n",
       " 'csv_data/human_proteome_31.csv',\n",
       " 'csv_data/human_proteome_32.csv',\n",
       " 'csv_data/human_proteome_33.csv',\n",
       " 'csv_data/human_proteome_34.csv',\n",
       " 'csv_data/human_proteome_35.csv',\n",
       " 'csv_data/human_proteome_36.csv',\n",
       " 'csv_data/human_proteome_37.csv',\n",
       " 'csv_data/human_proteome_38.csv',\n",
       " 'csv_data/human_proteome_39.csv',\n",
       " 'csv_data/human_proteome_4.csv',\n",
       " 'csv_data/human_proteome_40.csv',\n",
       " 'csv_data/human_proteome_41.csv',\n",
       " 'csv_data/human_proteome_42.csv',\n",
       " 'csv_data/human_proteome_43.csv',\n",
       " 'csv_data/human_proteome_44.csv',\n",
       " 'csv_data/human_proteome_45.csv',\n",
       " 'csv_data/human_proteome_46.csv',\n",
       " 'csv_data/human_proteome_47.csv',\n",
       " 'csv_data/human_proteome_48.csv',\n",
       " 'csv_data/human_proteome_49.csv',\n",
       " 'csv_data/human_proteome_5.csv',\n",
       " 'csv_data/human_proteome_50.csv',\n",
       " 'csv_data/human_proteome_51.csv',\n",
       " 'csv_data/human_proteome_52.csv',\n",
       " 'csv_data/human_proteome_53.csv',\n",
       " 'csv_data/human_proteome_54.csv',\n",
       " 'csv_data/human_proteome_55.csv',\n",
       " 'csv_data/human_proteome_56.csv',\n",
       " 'csv_data/human_proteome_57.csv',\n",
       " 'csv_data/human_proteome_58.csv',\n",
       " 'csv_data/human_proteome_59.csv',\n",
       " 'csv_data/human_proteome_6.csv',\n",
       " 'csv_data/human_proteome_60.csv',\n",
       " 'csv_data/human_proteome_61.csv',\n",
       " 'csv_data/human_proteome_62.csv',\n",
       " 'csv_data/human_proteome_63.csv',\n",
       " 'csv_data/human_proteome_64.csv',\n",
       " 'csv_data/human_proteome_65.csv',\n",
       " 'csv_data/human_proteome_66.csv',\n",
       " 'csv_data/human_proteome_67.csv',\n",
       " 'csv_data/human_proteome_68.csv',\n",
       " 'csv_data/human_proteome_69.csv',\n",
       " 'csv_data/human_proteome_7.csv',\n",
       " 'csv_data/human_proteome_70.csv',\n",
       " 'csv_data/human_proteome_71.csv',\n",
       " 'csv_data/human_proteome_72.csv',\n",
       " 'csv_data/human_proteome_73.csv',\n",
       " 'csv_data/human_proteome_74.csv',\n",
       " 'csv_data/human_proteome_75.csv',\n",
       " 'csv_data/human_proteome_76.csv',\n",
       " 'csv_data/human_proteome_77.csv',\n",
       " 'csv_data/human_proteome_78.csv',\n",
       " 'csv_data/human_proteome_79.csv',\n",
       " 'csv_data/human_proteome_8.csv',\n",
       " 'csv_data/human_proteome_80.csv',\n",
       " 'csv_data/human_proteome_81.csv',\n",
       " 'csv_data/human_proteome_82.csv',\n",
       " 'csv_data/human_proteome_83.csv',\n",
       " 'csv_data/human_proteome_84.csv',\n",
       " 'csv_data/human_proteome_85.csv',\n",
       " 'csv_data/human_proteome_86.csv',\n",
       " 'csv_data/human_proteome_87.csv',\n",
       " 'csv_data/human_proteome_88.csv',\n",
       " 'csv_data/human_proteome_89.csv',\n",
       " 'csv_data/human_proteome_9.csv',\n",
       " 'csv_data/human_proteome_90.csv',\n",
       " 'csv_data/human_proteome_91.csv',\n",
       " 'csv_data/human_proteome_92.csv',\n",
       " 'csv_data/human_proteome_93.csv',\n",
       " 'csv_data/human_proteome_94.csv',\n",
       " 'csv_data/human_proteome_95.csv',\n",
       " 'csv_data/human_proteome_96.csv',\n",
       " 'csv_data/human_proteome_97.csv',\n",
       " 'csv_data/human_proteome_98.csv',\n",
       " 'csv_data/human_proteome_99.csv',\n",
       " 'csv_data/KLEB_pneumoniae.csv',\n",
       " 'csv_data/Leishmania_major.csv',\n",
       " 'csv_data/Leptospira.csv',\n",
       " 'csv_data/MYBT_smegmatis.csv',\n",
       " 'csv_data/Mycobacterium_tuberculosis.csv',\n",
       " 'csv_data/MYPL_pneumoniae.csv',\n",
       " 'csv_data/MYPL_synoviae.csv',\n",
       " 'csv_data/Neosartorya_fumigata.csv',\n",
       " 'csv_data/Pseudomonas_aeruginosa.csv',\n",
       " 'csv_data/SHGL_flexneri.csv',\n",
       " 'csv_data/SLML_typhimurium.csv',\n",
       " 'csv_data/stomatitis_New_Jersey.csv',\n",
       " 'csv_data/Yarrowia_lipolytica.csv',\n",
       " 'csv_data/YERS_pestis.csv',\n",
       " 'csv_data/YFV.csv',\n",
       " 'csv_data/YFV_17D.csv',\n",
       " 'csv_data/Zika.csv']"
      ]
     },
     "execution_count": 2,
     "metadata": {},
     "output_type": "execute_result"
    }
   ],
   "source": [
    "csv_files = [f for f in listdir('csv_data') if isfile(join('csv_data', f))]\n",
    "for i in range(len(csv_files)):\n",
    "    csv_files[i] = 'csv_data/' + csv_files[i]\n",
    "    \n",
    "csv_files[:]"
   ]
  },
  {
   "cell_type": "code",
   "execution_count": 3,
   "metadata": {},
   "outputs": [],
   "source": [
    "Proteins_data = pd.read_csv(csv_files.pop(0),  index_col=0)\n",
    "#Proteins_data.head(20)"
   ]
  },
  {
   "cell_type": "code",
   "execution_count": 4,
   "metadata": {},
   "outputs": [],
   "source": [
    "for x in csv_files:\n",
    "    res_data = pd.read_csv(x,  index_col=0)\n",
    "    Proteins_data = pd.concat([Proteins_data, res_data], ignore_index=True)"
   ]
  },
  {
   "cell_type": "code",
   "execution_count": 5,
   "metadata": {},
   "outputs": [
    {
     "data": {
      "text/html": [
       "<div>\n",
       "<style scoped>\n",
       "    .dataframe tbody tr th:only-of-type {\n",
       "        vertical-align: middle;\n",
       "    }\n",
       "\n",
       "    .dataframe tbody tr th {\n",
       "        vertical-align: top;\n",
       "    }\n",
       "\n",
       "    .dataframe thead th {\n",
       "        text-align: right;\n",
       "    }\n",
       "</style>\n",
       "<table border=\"1\" class=\"dataframe\">\n",
       "  <thead>\n",
       "    <tr style=\"text-align: right;\">\n",
       "      <th></th>\n",
       "      <th>Organism</th>\n",
       "      <th>Protein</th>\n",
       "      <th>AA</th>\n",
       "      <th>AR</th>\n",
       "      <th>AN</th>\n",
       "      <th>AD</th>\n",
       "      <th>AC</th>\n",
       "      <th>AQ</th>\n",
       "      <th>AE</th>\n",
       "      <th>AG</th>\n",
       "      <th>...</th>\n",
       "      <th>VL</th>\n",
       "      <th>VK</th>\n",
       "      <th>VM</th>\n",
       "      <th>VF</th>\n",
       "      <th>VP</th>\n",
       "      <th>VS</th>\n",
       "      <th>VT</th>\n",
       "      <th>VW</th>\n",
       "      <th>VY</th>\n",
       "      <th>VV</th>\n",
       "    </tr>\n",
       "  </thead>\n",
       "  <tbody>\n",
       "    <tr>\n",
       "      <th>0</th>\n",
       "      <td>adenovirus</td>\n",
       "      <td>sp|P03135|CAPSD_AAV2S</td>\n",
       "      <td>[2.30051694]</td>\n",
       "      <td>[-0.46120808]</td>\n",
       "      <td>[0.09113693]</td>\n",
       "      <td>[3.95755196]</td>\n",
       "      <td>[-1.01355308]</td>\n",
       "      <td>[-1.01355308]</td>\n",
       "      <td>[0.09113693]</td>\n",
       "      <td>[0.09113693]</td>\n",
       "      <td>...</td>\n",
       "      <td>[1.74817194]</td>\n",
       "      <td>[0.09113693]</td>\n",
       "      <td>[-0.46120808]</td>\n",
       "      <td>[0.64348193]</td>\n",
       "      <td>[1.19582694]</td>\n",
       "      <td>[0.64348193]</td>\n",
       "      <td>[-0.46120808]</td>\n",
       "      <td>[-0.46120808]</td>\n",
       "      <td>[0.09113693]</td>\n",
       "      <td>[-1.01355308]</td>\n",
       "    </tr>\n",
       "    <tr>\n",
       "      <th>1</th>\n",
       "      <td>adenovirus</td>\n",
       "      <td>sp|Q89268|REP78_AAV2S</td>\n",
       "      <td>[1.04440949]</td>\n",
       "      <td>[-0.39615532]</td>\n",
       "      <td>[-1.11643773]</td>\n",
       "      <td>[0.32412708]</td>\n",
       "      <td>[1.04440949]</td>\n",
       "      <td>[1.04440949]</td>\n",
       "      <td>[1.76469189]</td>\n",
       "      <td>[0.32412708]</td>\n",
       "      <td>...</td>\n",
       "      <td>[0.32412708]</td>\n",
       "      <td>[1.76469189]</td>\n",
       "      <td>[-1.11643773]</td>\n",
       "      <td>[-0.39615532]</td>\n",
       "      <td>[1.04440949]</td>\n",
       "      <td>[1.76469189]</td>\n",
       "      <td>[1.04440949]</td>\n",
       "      <td>[-1.11643773]</td>\n",
       "      <td>[-1.11643773]</td>\n",
       "      <td>[1.76469189]</td>\n",
       "    </tr>\n",
       "    <tr>\n",
       "      <th>2</th>\n",
       "      <td>adenovirus</td>\n",
       "      <td>sp|P03132|REP68_AAV2S</td>\n",
       "      <td>[1.28895577]</td>\n",
       "      <td>[0.51364403]</td>\n",
       "      <td>[-1.03697945]</td>\n",
       "      <td>[0.51364403]</td>\n",
       "      <td>[-0.26166771]</td>\n",
       "      <td>[1.28895577]</td>\n",
       "      <td>[2.06426751]</td>\n",
       "      <td>[0.51364403]</td>\n",
       "      <td>...</td>\n",
       "      <td>[0.51364403]</td>\n",
       "      <td>[1.28895577]</td>\n",
       "      <td>[-1.03697945]</td>\n",
       "      <td>[-0.26166771]</td>\n",
       "      <td>[0.51364403]</td>\n",
       "      <td>[0.51364403]</td>\n",
       "      <td>[1.28895577]</td>\n",
       "      <td>[-1.03697945]</td>\n",
       "      <td>[-1.03697945]</td>\n",
       "      <td>[1.28895577]</td>\n",
       "    </tr>\n",
       "    <tr>\n",
       "      <th>3</th>\n",
       "      <td>adenovirus</td>\n",
       "      <td>sp|Q89270|REP52_AAV2S</td>\n",
       "      <td>[1.89093262]</td>\n",
       "      <td>[-0.93135487]</td>\n",
       "      <td>[-0.93135487]</td>\n",
       "      <td>[0.95017012]</td>\n",
       "      <td>[0.95017012]</td>\n",
       "      <td>[0.95017012]</td>\n",
       "      <td>[0.95017012]</td>\n",
       "      <td>[0.00940762]</td>\n",
       "      <td>...</td>\n",
       "      <td>[-0.93135487]</td>\n",
       "      <td>[1.89093262]</td>\n",
       "      <td>[-0.93135487]</td>\n",
       "      <td>[0.00940762]</td>\n",
       "      <td>[0.95017012]</td>\n",
       "      <td>[0.95017012]</td>\n",
       "      <td>[0.95017012]</td>\n",
       "      <td>[-0.93135487]</td>\n",
       "      <td>[-0.93135487]</td>\n",
       "      <td>[1.89093262]</td>\n",
       "    </tr>\n",
       "    <tr>\n",
       "      <th>4</th>\n",
       "      <td>adenovirus</td>\n",
       "      <td>sp|Q89269|REP40_AAV2S</td>\n",
       "      <td>[2.36517323]</td>\n",
       "      <td>[0.23678337]</td>\n",
       "      <td>[-0.82741156]</td>\n",
       "      <td>[1.3009783]</td>\n",
       "      <td>[-0.82741156]</td>\n",
       "      <td>[1.3009783]</td>\n",
       "      <td>[1.3009783]</td>\n",
       "      <td>[0.23678337]</td>\n",
       "      <td>...</td>\n",
       "      <td>[-0.82741156]</td>\n",
       "      <td>[1.3009783]</td>\n",
       "      <td>[-0.82741156]</td>\n",
       "      <td>[0.23678337]</td>\n",
       "      <td>[0.23678337]</td>\n",
       "      <td>[-0.82741156]</td>\n",
       "      <td>[1.3009783]</td>\n",
       "      <td>[-0.82741156]</td>\n",
       "      <td>[-0.82741156]</td>\n",
       "      <td>[1.3009783]</td>\n",
       "    </tr>\n",
       "  </tbody>\n",
       "</table>\n",
       "<p>5 rows × 402 columns</p>\n",
       "</div>"
      ],
      "text/plain": [
       "     Organism                Protein            AA             AR  \\\n",
       "0  adenovirus  sp|P03135|CAPSD_AAV2S  [2.30051694]  [-0.46120808]   \n",
       "1  adenovirus  sp|Q89268|REP78_AAV2S  [1.04440949]  [-0.39615532]   \n",
       "2  adenovirus  sp|P03132|REP68_AAV2S  [1.28895577]   [0.51364403]   \n",
       "3  adenovirus  sp|Q89270|REP52_AAV2S  [1.89093262]  [-0.93135487]   \n",
       "4  adenovirus  sp|Q89269|REP40_AAV2S  [2.36517323]   [0.23678337]   \n",
       "\n",
       "              AN            AD             AC             AQ            AE  \\\n",
       "0   [0.09113693]  [3.95755196]  [-1.01355308]  [-1.01355308]  [0.09113693]   \n",
       "1  [-1.11643773]  [0.32412708]   [1.04440949]   [1.04440949]  [1.76469189]   \n",
       "2  [-1.03697945]  [0.51364403]  [-0.26166771]   [1.28895577]  [2.06426751]   \n",
       "3  [-0.93135487]  [0.95017012]   [0.95017012]   [0.95017012]  [0.95017012]   \n",
       "4  [-0.82741156]   [1.3009783]  [-0.82741156]    [1.3009783]   [1.3009783]   \n",
       "\n",
       "             AG  ...             VL            VK             VM  \\\n",
       "0  [0.09113693]  ...   [1.74817194]  [0.09113693]  [-0.46120808]   \n",
       "1  [0.32412708]  ...   [0.32412708]  [1.76469189]  [-1.11643773]   \n",
       "2  [0.51364403]  ...   [0.51364403]  [1.28895577]  [-1.03697945]   \n",
       "3  [0.00940762]  ...  [-0.93135487]  [1.89093262]  [-0.93135487]   \n",
       "4  [0.23678337]  ...  [-0.82741156]   [1.3009783]  [-0.82741156]   \n",
       "\n",
       "              VF            VP             VS             VT             VW  \\\n",
       "0   [0.64348193]  [1.19582694]   [0.64348193]  [-0.46120808]  [-0.46120808]   \n",
       "1  [-0.39615532]  [1.04440949]   [1.76469189]   [1.04440949]  [-1.11643773]   \n",
       "2  [-0.26166771]  [0.51364403]   [0.51364403]   [1.28895577]  [-1.03697945]   \n",
       "3   [0.00940762]  [0.95017012]   [0.95017012]   [0.95017012]  [-0.93135487]   \n",
       "4   [0.23678337]  [0.23678337]  [-0.82741156]    [1.3009783]  [-0.82741156]   \n",
       "\n",
       "              VY             VV  \n",
       "0   [0.09113693]  [-1.01355308]  \n",
       "1  [-1.11643773]   [1.76469189]  \n",
       "2  [-1.03697945]   [1.28895577]  \n",
       "3  [-0.93135487]   [1.89093262]  \n",
       "4  [-0.82741156]    [1.3009783]  \n",
       "\n",
       "[5 rows x 402 columns]"
      ]
     },
     "execution_count": 5,
     "metadata": {},
     "output_type": "execute_result"
    }
   ],
   "source": [
    "Proteins_data.head(5)"
   ]
  },
  {
   "cell_type": "code",
   "execution_count": 6,
   "metadata": {},
   "outputs": [],
   "source": [
    "# Be careful with your data\n",
    "\n",
    "labels_categorized = Proteins_data[Proteins_data.columns[0]].values\n",
    "feature_matrix = Proteins_data[Proteins_data.columns[2:403]].values\n",
    "del Proteins_data"
   ]
  },
  {
   "cell_type": "code",
   "execution_count": 7,
   "metadata": {},
   "outputs": [],
   "source": [
    "# Making labels not categorized (slightly)\n",
    "\n",
    "labels = []\n",
    "\n",
    "for x in labels_categorized:\n",
    "    if x == 'human_proteome':\n",
    "        labels.append(1)\n",
    "    else:\n",
    "        labels.append(0)"
   ]
  },
  {
   "cell_type": "code",
   "execution_count": 8,
   "metadata": {},
   "outputs": [
    {
     "data": {
      "text/plain": [
       "74449"
      ]
     },
     "execution_count": 8,
     "metadata": {},
     "output_type": "execute_result"
    }
   ],
   "source": [
    "labels.count(1)"
   ]
  },
  {
   "cell_type": "code",
   "execution_count": 9,
   "metadata": {},
   "outputs": [],
   "source": [
    "# Do not ask what is happening here\n",
    "# Our data has some bad feature, there are always str(list(float)) construction (-_-)\n",
    "\n",
    "for i in range(len(feature_matrix)):\n",
    "    for j in range(len(feature_matrix[i])):\n",
    "        string = feature_matrix[i][j].replace('[', '').replace(']', '')\n",
    "        feature_matrix[i][j] = float(string)"
   ]
  },
  {
   "cell_type": "markdown",
   "metadata": {},
   "source": [
    "### Looking at our data:"
   ]
  },
  {
   "cell_type": "code",
   "execution_count": 10,
   "metadata": {},
   "outputs": [],
   "source": [
    "### Here is the place for your code!!!"
   ]
  },
  {
   "cell_type": "markdown",
   "metadata": {},
   "source": [
    "### Starting to make base-line with easy methods:"
   ]
  },
  {
   "cell_type": "code",
   "execution_count": 13,
   "metadata": {},
   "outputs": [],
   "source": [
    "# Importing SKlearn magic\n",
    "\n",
    "from sklearn.model_selection import train_test_split\n",
    "from sklearn.linear_model import LogisticRegression\n",
    "from sklearn.metrics import f1_score, accuracy_score\n",
    "from sklearn import preprocessing\n",
    "from sklearn.ensemble import RandomForestClassifier\n",
    "from sklearn.model_selection import GridSearchCV\n",
    "from sklearn.svm import SVC\n",
    "from sklearn.metrics import classification_report"
   ]
  },
  {
   "cell_type": "code",
   "execution_count": 14,
   "metadata": {},
   "outputs": [],
   "source": [
    "# Making 2 Train-Test split\n",
    "# One (final_test_*) for the final test and second (test_*) for train-test\n",
    "\n",
    "train_feature_matrix, test_feature_matrix,\\\n",
    "train_labels, test_labels = train_test_split(feature_matrix, labels, test_size=0.2, random_state=42)"
   ]
  },
  {
   "cell_type": "markdown",
   "metadata": {},
   "source": [
    "#### Method 1: Random Forest"
   ]
  },
  {
   "cell_type": "code",
   "execution_count": 13,
   "metadata": {},
   "outputs": [],
   "source": [
    "# Will try Random Forest\n",
    "\n",
    "forest = RandomForestClassifier(n_estimators=1000, max_depth=15, bootstrap='True', max_features='sqrt', n_jobs=-1)"
   ]
  },
  {
   "cell_type": "code",
   "execution_count": 14,
   "metadata": {},
   "outputs": [
    {
     "data": {
      "text/plain": [
       "RandomForestClassifier(bootstrap='True', class_weight=None, criterion='gini',\n",
       "            max_depth=15, max_features='sqrt', max_leaf_nodes=None,\n",
       "            min_impurity_decrease=0.0, min_impurity_split=None,\n",
       "            min_samples_leaf=1, min_samples_split=2,\n",
       "            min_weight_fraction_leaf=0.0, n_estimators=1500, n_jobs=-1,\n",
       "            oob_score=False, random_state=None, verbose=0,\n",
       "            warm_start=False)"
      ]
     },
     "execution_count": 14,
     "metadata": {},
     "output_type": "execute_result"
    }
   ],
   "source": [
    "# Training \n",
    "forest.fit(train_feature_matrix, train_labels)"
   ]
  },
  {
   "cell_type": "code",
   "execution_count": 15,
   "metadata": {},
   "outputs": [],
   "source": [
    "y_pred = forest.predict(test_feature_matrix)"
   ]
  },
  {
   "cell_type": "code",
   "execution_count": 16,
   "metadata": {
    "scrolled": true
   },
   "outputs": [
    {
     "name": "stdout",
     "output_type": "stream",
     "text": [
      "              precision    recall  f1-score   support\n",
      "\n",
      "           0       0.86      0.84      0.85     16367\n",
      "           1       0.83      0.85      0.84     14842\n",
      "\n",
      "   micro avg       0.84      0.84      0.84     31209\n",
      "   macro avg       0.84      0.84      0.84     31209\n",
      "weighted avg       0.84      0.84      0.84     31209\n",
      "\n"
     ]
    }
   ],
   "source": [
    "print(classification_report(test_labels, y_pred, labels=[0, 1]))"
   ]
  },
  {
   "cell_type": "code",
   "execution_count": 17,
   "metadata": {},
   "outputs": [
    {
     "data": {
      "text/plain": [
       "0.8444038578615143"
      ]
     },
     "execution_count": 17,
     "metadata": {},
     "output_type": "execute_result"
    }
   ],
   "source": [
    "forest.score(test_feature_matrix, test_labels)"
   ]
  },
  {
   "cell_type": "code",
   "execution_count": 18,
   "metadata": {},
   "outputs": [
    {
     "name": "stdout",
     "output_type": "stream",
     "text": [
      "F1-score = 0.8387782204515273\n"
     ]
    }
   ],
   "source": [
    "prediction = forest.predict(test_feature_matrix)\n",
    "\n",
    "f_1 = f1_score(prediction, test_labels)\n",
    "\n",
    "print('F1-score = '+str(f_1))"
   ]
  },
  {
   "cell_type": "code",
   "execution_count": null,
   "metadata": {},
   "outputs": [],
   "source": [
    "from joblib import dump"
   ]
  },
  {
   "cell_type": "code",
   "execution_count": null,
   "metadata": {},
   "outputs": [],
   "source": [
    "dump(forest, '../saved_sklearn_models/forest.joblib')\n",
    "del forest"
   ]
  },
  {
   "cell_type": "markdown",
   "metadata": {},
   "source": [
    "Maybe not the best result\n"
   ]
  },
  {
   "cell_type": "code",
   "execution_count": null,
   "metadata": {},
   "outputs": [],
   "source": [
    "#Raw code\n",
    "\n",
    "#parametrs = {'n_estimators':np.arange(4000, 6001, 1000)}\n",
    "parametrs = {'max_features':['log2', 'sqrt', '10', '30']}\n",
    "gs_forest = GridSearchCV(forest, parametrs, cv = 5, scoring = 'accuracy', n_jobs=-1)\n",
    "\n",
    "gs_forest.fit(train_feature_matrix, train_labels)"
   ]
  },
  {
   "cell_type": "code",
   "execution_count": null,
   "metadata": {},
   "outputs": [],
   "source": [
    "gs_forest.best_estimator_"
   ]
  },
  {
   "cell_type": "markdown",
   "metadata": {},
   "source": [
    "#### Method 4: Gradient boosting"
   ]
  },
  {
   "cell_type": "code",
   "execution_count": 15,
   "metadata": {},
   "outputs": [],
   "source": [
    "from sklearn.ensemble import AdaBoostClassifier\n",
    "from sklearn.tree import DecisionTreeClassifier"
   ]
  },
  {
   "cell_type": "code",
   "execution_count": 16,
   "metadata": {},
   "outputs": [],
   "source": [
    "# Making\n",
    "\n",
    "Gradboost = AdaBoostClassifier(\n",
    "    DecisionTreeClassifier(max_depth=15),\n",
    "    n_estimators=1000,\n",
    "    random_state=42)"
   ]
  },
  {
   "cell_type": "code",
   "execution_count": null,
   "metadata": {},
   "outputs": [],
   "source": [
    "# Fitting not preproccesed data\n",
    "\n",
    "Gradboost.fit(train_feature_matrix, train_labels)"
   ]
  },
  {
   "cell_type": "code",
   "execution_count": null,
   "metadata": {
    "scrolled": true
   },
   "outputs": [],
   "source": [
    "# Score for test (Accuracy and F1-score)\n",
    "\n",
    "accuracy_log = Gradboost.score(test_feature_matrix, test_labels)\n",
    "\n",
    "prediction = Gradboost.predict(test_feature_matrix)\n",
    "\n",
    "f_1 = f1_score(prediction, test_labels)\n",
    "\n",
    "print('Acuracy = '+str(accuracy_log))\n",
    "print('F1 score  = '+str(f_1))"
   ]
  },
  {
   "cell_type": "code",
   "execution_count": null,
   "metadata": {
    "scrolled": true
   },
   "outputs": [],
   "source": [
    "print(classification_report(test_labels, prediction, labels=[0, 1]))"
   ]
  },
  {
   "cell_type": "code",
   "execution_count": null,
   "metadata": {},
   "outputs": [],
   "source": []
  }
 ],
 "metadata": {
  "kernelspec": {
   "display_name": "Python 3",
   "language": "python",
   "name": "python3"
  },
  "language_info": {
   "codemirror_mode": {
    "name": "ipython",
    "version": 3
   },
   "file_extension": ".py",
   "mimetype": "text/x-python",
   "name": "python",
   "nbconvert_exporter": "python",
   "pygments_lexer": "ipython3",
   "version": "3.7.3"
  }
 },
 "nbformat": 4,
 "nbformat_minor": 2
}
