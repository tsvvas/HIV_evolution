{
 "cells": [
  {
   "cell_type": "markdown",
   "metadata": {},
   "source": [
    "### At the begginig a bit preprocessing of data: "
   ]
  },
  {
   "cell_type": "code",
   "execution_count": 1,
   "metadata": {},
   "outputs": [],
   "source": [
    "import numpy as np\n",
    "import pandas as pd\n",
    "import Bio as bio\n",
    "from os import listdir\n",
    "from os.path import isfile, join"
   ]
  },
  {
   "cell_type": "code",
   "execution_count": 2,
   "metadata": {},
   "outputs": [
    {
     "data": {
      "text/plain": [
       "['csv_data/CLMD_trachomatis.csv',\n",
       " 'csv_data/CLOS_difficile.csv',\n",
       " 'csv_data/CMV_AD169.csv',\n",
       " 'csv_data/CPBT_jejuni.csv',\n",
       " 'csv_data/EBV_AG876.csv']"
      ]
     },
     "execution_count": 2,
     "metadata": {},
     "output_type": "execute_result"
    }
   ],
   "source": [
    "csv_files = [f for f in listdir('csv_data') if isfile(join('csv_data', f))]\n",
    "for i in range(len(csv_files)):\n",
    "    csv_files[i] = 'csv_data/' + csv_files[i]\n",
    "    \n",
    "csv_files[0:5]"
   ]
  },
  {
   "cell_type": "code",
   "execution_count": 3,
   "metadata": {},
   "outputs": [],
   "source": [
    "Proteins_data = pd.read_csv(csv_files.pop(0),  index_col=0)\n",
    "#Proteins_data.head(20)"
   ]
  },
  {
   "cell_type": "code",
   "execution_count": 4,
   "metadata": {},
   "outputs": [],
   "source": [
    "for x in csv_files:\n",
    "    res_data = pd.read_csv(x,  index_col=0)\n",
    "    Proteins_data = pd.concat([Proteins_data, res_data], ignore_index=True)"
   ]
  },
  {
   "cell_type": "code",
   "execution_count": 5,
   "metadata": {},
   "outputs": [
    {
     "data": {
      "text/html": [
       "<div>\n",
       "<style scoped>\n",
       "    .dataframe tbody tr th:only-of-type {\n",
       "        vertical-align: middle;\n",
       "    }\n",
       "\n",
       "    .dataframe tbody tr th {\n",
       "        vertical-align: top;\n",
       "    }\n",
       "\n",
       "    .dataframe thead th {\n",
       "        text-align: right;\n",
       "    }\n",
       "</style>\n",
       "<table border=\"1\" class=\"dataframe\">\n",
       "  <thead>\n",
       "    <tr style=\"text-align: right;\">\n",
       "      <th></th>\n",
       "      <th>Organism</th>\n",
       "      <th>Protein</th>\n",
       "      <th>AA</th>\n",
       "      <th>AR</th>\n",
       "      <th>AN</th>\n",
       "      <th>AD</th>\n",
       "      <th>AC</th>\n",
       "      <th>AQ</th>\n",
       "      <th>AE</th>\n",
       "      <th>AG</th>\n",
       "      <th>...</th>\n",
       "      <th>VL</th>\n",
       "      <th>VK</th>\n",
       "      <th>VM</th>\n",
       "      <th>VF</th>\n",
       "      <th>VP</th>\n",
       "      <th>VS</th>\n",
       "      <th>VT</th>\n",
       "      <th>VW</th>\n",
       "      <th>VY</th>\n",
       "      <th>VV</th>\n",
       "    </tr>\n",
       "  </thead>\n",
       "  <tbody>\n",
       "    <tr>\n",
       "      <th>0</th>\n",
       "      <td>CLMD_trachomatis</td>\n",
       "      <td>sp|O84499|COAE_CHLTR</td>\n",
       "      <td>[-0.59015886]</td>\n",
       "      <td>[0.58428664]</td>\n",
       "      <td>[-0.59015886]</td>\n",
       "      <td>[4.10762314]</td>\n",
       "      <td>[0.58428664]</td>\n",
       "      <td>[-0.59015886]</td>\n",
       "      <td>[1.75873214]</td>\n",
       "      <td>[-0.59015886]</td>\n",
       "      <td>...</td>\n",
       "      <td>[-0.59015886]</td>\n",
       "      <td>[0.58428664]</td>\n",
       "      <td>[-0.59015886]</td>\n",
       "      <td>[1.75873214]</td>\n",
       "      <td>[0.58428664]</td>\n",
       "      <td>[0.58428664]</td>\n",
       "      <td>[0.58428664]</td>\n",
       "      <td>[-0.59015886]</td>\n",
       "      <td>[-0.59015886]</td>\n",
       "      <td>[1.75873214]</td>\n",
       "    </tr>\n",
       "    <tr>\n",
       "      <th>1</th>\n",
       "      <td>CLMD_trachomatis</td>\n",
       "      <td>sp|O84066|6PGD_CHLTR</td>\n",
       "      <td>[3.5086597]</td>\n",
       "      <td>[0.58629868]</td>\n",
       "      <td>[-0.87488183]</td>\n",
       "      <td>[-0.87488183]</td>\n",
       "      <td>[-0.87488183]</td>\n",
       "      <td>[1.31688894]</td>\n",
       "      <td>[-0.14429158]</td>\n",
       "      <td>[2.04747919]</td>\n",
       "      <td>...</td>\n",
       "      <td>[2.77806945]</td>\n",
       "      <td>[-0.14429158]</td>\n",
       "      <td>[-0.14429158]</td>\n",
       "      <td>[-0.87488183]</td>\n",
       "      <td>[-0.14429158]</td>\n",
       "      <td>[1.31688894]</td>\n",
       "      <td>[-0.87488183]</td>\n",
       "      <td>[-0.87488183]</td>\n",
       "      <td>[-0.14429158]</td>\n",
       "      <td>[-0.87488183]</td>\n",
       "    </tr>\n",
       "    <tr>\n",
       "      <th>2</th>\n",
       "      <td>CLMD_trachomatis</td>\n",
       "      <td>sp|O84379|AAXC_CHLTR</td>\n",
       "      <td>[2.17373241]</td>\n",
       "      <td>[0.45536687]</td>\n",
       "      <td>[1.02815538]</td>\n",
       "      <td>[-0.11742165]</td>\n",
       "      <td>[-0.69021016]</td>\n",
       "      <td>[-0.69021016]</td>\n",
       "      <td>[-0.69021016]</td>\n",
       "      <td>[2.17373241]</td>\n",
       "      <td>...</td>\n",
       "      <td>[2.74652092]</td>\n",
       "      <td>[-0.11742165]</td>\n",
       "      <td>[0.45536687]</td>\n",
       "      <td>[-0.69021016]</td>\n",
       "      <td>[-0.69021016]</td>\n",
       "      <td>[-0.69021016]</td>\n",
       "      <td>[-0.11742165]</td>\n",
       "      <td>[-0.69021016]</td>\n",
       "      <td>[-0.11742165]</td>\n",
       "      <td>[-0.11742165]</td>\n",
       "    </tr>\n",
       "    <tr>\n",
       "      <th>3</th>\n",
       "      <td>CLMD_trachomatis</td>\n",
       "      <td>sp|O84712|CLPP2_CHLTR</td>\n",
       "      <td>[1.94636546]</td>\n",
       "      <td>[-0.65746793]</td>\n",
       "      <td>[0.64444876]</td>\n",
       "      <td>[0.64444876]</td>\n",
       "      <td>[-0.65746793]</td>\n",
       "      <td>[0.64444876]</td>\n",
       "      <td>[3.24828215]</td>\n",
       "      <td>[1.94636546]</td>\n",
       "      <td>...</td>\n",
       "      <td>[-0.65746793]</td>\n",
       "      <td>[-0.65746793]</td>\n",
       "      <td>[0.64444876]</td>\n",
       "      <td>[-0.65746793]</td>\n",
       "      <td>[0.64444876]</td>\n",
       "      <td>[-0.65746793]</td>\n",
       "      <td>[-0.65746793]</td>\n",
       "      <td>[-0.65746793]</td>\n",
       "      <td>[-0.65746793]</td>\n",
       "      <td>[0.64444876]</td>\n",
       "    </tr>\n",
       "    <tr>\n",
       "      <th>4</th>\n",
       "      <td>CLMD_trachomatis</td>\n",
       "      <td>sp|O84102|ACPS_CHLTR</td>\n",
       "      <td>[2.95473522]</td>\n",
       "      <td>[1.22175269]</td>\n",
       "      <td>[-0.51122985]</td>\n",
       "      <td>[-0.51122985]</td>\n",
       "      <td>[-0.51122985]</td>\n",
       "      <td>[-0.51122985]</td>\n",
       "      <td>[1.22175269]</td>\n",
       "      <td>[-0.51122985]</td>\n",
       "      <td>...</td>\n",
       "      <td>[1.22175269]</td>\n",
       "      <td>[1.22175269]</td>\n",
       "      <td>[-0.51122985]</td>\n",
       "      <td>[-0.51122985]</td>\n",
       "      <td>[1.22175269]</td>\n",
       "      <td>[1.22175269]</td>\n",
       "      <td>[-0.51122985]</td>\n",
       "      <td>[-0.51122985]</td>\n",
       "      <td>[1.22175269]</td>\n",
       "      <td>[2.95473522]</td>\n",
       "    </tr>\n",
       "  </tbody>\n",
       "</table>\n",
       "<p>5 rows × 402 columns</p>\n",
       "</div>"
      ],
      "text/plain": [
       "           Organism                Protein             AA             AR  \\\n",
       "0  CLMD_trachomatis   sp|O84499|COAE_CHLTR  [-0.59015886]   [0.58428664]   \n",
       "1  CLMD_trachomatis   sp|O84066|6PGD_CHLTR    [3.5086597]   [0.58629868]   \n",
       "2  CLMD_trachomatis   sp|O84379|AAXC_CHLTR   [2.17373241]   [0.45536687]   \n",
       "3  CLMD_trachomatis  sp|O84712|CLPP2_CHLTR   [1.94636546]  [-0.65746793]   \n",
       "4  CLMD_trachomatis   sp|O84102|ACPS_CHLTR   [2.95473522]   [1.22175269]   \n",
       "\n",
       "              AN             AD             AC             AQ             AE  \\\n",
       "0  [-0.59015886]   [4.10762314]   [0.58428664]  [-0.59015886]   [1.75873214]   \n",
       "1  [-0.87488183]  [-0.87488183]  [-0.87488183]   [1.31688894]  [-0.14429158]   \n",
       "2   [1.02815538]  [-0.11742165]  [-0.69021016]  [-0.69021016]  [-0.69021016]   \n",
       "3   [0.64444876]   [0.64444876]  [-0.65746793]   [0.64444876]   [3.24828215]   \n",
       "4  [-0.51122985]  [-0.51122985]  [-0.51122985]  [-0.51122985]   [1.22175269]   \n",
       "\n",
       "              AG  ...             VL             VK             VM  \\\n",
       "0  [-0.59015886]  ...  [-0.59015886]   [0.58428664]  [-0.59015886]   \n",
       "1   [2.04747919]  ...   [2.77806945]  [-0.14429158]  [-0.14429158]   \n",
       "2   [2.17373241]  ...   [2.74652092]  [-0.11742165]   [0.45536687]   \n",
       "3   [1.94636546]  ...  [-0.65746793]  [-0.65746793]   [0.64444876]   \n",
       "4  [-0.51122985]  ...   [1.22175269]   [1.22175269]  [-0.51122985]   \n",
       "\n",
       "              VF             VP             VS             VT             VW  \\\n",
       "0   [1.75873214]   [0.58428664]   [0.58428664]   [0.58428664]  [-0.59015886]   \n",
       "1  [-0.87488183]  [-0.14429158]   [1.31688894]  [-0.87488183]  [-0.87488183]   \n",
       "2  [-0.69021016]  [-0.69021016]  [-0.69021016]  [-0.11742165]  [-0.69021016]   \n",
       "3  [-0.65746793]   [0.64444876]  [-0.65746793]  [-0.65746793]  [-0.65746793]   \n",
       "4  [-0.51122985]   [1.22175269]   [1.22175269]  [-0.51122985]  [-0.51122985]   \n",
       "\n",
       "              VY             VV  \n",
       "0  [-0.59015886]   [1.75873214]  \n",
       "1  [-0.14429158]  [-0.87488183]  \n",
       "2  [-0.11742165]  [-0.11742165]  \n",
       "3  [-0.65746793]   [0.64444876]  \n",
       "4   [1.22175269]   [2.95473522]  \n",
       "\n",
       "[5 rows x 402 columns]"
      ]
     },
     "execution_count": 5,
     "metadata": {},
     "output_type": "execute_result"
    }
   ],
   "source": [
    "Proteins_data.head(5)"
   ]
  },
  {
   "cell_type": "code",
   "execution_count": 6,
   "metadata": {},
   "outputs": [
    {
     "data": {
      "text/plain": [
       "array(['[-0.59015886]', '[0.58428664]', '[-0.59015886]', '[4.10762314]',\n",
       "       '[0.58428664]', '[-0.59015886]', '[1.75873214]', '[-0.59015886]',\n",
       "       '[0.58428664]', '[0.58428664]', '[0.58428664]', '[-0.59015886]',\n",
       "       '[-0.59015886]', '[-0.59015886]', '[-0.59015886]', '[-0.59015886]',\n",
       "       '[-0.59015886]', '[-0.59015886]', '[0.58428664]', '[-0.59015886]'],\n",
       "      dtype=object)"
      ]
     },
     "execution_count": 6,
     "metadata": {},
     "output_type": "execute_result"
    }
   ],
   "source": [
    "# Be careful with your data\n",
    "\n",
    "Data_anal = Proteins_data\n",
    "\n",
    "labels_categorized = Data_anal[Data_anal.columns[0]].values\n",
    "feature_matrix = Data_anal[Data_anal.columns[2:22]].values\n",
    "\n",
    "feature_matrix[0]\n",
    "\n",
    "# Oh gosh"
   ]
  },
  {
   "cell_type": "code",
   "execution_count": 7,
   "metadata": {},
   "outputs": [],
   "source": [
    "#labels_categorized"
   ]
  },
  {
   "cell_type": "code",
   "execution_count": 8,
   "metadata": {},
   "outputs": [],
   "source": [
    "# Making labels not categorized (slightly)\n",
    "\n",
    "labels = []\n",
    "\n",
    "for x in labels_categorized:\n",
    "    if x == 'human_proteome':\n",
    "        labels.append(1)\n",
    "    else:\n",
    "        labels.append(0)\n",
    "        \n",
    "Data_anal['Label'] = labels"
   ]
  },
  {
   "cell_type": "code",
   "execution_count": 9,
   "metadata": {},
   "outputs": [
    {
     "data": {
      "text/plain": [
       "32200"
      ]
     },
     "execution_count": 9,
     "metadata": {},
     "output_type": "execute_result"
    }
   ],
   "source": [
    "labels.count(0)"
   ]
  },
  {
   "cell_type": "code",
   "execution_count": 10,
   "metadata": {},
   "outputs": [],
   "source": [
    "# Do not ask what is happening here\n",
    "# Our data has some bad feature, there are always str(list(float)) construction (-_-)\n",
    "\n",
    "for i in range(len(feature_matrix)):\n",
    "    for j in range(len(feature_matrix[i])):\n",
    "        string = feature_matrix[i][j].replace('[', '').replace(']', '')\n",
    "        feature_matrix[i][j] = float(string)"
   ]
  },
  {
   "cell_type": "code",
   "execution_count": 11,
   "metadata": {},
   "outputs": [
    {
     "data": {
      "text/plain": [
       "array([-0.59015886, 0.58428664, -0.59015886, 4.10762314, 0.58428664,\n",
       "       -0.59015886, 1.75873214, -0.59015886, 0.58428664, 0.58428664,\n",
       "       0.58428664, -0.59015886, -0.59015886, -0.59015886, -0.59015886,\n",
       "       -0.59015886, -0.59015886, -0.59015886, 0.58428664, -0.59015886],\n",
       "      dtype=object)"
      ]
     },
     "execution_count": 11,
     "metadata": {},
     "output_type": "execute_result"
    }
   ],
   "source": [
    "feature_matrix[0]"
   ]
  },
  {
   "cell_type": "code",
   "execution_count": 16,
   "metadata": {},
   "outputs": [
    {
     "data": {
      "text/plain": [
       "array([[-0.59015886, 0.58428664, -0.59015886, ..., -0.59015886,\n",
       "        0.58428664, -0.59015886],\n",
       "       [3.5086597, 0.58629868, -0.87488183, ..., -0.14429158,\n",
       "        -0.87488183, 2.04747919],\n",
       "       [2.17373241, 0.45536687, 1.02815538, ..., 1.02815538, -0.11742165,\n",
       "        2.17373241],\n",
       "       ...,\n",
       "       [1.27295872, 1.27295872, -0.48284641, ..., -0.48284641,\n",
       "        -0.48284641, 3.02876384],\n",
       "       [1.98453076, 1.12728205, 0.27003334, ..., -0.58721536, 0.27003334,\n",
       "        -0.58721536],\n",
       "       [2.43483879, 0.07473657, -0.23994373, ..., -0.71196417,\n",
       "        0.07473657, 2.59217893]], dtype=object)"
      ]
     },
     "execution_count": 16,
     "metadata": {},
     "output_type": "execute_result"
    }
   ],
   "source": [
    "feature_matrix"
   ]
  },
  {
   "cell_type": "markdown",
   "metadata": {},
   "source": [
    "### Looking at our data:"
   ]
  },
  {
   "cell_type": "code",
   "execution_count": 12,
   "metadata": {},
   "outputs": [],
   "source": [
    "### Here is the place for your code!!!"
   ]
  },
  {
   "cell_type": "markdown",
   "metadata": {},
   "source": [
    "### Starting to make base-line with easy methods:"
   ]
  },
  {
   "cell_type": "code",
   "execution_count": 20,
   "metadata": {},
   "outputs": [],
   "source": [
    "# Importing SKlearn magic\n",
    "\n",
    "from sklearn.model_selection import train_test_split\n",
    "from sklearn.linear_model import LogisticRegression\n",
    "from sklearn.metrics import f1_score, accuracy_score\n",
    "from sklearn import preprocessing\n",
    "from sklearn.ensemble import RandomForestClassifier\n",
    "from sklearn.model_selection import GridSearchCV\n",
    "from sklearn.svm import SVC\n",
    "from sklearn.metrics import classification_report"
   ]
  },
  {
   "cell_type": "code",
   "execution_count": 13,
   "metadata": {},
   "outputs": [],
   "source": [
    "# Making 2 Train-Test split\n",
    "# One (final_test_*) for the final test and second (test_*) for train-test\n",
    "\n",
    "train_feature_matrix, test_feature_matrix,\\\n",
    "train_labels, test_labels = train_test_split(feature_matrix, labels, test_size=0.2, random_state=42)"
   ]
  },
  {
   "cell_type": "code",
   "execution_count": 14,
   "metadata": {},
   "outputs": [
    {
     "name": "stderr",
     "output_type": "stream",
     "text": [
      "D:\\Anaconda\\lib\\site-packages\\sklearn\\utils\\validation.py:595: DataConversionWarning: Data with input dtype object was converted to float64 by StandardScaler.\n",
      "  warnings.warn(msg, DataConversionWarning)\n",
      "D:\\Anaconda\\lib\\site-packages\\sklearn\\utils\\validation.py:595: DataConversionWarning: Data with input dtype object was converted to float64 by StandardScaler.\n",
      "  warnings.warn(msg, DataConversionWarning)\n",
      "D:\\Anaconda\\lib\\site-packages\\sklearn\\utils\\validation.py:595: DataConversionWarning: Data with input dtype object was converted to float64 by StandardScaler.\n",
      "  warnings.warn(msg, DataConversionWarning)\n",
      "D:\\Anaconda\\lib\\site-packages\\sklearn\\utils\\validation.py:595: DataConversionWarning: Data with input dtype object was converted to float64 by StandardScaler.\n",
      "  warnings.warn(msg, DataConversionWarning)\n"
     ]
    }
   ],
   "source": [
    "# Data preprocessing\n",
    "# We will just give it try\n",
    "scaler = preprocessing.StandardScaler()\n",
    "train_feature_matrix_scaled = scaler.fit_transform(train_feature_matrix)\n",
    "test_feature_matrix_scaled = scaler.fit_transform(test_feature_matrix)\n",
    "#print('t h e r e  i s  n o t h i n g  i n t e r e s t i n g')"
   ]
  },
  {
   "cell_type": "markdown",
   "metadata": {},
   "source": [
    "#### Method 1: Random Forest"
   ]
  },
  {
   "cell_type": "code",
   "execution_count": 55,
   "metadata": {},
   "outputs": [],
   "source": [
    "# Will try Random Forest\n",
    "\n",
    "forest = RandomForestClassifier(n_estimators= 3000, max_depth=10, bootstrap='True')"
   ]
  },
  {
   "cell_type": "code",
   "execution_count": 28,
   "metadata": {},
   "outputs": [
    {
     "data": {
      "text/plain": [
       "RandomForestClassifier(bootstrap='True', class_weight=None, criterion='gini',\n",
       "            max_depth=15, max_features='sqrt', max_leaf_nodes=None,\n",
       "            min_impurity_decrease=0.0, min_impurity_split=None,\n",
       "            min_samples_leaf=1, min_samples_split=2,\n",
       "            min_weight_fraction_leaf=0.0, n_estimators=5000, n_jobs=None,\n",
       "            oob_score=False, random_state=None, verbose=0,\n",
       "            warm_start=False)"
      ]
     },
     "execution_count": 28,
     "metadata": {},
     "output_type": "execute_result"
    }
   ],
   "source": [
    "# Training \n",
    "forest.fit(train_feature_matrix, train_labels)"
   ]
  },
  {
   "cell_type": "code",
   "execution_count": 29,
   "metadata": {},
   "outputs": [],
   "source": [
    "y_pred = forest.predict(test_feature_matrix)"
   ]
  },
  {
   "cell_type": "code",
   "execution_count": 30,
   "metadata": {
    "scrolled": true
   },
   "outputs": [
    {
     "name": "stdout",
     "output_type": "stream",
     "text": [
      "              precision    recall  f1-score   support\n",
      "\n",
      "           0       0.82      0.51      0.63      6330\n",
      "           1       0.82      0.95      0.88     14980\n",
      "\n",
      "   micro avg       0.82      0.82      0.82     21310\n",
      "   macro avg       0.82      0.73      0.75     21310\n",
      "weighted avg       0.82      0.82      0.81     21310\n",
      "\n"
     ]
    }
   ],
   "source": [
    "print(classification_report(test_labels, y_pred, labels=[0, 1]))"
   ]
  },
  {
   "cell_type": "code",
   "execution_count": 48,
   "metadata": {},
   "outputs": [
    {
     "data": {
      "text/plain": [
       "0.8208352885969029"
      ]
     },
     "execution_count": 48,
     "metadata": {},
     "output_type": "execute_result"
    }
   ],
   "source": [
    "forest.score(test_feature_matrix, test_labels)"
   ]
  },
  {
   "cell_type": "code",
   "execution_count": 49,
   "metadata": {},
   "outputs": [
    {
     "name": "stdout",
     "output_type": "stream",
     "text": [
      "F1-score = 0.8821313904667819\n"
     ]
    }
   ],
   "source": [
    "prediction = forest.predict(test_feature_matrix)\n",
    "\n",
    "f_1 = f1_score(prediction, test_labels)\n",
    "\n",
    "print('F1-score = '+str(f_1))"
   ]
  },
  {
   "cell_type": "markdown",
   "metadata": {},
   "source": [
    "Maybe not the best result\n"
   ]
  },
  {
   "cell_type": "code",
   "execution_count": null,
   "metadata": {},
   "outputs": [],
   "source": [
    "#Raw code\n",
    "\n",
    "#parametrs = {'n_estimators':np.arange(4000, 6001, 1000)}\n",
    "parametrs = {'max_features':['log2', 'sqrt', '10', '30']}\n",
    "gs_forest = GridSearchCV(forest, parametrs, cv = 5, scoring = 'accuracy', n_jobs=-1)\n",
    "\n",
    "gs_forest.fit(train_feature_matrix, train_labels)"
   ]
  },
  {
   "cell_type": "code",
   "execution_count": null,
   "metadata": {},
   "outputs": [],
   "source": [
    "gs_forest.best_estimator_"
   ]
  },
  {
   "cell_type": "markdown",
   "metadata": {},
   "source": [
    "#### Method 2: Logistic Regression"
   ]
  },
  {
   "cell_type": "code",
   "execution_count": 35,
   "metadata": {},
   "outputs": [],
   "source": [
    "# Making LogRes class\n",
    "\n",
    "lr_clf = LogisticRegression(max_iter=100000, solver='saga', tol=0.00001, penalty ='l2'\\\n",
    "                            , C=100, class_weight = { 1 : 1 , 0: 1})"
   ]
  },
  {
   "cell_type": "code",
   "execution_count": 36,
   "metadata": {},
   "outputs": [
    {
     "data": {
      "text/plain": [
       "LogisticRegression(C=100, class_weight={1: 1, 0: 1}, dual=False,\n",
       "          fit_intercept=True, intercept_scaling=1, max_iter=100000,\n",
       "          multi_class='warn', n_jobs=None, penalty='l2', random_state=None,\n",
       "          solver='saga', tol=1e-05, verbose=0, warm_start=False)"
      ]
     },
     "execution_count": 36,
     "metadata": {},
     "output_type": "execute_result"
    }
   ],
   "source": [
    "# Fitting not preproccesed data\n",
    "\n",
    "lr_clf.fit(train_feature_matrix, train_labels)"
   ]
  },
  {
   "cell_type": "code",
   "execution_count": 37,
   "metadata": {},
   "outputs": [
    {
     "data": {
      "text/plain": [
       "array([[ 0.01851586, -0.18174556, -0.35999432, -0.38950807,  0.2657495 ,\n",
       "        -0.01857409, -0.07691971, -0.16424495, -0.0693551 , -0.52315851,\n",
       "        -0.19995228, -0.18236666, -0.27808052, -0.1355815 ,  0.13585265,\n",
       "         0.10094773, -0.15269855, -0.18802809, -0.2483542 , -0.1401076 ]])"
      ]
     },
     "execution_count": 37,
     "metadata": {},
     "output_type": "execute_result"
    }
   ],
   "source": [
    "# Weights\n",
    "\n",
    "lr_clf.coef_"
   ]
  },
  {
   "cell_type": "code",
   "execution_count": 38,
   "metadata": {
    "scrolled": true
   },
   "outputs": [
    {
     "name": "stdout",
     "output_type": "stream",
     "text": [
      "Acuracy = 0.7867198498357578\n",
      "F1 score  = 0.8581239269548931\n"
     ]
    }
   ],
   "source": [
    "# Score for test (Accuracy and F1-score)\n",
    "\n",
    "accuracy_log = lr_clf.score(test_feature_matrix, test_labels)\n",
    "\n",
    "prediction = lr_clf.predict(test_feature_matrix)\n",
    "\n",
    "f_1 = f1_score(prediction, test_labels)\n",
    "\n",
    "print('Acuracy = '+str(accuracy_log))\n",
    "print('F1 score  = '+str(f_1))"
   ]
  },
  {
   "cell_type": "markdown",
   "metadata": {},
   "source": [
    "#### Method 3: SVM"
   ]
  },
  {
   "cell_type": "code",
   "execution_count": 39,
   "metadata": {},
   "outputs": [],
   "source": [
    "# Making\n",
    "\n",
    "svm_rbf = SVC(kernel='rbf', max_iter=20000, tol=0.0001, C=2, gamma=3)\n",
    "\n",
    "parametrs_rbf = {'C':np.linspace(1, 20, 5), 'gamma':np.linspace(0, 10, 5)}\n",
    "\n",
    "#grid_search_rbf = GridSearchCV(svm_rbf, parametrs_rbf, cv = 5, scoring = 'accuracy', n_jobs=-1)\n",
    "#grid_search_rbf.fit(train_feature_matrix, train_labels)"
   ]
  },
  {
   "cell_type": "code",
   "execution_count": 40,
   "metadata": {},
   "outputs": [
    {
     "name": "stderr",
     "output_type": "stream",
     "text": [
      "D:\\Anaconda\\lib\\site-packages\\sklearn\\svm\\base.py:244: ConvergenceWarning: Solver terminated early (max_iter=20000).  Consider pre-processing your data with StandardScaler or MinMaxScaler.\n",
      "  % self.max_iter, ConvergenceWarning)\n"
     ]
    },
    {
     "data": {
      "text/plain": [
       "SVC(C=2, cache_size=200, class_weight=None, coef0=0.0,\n",
       "  decision_function_shape='ovr', degree=3, gamma=3, kernel='rbf',\n",
       "  max_iter=20000, probability=False, random_state=None, shrinking=True,\n",
       "  tol=0.0001, verbose=False)"
      ]
     },
     "execution_count": 40,
     "metadata": {},
     "output_type": "execute_result"
    }
   ],
   "source": [
    "# Fitting not preproccesed data\n",
    "\n",
    "svm_rbf.fit(train_feature_matrix, train_labels)"
   ]
  },
  {
   "cell_type": "code",
   "execution_count": 41,
   "metadata": {},
   "outputs": [
    {
     "data": {
      "text/plain": [
       "0.935240910850667"
      ]
     },
     "execution_count": 41,
     "metadata": {},
     "output_type": "execute_result"
    }
   ],
   "source": [
    "# Score for test (Accuracy and F1-score)\n",
    "\n",
    "svm_rbf.score(train_feature_matrix, train_labels)"
   ]
  },
  {
   "cell_type": "code",
   "execution_count": 42,
   "metadata": {},
   "outputs": [
    {
     "data": {
      "text/plain": [
       "0.7099483810417644"
      ]
     },
     "execution_count": 42,
     "metadata": {},
     "output_type": "execute_result"
    }
   ],
   "source": [
    "svm_rbf.score(test_feature_matrix, test_labels)"
   ]
  },
  {
   "cell_type": "markdown",
   "metadata": {},
   "source": [
    "Interesting result"
   ]
  },
  {
   "cell_type": "markdown",
   "metadata": {},
   "source": [
    "#### Method 4: Gradient boosting"
   ]
  },
  {
   "cell_type": "code",
   "execution_count": 50,
   "metadata": {},
   "outputs": [],
   "source": [
    "from sklearn.ensemble import AdaBoostClassifier\n",
    "from sklearn.tree import DecisionTreeClassifier"
   ]
  },
  {
   "cell_type": "code",
   "execution_count": 51,
   "metadata": {},
   "outputs": [],
   "source": [
    "# Making\n",
    "\n",
    "Gradboost = AdaBoostClassifier(\n",
    "    DecisionTreeClassifier(max_depth=15),\n",
    "    n_estimators=1000,\n",
    "    random_state=42)"
   ]
  },
  {
   "cell_type": "code",
   "execution_count": 52,
   "metadata": {},
   "outputs": [
    {
     "data": {
      "text/plain": [
       "AdaBoostClassifier(algorithm='SAMME.R',\n",
       "          base_estimator=DecisionTreeClassifier(class_weight=None, criterion='gini', max_depth=15,\n",
       "            max_features=None, max_leaf_nodes=None,\n",
       "            min_impurity_decrease=0.0, min_impurity_split=None,\n",
       "            min_samples_leaf=1, min_samples_split=2,\n",
       "            min_weight_fraction_leaf=0.0, presort=False, random_state=None,\n",
       "            splitter='best'),\n",
       "          learning_rate=1.0, n_estimators=1000, random_state=42)"
      ]
     },
     "execution_count": 52,
     "metadata": {},
     "output_type": "execute_result"
    }
   ],
   "source": [
    "# Fitting not preproccesed data\n",
    "\n",
    "Gradboost.fit(train_feature_matrix, train_labels)"
   ]
  },
  {
   "cell_type": "code",
   "execution_count": 53,
   "metadata": {
    "scrolled": true
   },
   "outputs": [
    {
     "name": "stdout",
     "output_type": "stream",
     "text": [
      "Acuracy = 0.8125762552792116\n",
      "F1 score  = 0.8724124712496806\n"
     ]
    }
   ],
   "source": [
    "# Score for test (Accuracy and F1-score)\n",
    "\n",
    "accuracy_log = Gradboost.score(test_feature_matrix, test_labels)\n",
    "\n",
    "prediction = Gradboost.predict(test_feature_matrix)\n",
    "\n",
    "f_1 = f1_score(prediction, test_labels)\n",
    "\n",
    "print('Acuracy = '+str(accuracy_log))\n",
    "print('F1 score  = '+str(f_1))"
   ]
  },
  {
   "cell_type": "code",
   "execution_count": 54,
   "metadata": {
    "scrolled": true
   },
   "outputs": [
    {
     "name": "stdout",
     "output_type": "stream",
     "text": [
      "              precision    recall  f1-score   support\n",
      "\n",
      "           0       0.73      0.58      0.65      6330\n",
      "           1       0.84      0.91      0.87     14980\n",
      "\n",
      "   micro avg       0.81      0.81      0.81     21310\n",
      "   macro avg       0.79      0.74      0.76     21310\n",
      "weighted avg       0.81      0.81      0.81     21310\n",
      "\n"
     ]
    }
   ],
   "source": [
    "print(classification_report(test_labels, prediction, labels=[0, 1]))"
   ]
  }
 ],
 "metadata": {
  "kernelspec": {
   "display_name": "Python 3",
   "language": "python",
   "name": "python3"
  },
  "language_info": {
   "codemirror_mode": {
    "name": "ipython",
    "version": 3
   },
   "file_extension": ".py",
   "mimetype": "text/x-python",
   "name": "python",
   "nbconvert_exporter": "python",
   "pygments_lexer": "ipython3",
   "version": "3.7.3"
  }
 },
 "nbformat": 4,
 "nbformat_minor": 2
}
