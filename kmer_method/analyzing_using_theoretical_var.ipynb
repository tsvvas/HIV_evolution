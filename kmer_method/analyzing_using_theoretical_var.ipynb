{
 "cells": [
  {
   "cell_type": "markdown",
   "metadata": {},
   "source": [
    "### At the begginig a bit preprocessing of data: "
   ]
  },
  {
   "cell_type": "code",
   "execution_count": 36,
   "metadata": {},
   "outputs": [],
   "source": [
    "import numpy as np\n",
    "import pandas as pd\n",
    "import Bio as bio\n",
    "from os import listdir\n",
    "from os.path import isfile, join"
   ]
  },
  {
   "cell_type": "code",
   "execution_count": 37,
   "metadata": {},
   "outputs": [
    {
     "data": {
      "text/plain": [
       "['csv_data_math/CLMD_trachomatis.csv',\n",
       " 'csv_data_math/CLOS_difficile.csv',\n",
       " 'csv_data_math/CMV_AD169.csv',\n",
       " 'csv_data_math/CPBT_jejuni.csv',\n",
       " 'csv_data_math/EBV_AG876.csv']"
      ]
     },
     "execution_count": 37,
     "metadata": {},
     "output_type": "execute_result"
    }
   ],
   "source": [
    "csv_files = [f for f in listdir('csv_data_math') if isfile(join('csv_data_math', f))]\n",
    "for i in range(len(csv_files)):\n",
    "    csv_files[i] = 'csv_data_math/' + csv_files[i]\n",
    "    \n",
    "csv_files[0:5]"
   ]
  },
  {
   "cell_type": "code",
   "execution_count": 38,
   "metadata": {},
   "outputs": [],
   "source": [
    "Proteins_data = pd.read_csv(csv_files.pop(0),  index_col=0)\n",
    "#Proteins_data.head(20)"
   ]
  },
  {
   "cell_type": "code",
   "execution_count": 39,
   "metadata": {},
   "outputs": [],
   "source": [
    "for x in csv_files:\n",
    "    res_data = pd.read_csv(x,  index_col=0)\n",
    "    Proteins_data = pd.concat([Proteins_data, res_data], ignore_index=True)"
   ]
  },
  {
   "cell_type": "code",
   "execution_count": 40,
   "metadata": {},
   "outputs": [
    {
     "data": {
      "text/html": [
       "<div>\n",
       "<style scoped>\n",
       "    .dataframe tbody tr th:only-of-type {\n",
       "        vertical-align: middle;\n",
       "    }\n",
       "\n",
       "    .dataframe tbody tr th {\n",
       "        vertical-align: top;\n",
       "    }\n",
       "\n",
       "    .dataframe thead th {\n",
       "        text-align: right;\n",
       "    }\n",
       "</style>\n",
       "<table border=\"1\" class=\"dataframe\">\n",
       "  <thead>\n",
       "    <tr style=\"text-align: right;\">\n",
       "      <th></th>\n",
       "      <th>Organism</th>\n",
       "      <th>Protein</th>\n",
       "      <th>AA</th>\n",
       "      <th>AR</th>\n",
       "      <th>AN</th>\n",
       "      <th>AD</th>\n",
       "      <th>AC</th>\n",
       "      <th>AQ</th>\n",
       "      <th>AE</th>\n",
       "      <th>AG</th>\n",
       "      <th>...</th>\n",
       "      <th>VL</th>\n",
       "      <th>VK</th>\n",
       "      <th>VM</th>\n",
       "      <th>VF</th>\n",
       "      <th>VP</th>\n",
       "      <th>VS</th>\n",
       "      <th>VT</th>\n",
       "      <th>VW</th>\n",
       "      <th>VY</th>\n",
       "      <th>VV</th>\n",
       "    </tr>\n",
       "  </thead>\n",
       "  <tbody>\n",
       "    <tr>\n",
       "      <th>0</th>\n",
       "      <td>CLMD_trachomatis</td>\n",
       "      <td>sp|O84499|COAE_CHLTR</td>\n",
       "      <td>-0.711537</td>\n",
       "      <td>0.704457</td>\n",
       "      <td>-0.711537</td>\n",
       "      <td>4.952437</td>\n",
       "      <td>0.704457</td>\n",
       "      <td>-0.711537</td>\n",
       "      <td>2.120450</td>\n",
       "      <td>-0.711537</td>\n",
       "      <td>...</td>\n",
       "      <td>-0.711537</td>\n",
       "      <td>0.704457</td>\n",
       "      <td>-0.711537</td>\n",
       "      <td>2.120450</td>\n",
       "      <td>0.704457</td>\n",
       "      <td>0.704457</td>\n",
       "      <td>0.704457</td>\n",
       "      <td>-0.711537</td>\n",
       "      <td>-0.711537</td>\n",
       "      <td>2.120450</td>\n",
       "    </tr>\n",
       "    <tr>\n",
       "      <th>1</th>\n",
       "      <td>CLMD_trachomatis</td>\n",
       "      <td>sp|O84066|6PGD_CHLTR</td>\n",
       "      <td>4.405164</td>\n",
       "      <td>0.736105</td>\n",
       "      <td>-1.098425</td>\n",
       "      <td>-1.098425</td>\n",
       "      <td>-1.098425</td>\n",
       "      <td>1.653370</td>\n",
       "      <td>-0.181160</td>\n",
       "      <td>2.570634</td>\n",
       "      <td>...</td>\n",
       "      <td>3.487899</td>\n",
       "      <td>-0.181160</td>\n",
       "      <td>-0.181160</td>\n",
       "      <td>-1.098425</td>\n",
       "      <td>-0.181160</td>\n",
       "      <td>1.653370</td>\n",
       "      <td>-1.098425</td>\n",
       "      <td>-1.098425</td>\n",
       "      <td>-0.181160</td>\n",
       "      <td>-1.098425</td>\n",
       "    </tr>\n",
       "    <tr>\n",
       "      <th>2</th>\n",
       "      <td>CLMD_trachomatis</td>\n",
       "      <td>sp|O84379|AAXC_CHLTR</td>\n",
       "      <td>3.470170</td>\n",
       "      <td>0.726953</td>\n",
       "      <td>1.641358</td>\n",
       "      <td>-0.187453</td>\n",
       "      <td>-1.101859</td>\n",
       "      <td>-1.101859</td>\n",
       "      <td>-1.101859</td>\n",
       "      <td>3.470170</td>\n",
       "      <td>...</td>\n",
       "      <td>4.384576</td>\n",
       "      <td>-0.187453</td>\n",
       "      <td>0.726953</td>\n",
       "      <td>-1.101859</td>\n",
       "      <td>-1.101859</td>\n",
       "      <td>-1.101859</td>\n",
       "      <td>-0.187453</td>\n",
       "      <td>-1.101859</td>\n",
       "      <td>-0.187453</td>\n",
       "      <td>-0.187453</td>\n",
       "    </tr>\n",
       "    <tr>\n",
       "      <th>3</th>\n",
       "      <td>CLMD_trachomatis</td>\n",
       "      <td>sp|O84712|CLPP2_CHLTR</td>\n",
       "      <td>2.111664</td>\n",
       "      <td>-0.713305</td>\n",
       "      <td>0.699180</td>\n",
       "      <td>0.699180</td>\n",
       "      <td>-0.713305</td>\n",
       "      <td>0.699180</td>\n",
       "      <td>3.524148</td>\n",
       "      <td>2.111664</td>\n",
       "      <td>...</td>\n",
       "      <td>-0.713305</td>\n",
       "      <td>-0.713305</td>\n",
       "      <td>0.699180</td>\n",
       "      <td>-0.713305</td>\n",
       "      <td>0.699180</td>\n",
       "      <td>-0.713305</td>\n",
       "      <td>-0.713305</td>\n",
       "      <td>-0.713305</td>\n",
       "      <td>-0.713305</td>\n",
       "      <td>0.699180</td>\n",
       "    </tr>\n",
       "    <tr>\n",
       "      <th>4</th>\n",
       "      <td>CLMD_trachomatis</td>\n",
       "      <td>sp|O84102|ACPS_CHLTR</td>\n",
       "      <td>3.150931</td>\n",
       "      <td>1.302877</td>\n",
       "      <td>-0.545176</td>\n",
       "      <td>-0.545176</td>\n",
       "      <td>-0.545176</td>\n",
       "      <td>-0.545176</td>\n",
       "      <td>1.302877</td>\n",
       "      <td>-0.545176</td>\n",
       "      <td>...</td>\n",
       "      <td>1.302877</td>\n",
       "      <td>1.302877</td>\n",
       "      <td>-0.545176</td>\n",
       "      <td>-0.545176</td>\n",
       "      <td>1.302877</td>\n",
       "      <td>1.302877</td>\n",
       "      <td>-0.545176</td>\n",
       "      <td>-0.545176</td>\n",
       "      <td>1.302877</td>\n",
       "      <td>3.150931</td>\n",
       "    </tr>\n",
       "  </tbody>\n",
       "</table>\n",
       "<p>5 rows × 402 columns</p>\n",
       "</div>"
      ],
      "text/plain": [
       "           Organism                Protein        AA        AR        AN  \\\n",
       "0  CLMD_trachomatis   sp|O84499|COAE_CHLTR -0.711537  0.704457 -0.711537   \n",
       "1  CLMD_trachomatis   sp|O84066|6PGD_CHLTR  4.405164  0.736105 -1.098425   \n",
       "2  CLMD_trachomatis   sp|O84379|AAXC_CHLTR  3.470170  0.726953  1.641358   \n",
       "3  CLMD_trachomatis  sp|O84712|CLPP2_CHLTR  2.111664 -0.713305  0.699180   \n",
       "4  CLMD_trachomatis   sp|O84102|ACPS_CHLTR  3.150931  1.302877 -0.545176   \n",
       "\n",
       "         AD        AC        AQ        AE        AG  ...        VL        VK  \\\n",
       "0  4.952437  0.704457 -0.711537  2.120450 -0.711537  ... -0.711537  0.704457   \n",
       "1 -1.098425 -1.098425  1.653370 -0.181160  2.570634  ...  3.487899 -0.181160   \n",
       "2 -0.187453 -1.101859 -1.101859 -1.101859  3.470170  ...  4.384576 -0.187453   \n",
       "3  0.699180 -0.713305  0.699180  3.524148  2.111664  ... -0.713305 -0.713305   \n",
       "4 -0.545176 -0.545176 -0.545176  1.302877 -0.545176  ...  1.302877  1.302877   \n",
       "\n",
       "         VM        VF        VP        VS        VT        VW        VY  \\\n",
       "0 -0.711537  2.120450  0.704457  0.704457  0.704457 -0.711537 -0.711537   \n",
       "1 -0.181160 -1.098425 -0.181160  1.653370 -1.098425 -1.098425 -0.181160   \n",
       "2  0.726953 -1.101859 -1.101859 -1.101859 -0.187453 -1.101859 -0.187453   \n",
       "3  0.699180 -0.713305  0.699180 -0.713305 -0.713305 -0.713305 -0.713305   \n",
       "4 -0.545176 -0.545176  1.302877  1.302877 -0.545176 -0.545176  1.302877   \n",
       "\n",
       "         VV  \n",
       "0  2.120450  \n",
       "1 -1.098425  \n",
       "2 -0.187453  \n",
       "3  0.699180  \n",
       "4  3.150931  \n",
       "\n",
       "[5 rows x 402 columns]"
      ]
     },
     "execution_count": 40,
     "metadata": {},
     "output_type": "execute_result"
    }
   ],
   "source": [
    "Proteins_data.head(5)"
   ]
  },
  {
   "cell_type": "code",
   "execution_count": 41,
   "metadata": {},
   "outputs": [
    {
     "data": {
      "text/plain": [
       "array([-0.71153675,  0.70445678, -0.71153675,  4.95243735,  0.70445678,\n",
       "       -0.71153675,  2.1204503 , -0.71153675,  0.70445678,  0.70445678,\n",
       "        0.70445678, -0.71153675, -0.71153675, -0.71153675, -0.71153675,\n",
       "       -0.71153675, -0.71153675, -0.71153675,  0.70445678, -0.71153675])"
      ]
     },
     "execution_count": 41,
     "metadata": {},
     "output_type": "execute_result"
    }
   ],
   "source": [
    "# Be careful with your data\n",
    "\n",
    "Data_anal = Proteins_data\n",
    "\n",
    "labels_categorized = Data_anal[Data_anal.columns[0]].values\n",
    "feature_matrix = Data_anal[Data_anal.columns[2:22]].values\n",
    "\n",
    "feature_matrix[0]\n",
    "\n",
    "# Oh gosh"
   ]
  },
  {
   "cell_type": "code",
   "execution_count": 42,
   "metadata": {},
   "outputs": [],
   "source": [
    "#labels_categorized"
   ]
  },
  {
   "cell_type": "code",
   "execution_count": 43,
   "metadata": {},
   "outputs": [],
   "source": [
    "# Making labels not categorized (slightly)\n",
    "\n",
    "labels = []\n",
    "\n",
    "for x in labels_categorized:\n",
    "    if x == 'human_proteome':\n",
    "        labels.append(1)\n",
    "    else:\n",
    "        labels.append(0)\n",
    "        \n",
    "Data_anal['Label'] = labels"
   ]
  },
  {
   "cell_type": "code",
   "execution_count": 45,
   "metadata": {},
   "outputs": [
    {
     "data": {
      "text/plain": [
       "44609"
      ]
     },
     "execution_count": 45,
     "metadata": {},
     "output_type": "execute_result"
    }
   ],
   "source": [
    "labels.count(1)"
   ]
  },
  {
   "cell_type": "markdown",
   "metadata": {},
   "source": [
    "### Looking at our data:"
   ]
  },
  {
   "cell_type": "code",
   "execution_count": 46,
   "metadata": {},
   "outputs": [],
   "source": [
    "### Here is the place for your code!!!"
   ]
  },
  {
   "cell_type": "markdown",
   "metadata": {},
   "source": [
    "### Starting to make base-line with easy methods:"
   ]
  },
  {
   "cell_type": "code",
   "execution_count": 47,
   "metadata": {},
   "outputs": [],
   "source": [
    "# Importing SKlearn magic\n",
    "\n",
    "from sklearn.model_selection import train_test_split\n",
    "from sklearn.linear_model import LogisticRegression\n",
    "from sklearn.metrics import f1_score, accuracy_score\n",
    "from sklearn import preprocessing\n",
    "from sklearn.ensemble import RandomForestClassifier\n",
    "from sklearn.model_selection import GridSearchCV\n",
    "from sklearn.svm import SVC"
   ]
  },
  {
   "cell_type": "code",
   "execution_count": 48,
   "metadata": {},
   "outputs": [],
   "source": [
    "# Making 2 Train-Test split\n",
    "# One (final_test_*) for the final test and second (test_*) for train-test\n",
    "\n",
    "train_feature_matrix, test_feature_matrix,\\\n",
    "train_labels, test_labels = train_test_split(feature_matrix, labels, test_size=0.2, random_state=42)"
   ]
  },
  {
   "cell_type": "code",
   "execution_count": 49,
   "metadata": {},
   "outputs": [
    {
     "name": "stdout",
     "output_type": "stream",
     "text": [
      "t h e r e  i s  n o t h i n g  i n t e r e s t i n g\n"
     ]
    }
   ],
   "source": [
    "# Data preprocessing\n",
    "# We will just give it try\n",
    "#scaler = preprocessing.StandardScaler()\n",
    "#train_feature_matrix_scaled = scaler.fit_transform(train_feature_matrix)\n",
    "#test_feature_matrix_scaled = scaler.fit_transform(test_feature_matrix)\n",
    "print('t h e r e  i s  n o t h i n g  i n t e r e s t i n g')"
   ]
  },
  {
   "cell_type": "markdown",
   "metadata": {},
   "source": [
    "#### Method 1: Random Forest"
   ]
  },
  {
   "cell_type": "code",
   "execution_count": 50,
   "metadata": {},
   "outputs": [],
   "source": [
    "# Will try Random Forest\n",
    "\n",
    "forest = RandomForestClassifier(n_estimators=2000, max_depth=10, \\\n",
    "                                max_features='sqrt', bootstrap='True', n_jobs=-1)"
   ]
  },
  {
   "cell_type": "code",
   "execution_count": 51,
   "metadata": {},
   "outputs": [
    {
     "data": {
      "text/plain": [
       "RandomForestClassifier(bootstrap='True', class_weight=None, criterion='gini',\n",
       "            max_depth=10, max_features='sqrt', max_leaf_nodes=None,\n",
       "            min_impurity_decrease=0.0, min_impurity_split=None,\n",
       "            min_samples_leaf=1, min_samples_split=2,\n",
       "            min_weight_fraction_leaf=0.0, n_estimators=2000, n_jobs=-1,\n",
       "            oob_score=False, random_state=None, verbose=0,\n",
       "            warm_start=False)"
      ]
     },
     "execution_count": 51,
     "metadata": {},
     "output_type": "execute_result"
    }
   ],
   "source": [
    "# Training \n",
    "forest.fit(train_feature_matrix, train_labels)"
   ]
  },
  {
   "cell_type": "code",
   "execution_count": 52,
   "metadata": {
    "scrolled": false
   },
   "outputs": [
    {
     "data": {
      "text/plain": [
       "0.7561515427678688"
      ]
     },
     "execution_count": 52,
     "metadata": {},
     "output_type": "execute_result"
    }
   ],
   "source": [
    "# Score for final_test\n",
    "\n",
    "forest.score(test_feature_matrix, test_labels)"
   ]
  },
  {
   "cell_type": "raw",
   "metadata": {},
   "source": [
    "# Raw code\n",
    "\n",
    "parametrs = {'n_estimators':np.arange(4000, 6001, 1000)}\n",
    "\n",
    "gs_forest = GridSearchCV(forest, parametrs, cv = 5, scoring = 'accuracy', n_jobs=-1)\n",
    "\n",
    "gs_forest.fit(train_feature_matrix, train_labels)"
   ]
  },
  {
   "cell_type": "raw",
   "metadata": {},
   "source": [
    "gs_forest.best_estimator_"
   ]
  },
  {
   "cell_type": "markdown",
   "metadata": {},
   "source": [
    "#### Method 2: Logistic Regression"
   ]
  },
  {
   "cell_type": "code",
   "execution_count": 53,
   "metadata": {},
   "outputs": [],
   "source": [
    "# Making LogRes class\n",
    "\n",
    "lr_clf = LogisticRegression(max_iter=30000, solver='lbfgs', tol=0.00001, penalty ='l2',\n",
    "                            C=1, class_weight = { 1 : 1 , 0: 1})"
   ]
  },
  {
   "cell_type": "code",
   "execution_count": 54,
   "metadata": {},
   "outputs": [
    {
     "data": {
      "text/plain": [
       "LogisticRegression(C=1, class_weight={1: 1, 0: 1}, dual=False,\n",
       "          fit_intercept=True, intercept_scaling=1, max_iter=30000,\n",
       "          multi_class='warn', n_jobs=None, penalty='l2', random_state=None,\n",
       "          solver='lbfgs', tol=1e-05, verbose=0, warm_start=False)"
      ]
     },
     "execution_count": 54,
     "metadata": {},
     "output_type": "execute_result"
    }
   ],
   "source": [
    "# Fitting not preproccesed data\n",
    "\n",
    "lr_clf.fit(train_feature_matrix, train_labels)"
   ]
  },
  {
   "cell_type": "code",
   "execution_count": 55,
   "metadata": {},
   "outputs": [
    {
     "data": {
      "text/plain": [
       "array([[ 0.03600033, -0.11598504, -0.32034697, -0.33149252,  0.16225286,\n",
       "        -0.00268311, -0.01975328, -0.10255336, -0.08450084, -0.42155157,\n",
       "        -0.1038658 , -0.12290415, -0.26539268, -0.08073104,  0.12956722,\n",
       "         0.12920812, -0.10246073, -0.26155098, -0.22833953, -0.09047061]])"
      ]
     },
     "execution_count": 55,
     "metadata": {},
     "output_type": "execute_result"
    }
   ],
   "source": [
    "# Weights\n",
    "\n",
    "lr_clf.coef_"
   ]
  },
  {
   "cell_type": "code",
   "execution_count": 56,
   "metadata": {
    "scrolled": true
   },
   "outputs": [
    {
     "name": "stdout",
     "output_type": "stream",
     "text": [
      "Acuracy = 0.7343444863950006\n",
      "F1 score  = 0.7843820996460082\n"
     ]
    }
   ],
   "source": [
    "# Score for test (Accuracy and F1-score)\n",
    "\n",
    "accuracy_log = lr_clf.score(test_feature_matrix, test_labels)\n",
    "\n",
    "prediction = lr_clf.predict(test_feature_matrix)\n",
    "\n",
    "f_1 = f1_score(prediction, test_labels)\n",
    "\n",
    "print('Acuracy = '+str(accuracy_log))\n",
    "print('F1 score  = '+str(f_1))"
   ]
  },
  {
   "cell_type": "markdown",
   "metadata": {},
   "source": [
    "#### Method 3: SVM"
   ]
  },
  {
   "cell_type": "code",
   "execution_count": null,
   "metadata": {},
   "outputs": [],
   "source": [
    "# Making\n",
    "\n",
    "svm_rbf = SVC(kernel='rbf', max_iter=20000, tol=0.0001, C=1.5, gamma=2)\n",
    "\n",
    "parametrs_rbf = {'C':np.linspace(1, 20, 5), 'gamma':np.linspace(0, 10, 5)}\n",
    "\n",
    "#grid_search_rbf = GridSearchCV(svm_rbf, parametrs_rbf, cv = 5, scoring = 'accuracy', n_jobs=-1)\n",
    "#grid_search_rbf.fit(train_feature_matrix, train_labels)"
   ]
  },
  {
   "cell_type": "code",
   "execution_count": null,
   "metadata": {},
   "outputs": [],
   "source": [
    "# Fitting not preproccesed data\n",
    "\n",
    "svm_rbf.fit(train_feature_matrix, train_labels)"
   ]
  },
  {
   "cell_type": "code",
   "execution_count": null,
   "metadata": {},
   "outputs": [],
   "source": [
    "# Score for test (Accuracy and F1-score)\n",
    "\n",
    "svm_rbf.score(train_feature_matrix, train_labels)"
   ]
  },
  {
   "cell_type": "code",
   "execution_count": null,
   "metadata": {},
   "outputs": [],
   "source": [
    "svm_rbf.score(test_feature_matrix, test_labels)"
   ]
  },
  {
   "cell_type": "markdown",
   "metadata": {},
   "source": [
    "#### Method 4: Gradient boosting"
   ]
  },
  {
   "cell_type": "code",
   "execution_count": 30,
   "metadata": {},
   "outputs": [],
   "source": [
    "from sklearn.ensemble import AdaBoostClassifier\n",
    "from sklearn.tree import DecisionTreeClassifier"
   ]
  },
  {
   "cell_type": "code",
   "execution_count": 31,
   "metadata": {},
   "outputs": [],
   "source": [
    "# Making\n",
    "\n",
    "Gradboost = AdaBoostClassifier(\n",
    "    DecisionTreeClassifier(max_depth=10),\n",
    "    n_estimators=500,\n",
    "    random_state=42)"
   ]
  },
  {
   "cell_type": "code",
   "execution_count": 33,
   "metadata": {},
   "outputs": [
    {
     "data": {
      "text/plain": [
       "AdaBoostClassifier(algorithm='SAMME.R',\n",
       "          base_estimator=DecisionTreeClassifier(class_weight=None, criterion='gini', max_depth=10,\n",
       "            max_features=None, max_leaf_nodes=None,\n",
       "            min_impurity_decrease=0.0, min_impurity_split=None,\n",
       "            min_samples_leaf=1, min_samples_split=2,\n",
       "            min_weight_fraction_leaf=0.0, presort=False, random_state=None,\n",
       "            splitter='best'),\n",
       "          learning_rate=1.0, n_estimators=500, random_state=42)"
      ]
     },
     "execution_count": 33,
     "metadata": {},
     "output_type": "execute_result"
    }
   ],
   "source": [
    "# Fitting not preproccesed data\n",
    "\n",
    "Gradboost.fit(train_feature_matrix, train_labels)"
   ]
  },
  {
   "cell_type": "code",
   "execution_count": 35,
   "metadata": {
    "scrolled": true
   },
   "outputs": [
    {
     "name": "stdout",
     "output_type": "stream",
     "text": [
      "Acuracy = 0.7621319145032566\n",
      "F1 score  = 0.6912727705679248\n"
     ]
    }
   ],
   "source": [
    "# Score for test (Accuracy and F1-score)\n",
    "\n",
    "accuracy_log = Gradboost.score(test_feature_matrix, test_labels)\n",
    "\n",
    "prediction = Gradboost.predict(test_feature_matrix)\n",
    "\n",
    "f_1 = f1_score(prediction, test_labels)\n",
    "\n",
    "print('Acuracy = '+str(accuracy_log))\n",
    "print('F1 score  = '+str(f_1))"
   ]
  },
  {
   "cell_type": "code",
   "execution_count": null,
   "metadata": {},
   "outputs": [],
   "source": []
  }
 ],
 "metadata": {
  "kernelspec": {
   "display_name": "Python 3",
   "language": "python",
   "name": "python3"
  },
  "language_info": {
   "codemirror_mode": {
    "name": "ipython",
    "version": 3
   },
   "file_extension": ".py",
   "mimetype": "text/x-python",
   "name": "python",
   "nbconvert_exporter": "python",
   "pygments_lexer": "ipython3",
   "version": "3.7.3"
  }
 },
 "nbformat": 4,
 "nbformat_minor": 2
}
