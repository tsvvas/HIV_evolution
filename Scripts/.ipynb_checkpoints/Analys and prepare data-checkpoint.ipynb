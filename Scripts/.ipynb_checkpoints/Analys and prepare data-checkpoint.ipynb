{
 "cells": [
  {
   "cell_type": "code",
   "execution_count": 1,
   "metadata": {},
   "outputs": [],
   "source": [
    "import pandas as pd\n",
    "import os"
   ]
  },
  {
   "cell_type": "markdown",
   "metadata": {},
   "source": [
    "### Prepare data for analys"
   ]
  },
  {
   "cell_type": "code",
   "execution_count": 30,
   "metadata": {},
   "outputs": [],
   "source": [
    "data = pd.read_csv(filepath_or_buffer='/home/kharlamov/Документы/Project/output/ListProteins.csv')\n",
    "data = data[data.columns[1:]]"
   ]
  },
  {
   "cell_type": "code",
   "execution_count": 31,
   "metadata": {},
   "outputs": [],
   "source": [
    "data['sum'] = data.loc[:,\"freq_A\":\"freq_X\"].sum(axis=1)\n",
    "data.loc[:,\"freq_A\":\"freq_X\"] = data.loc[:,\"freq_A\":\"freq_X\"].div(data[\"sum\"], axis=0)\n",
    "data = data[data.columns[:-1]]"
   ]
  },
  {
   "cell_type": "code",
   "execution_count": 32,
   "metadata": {},
   "outputs": [],
   "source": [
    "data.to_csv(path_or_buf='/home/kharlamov/Документы/Project/data/ListProteinsFreq.csv')"
   ]
  },
  {
   "cell_type": "code",
   "execution_count": 33,
   "metadata": {},
   "outputs": [],
   "source": [
    "data.rename(columns={name : name.split('_')[1] for name in list(data.columns[4:])}, inplace = True)"
   ]
  },
  {
   "cell_type": "code",
   "execution_count": 34,
   "metadata": {},
   "outputs": [
    {
     "name": "stderr",
     "output_type": "stream",
     "text": [
      "/home/kharlamov/.local/lib/python2.7/site-packages/ipykernel_launcher.py:2: SettingWithCopyWarning: \n",
      "A value is trying to be set on a copy of a slice from a DataFrame.\n",
      "Try using .loc[row_indexer,col_indexer] = value instead\n",
      "\n",
      "See the caveats in the documentation: http://pandas.pydata.org/pandas-docs/stable/indexing.html#indexing-view-versus-copy\n",
      "  \n"
     ]
    }
   ],
   "source": [
    "data_tmp = data[data.columns[3:]]\n",
    "data_tmp[data_tmp.columns[0]] = map(lambda x: 0 if x == 'human' else 1, data_tmp[data_tmp.columns[0]])\n",
    "data_tmp = data_tmp[data_tmp.columns[:-1]]"
   ]
  },
  {
   "cell_type": "code",
   "execution_count": 35,
   "metadata": {},
   "outputs": [
    {
     "data": {
      "text/html": [
       "<div>\n",
       "<style scoped>\n",
       "    .dataframe tbody tr th:only-of-type {\n",
       "        vertical-align: middle;\n",
       "    }\n",
       "\n",
       "    .dataframe tbody tr th {\n",
       "        vertical-align: top;\n",
       "    }\n",
       "\n",
       "    .dataframe thead th {\n",
       "        text-align: right;\n",
       "    }\n",
       "</style>\n",
       "<table border=\"1\" class=\"dataframe\">\n",
       "  <thead>\n",
       "    <tr style=\"text-align: right;\">\n",
       "      <th></th>\n",
       "      <th>type</th>\n",
       "      <th>A</th>\n",
       "      <th>B</th>\n",
       "      <th>C</th>\n",
       "      <th>D</th>\n",
       "      <th>E</th>\n",
       "      <th>F</th>\n",
       "      <th>G</th>\n",
       "      <th>H</th>\n",
       "      <th>I</th>\n",
       "      <th>...</th>\n",
       "      <th>P</th>\n",
       "      <th>Q</th>\n",
       "      <th>R</th>\n",
       "      <th>S</th>\n",
       "      <th>T</th>\n",
       "      <th>U</th>\n",
       "      <th>V</th>\n",
       "      <th>W</th>\n",
       "      <th>Y</th>\n",
       "      <th>Z</th>\n",
       "    </tr>\n",
       "  </thead>\n",
       "  <tbody>\n",
       "    <tr>\n",
       "      <th>106544</th>\n",
       "      <td>0</td>\n",
       "      <td>0.049587</td>\n",
       "      <td>0.0</td>\n",
       "      <td>0.016529</td>\n",
       "      <td>0.016529</td>\n",
       "      <td>0.049587</td>\n",
       "      <td>0.016529</td>\n",
       "      <td>0.041322</td>\n",
       "      <td>0.033058</td>\n",
       "      <td>0.132231</td>\n",
       "      <td>...</td>\n",
       "      <td>0.041322</td>\n",
       "      <td>0.016529</td>\n",
       "      <td>0.033058</td>\n",
       "      <td>0.132231</td>\n",
       "      <td>0.107438</td>\n",
       "      <td>0.0</td>\n",
       "      <td>0.099174</td>\n",
       "      <td>0.000000</td>\n",
       "      <td>0.024793</td>\n",
       "      <td>0.0</td>\n",
       "    </tr>\n",
       "    <tr>\n",
       "      <th>106545</th>\n",
       "      <td>0</td>\n",
       "      <td>0.062500</td>\n",
       "      <td>0.0</td>\n",
       "      <td>0.020833</td>\n",
       "      <td>0.020833</td>\n",
       "      <td>0.145833</td>\n",
       "      <td>0.010417</td>\n",
       "      <td>0.031250</td>\n",
       "      <td>0.041667</td>\n",
       "      <td>0.010417</td>\n",
       "      <td>...</td>\n",
       "      <td>0.000000</td>\n",
       "      <td>0.083333</td>\n",
       "      <td>0.041667</td>\n",
       "      <td>0.083333</td>\n",
       "      <td>0.072917</td>\n",
       "      <td>0.0</td>\n",
       "      <td>0.020833</td>\n",
       "      <td>0.000000</td>\n",
       "      <td>0.010417</td>\n",
       "      <td>0.0</td>\n",
       "    </tr>\n",
       "    <tr>\n",
       "      <th>106546</th>\n",
       "      <td>0</td>\n",
       "      <td>0.042071</td>\n",
       "      <td>0.0</td>\n",
       "      <td>0.016181</td>\n",
       "      <td>0.025890</td>\n",
       "      <td>0.048544</td>\n",
       "      <td>0.048544</td>\n",
       "      <td>0.071197</td>\n",
       "      <td>0.019417</td>\n",
       "      <td>0.071197</td>\n",
       "      <td>...</td>\n",
       "      <td>0.071197</td>\n",
       "      <td>0.038835</td>\n",
       "      <td>0.032362</td>\n",
       "      <td>0.090615</td>\n",
       "      <td>0.071197</td>\n",
       "      <td>0.0</td>\n",
       "      <td>0.045307</td>\n",
       "      <td>0.019417</td>\n",
       "      <td>0.058252</td>\n",
       "      <td>0.0</td>\n",
       "    </tr>\n",
       "    <tr>\n",
       "      <th>106547</th>\n",
       "      <td>0</td>\n",
       "      <td>0.033898</td>\n",
       "      <td>0.0</td>\n",
       "      <td>0.033898</td>\n",
       "      <td>0.016949</td>\n",
       "      <td>0.067797</td>\n",
       "      <td>0.101695</td>\n",
       "      <td>0.101695</td>\n",
       "      <td>0.016949</td>\n",
       "      <td>0.016949</td>\n",
       "      <td>...</td>\n",
       "      <td>0.033898</td>\n",
       "      <td>0.033898</td>\n",
       "      <td>0.050847</td>\n",
       "      <td>0.084746</td>\n",
       "      <td>0.033898</td>\n",
       "      <td>0.0</td>\n",
       "      <td>0.050847</td>\n",
       "      <td>0.000000</td>\n",
       "      <td>0.033898</td>\n",
       "      <td>0.0</td>\n",
       "    </tr>\n",
       "    <tr>\n",
       "      <th>106548</th>\n",
       "      <td>0</td>\n",
       "      <td>0.084270</td>\n",
       "      <td>0.0</td>\n",
       "      <td>0.039326</td>\n",
       "      <td>0.022472</td>\n",
       "      <td>0.044944</td>\n",
       "      <td>0.011236</td>\n",
       "      <td>0.106742</td>\n",
       "      <td>0.050562</td>\n",
       "      <td>0.022472</td>\n",
       "      <td>...</td>\n",
       "      <td>0.039326</td>\n",
       "      <td>0.028090</td>\n",
       "      <td>0.056180</td>\n",
       "      <td>0.089888</td>\n",
       "      <td>0.067416</td>\n",
       "      <td>0.0</td>\n",
       "      <td>0.078652</td>\n",
       "      <td>0.011236</td>\n",
       "      <td>0.016854</td>\n",
       "      <td>0.0</td>\n",
       "    </tr>\n",
       "  </tbody>\n",
       "</table>\n",
       "<p>5 rows × 26 columns</p>\n",
       "</div>"
      ],
      "text/plain": [
       "        type         A    B         C         D         E         F         G  \\\n",
       "106544     0  0.049587  0.0  0.016529  0.016529  0.049587  0.016529  0.041322   \n",
       "106545     0  0.062500  0.0  0.020833  0.020833  0.145833  0.010417  0.031250   \n",
       "106546     0  0.042071  0.0  0.016181  0.025890  0.048544  0.048544  0.071197   \n",
       "106547     0  0.033898  0.0  0.033898  0.016949  0.067797  0.101695  0.101695   \n",
       "106548     0  0.084270  0.0  0.039326  0.022472  0.044944  0.011236  0.106742   \n",
       "\n",
       "               H         I  ...         P         Q         R         S  \\\n",
       "106544  0.033058  0.132231  ...  0.041322  0.016529  0.033058  0.132231   \n",
       "106545  0.041667  0.010417  ...  0.000000  0.083333  0.041667  0.083333   \n",
       "106546  0.019417  0.071197  ...  0.071197  0.038835  0.032362  0.090615   \n",
       "106547  0.016949  0.016949  ...  0.033898  0.033898  0.050847  0.084746   \n",
       "106548  0.050562  0.022472  ...  0.039326  0.028090  0.056180  0.089888   \n",
       "\n",
       "               T    U         V         W         Y    Z  \n",
       "106544  0.107438  0.0  0.099174  0.000000  0.024793  0.0  \n",
       "106545  0.072917  0.0  0.020833  0.000000  0.010417  0.0  \n",
       "106546  0.071197  0.0  0.045307  0.019417  0.058252  0.0  \n",
       "106547  0.033898  0.0  0.050847  0.000000  0.033898  0.0  \n",
       "106548  0.067416  0.0  0.078652  0.011236  0.016854  0.0  \n",
       "\n",
       "[5 rows x 26 columns]"
      ]
     },
     "execution_count": 35,
     "metadata": {},
     "output_type": "execute_result"
    }
   ],
   "source": [
    "data_tmp.tail()"
   ]
  },
  {
   "cell_type": "markdown",
   "metadata": {},
   "source": [
    "#### Запуск линейной регрессии и все такое"
   ]
  },
  {
   "cell_type": "code",
   "execution_count": 70,
   "metadata": {},
   "outputs": [],
   "source": [
    "import sklearn\n",
    "from sklearn.linear_model import LogisticRegression\n",
    "from sklearn.model_selection import train_test_split\n",
    "from sklearn.ensemble import RandomForestClassifier\n",
    "from sklearn.model_selection import GridSearchCV\n",
    "from sklearn.metrics import f1_score\n",
    "from sklearn.metrics import roc_auc_score"
   ]
  },
  {
   "cell_type": "code",
   "execution_count": 37,
   "metadata": {},
   "outputs": [],
   "source": [
    "data_train, data_test = train_test_split(data_tmp, test_size=0.2)"
   ]
  },
  {
   "cell_type": "code",
   "execution_count": 38,
   "metadata": {},
   "outputs": [],
   "source": [
    "data_train_x, data_train_y = data_train[data_train.columns[1:]], data_train[data_train.columns[0]]\n",
    "data_test_x, data_test_y = data_test[data_train.columns[1:]], data_test[data_train.columns[0]]"
   ]
  },
  {
   "cell_type": "markdown",
   "metadata": {},
   "source": [
    "#### RandomForest"
   ]
  },
  {
   "cell_type": "code",
   "execution_count": 39,
   "metadata": {},
   "outputs": [],
   "source": [
    "clf = RandomForestClassifier(n_estimators = 100, random_state=14883371)"
   ]
  },
  {
   "cell_type": "code",
   "execution_count": 40,
   "metadata": {},
   "outputs": [
    {
     "data": {
      "text/plain": [
       "RandomForestClassifier(bootstrap=True, class_weight=None, criterion='gini',\n",
       "            max_depth=None, max_features='auto', max_leaf_nodes=None,\n",
       "            min_impurity_decrease=0.0, min_impurity_split=None,\n",
       "            min_samples_leaf=1, min_samples_split=2,\n",
       "            min_weight_fraction_leaf=0.0, n_estimators=100, n_jobs=None,\n",
       "            oob_score=False, random_state=14883371, verbose=0,\n",
       "            warm_start=False)"
      ]
     },
     "execution_count": 40,
     "metadata": {},
     "output_type": "execute_result"
    }
   ],
   "source": [
    "clf.fit(data_train_x, data_train_y)"
   ]
  },
  {
   "cell_type": "code",
   "execution_count": 66,
   "metadata": {},
   "outputs": [
    {
     "name": "stdout",
     "output_type": "stream",
     "text": [
      "Accuracy on train = 1.0\n",
      "Accuracyc on test = 0.8995776630689817\n"
     ]
    }
   ],
   "source": [
    "print('Accuracy on train = ' + str(clf.score(data_train_x, data_train_y)))\n",
    "print('Accuracyc on test = ' + str(clf.score(data_test_x, data_test_y))) # Перебрал по сетке, базовые параметры практически выдали лучший скор"
   ]
  },
  {
   "cell_type": "code",
   "execution_count": 44,
   "metadata": {},
   "outputs": [
    {
     "data": {
      "text/plain": [
       "array([1.03951365e-01, 4.72489352e-07, 1.05376911e-01, 4.02174897e-02,\n",
       "       3.73156019e-02, 2.80343726e-02, 2.98499505e-02, 2.82864337e-02,\n",
       "       1.16293256e-01, 0.00000000e+00, 5.42563140e-02, 2.61391426e-02,\n",
       "       2.58080940e-02, 4.02633360e-02, 0.00000000e+00, 7.56936695e-02,\n",
       "       3.41753818e-02, 3.48070752e-02, 9.31572341e-02, 2.92221424e-02,\n",
       "       1.61093637e-05, 4.11447882e-02, 2.52673030e-02, 3.07235565e-02,\n",
       "       0.00000000e+00])"
      ]
     },
     "execution_count": 44,
     "metadata": {},
     "output_type": "execute_result"
    }
   ],
   "source": [
    "clf.feature_importances_ # Видно, что в среднем все аминокислоты дают равный вклад"
   ]
  },
  {
   "cell_type": "code",
   "execution_count": 62,
   "metadata": {},
   "outputs": [
    {
     "name": "stdout",
     "output_type": "stream",
     "text": [
      "F1 Score = 0.8199259508582969\n"
     ]
    }
   ],
   "source": [
    "y_pred = clf.predict(data_test_x)\n",
    "print('F1 Score = ' + str(f1_score(y_pred, data_test_y)))"
   ]
  },
  {
   "cell_type": "code",
   "execution_count": 64,
   "metadata": {},
   "outputs": [
    {
     "name": "stdout",
     "output_type": "stream",
     "text": [
      "ROC AUC = 0.8994613837199547\n"
     ]
    }
   ],
   "source": [
    "print('ROC AUC = ' + str(roc_auc_score(y_pred, data_test_y)))"
   ]
  },
  {
   "cell_type": "markdown",
   "metadata": {},
   "source": [
    "### Linear Regression"
   ]
  },
  {
   "cell_type": "code",
   "execution_count": 83,
   "metadata": {},
   "outputs": [
    {
     "data": {
      "text/plain": [
       "GridSearchCV(cv='warn', error_score='raise-deprecating',\n",
       "       estimator=LogisticRegression(C=1.0, class_weight=None, dual=False, fit_intercept=True,\n",
       "          intercept_scaling=1, max_iter=1000000, multi_class='warn',\n",
       "          n_jobs=None, penalty='l2', random_state=None, solver='warn',\n",
       "          tol=0.0001, verbose=0, warm_start=False),\n",
       "       fit_params=None, iid='warn', n_jobs=None,\n",
       "       param_grid={'C': [0.1, 1, 10, 100, 1000, 10000, 100000]},\n",
       "       pre_dispatch='2*n_jobs', refit=True, return_train_score='warn',\n",
       "       scoring=None, verbose=0)"
      ]
     },
     "execution_count": 83,
     "metadata": {},
     "output_type": "execute_result"
    }
   ],
   "source": [
    "clf_2 = LogisticRegression(max_iter=10**6)\n",
    "clf_cv = GridSearchCV(estimator=clf_2, param_grid={'C' : [0.1, 1, 10, 100, 1000, 10000, 100000]})\n",
    "clf_cv.fit(data_train_x, data_train_y)"
   ]
  },
  {
   "cell_type": "code",
   "execution_count": 84,
   "metadata": {},
   "outputs": [
    {
     "data": {
      "text/plain": [
       "{'C': 100000}"
      ]
     },
     "execution_count": 84,
     "metadata": {},
     "output_type": "execute_result"
    }
   ],
   "source": [
    "clf_cv.score(data_test_x, data_test_y)\n",
    "clf_cv.best_params_"
   ]
  },
  {
   "cell_type": "code",
   "execution_count": null,
   "metadata": {},
   "outputs": [],
   "source": []
  }
 ],
 "metadata": {
  "kernelspec": {
   "display_name": "Python 3",
   "language": "python",
   "name": "python3"
  },
  "language_info": {
   "codemirror_mode": {
    "name": "ipython",
    "version": 2
   },
   "file_extension": ".py",
   "mimetype": "text/x-python",
   "name": "python",
   "nbconvert_exporter": "python",
   "pygments_lexer": "ipython2",
   "version": "2.7.15+"
  }
 },
 "nbformat": 4,
 "nbformat_minor": 2
}
