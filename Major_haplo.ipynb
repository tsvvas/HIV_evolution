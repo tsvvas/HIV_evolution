{
 "cells": [
  {
   "cell_type": "code",
   "execution_count": 3,
   "metadata": {},
   "outputs": [],
   "source": [
    "#%matplotlib inline\n",
    "#import ma\n",
    "import shutil\n",
    "import os\n",
    "from joblib import dump, load\n",
    "import urllib3\n",
    "import certifi\n",
    "from Bio import SeqIO\n",
    "import Bio\n",
    "from glob import glob\n",
    "import json\n",
    "from IPython import display\n",
    "import pandas as pd\n",
    "import numpy as np\n",
    "import networkx as nx\n",
    "from collections import OrderedDict\n",
    "\n",
    "import matplotlib.pyplot as plt\n",
    "import seaborn as sns\n",
    "import re\n",
    "from Bio import Phylo"
   ]
  },
  {
   "cell_type": "code",
   "execution_count": 2,
   "metadata": {},
   "outputs": [],
   "source": [
    "from Bio.Align.Applications import ClustalwCommandline\n",
    "clustalw_cline = ClustalwCommandline(\"clustalw\",  align = 'True', tree = 'True', infile=\"data/major/hivevo_p4_V3.fasta\", output = 'FASTA', outfile = 'data/clustal_output/hivevo_p4_V3_major.fasta', type = 'DNA')\n",
    "stdout, stderr = clustalw_cline()\n",
    "#print(clustalw_cline)"
   ]
  },
  {
   "cell_type": "code",
   "execution_count": 31,
   "metadata": {},
   "outputs": [
    {
     "name": "stdout",
     "output_type": "stream",
     "text": [
      "FastTree Version 2.1.10 Double precision (No SSE3)\n",
      "Alignment: standard input\n",
      "Nucleotide distances: Jukes-Cantor Joins: balanced Support: SH-like 1000\n",
      "Search: Normal +NNI +SPR (2 rounds range 10) +ML-NNI opt-each=1\n",
      "TopHits: 1.00*sqrtN close=default refresh=0.80\n",
      "ML Model: Jukes-Cantor, CAT approximation with 20 rate categories\n",
      "Initial topology in 0.00 seconds\n",
      "Refining topology: 12 rounds ME-NNIs, 2 rounds ME-SPRs, 6 rounds ML-NNIs\n",
      "Total branch-length 0.250 after 0.00 sec\n",
      "ML-NNI round 1: LogLk = -1028.740 NNIs 1 max delta 2.03 Time 0.01\n",
      "Switched to using 20 rate categories (CAT approximation)\n",
      "Rate categories were divided by 0.691 so that average rate = 1.0\n",
      "CAT-based log-likelihoods may not be comparable across runs\n",
      "Use -gamma for approximate but comparable Gamma(20) log-likelihoods\n",
      "ML-NNI round 2: LogLk = -986.676 NNIs 0 max delta 0.00 Time 0.01\n",
      "Turning off heuristics for final round of ML NNIs (converged)\n",
      "ML-NNI round 3: LogLk = -986.652 NNIs 0 max delta 0.00 Time 0.01 (final)\n",
      "Optimize all lengths: LogLk = -986.651 Time 0.02\n",
      "Total time: 0.03 seconds Unique: 8/9 Bad splits: 0/5\n"
     ]
    }
   ],
   "source": [
    "!fasttree -nt < data/clustal_output/hivevo_p4_V3_major.fasta > data/trees/hivevo_p4_V3_major_ft.nwk"
   ]
  },
  {
   "cell_type": "code",
   "execution_count": 5,
   "metadata": {},
   "outputs": [],
   "source": [
    "def getrid_dnd(patient_str):\n",
    "    '''Void func converting .dnd file to .nwk'''\n",
    "    with open('data/major/'+patient_str+'.dnd') as dnd, open('data/trees/'+patient_str+'_major'+'.nwk','w') as nwk:\n",
    "        row = ''\n",
    "        for line in dnd:\n",
    "            row += line.rstrip()\n",
    "        nwk.write(row)\n",
    "\n",
    "patient_str = 'hivevo_p4_V3'\n",
    "getrid_dnd(patient_str)"
   ]
  },
  {
   "cell_type": "code",
   "execution_count": 6,
   "metadata": {
    "scrolled": true
   },
   "outputs": [
    {
     "name": "stdout",
     "output_type": "stream",
     "text": [
      "((((((days_93_frequency_79%:0.00000,reference:0.00000):0.00472,days_562_frequency_25%:0.00639):0.01840,days_1142_frequency_26%:0.01771):0.03148,(days_1963_frequency_50%:0.01131,days_3069_frequency_13%:0.03313):0.04005):0.01241,days_1577_frequency_27%:0.01849):0.00095,days_2474_frequency_68%:0.01328,days_2758_frequency_64%:0.02839);"
     ]
    }
   ],
   "source": [
    "!cat data/trees/hivevo_p4_V3_major.nwk"
   ]
  },
  {
   "cell_type": "markdown",
   "metadata": {},
   "source": [
    "### ClustalW tree"
   ]
  },
  {
   "cell_type": "code",
   "execution_count": 5,
   "metadata": {},
   "outputs": [],
   "source": [
    "Tree = Phylo.read('data/trees/hivevo_p4_V3_major.nwk', 'newick')\n",
    "#Tree.ro\n",
    "#print(Tree)"
   ]
  },
  {
   "cell_type": "code",
   "execution_count": 6,
   "metadata": {},
   "outputs": [
    {
     "data": {
      "text/plain": [
       "Phylogeny(rooted=True)"
      ]
     },
     "execution_count": 6,
     "metadata": {},
     "output_type": "execute_result"
    }
   ],
   "source": [
    "Tree.root_with_outgroup('reference')\n",
    "Tree.as_phyloxml()"
   ]
  },
  {
   "cell_type": "code",
   "execution_count": 7,
   "metadata": {},
   "outputs": [
    {
     "data": {
      "image/png": "[encoded data removed]",
      "text/plain": [
       "<Figure size 432x288 with 1 Axes>"
      ]
     },
     "metadata": {
      "needs_background": "light"
     },
     "output_type": "display_data"
    }
   ],
   "source": [
    "Phylo.draw(Tree)"
   ]
  },
  {
   "cell_type": "code",
   "execution_count": 8,
   "metadata": {},
   "outputs": [],
   "source": [
    "for clade in list(Tree.find_clades()):\n",
    "    if clade.name == 'None':\n",
    "        Tree.collapse(target = clade)"
   ]
  },
  {
   "cell_type": "code",
   "execution_count": 12,
   "metadata": {
    "scrolled": true
   },
   "outputs": [
    {
     "name": "stdout",
     "output_type": "stream",
     "text": [
      "                             _____ days_2474_frequency_68%\n",
      "                            |\n",
      "                        ____|___________ days_2758_frequency_64%\n",
      "                       |    |\n",
      "           ____________|    |______ days_1577_frequency_27%\n",
      "          |            |\n",
      "          |            |                ____ days_1963_frequency_50%\n",
      "   _______|            |_______________|\n",
      "  |       |                            |_____________ days_3069_frequency_13%\n",
      " ,|       |\n",
      " ||       |______ days_1142_frequency_26%\n",
      " ||\n",
      " ||__ days_562_frequency_25%\n",
      "_|\n",
      " | days_93_frequency_79%\n",
      " |\n",
      " | reference\n",
      "\n"
     ]
    }
   ],
   "source": [
    "#fig = plt.figure(figsize = (15,18))\n",
    "Phylo.draw_ascii(Tree)\n",
    "#plt.show()"
   ]
  },
  {
   "cell_type": "markdown",
   "metadata": {},
   "source": [
    "### Fasttree tree"
   ]
  },
  {
   "cell_type": "code",
   "execution_count": 13,
   "metadata": {},
   "outputs": [],
   "source": [
    "Tree = Phylo.read('data/trees/hivevo_p4_V3_major_ft.nwk', 'newick')\n",
    "#Tree.ro\n",
    "#print(Tree)"
   ]
  },
  {
   "cell_type": "code",
   "execution_count": 14,
   "metadata": {},
   "outputs": [],
   "source": [
    "Tree.root_with_outgroup('reference')\n",
    "#Tree.as_phyloxml()"
   ]
  },
  {
   "cell_type": "code",
   "execution_count": 15,
   "metadata": {},
   "outputs": [
    {
     "data": {
      "image/png": "[encoded data removed]",
      "text/plain": [
       "<Figure size 432x288 with 1 Axes>"
      ]
     },
     "metadata": {
      "needs_background": "light"
     },
     "output_type": "display_data"
    }
   ],
   "source": [
    "Phylo.draw(Tree)"
   ]
  },
  {
   "cell_type": "code",
   "execution_count": 16,
   "metadata": {},
   "outputs": [],
   "source": [
    "def clade_names_fix(tree):\n",
    "    for idx, clade in enumerate(tree.find_clades()):\n",
    "        if not clade.name:\n",
    "            clade.name=str(idx)\n",
    "\n",
    "clade_names_fix(Tree)\n",
    "G = Phylo.to_networkx(Tree)\n",
    "nx.write_graphml(G, 'data/graphml/hivevo_p4_V3_major.graphml')"
   ]
  },
  {
   "cell_type": "code",
   "execution_count": 38,
   "metadata": {},
   "outputs": [],
   "source": [
    "G = nx.read_graphml('data/graphml/hivevo_p4_V3_major.graphml')\n",
    "\n",
    "source = '0'\n",
    "dist_dict = nx.shortest_path_length(G, '0')\n",
    "\n",
    "import operator \n",
    "target = max(dist_dict.items(), key=operator.itemgetter(1))[0]\n",
    "\n",
    "graph_path = nx.shortest_simple_paths(G, source, target)"
   ]
  },
  {
   "cell_type": "code",
   "execution_count": 39,
   "metadata": {},
   "outputs": [
    {
     "data": {
      "text/plain": [
       "[['0', '1', '2', '3', '4', '5', '6', 'days_1577_frequency_27%']]"
      ]
     },
     "execution_count": 39,
     "metadata": {},
     "output_type": "execute_result"
    }
   ],
   "source": [
    "lst_path = list(graph_path)\n",
    "lst_path"
   ]
  },
  {
   "cell_type": "code",
   "execution_count": 49,
   "metadata": {},
   "outputs": [
    {
     "data": {
      "text/plain": [
       "AtlasView({'5': {'weight': 0.007554966}, '10': {'weight': 0.056138678}})"
      ]
     },
     "execution_count": 49,
     "metadata": {},
     "output_type": "execute_result"
    }
   ],
   "source": [
    "G.adj['4']"
   ]
  },
  {
   "cell_type": "markdown",
   "metadata": {},
   "source": [
    "### Muscle"
   ]
  },
  {
   "cell_type": "raw",
   "metadata": {},
   "source": [
    "from Bio.Align.Applications import MuscleCommandline\n",
    "cline = MuscleCommandline(input=\"opuntia.fasta\", out=\"opuntia.txt\")"
   ]
  },
  {
   "cell_type": "markdown",
   "metadata": {},
   "source": [
    "### Just trying to see hydrophobicity"
   ]
  },
  {
   "cell_type": "code",
   "execution_count": 67,
   "metadata": {},
   "outputs": [
    {
     "name": "stdout",
     "output_type": "stream",
     "text": [
      ">days_93_frequency_79%\r\n",
      "GTAGTATCAACCCAACTGTTGTTAAATGGCAGCCTAGCAGAAGAAGGGGTAGTAGTTAGATCTGACAATTTCTCAAACAATGCTAAAACCATCATAGTACAGTTGCACAAAGCTGTAGAAATTAATTGCACAAGACCCAGCAACAATACAAGCAAAGGTATACATATGGGACCAGGGAAAGCATTTTATACAACAGAAAAAATAATAGGAGATATAAGACAAGCACATTGTAACATTAGTAAAGAGAAATGGAACGACACTTTAAGACAGATAGCTATAAAATTAAGAGCACAATTTCCGAGTAAAACAATAATCTTTGATAAATCCTCAGGAGGGGACCTAGAAATTGTAACACACAGT\r\n",
      ">days_562_frequency_25%\r\n",
      "GTAGTATCAACCCAACTATTGTTAAATGGCAGCCTAGCAGAAGAAGGGGTAGTAGTTAGATCTGACAATTTCTCAAACAATGCTAAAACCATCATAGTACAGTTGCACAAAGCTGTAGAAATTAATTGCACAAGACCCAGCAACAATACAAGCAAAGGTATACATATGGGACCAGGGAAAGCATTTTATACAACAGAAAGAATAATAGGAGATATAAGACAAGCACATTGTAACATTAGTAAAGAGAAATGGAACGACACTTTAAGACAGATAGCTATAAAATTAAGAGCACAATTTCCGAATAAAACAATAATCTTTGATAAACCCTCAGGAGGGGACCTAGAAATTGTAACACACAGT\r\n",
      ">days_1142_frequency_26%\r\n",
      "GTAGTATCAACTCAACTGTTGTTAAATGGCAGTCTAGCAGAAGAAGAGATAGTAATTAGATCTGACAATTTCTCAAACAATGCTAAAACCATCATAGTACAGTTGCACAAAGCTGTAGAAATTAATTGCACAAGACCCAGCAACAATACAAGCAAAGGTATACATATGGGACCAGGGAGAGCATTTTATACAACAGAAAAAATAATAGGAGATCCAAGACAAGCACATTGTAACATTAGTAAAGGGAAATGGAACGACGCTTTAAATCAGATAGTTATAAAATTAAGAGCACAATTTCCGAATAAAACAATAATCTTTGATAAACCCTCAGGAGGGGACCTAGAAATTGTAACACACAGT\r\n",
      ">days_2474_frequency_68%\r\n",
      "GTAGTATCAACACAACTGTTGTTAAATGGCAGTCTAGCAGAAGAAGATATAGTAATTAGATCTGACAATTTCTCAAACAACGCTAAAACCATCATAGTACAGCTGAAAGAAGCTGTAAAAATTAATTGCACAAGACCCAACAACAATACAAGAAAAGGTGTACATATAGGACCAGGGAGAACATTTTATGCAACAGGAGGAATAATAGGAAATATAAGACAAGCACATTGTAACATTAGTAAAGGAAGATGGAACGACACTTTAAGACAGATAGCTATAAAATTAAGAGAACAATTTCCGAATAAAACAATAATCTTTAATAAATCCTCAGGAGGGGACCTAGAAATTGTAACACACAGT\r\n",
      ">days_1577_frequency_27%\r\n",
      "GTAGTATCAACTCAACTGTTGTTAAATGGCAGTCTAGCAGAAAAAGAGATAGTAATTAGATCTGACAATTTCTCAAACAACGCTAAAACCATCATAGTACAGCTGAAAGAAGCTGTAAAGATTAATTGCACAAGACCCAACAACAATACAAGAAAAGGTATACATATAGGACCAGGGAGAACATTTTATGCAACAGGAGAAATAATAGGAAATCCAAGACAAGCACATTGTAACATTAGTAAAGGGAAATGGAACGACACTTTAAGACAGGTAGCTAAAAAATTAAGAGAACAATTTCCGAATAAAACAATAATCTTTAATAAATCCTCAGGAGGGGACCTAGAAATTGTAACACACAGT\r\n",
      ">days_2758_frequency_64%\r\n",
      "GTAGTATCAACACAACTGTTGTTAAATGGCAGTCTAGCAGAAGGAGACATAGTAATTAGATCTGATAATTTCTCAAACAATGCTAAAACCATCATAGTCCAGCTGAAAGAAGCTGTAAAAATTAATTGCACAAGACCCAACAACAATACAAGAAAAGGTGTACATATAGGACCAGGGAGAACATTTTATGCAACAGGAGCAATAATAGGAAATATAAGACAAGCACATTGTAACATTAGTAAAAAGGAATGGAATAACACTTTAAGACAGGTAGCTAAAAAATTAAGAGAACAATTTCCGAATAAAACAATAATCTTTAATAAATCCTCAGGAGGGGACCTAGAAATTGTAACACACAGT\r\n",
      ">days_1963_frequency_50%\r\n",
      "GTAGTATCAACTCAACTGTTGTTAAATGGCAGTCTAGCAGAAGAAGAGATAGTAATTAGATCTGACAATTTCTCAAACAACGCTAAAACCATCATAGTACAGCTGAAAGAAGCTGTAAAAATTAATTGCACAAGACCCAGCAACAATACAAGAAAAGGTGTACATATAGGACCAGGGAGAACATTTTATGCAACAGGAGAAATAATAGGAGATATAAGACAAGCATATTGCAACCTTAGTAAAGCAGAATGGAACAAAGCTTTAAAAGAGATAGCTATAAAACTAAGAGGAAAATTTGGGAATAAAACAATAATCTTTAAGGAAGCCTCAGGAGGGGACCCAGAAATTGTAACACACAGT\r\n",
      ">days_3069_frequency_13%\r\n",
      "GTAGTATCAACTCAACTGTTGTTAAATGGCAGTCTAGCAGAAGAAGGGATAGTAATTAGATCTGACAATTTCTCAGACAACGCTAAAACCATCATAGTACAGCTGAAAGAAGCTGTAAAAATTAATTGCACAAGACCCAGCAACAATACAAGTAAAAGTGTACATATAGGACCAGGGAGAGCATTTTATGCAACAGAAAGAATAATAGGAGATGTAAGACAAGCATATTGCGACCTTAATAAAACAGAATGGAACAAAGCTTTAAGAGAGATAGTTATAAAACTAAGAGGGAAATTTGGGAATAAAACAATAATCTTCAAGGAAGCCTCAGGAGGGGACCCAGAAATTGTAACACACAGT\r\n",
      ">reference for patient p4, region=V3\r\n",
      "GTAGTATCAACCCAACTGTTGTTAAATGGCAGCCTAGCAGAAGAAGGGGTAGTAGTTAGATCTGACAATTTCTCAAACAATGCTAAAACCATCATAGTACAGTTGCACAAAGCTGTAGAAATTAATTGCACAAGACCCAGCAACAATACAAGCAAAGGTATACATATGGGACCAGGGAAAGCATTTTATACAACAGAAAAAATAATAGGAGATATAAGACAAGCACATTGTAACATTAGTAAAGAGAAATGGAACGACACTTTAAGACAGATAGCTATAAAATTAAGAGCACAATTTCCGAGTAAAACAATAATCTTTGATAAATCCTCAGGAGGGGACCTAGAAATTGTAACACACAGT"
     ]
    }
   ],
   "source": [
    "!cat data/major/hivevo_p4_V3.fasta"
   ]
  },
  {
   "cell_type": "code",
   "execution_count": 99,
   "metadata": {
    "scrolled": false
   },
   "outputs": [],
   "source": [
    "def read_fast(path):\n",
    "    lst_dict = []\n",
    "    with open(path) as fasta:\n",
    "        i = 1\n",
    "        for line in fasta:\n",
    "            if bool(i%2):\n",
    "                if line.find('reference') == -1:\n",
    "                    lst_dict.append({'num':i//2+1})\n",
    "                    lst_dict[-1]['desc'] = (line.replace('>','')).rstrip()\n",
    "                    #print(i)\n",
    "                    i+=1\n",
    "                else:\n",
    "                    #print(dict_seq)\n",
    "                    lst_dict.append({'num':i//2+1})\n",
    "                    lst_dict[-1]['desc'] = 'reference'\n",
    "                    i+=1\n",
    "            else:\n",
    "                lst_dict[-1]['seq'] = line.rstrip()\n",
    "                i+=1\n",
    "    return lst_dict\n",
    "\n",
    "haplo = read_fast('data/major/hivevo_p4_V3.fasta')"
   ]
  },
  {
   "cell_type": "code",
   "execution_count": 102,
   "metadata": {},
   "outputs": [],
   "source": [
    "# Making lists\n",
    "\n",
    "lst_desc = []\n",
    "lst_seq = []\n",
    "for dct in haplo:\n",
    "    lst_desc.append(dct['desc'])\n",
    "    lst_seq.append(dct['seq'])\n",
    "lst_desc.insert(0 , lst_desc.pop(-1))\n",
    "lst_seq.insert(0, lst_seq.pop(-1))\n",
    "#print(*lst_desc)\n",
    "#print(*lst_seq)"
   ]
  },
  {
   "cell_type": "code",
   "execution_count": null,
   "metadata": {},
   "outputs": [],
   "source": []
  }
 ],
 "metadata": {
  "kernelspec": {
   "display_name": "Python 3",
   "language": "python",
   "name": "python3"
  },
  "language_info": {
   "codemirror_mode": {
    "name": "ipython",
    "version": 3
   },
   "file_extension": ".py",
   "mimetype": "text/x-python",
   "name": "python",
   "nbconvert_exporter": "python",
   "pygments_lexer": "ipython3",
   "version": "3.7.4"
  }
 },
 "nbformat": 4,
 "nbformat_minor": 2
}
