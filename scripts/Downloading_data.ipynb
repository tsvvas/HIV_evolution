{
 "cells": [
  {
   "cell_type": "code",
   "execution_count": 5,
   "metadata": {},
   "outputs": [],
   "source": [
    "%matplotlib inline\n",
    "\n",
    "import shutil\n",
    "import os\n",
    "from joblib import dump, load\n",
    "import urllib3\n",
    "import certifi\n",
    "from Bio import SeqIO\n",
    "import Bio\n",
    "from glob import glob\n",
    "import json\n",
    "from IPython import display\n",
    "import pandas as pd\n",
    "import numpy as np\n",
    "import networkx as nx\n",
    "from collections import OrderedDict\n",
    "\n",
    "import matplotlib.pyplot as plt\n",
    "import seaborn as sns\n",
    "import re"
   ]
  },
  {
   "cell_type": "code",
   "execution_count": 27,
   "metadata": {},
   "outputs": [],
   "source": [
    "# HIV properties\n",
    "patients = [\"p{}\".format(i) for i in range(1,12)]\n",
    "hiv_regions = [\"V3\", \"PR\", \"psi\", \"vpr\", \"vpu\", \"p1\", \"p2\", \"p6\", \"p7\", \"p15\", \"p17\", \"RRE\"]"
   ]
  },
  {
   "cell_type": "code",
   "execution_count": 10,
   "metadata": {},
   "outputs": [],
   "source": [
    "def download_hivevo_references(folder):\n",
    "    '''\n",
    "    Downloading references for each patient and storing them in dir folder/references\n",
    "    '''\n",
    "    global patients    \n",
    "    \n",
    "    http = urllib3.PoolManager(cert_reqs='CERT_REQUIRED',\n",
    "                               ca_certs=certifi.where())\n",
    "    \n",
    "    if not os.path.isdir(folder):\n",
    "        os.mkdir(folder)\n",
    "    \n",
    "    for patient in patients:\n",
    "        api = \"https://hiv.biozentrum.unibas.ch/api/data/referenceSequence\"\n",
    "        url = \"/\".join((api, patient))\n",
    "        file_name = folder + \"_\".join((\"reference\", patient)) + \".fasta\"\n",
    "        \n",
    "        with http.request('GET', url, preload_content=False) as res, open(file_name, 'wb') as out_file:\n",
    "            shutil.copyfileobj(res, out_file)\n",
    "\n",
    "\n",
    "folder = \"../data/references/\"\n",
    "download_hivevo_references(folder)"
   ]
  },
  {
   "cell_type": "code",
   "execution_count": 50,
   "metadata": {},
   "outputs": [
    {
     "ename": "OSError",
     "evalue": "[Errno 2] No such file or directory: '../data/references/p2/V3'",
     "output_type": "error",
     "traceback": [
      "\u001b[0;31m---------------------------------------------------------------------------\u001b[0m",
      "\u001b[0;31mOSError\u001b[0m                                   Traceback (most recent call last)",
      "\u001b[0;32m<ipython-input-50-0b03c2175d02>\u001b[0m in \u001b[0;36m<module>\u001b[0;34m()\u001b[0m\n\u001b[1;32m      8\u001b[0m     \u001b[0;32mfor\u001b[0m \u001b[0mregion\u001b[0m \u001b[0;32min\u001b[0m \u001b[0mhiv_regions\u001b[0m\u001b[0;34m:\u001b[0m\u001b[0;34m\u001b[0m\u001b[0;34m\u001b[0m\u001b[0m\n\u001b[1;32m      9\u001b[0m         \u001b[0mref_path\u001b[0m \u001b[0;34m=\u001b[0m \u001b[0;34m'../data/references/reference_'\u001b[0m \u001b[0;34m+\u001b[0m \u001b[0mpatient\u001b[0m \u001b[0;34m+\u001b[0m \u001b[0;34m'.fasta'\u001b[0m\u001b[0;34m\u001b[0m\u001b[0;34m\u001b[0m\u001b[0m\n\u001b[0;32m---> 10\u001b[0;31m         \u001b[0mextracting_region_from_reference\u001b[0m\u001b[0;34m(\u001b[0m\u001b[0mregion\u001b[0m\u001b[0;34m,\u001b[0m \u001b[0mref_path\u001b[0m\u001b[0;34m,\u001b[0m \u001b[0mfolder\u001b[0m\u001b[0;34m,\u001b[0m \u001b[0mpatient\u001b[0m\u001b[0;34m)\u001b[0m\u001b[0;34m\u001b[0m\u001b[0;34m\u001b[0m\u001b[0m\n\u001b[0m",
      "\u001b[0;32m<ipython-input-50-0b03c2175d02>\u001b[0m in \u001b[0;36mextracting_region_from_reference\u001b[0;34m(region, reference_path, folder, pat)\u001b[0m\n\u001b[1;32m      2\u001b[0m \u001b[0;34m\u001b[0m\u001b[0m\n\u001b[1;32m      3\u001b[0m     \u001b[0;32mif\u001b[0m \u001b[0;32mnot\u001b[0m \u001b[0mos\u001b[0m\u001b[0;34m.\u001b[0m\u001b[0mpath\u001b[0m\u001b[0;34m.\u001b[0m\u001b[0misdir\u001b[0m\u001b[0;34m(\u001b[0m\u001b[0mfolder\u001b[0m \u001b[0;34m+\u001b[0m \u001b[0mpat\u001b[0m \u001b[0;34m+\u001b[0m \u001b[0;34m'/'\u001b[0m \u001b[0;34m+\u001b[0m \u001b[0mregion\u001b[0m\u001b[0;34m)\u001b[0m\u001b[0;34m:\u001b[0m\u001b[0;34m\u001b[0m\u001b[0;34m\u001b[0m\u001b[0m\n\u001b[0;32m----> 4\u001b[0;31m         \u001b[0mos\u001b[0m\u001b[0;34m.\u001b[0m\u001b[0mmkdir\u001b[0m\u001b[0;34m(\u001b[0m\u001b[0mfolder\u001b[0m \u001b[0;34m+\u001b[0m \u001b[0mpat\u001b[0m \u001b[0;34m+\u001b[0m \u001b[0;34m'/'\u001b[0m \u001b[0;34m+\u001b[0m \u001b[0mregion\u001b[0m\u001b[0;34m)\u001b[0m\u001b[0;34m\u001b[0m\u001b[0;34m\u001b[0m\u001b[0m\n\u001b[0m\u001b[1;32m      5\u001b[0m \u001b[0;34m\u001b[0m\u001b[0m\n\u001b[1;32m      6\u001b[0m \u001b[0mfolder\u001b[0m \u001b[0;34m=\u001b[0m \u001b[0;34m'../data/references/'\u001b[0m\u001b[0;34m\u001b[0m\u001b[0;34m\u001b[0m\u001b[0m\n",
      "\u001b[0;31mOSError\u001b[0m: [Errno 2] No such file or directory: '../data/references/p2/V3'"
     ]
    }
   ],
   "source": [
    "def extracting_region_from_reference(region, reference_path, folder, pat):\n",
    "    '''\n",
    "    Extracting special region from reference\n",
    "    '''\n",
    "    \n",
    "    if not os.path.isdir(folder + pat + '/' + region):\n",
    "        os.mkdir(folder + pat + '/' + region)\n",
    "    \n",
    "    with open(reference_path) as f:\n",
    "        reference_info = json.load(f)\n",
    "    for reg in reference_info['features']:\n",
    "        if reg['name'] == region:\n",
    "            loc = reg['location'][0]\n",
    "            break\n",
    "        else:\n",
    "            continue\n",
    "    patient = pat\n",
    "    print(patient)\n",
    "    sequence = reference_info['seq']\n",
    "    print(sequence)\n",
    "    res = r'/'+re.search(r'[\\w]*\\.fasta', reference_path).[0].replace(patient, \"_\".join((patient, region)))\n",
    "    \n",
    "    with open(folder+region+res, 'w') as write_file:\n",
    "        write_file.write('>'+reference_info['description'].replace('genomewide', 'region='+region)+'\\n')\n",
    "        write_file.write(sequence)\n",
    "\n",
    "        \n",
    "\n",
    "# Need repair  \n",
    "#folder = '../data/references/'\n",
    "#for patient in patients:\n",
    "#    for region in hiv_regions:\n",
    "#        ref_path = '../data/references/reference_' + patient + '.fasta'\n",
    "#        extracting_region_from_reference(region, ref_path, folder, patient)"
   ]
  },
  {
   "cell_type": "code",
   "execution_count": 75,
   "metadata": {},
   "outputs": [
    {
     "ename": "IOError",
     "evalue": "[Errno 2] No such file or directory: '/home/kharlamov/\\xd0\\x94\\xd0\\xbe\\xd0\\xba\\xd1\\x83\\xd0\\xbc\\xd0\\xb5\\xd0\\xbd\\xd1\\x82\\xd1\\x8b/Project_HIV/data/fasta/regions/p1_V3.fasta'",
     "output_type": "error",
     "traceback": [
      "\u001b[0;31m---------------------------------------------------------------------------\u001b[0m",
      "\u001b[0;31mIOError\u001b[0m                                   Traceback (most recent call last)",
      "\u001b[0;32m<ipython-input-75-3abea3e48a9f>\u001b[0m in \u001b[0;36m<module>\u001b[0;34m()\u001b[0m\n\u001b[1;32m     18\u001b[0m             \u001b[0mfasta_file\u001b[0m\u001b[0;34m.\u001b[0m\u001b[0mwritelines\u001b[0m\u001b[0;34m(\u001b[0m\u001b[0mlines\u001b[0m\u001b[0;34m)\u001b[0m\u001b[0;34m\u001b[0m\u001b[0;34m\u001b[0m\u001b[0m\n\u001b[1;32m     19\u001b[0m \u001b[0;34m\u001b[0m\u001b[0m\n\u001b[0;32m---> 20\u001b[0;31m \u001b[0mjson2fasta\u001b[0m\u001b[0;34m(\u001b[0m\u001b[0;34m'../data/regions/'\u001b[0m\u001b[0;34m,\u001b[0m \u001b[0;34m'/home/kharlamov/Документы/Project_HIV/data/regions/p1_V3.fasta'\u001b[0m\u001b[0;34m)\u001b[0m\u001b[0;34m\u001b[0m\u001b[0;34m\u001b[0m\u001b[0m\n\u001b[0m",
      "\u001b[0;32m<ipython-input-75-3abea3e48a9f>\u001b[0m in \u001b[0;36mjson2fasta\u001b[0;34m(folder, path_json)\u001b[0m\n\u001b[1;32m     11\u001b[0m \u001b[0;34m\u001b[0m\u001b[0m\n\u001b[1;32m     12\u001b[0m     \u001b[0mpath\u001b[0m \u001b[0;34m=\u001b[0m \u001b[0mpath_json\u001b[0m\u001b[0;34m.\u001b[0m\u001b[0mreplace\u001b[0m\u001b[0;34m(\u001b[0m\u001b[0;34m'data/'\u001b[0m\u001b[0;34m,\u001b[0m \u001b[0;34m'data/fasta/'\u001b[0m\u001b[0;34m)\u001b[0m\u001b[0;34m\u001b[0m\u001b[0;34m\u001b[0m\u001b[0m\n\u001b[0;32m---> 13\u001b[0;31m     \u001b[0;32mwith\u001b[0m \u001b[0mopen\u001b[0m\u001b[0;34m(\u001b[0m\u001b[0mpath\u001b[0m\u001b[0;34m,\u001b[0m \u001b[0;34m\"w\"\u001b[0m\u001b[0;34m)\u001b[0m \u001b[0;32mas\u001b[0m \u001b[0mfasta_file\u001b[0m\u001b[0;34m:\u001b[0m\u001b[0;34m\u001b[0m\u001b[0;34m\u001b[0m\u001b[0m\n\u001b[0m\u001b[1;32m     14\u001b[0m         \u001b[0;32mfor\u001b[0m \u001b[0mobj\u001b[0m \u001b[0;32min\u001b[0m \u001b[0mjson_file\u001b[0m\u001b[0;34m:\u001b[0m\u001b[0;34m\u001b[0m\u001b[0;34m\u001b[0m\u001b[0m\n\u001b[1;32m     15\u001b[0m             \u001b[0mline_1\u001b[0m \u001b[0;34m=\u001b[0m \u001b[0;34m'>'\u001b[0m \u001b[0;34m+\u001b[0m \u001b[0mobj\u001b[0m\u001b[0;34m[\u001b[0m\u001b[0;34m'name'\u001b[0m\u001b[0;34m]\u001b[0m \u001b[0;34m+\u001b[0m \u001b[0;34m'\\n'\u001b[0m\u001b[0;34m\u001b[0m\u001b[0;34m\u001b[0m\u001b[0m\n",
      "\u001b[0;31mIOError\u001b[0m: [Errno 2] No such file or directory: '/home/kharlamov/\\xd0\\x94\\xd0\\xbe\\xd0\\xba\\xd1\\x83\\xd0\\xbc\\xd0\\xb5\\xd0\\xbd\\xd1\\x82\\xd1\\x8b/Project_HIV/data/fasta/regions/p1_V3.fasta'"
     ]
    }
   ],
   "source": [
    "def json2fasta(folder, path_json):\n",
    "    \n",
    "    with open(path, \"w\") as fasta_file:\n",
    "        for obj in json_file:\n",
    "            line_1 = '>' + obj['name'] + '\\n'\n",
    "            line_2 = obj['sequence'] + '\\n'\n",
    "            lines = [line_1, line_2]\n",
    "            fasta_file.writelines(lines)\n",
    "            \n",
    "json2fasta('../data/regions/', '/home/kharlamov/Документы/Project_HIV/data/regions/p1_V3.fasta')"
   ]
  },
  {
   "cell_type": "code",
   "execution_count": 13,
   "metadata": {},
   "outputs": [],
   "source": [
    "def add_ref_reg2fasta(path_fasta, path_ref_region):\n",
    "    '''\n",
    "    Adding exact region from reference file to fasta with haplotypes\n",
    "    '''\n",
    "    with open(path_fasta, 'a') as fasta, open(path_ref_region) as ref:\n",
    "        for line in ref:\n",
    "            #print(line)\n",
    "            fasta.write(line)\n",
    "            \n",
    "#add_ref_reg2fasta('data/fasta/hivevo_p4_V3.fasta', 'data/references/V3/hivevo_reference_p4_V3.fasta')"
   ]
  }
 ],
 "metadata": {
  "kernelspec": {
   "display_name": "Python 3",
   "language": "python",
   "name": "python3"
  },
  "language_info": {
   "codemirror_mode": {
    "name": "ipython",
    "version": 2
   },
   "file_extension": ".py",
   "mimetype": "text/x-python",
   "name": "python",
   "nbconvert_exporter": "python",
   "pygments_lexer": "ipython2",
   "version": "2.7.15+"
  }
 },
 "nbformat": 4,
 "nbformat_minor": 2
}
