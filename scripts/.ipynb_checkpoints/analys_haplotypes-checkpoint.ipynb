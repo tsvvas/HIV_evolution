{
 "cells": [
  {
   "cell_type": "code",
   "execution_count": 1,
   "metadata": {},
   "outputs": [],
   "source": [
    "import os\n",
    "import sys\n",
    "sys.path = [\"../utils\"] + sys.path\n",
    "from Bio import SeqIO\n",
    "import pandas as pd\n",
    "import seaborn as sns\n",
    "import matplotlib.pyplot as plt\n",
    "import numpy as np\n",
    "import sklearn\n",
    "from sklearn.linear_model import LogisticRegression\n",
    "from sklearn.model_selection import train_test_split\n",
    "from sklearn.ensemble import RandomForestClassifier\n",
    "from sklearn.model_selection import GridSearchCV\n",
    "from sklearn.metrics import f1_score\n",
    "from sklearn.metrics import roc_curve, auc, roc_auc_score\n",
    "from sklearn.preprocessing import PolynomialFeatures\n",
    "from sklearn.decomposition import PCA\n",
    "from mpl_toolkits.mplot3d import Axes3D\n",
    "from sklearn.model_selection import cross_val_score\n",
    "from sklearn.model_selection import StratifiedKFold\n",
    "from sklearn.metrics import confusion_matrix\n",
    "from sklearn.utils.multiclass import unique_labels\n",
    "import matplotlib.ticker as ticker\n",
    "import scipy.stats as stats\n",
    "import warnings\n",
    "from aa_properties import *\n",
    "from translate_dna import *\n",
    "from count_aminoacid import *\n",
    "\n",
    "warnings.filterwarnings('ignore')"
   ]
  },
  {
   "cell_type": "code",
   "execution_count": 2,
   "metadata": {},
   "outputs": [],
   "source": [
    "data = pd.read_csv(filepath_or_buffer='/home/kharlamov/Документы/Project_vas/output/ListProteins.csv')\n",
    "data = data[data.columns[1:]]"
   ]
  },
  {
   "cell_type": "code",
   "execution_count": 3,
   "metadata": {},
   "outputs": [],
   "source": [
    "# Создание датасета для исследования\n",
    "\n",
    "data_tmp = data[data.columns[3:]]\n",
    "data_tmp[data_tmp.columns[0]] = map(lambda x: 0 if x == 'human' else 1, data_tmp[data_tmp.columns[0]])"
   ]
  },
  {
   "cell_type": "code",
   "execution_count": 4,
   "metadata": {},
   "outputs": [
    {
     "data": {
      "text/html": [
       "<div>\n",
       "<style scoped>\n",
       "    .dataframe tbody tr th:only-of-type {\n",
       "        vertical-align: middle;\n",
       "    }\n",
       "\n",
       "    .dataframe tbody tr th {\n",
       "        vertical-align: top;\n",
       "    }\n",
       "\n",
       "    .dataframe thead th {\n",
       "        text-align: right;\n",
       "    }\n",
       "</style>\n",
       "<table border=\"1\" class=\"dataframe\">\n",
       "  <thead>\n",
       "    <tr style=\"text-align: right;\">\n",
       "      <th></th>\n",
       "      <th>type</th>\n",
       "      <th>A</th>\n",
       "      <th>N</th>\n",
       "      <th>C</th>\n",
       "      <th>E</th>\n",
       "      <th>H</th>\n",
       "      <th>L</th>\n",
       "      <th>M</th>\n",
       "      <th>P</th>\n",
       "      <th>T</th>\n",
       "      <th>...</th>\n",
       "      <th>R</th>\n",
       "      <th>D</th>\n",
       "      <th>Q</th>\n",
       "      <th>G</th>\n",
       "      <th>I</th>\n",
       "      <th>K</th>\n",
       "      <th>F</th>\n",
       "      <th>S</th>\n",
       "      <th>W</th>\n",
       "      <th>V</th>\n",
       "    </tr>\n",
       "  </thead>\n",
       "  <tbody>\n",
       "    <tr>\n",
       "      <th>0</th>\n",
       "      <td>1</td>\n",
       "      <td>0.055072</td>\n",
       "      <td>0.017391</td>\n",
       "      <td>0.075362</td>\n",
       "      <td>0.046377</td>\n",
       "      <td>0.031884</td>\n",
       "      <td>0.095652</td>\n",
       "      <td>0.028986</td>\n",
       "      <td>0.052174</td>\n",
       "      <td>0.060870</td>\n",
       "      <td>...</td>\n",
       "      <td>0.057971</td>\n",
       "      <td>0.060870</td>\n",
       "      <td>0.031884</td>\n",
       "      <td>0.084058</td>\n",
       "      <td>0.040580</td>\n",
       "      <td>0.037681</td>\n",
       "      <td>0.034783</td>\n",
       "      <td>0.063768</td>\n",
       "      <td>0.017391</td>\n",
       "      <td>0.069565</td>\n",
       "    </tr>\n",
       "    <tr>\n",
       "      <th>1</th>\n",
       "      <td>1</td>\n",
       "      <td>0.092025</td>\n",
       "      <td>0.055215</td>\n",
       "      <td>0.018405</td>\n",
       "      <td>0.055215</td>\n",
       "      <td>0.024540</td>\n",
       "      <td>0.128834</td>\n",
       "      <td>0.012270</td>\n",
       "      <td>0.055215</td>\n",
       "      <td>0.036810</td>\n",
       "      <td>...</td>\n",
       "      <td>0.085890</td>\n",
       "      <td>0.036810</td>\n",
       "      <td>0.018405</td>\n",
       "      <td>0.116564</td>\n",
       "      <td>0.018405</td>\n",
       "      <td>0.006135</td>\n",
       "      <td>0.036810</td>\n",
       "      <td>0.061350</td>\n",
       "      <td>0.024540</td>\n",
       "      <td>0.085890</td>\n",
       "    </tr>\n",
       "    <tr>\n",
       "      <th>2</th>\n",
       "      <td>1</td>\n",
       "      <td>0.046875</td>\n",
       "      <td>0.015625</td>\n",
       "      <td>0.000000</td>\n",
       "      <td>0.046875</td>\n",
       "      <td>0.015625</td>\n",
       "      <td>0.093750</td>\n",
       "      <td>0.015625</td>\n",
       "      <td>0.046875</td>\n",
       "      <td>0.015625</td>\n",
       "      <td>...</td>\n",
       "      <td>0.250000</td>\n",
       "      <td>0.015625</td>\n",
       "      <td>0.046875</td>\n",
       "      <td>0.000000</td>\n",
       "      <td>0.015625</td>\n",
       "      <td>0.078125</td>\n",
       "      <td>0.093750</td>\n",
       "      <td>0.015625</td>\n",
       "      <td>0.000000</td>\n",
       "      <td>0.156250</td>\n",
       "    </tr>\n",
       "    <tr>\n",
       "      <th>3</th>\n",
       "      <td>1</td>\n",
       "      <td>0.058559</td>\n",
       "      <td>0.072072</td>\n",
       "      <td>0.018018</td>\n",
       "      <td>0.031532</td>\n",
       "      <td>0.022523</td>\n",
       "      <td>0.117117</td>\n",
       "      <td>0.013514</td>\n",
       "      <td>0.040541</td>\n",
       "      <td>0.112613</td>\n",
       "      <td>...</td>\n",
       "      <td>0.036036</td>\n",
       "      <td>0.018018</td>\n",
       "      <td>0.022523</td>\n",
       "      <td>0.072072</td>\n",
       "      <td>0.067568</td>\n",
       "      <td>0.036036</td>\n",
       "      <td>0.040541</td>\n",
       "      <td>0.085586</td>\n",
       "      <td>0.027027</td>\n",
       "      <td>0.081081</td>\n",
       "    </tr>\n",
       "    <tr>\n",
       "      <th>4</th>\n",
       "      <td>1</td>\n",
       "      <td>0.043636</td>\n",
       "      <td>0.043636</td>\n",
       "      <td>0.018182</td>\n",
       "      <td>0.025455</td>\n",
       "      <td>0.069091</td>\n",
       "      <td>0.087273</td>\n",
       "      <td>0.010909</td>\n",
       "      <td>0.040000</td>\n",
       "      <td>0.196364</td>\n",
       "      <td>...</td>\n",
       "      <td>0.036364</td>\n",
       "      <td>0.029091</td>\n",
       "      <td>0.029091</td>\n",
       "      <td>0.043636</td>\n",
       "      <td>0.061818</td>\n",
       "      <td>0.050909</td>\n",
       "      <td>0.032727</td>\n",
       "      <td>0.040000</td>\n",
       "      <td>0.021818</td>\n",
       "      <td>0.069091</td>\n",
       "    </tr>\n",
       "  </tbody>\n",
       "</table>\n",
       "<p>5 rows × 21 columns</p>\n",
       "</div>"
      ],
      "text/plain": [
       "   type         A         N         C         E         H         L         M  \\\n",
       "0     1  0.055072  0.017391  0.075362  0.046377  0.031884  0.095652  0.028986   \n",
       "1     1  0.092025  0.055215  0.018405  0.055215  0.024540  0.128834  0.012270   \n",
       "2     1  0.046875  0.015625  0.000000  0.046875  0.015625  0.093750  0.015625   \n",
       "3     1  0.058559  0.072072  0.018018  0.031532  0.022523  0.117117  0.013514   \n",
       "4     1  0.043636  0.043636  0.018182  0.025455  0.069091  0.087273  0.010909   \n",
       "\n",
       "          P         T  ...         R         D         Q         G         I  \\\n",
       "0  0.052174  0.060870  ...  0.057971  0.060870  0.031884  0.084058  0.040580   \n",
       "1  0.055215  0.036810  ...  0.085890  0.036810  0.018405  0.116564  0.018405   \n",
       "2  0.046875  0.015625  ...  0.250000  0.015625  0.046875  0.000000  0.015625   \n",
       "3  0.040541  0.112613  ...  0.036036  0.018018  0.022523  0.072072  0.067568   \n",
       "4  0.040000  0.196364  ...  0.036364  0.029091  0.029091  0.043636  0.061818   \n",
       "\n",
       "          K         F         S         W         V  \n",
       "0  0.037681  0.034783  0.063768  0.017391  0.069565  \n",
       "1  0.006135  0.036810  0.061350  0.024540  0.085890  \n",
       "2  0.078125  0.093750  0.015625  0.000000  0.156250  \n",
       "3  0.036036  0.040541  0.085586  0.027027  0.081081  \n",
       "4  0.050909  0.032727  0.040000  0.021818  0.069091  \n",
       "\n",
       "[5 rows x 21 columns]"
      ]
     },
     "execution_count": 4,
     "metadata": {},
     "output_type": "execute_result"
    }
   ],
   "source": [
    "name_aminoacid = data_tmp.columns[1:]\n",
    "data_tmp.head()"
   ]
  },
  {
   "cell_type": "code",
   "execution_count": 5,
   "metadata": {},
   "outputs": [],
   "source": [
    "y, X = data_tmp['type'], data_tmp[data_tmp.columns[1:]]"
   ]
  },
  {
   "cell_type": "code",
   "execution_count": 6,
   "metadata": {},
   "outputs": [
    {
     "data": {
      "text/plain": [
       "RandomForestClassifier(bootstrap=True, class_weight=None, criterion='gini',\n",
       "            max_depth=None, max_features='auto', max_leaf_nodes=None,\n",
       "            min_impurity_decrease=0.0, min_impurity_split=None,\n",
       "            min_samples_leaf=1, min_samples_split=2,\n",
       "            min_weight_fraction_leaf=0.0, n_estimators=100, n_jobs=None,\n",
       "            oob_score=False, random_state=42, verbose=0, warm_start=False)"
      ]
     },
     "execution_count": 6,
     "metadata": {},
     "output_type": "execute_result"
    }
   ],
   "source": [
    "clf_rf = RandomForestClassifier(n_estimators=100, random_state=42)\n",
    "clf_rf.fit(X, y)"
   ]
  },
  {
   "cell_type": "code",
   "execution_count": 9,
   "metadata": {},
   "outputs": [],
   "source": [
    "os.chdir('/home/kharlamov/Документы/Project_HIV/data/haplotypes/regions/fasta')"
   ]
  },
  {
   "cell_type": "code",
   "execution_count": 10,
   "metadata": {},
   "outputs": [],
   "source": [
    "# Create dataset\n",
    "df = pd.DataFrame({aminoacid : [] for aminoacid in data_tmp.columns[1:]})\n",
    "df['patient'], df['region'], df['day'], df['n_reads'] = [], [], [], []"
   ]
  },
  {
   "cell_type": "code",
   "execution_count": 11,
   "metadata": {},
   "outputs": [],
   "source": [
    "for file_name in os.listdir(os.curdir):\n",
    "    for j, record in enumerate(SeqIO.parse(file_name, \"fasta\")):\n",
    "        tempory = record.description.split(' ')\n",
    "        day = int(tempory[4][:-1])\n",
    "        n_reads = int(tempory[-1])\n",
    "        region = file_name.split('_')[2].split('.')[0]\n",
    "        patient = file_name.split('_')[1]\n",
    "        tmp_data = [0] * 20 + list((patient, region, day, n_reads))\n",
    "        tmp = count_aminoacid(translate_dna(record.seq))\n",
    "        for i, elem in enumerate(name_aminoacid):\n",
    "            tmp_data[i] = float(tmp.setdefault(elem, 0))/sum(tmp.values())\n",
    "        df.loc[len(df) + 1] = tmp_data"
   ]
  },
  {
   "cell_type": "code",
   "execution_count": 12,
   "metadata": {},
   "outputs": [],
   "source": [
    "test = df.sort_values(by = ['patient', 'day'])\n",
    "test = test[test['n_reads'] > 50]"
   ]
  },
  {
   "cell_type": "code",
   "execution_count": 22,
   "metadata": {},
   "outputs": [],
   "source": [
    "for p in ['p1', 'p2', 'p4', 'p5', 'p6', 'p8', 'p9', 'p10', 'p11']:\n",
    "    for r in ['vpu', 'psi', 'V3']:\n",
    "        df_tmp = test[(test['patient'] == p) & (test['region'] == r)]\n",
    "        unique_days = df_tmp['day'].unique()\n",
    "        for days in unique_days:\n",
    "            tmp = df_tmp[(test['day'] == days)]\n",
    "            prob = list(map(lambda x: x[0], clf_rf.predict_proba(tmp[tmp.columns[:20]])))\n",
    "            plt.scatter([days] * len(prob), prob)\n",
    "        plt.savefig('../../../../results/prob_plots/' + 'prob_' + p + '_' + r + '.png')\n",
    "        plt.close()"
   ]
  },
  {
   "cell_type": "code",
   "execution_count": 168,
   "metadata": {},
   "outputs": [
    {
     "name": "stdout",
     "output_type": "stream",
     "text": [
      "306     122\n",
      "321    1084\n",
      "330    1084\n",
      "320    1084\n",
      "323    1282\n",
      "324    1393\n",
      "326    1393\n",
      "332    1861\n",
      "338    2303\n",
      "337    2303\n",
      "350    2639\n",
      "351    2639\n",
      "358    2639\n",
      "356    2639\n",
      "359    2639\n",
      "349    2639\n",
      "348    2639\n",
      "346    2639\n",
      "335    2639\n",
      "341    2639\n",
      "347    2639\n",
      "407    2922\n",
      "394    2922\n",
      "404    2922\n",
      "401    2922\n",
      "399    2922\n",
      "396    2922\n",
      "405    2922\n",
      "392    2922\n",
      "371    2922\n",
      "370    2922\n",
      "365    2922\n",
      "364    2922\n",
      "360    2922\n",
      "373    2922\n",
      "374    2922\n",
      "390    2922\n",
      "388    2922\n",
      "387    2922\n",
      "384    2922\n",
      "382    2922\n",
      "381    2922\n",
      "378    2922\n",
      "366    2996\n",
      "389    2996\n",
      "Name: day, dtype: int64\n"
     ]
    },
    {
     "data": {
      "image/png": "[encoded data removed]",
      "text/plain": [
       "<Figure size 720x720 with 1 Axes>"
      ]
     },
     "metadata": {
      "needs_background": "light"
     },
     "output_type": "display_data"
    }
   ],
   "source": [
    "def draw_graphics(df, patient, region, name_file = 'untiled', bool_save = False):\n",
    "    df = test[(test['patient'] == patient) & (test['region'] == region)]\n",
    "    y = list(map(lambda x: x[0], clf_rf.predict_proba(example[example.columns[:20]])))\n",
    "    hue = example['day']\n",
    "    size = example['n_reads']\n",
    "    \n",
    "    fig, ax = plt.subplots(figsize=(10,10))\n",
    "    ax.set_xlabel('Days after infection')\n",
    "    ax.set_ylabel('Probability that human protein') \n",
    "    ax.set_xlim([0, max(max(x) + 100, 300)])\n",
    "    ax.set_ylim([min(y) - 0.05, max(y) + 0.05])\n",
    "    \n",
    "    sns.scatterplot(x = df['day'], y = y)\n",
    "    print(df['day'])\n",
    "    if bool_save:\n",
    "        fig.savefig('../../../../results/prob_plots/' + name_file + '.png')\n",
    "        plt.close(fig)\n",
    "draw_graphics(test, 'p1', 'V3')"
   ]
  },
  {
   "cell_type": "code",
   "execution_count": 162,
   "metadata": {},
   "outputs": [
    {
     "data": {
      "image/png": "[encoded data removed]",
      "text/plain": [
       "<Figure size 720x720 with 1 Axes>"
      ]
     },
     "metadata": {
      "needs_background": "light"
     },
     "output_type": "display_data"
    }
   ],
   "source": [
    "for patient in ['p1', 'p2', 'p4', 'p5', 'p6', 'p8', 'p9', 'p10', 'p11']:\n",
    "    name = 'prob_' + patient + '_V3'\n",
    "    draw_graphics(test, patient=patient, region='V3', name_file=name)\n",
    "    break"
   ]
  },
  {
   "cell_type": "code",
   "execution_count": null,
   "metadata": {},
   "outputs": [],
   "source": []
  }
 ],
 "metadata": {
  "kernelspec": {
   "display_name": "Python 3",
   "language": "python",
   "name": "python3"
  },
  "language_info": {
   "codemirror_mode": {
    "name": "ipython",
    "version": 2
   },
   "file_extension": ".py",
   "mimetype": "text/x-python",
   "name": "python",
   "nbconvert_exporter": "python",
   "pygments_lexer": "ipython2",
   "version": "2.7.15+"
  }
 },
 "nbformat": 4,
 "nbformat_minor": 2
}
