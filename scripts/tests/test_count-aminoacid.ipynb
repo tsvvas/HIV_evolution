{
 "cells": [
  {
   "cell_type": "markdown",
   "metadata": {},
   "source": [
    "### Тестирование функци подсчёта белка"
   ]
  },
  {
   "cell_type": "code",
   "execution_count": 1,
   "metadata": {},
   "outputs": [],
   "source": [
    "from collections import Counter\n",
    "def count_aminoacid(protein):\n",
    "    \"\"\"Подсчёт аминокислот в белке, \n",
    "    argument: protein - The string sequence of amino acids in a protein\"\"\"\n",
    "    amino_counter = Counter()\n",
    "    for aminoacid in protein:\n",
    "        amino_counter[aminoacid] += 1\n",
    "    return amino_counter"
   ]
  },
  {
   "cell_type": "markdown",
   "metadata": {},
   "source": [
    "#### Ручное тестирование"
   ]
  },
  {
   "cell_type": "code",
   "execution_count": 34,
   "metadata": {},
   "outputs": [
    {
     "name": "stdout",
     "output_type": "stream",
     "text": [
      "tests passed\n"
     ]
    }
   ],
   "source": [
    "test_1 = 'AAA'\n",
    "test_2 = 'ABCDEFGHIJKLMNOPQRSTUVWYZX'\n",
    "test_3 = ''\n",
    "test_4 = 'ABCDEFGHIJKLMNOPQRSTUVWYZABCDEFGHIJKLMNOPQRSTUVWYZXXABCDEFGABCDEFGHIJKLMNOPQRSTUVWYZXHIJKLMNOPQRSTUVWYZX'\n",
    "assert count_aminoacid(test_1)['A'] == 3\n",
    "for aminoacid in test_2: assert count_aminoacid(test_2)[aminoacid] == 1\n",
    "for aminoacid in test_3: assert count_aminoacid(test_3)[aminoacid] == 0\n",
    "for aminoacid in test_4: assert count_aminoacid(test_4)[aminoacid] == 4\n",
    "print('tests passed')"
   ]
  },
  {
   "cell_type": "markdown",
   "metadata": {},
   "source": [
    "#### Автоматическое тестирование"
   ]
  },
  {
   "cell_type": "code",
   "execution_count": 35,
   "metadata": {},
   "outputs": [
    {
     "name": "stdout",
     "output_type": "stream",
     "text": [
      "tests passed\n"
     ]
    }
   ],
   "source": [
    "import random\n",
    "def random_string(lenght = 10):\n",
    "    random_string = ''\n",
    "    dictonary_aminoacid = Counter()\n",
    "    for i in range(lenght):\n",
    "        tempory_symbol = random.choice('ABCDEFGHIJKLMNOPQRSTUVWYZX')\n",
    "        random_string += tempory_symbol\n",
    "        dictonary_aminoacid[tempory_symbol] += 1\n",
    "    return (dictonary_aminoacid, random_string)\n",
    "        \n",
    "for index_test in range(10**5):\n",
    "    test = random_string()\n",
    "    assert count_aminoacid(test[1]) == test[0]\n",
    "print('tests passed')"
   ]
  },
  {
   "cell_type": "code",
   "execution_count": null,
   "metadata": {},
   "outputs": [],
   "source": []
  }
 ],
 "metadata": {
  "kernelspec": {
   "display_name": "Python 3",
   "language": "python",
   "name": "python3"
  },
  "language_info": {
   "codemirror_mode": {
    "name": "ipython",
    "version": 2
   },
   "file_extension": ".py",
   "mimetype": "text/x-python",
   "name": "python",
   "nbconvert_exporter": "python",
   "pygments_lexer": "ipython2",
   "version": "2.7.15+"
  }
 },
 "nbformat": 4,
 "nbformat_minor": 2
}
